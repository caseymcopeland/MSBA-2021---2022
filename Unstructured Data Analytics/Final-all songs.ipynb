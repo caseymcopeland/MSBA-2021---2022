{
 "cells": [
  {
   "cell_type": "markdown",
   "metadata": {
    "colab_type": "text",
    "id": "eXFNKm4GorAj"
   },
   "source": [
    "## Setup"
   ]
  },
  {
   "cell_type": "markdown",
   "metadata": {
    "colab_type": "text",
    "id": "0RPiojLxnage"
   },
   "source": [
    "## Data Pre-Processing"
   ]
  },
  {
   "cell_type": "code",
   "execution_count": 1,
   "metadata": {},
   "outputs": [],
   "source": [
    "#!pip install --upgrade ipykernel\n",
    "import warnings\n",
    "warnings.filterwarnings(\"ignore\", category=Warning)"
   ]
  },
  {
   "cell_type": "code",
   "execution_count": 2,
   "metadata": {
    "colab": {
     "base_uri": "https://localhost:8080/"
    },
    "colab_type": "code",
    "id": "GA5sWRz2B1YH",
    "outputId": "87eb21ac-2af9-4e64-b283-c37e867a62cd"
   },
   "outputs": [],
   "source": [
    "#!pip install pyLDAvis\n",
    "#!pip install spaCy\n",
    "import nltk\n",
    "import re\n",
    "import gensim\n",
    "import pandas as pd\n",
    "import numpy as np\n",
    "import spacy\n",
    "from gensim.utils import simple_preprocess\n",
    "from gensim.test.utils import common_corpus, common_dictionary\n",
    "from nltk.stem import WordNetLemmatizer\n",
    "from nltk.corpus import stopwords\n",
    "from nltk.tokenize import word_tokenize\n",
    "import seaborn as sns\n",
    "\n",
    "#nltk.download('stopwords')\n",
    "#nltk.download('wordnet')\n",
    "\n",
    "lemmatizer = WordNetLemmatizer()\n",
    "stop_words = stopwords.words('english')\n"
   ]
  },
  {
   "cell_type": "code",
   "execution_count": 3,
   "metadata": {},
   "outputs": [
    {
     "data": {
      "text/plain": [
       "Index(['Unnamed: 0', 'Unnamed: 0.1', 'id', 'title', 'first_artist',\n",
       "       'all_artists', 'danceability', 'energy', 'key', 'loudness', 'mode',\n",
       "       'acousticness', 'instrumentalness', 'liveness', 'valence', 'tempo',\n",
       "       'duration_ms', 'time_signature', 'artist', 'song', 'lyrics',\n",
       "       'lyrics_cleaned'],\n",
       "      dtype='object')"
      ]
     },
     "execution_count": 3,
     "metadata": {},
     "output_type": "execute_result"
    }
   ],
   "source": [
    "#read in CSV files\n",
    "#ROCK\n",
    "df = pd.read_csv('data.csv') #321 songs, 19 features\n",
    "\n",
    "df.columns"
   ]
  },
  {
   "cell_type": "code",
   "execution_count": 4,
   "metadata": {
    "colab": {
     "base_uri": "https://localhost:8080/"
    },
    "colab_type": "code",
    "id": "ETBfpA4UB90z",
    "outputId": "626f8b68-79e2-4040-80ad-47ef9f59fbd5"
   },
   "outputs": [],
   "source": [
    "final_lyrics = []\n",
    "all_words = []\n",
    "df['filtered_lyrics'] = ''\n",
    "\n",
    "\n",
    "# try:\n",
    "for each in range(len(df)):\n",
    "    try:\n",
    "        cleaned_lyrics = (re.sub(r\"[,.:;?'\\\")(!]\\d\", ' ', str(df.loc[each,'lyrics_cleaned']))).lower()\n",
    "    except:\n",
    "        cleaned_lyrics = 'no'\n",
    "\n",
    "    lemmatized_lyrics = lemmatizer.lemmatize(cleaned_lyrics)\n",
    "    tokenized_lyrics = word_tokenize(lemmatized_lyrics)\n",
    "    filtered_lyrics = [w for w in tokenized_lyrics if not w in stop_words]\n",
    "    filtered_lyrics = [w for w in filtered_lyrics if len(w) > 2]\n",
    "    \n",
    "    for i in filtered_lyrics:\n",
    "        all_words.append(i)\n",
    "\n",
    "    final_lyrics.append(filtered_lyrics)\n",
    "\n",
    "    filtered_lyrics = ' '.join(filtered_lyrics)\n",
    "    df.loc[each, 'filtered_lyrics'] = filtered_lyrics\n"
   ]
  },
  {
   "cell_type": "code",
   "execution_count": 5,
   "metadata": {
    "colab": {
     "base_uri": "https://localhost:8080/",
     "height": 35
    },
    "colab_type": "code",
    "id": "42slO6w29Od6",
    "outputId": "bafc0414-aef6-4c6f-eec8-1a7170af8f43"
   },
   "outputs": [
    {
     "data": {
      "text/plain": [
       "(650, 23)"
      ]
     },
     "execution_count": 5,
     "metadata": {},
     "output_type": "execute_result"
    }
   ],
   "source": [
    "df.shape"
   ]
  },
  {
   "cell_type": "markdown",
   "metadata": {
    "colab_type": "text",
    "id": "jQYIllwdMyd4"
   },
   "source": [
    "## Sklearn topic modeling"
   ]
  },
  {
   "cell_type": "code",
   "execution_count": 6,
   "metadata": {
    "colab": {},
    "colab_type": "code",
    "id": "GcFGQrnYMwDp"
   },
   "outputs": [],
   "source": [
    "# Sklearn\n",
    "from sklearn.decomposition import LatentDirichletAllocation, TruncatedSVD\n",
    "from sklearn.feature_extraction.text import CountVectorizer, TfidfVectorizer\n",
    "from sklearn.model_selection import GridSearchCV\n",
    "from pprint import pprint\n",
    "\n",
    "# Plotting tools\n",
    "import pyLDAvis\n",
    "import pyLDAvis.sklearn\n",
    "import matplotlib.pyplot as plt\n",
    "%matplotlib inline"
   ]
  },
  {
   "cell_type": "code",
   "execution_count": 7,
   "metadata": {
    "colab": {},
    "colab_type": "code",
    "id": "OtdbgydKPgaY"
   },
   "outputs": [],
   "source": [
    "vectorizer = CountVectorizer(analyzer='word',       \n",
    "                             min_df=10,                        # minimum reqd occurences of a word \n",
    "                             stop_words='english',             # remove stop words\n",
    "                             lowercase=True,                   # convert all words to lowercase\n",
    "                             token_pattern='[a-zA-Z0-9]{3,}',  # num chars > 3\n",
    "                             # max_features=50000,             # max number of uniq words\n",
    "                            )\n",
    "\n",
    "data_vectorized = vectorizer.fit_transform(df.loc[:, 'filtered_lyrics'])"
   ]
  },
  {
   "cell_type": "code",
   "execution_count": 8,
   "metadata": {
    "colab": {
     "base_uri": "https://localhost:8080/",
     "height": 35
    },
    "colab_type": "code",
    "id": "BUJp1CopQHJJ",
    "outputId": "9a7bfb38-3968-4420-d074-87cf05c3d096"
   },
   "outputs": [
    {
     "name": "stdout",
     "output_type": "stream",
     "text": [
      "Sparsicity:  5.305361305361305 %\n"
     ]
    }
   ],
   "source": [
    "# Materialize the sparse data\n",
    "data_dense = data_vectorized.todense()\n",
    "\n",
    "# Compute Sparsicity = Percentage of Non-Zero cells\n",
    "print(\"Sparsicity: \", ((data_dense > 0).sum()/data_dense.size)*100, \"%\")"
   ]
  },
  {
   "cell_type": "code",
   "execution_count": 9,
   "metadata": {
    "colab": {
     "base_uri": "https://localhost:8080/",
     "height": 143
    },
    "colab_type": "code",
    "id": "OLlj_HOJQgCj",
    "outputId": "facbb611-0391-4900-8c63-19b9ff165ad9"
   },
   "outputs": [
    {
     "name": "stdout",
     "output_type": "stream",
     "text": [
      "LatentDirichletAllocation(learning_method='online', max_iter=25, n_components=4,\n",
      "                          n_jobs=-1, random_state=102)\n"
     ]
    }
   ],
   "source": [
    "# Build LDA Model\n",
    "lda_model = LatentDirichletAllocation(n_components=4,            # Number of topics\n",
    "                                      max_iter=25,               # Max learning iterations\n",
    "                                      learning_method='online',   \n",
    "                                      random_state=102,          # Random state\n",
    "                                      batch_size=128,            # n docs in each learning iter\n",
    "                                      evaluate_every = -1,       # compute perplexity every n iters, default: Don't\n",
    "                                      n_jobs = -1,               # Use all available CPUs\n",
    "                                     )\n",
    "lda_output = lda_model.fit_transform(data_vectorized)\n",
    "\n",
    "print(lda_model)  # Model attributes"
   ]
  },
  {
   "cell_type": "code",
   "execution_count": 10,
   "metadata": {
    "colab": {
     "base_uri": "https://localhost:8080/",
     "height": 1000
    },
    "colab_type": "code",
    "id": "2gXUeLCYCAn_",
    "outputId": "9d7948e3-dc9c-4404-e3b1-95717b73b215"
   },
   "outputs": [],
   "source": [
    "# 4\n",
    "#pyLDAvis.enable_notebook()\n",
    "#panel = pyLDAvis.sklearn.prepare(lda_model, data_vectorized, vectorizer, mds='tsne')\n",
    "#panel"
   ]
  },
  {
   "cell_type": "code",
   "execution_count": 11,
   "metadata": {
    "colab": {
     "base_uri": "https://localhost:8080/",
     "height": 341
    },
    "colab_type": "code",
    "id": "dcvHn9-qQ0hU",
    "outputId": "c9cd5784-be3f-44b5-9970-9444872b8c7d"
   },
   "outputs": [
    {
     "name": "stdout",
     "output_type": "stream",
     "text": [
      "Log Likelihood:  -351312.1214327783\n",
      "Perplexity:  364.51088488714265\n",
      "{'batch_size': 128,\n",
      " 'doc_topic_prior': None,\n",
      " 'evaluate_every': -1,\n",
      " 'learning_decay': 0.7,\n",
      " 'learning_method': 'online',\n",
      " 'learning_offset': 10.0,\n",
      " 'max_doc_update_iter': 100,\n",
      " 'max_iter': 25,\n",
      " 'mean_change_tol': 0.001,\n",
      " 'n_components': 4,\n",
      " 'n_jobs': -1,\n",
      " 'perp_tol': 0.1,\n",
      " 'random_state': 102,\n",
      " 'topic_word_prior': None,\n",
      " 'total_samples': 1000000.0,\n",
      " 'verbose': 0}\n"
     ]
    }
   ],
   "source": [
    "# Log Likelyhood: Higher the better\n",
    "print(\"Log Likelihood: \", lda_model.score(data_vectorized))\n",
    "\n",
    "# Perplexity: Lower the better. Perplexity = exp(-1. * log-likelihood per word)\n",
    "print(\"Perplexity: \", lda_model.perplexity(data_vectorized))\n",
    "\n",
    "# See model parameters\n",
    "pprint(lda_model.get_params())"
   ]
  },
  {
   "cell_type": "code",
   "execution_count": 12,
   "metadata": {
    "colab": {
     "base_uri": "https://localhost:8080/",
     "height": 451
    },
    "colab_type": "code",
    "id": "XMOkWmh3Q06O",
    "outputId": "cdfc0e0c-451d-40a1-8f8b-3bbbd29f5601"
   },
   "outputs": [
    {
     "data": {
      "text/plain": [
       "GridSearchCV(estimator=LatentDirichletAllocation(),\n",
       "             param_grid={'learning_decay': [0.5, 0.7, 0.9],\n",
       "                         'n_components': [4, 5, 6]})"
      ]
     },
     "execution_count": 12,
     "metadata": {},
     "output_type": "execute_result"
    }
   ],
   "source": [
    "# grid search\n",
    "\n",
    "# Define Search Param\n",
    "search_params = {'n_components': [4, 5, 6], 'learning_decay': [.5, .7, .9]}\n",
    "\n",
    "# Init the Model\n",
    "lda = LatentDirichletAllocation()\n",
    "\n",
    "# Init Grid Search Class\n",
    "model = GridSearchCV(lda, param_grid=search_params)\n",
    "\n",
    "# Do the Grid Search\n",
    "model.fit(data_vectorized)"
   ]
  },
  {
   "cell_type": "code",
   "execution_count": 13,
   "metadata": {
    "colab": {
     "base_uri": "https://localhost:8080/",
     "height": 71
    },
    "colab_type": "code",
    "id": "jmZXBoo8RDxj",
    "outputId": "0331b104-90e9-41f4-b3c8-f4835217dd81"
   },
   "outputs": [
    {
     "name": "stdout",
     "output_type": "stream",
     "text": [
      "Best Model's Params:  {'learning_decay': 0.9, 'n_components': 4}\n",
      "Best Log Likelihood Score:  -75855.33426846465\n",
      "Model Perplexity:  346.8911853144972\n"
     ]
    }
   ],
   "source": [
    "# Best Model\n",
    "best_lda_model = model.best_estimator_\n",
    "\n",
    "# Model Parameters\n",
    "print(\"Best Model's Params: \", model.best_params_)\n",
    "\n",
    "# Log Likelihood Score\n",
    "print(\"Best Log Likelihood Score: \", model.best_score_)\n",
    "\n",
    "# Perplexity\n",
    "print(\"Model Perplexity: \", best_lda_model.perplexity(data_vectorized))"
   ]
  },
  {
   "cell_type": "code",
   "execution_count": 14,
   "metadata": {
    "colab": {
     "base_uri": "https://localhost:8080/",
     "height": 348
    },
    "colab_type": "code",
    "id": "QhEyRn8DRLl0",
    "outputId": "1653d141-1c4e-4019-dd37-1b56f91956a0"
   },
   "outputs": [],
   "source": [
    "# Create Document - Topic Matrix\n",
    "lda_output = best_lda_model.transform(data_vectorized)\n",
    "\n",
    "# column names\n",
    "topicnames = [\"Topic\" + str(i) for i in range(best_lda_model.n_components)]\n",
    "\n",
    "# index names\n",
    "docnames = [\"Song\" + str(i) for i in range(len(df))]\n",
    "\n",
    "# Make the pandas dataframe\n",
    "df_document_topic = pd.DataFrame(np.round(lda_output, 2), columns=topicnames, index=docnames)\n",
    "\n",
    "# Get dominant topic for each document\n",
    "dominant_topic = np.argmax(df_document_topic.values, axis=1)\n",
    "df_document_topic['dominant_topic'] = dominant_topic\n",
    "\n",
    "# Styling\n",
    "def color_green(val):\n",
    "    color = 'green' if val > .1 else 'black'\n",
    "    return 'color: {col}'.format(col=color)\n",
    "\n",
    "def make_bold(val):\n",
    "    weight = 700 if val > .1 else 400\n",
    "    return 'font-weight: {weight}'.format(weight=weight)\n",
    "\n",
    "# Apply Style\n",
    "#df_document_topics = df_document_topic.head(15).style.applymap(color_green).applymap(make_bold)\n",
    "#df_document_topics"
   ]
  },
  {
   "cell_type": "code",
   "execution_count": 15,
   "metadata": {
    "colab": {
     "base_uri": "https://localhost:8080/",
     "height": 221
    },
    "colab_type": "code",
    "id": "_pfeToo9RbyG",
    "outputId": "df302e71-9cfe-4c1a-e579-8cf2df0fa769"
   },
   "outputs": [],
   "source": [
    "# Topic-Keyword Matrix\n",
    "df_topic_keywords = pd.DataFrame(best_lda_model.components_)\n",
    "\n",
    "# Assign Column and Index\n",
    "df_topic_keywords.columns = vectorizer.get_feature_names()\n",
    "df_topic_keywords.index = topicnames\n",
    "\n",
    "# View\n",
    "#df_topic_keywords.head()"
   ]
  },
  {
   "cell_type": "code",
   "execution_count": 16,
   "metadata": {
    "colab": {
     "base_uri": "https://localhost:8080/",
     "height": 172
    },
    "colab_type": "code",
    "id": "3kqlkpklRb30",
    "outputId": "71e89749-0760-4d45-ef83-41a1ca15b491"
   },
   "outputs": [
    {
     "data": {
      "text/html": [
       "<div>\n",
       "<style scoped>\n",
       "    .dataframe tbody tr th:only-of-type {\n",
       "        vertical-align: middle;\n",
       "    }\n",
       "\n",
       "    .dataframe tbody tr th {\n",
       "        vertical-align: top;\n",
       "    }\n",
       "\n",
       "    .dataframe thead th {\n",
       "        text-align: right;\n",
       "    }\n",
       "</style>\n",
       "<table border=\"1\" class=\"dataframe\">\n",
       "  <thead>\n",
       "    <tr style=\"text-align: right;\">\n",
       "      <th></th>\n",
       "      <th>Topic Num</th>\n",
       "      <th>Num Songs</th>\n",
       "    </tr>\n",
       "  </thead>\n",
       "  <tbody>\n",
       "    <tr>\n",
       "      <th>0</th>\n",
       "      <td>3</td>\n",
       "      <td>227</td>\n",
       "    </tr>\n",
       "    <tr>\n",
       "      <th>1</th>\n",
       "      <td>1</td>\n",
       "      <td>218</td>\n",
       "    </tr>\n",
       "    <tr>\n",
       "      <th>2</th>\n",
       "      <td>0</td>\n",
       "      <td>139</td>\n",
       "    </tr>\n",
       "    <tr>\n",
       "      <th>3</th>\n",
       "      <td>2</td>\n",
       "      <td>66</td>\n",
       "    </tr>\n",
       "  </tbody>\n",
       "</table>\n",
       "</div>"
      ],
      "text/plain": [
       "   Topic Num  Num Songs\n",
       "0          3        227\n",
       "1          1        218\n",
       "2          0        139\n",
       "3          2         66"
      ]
     },
     "execution_count": 16,
     "metadata": {},
     "output_type": "execute_result"
    }
   ],
   "source": [
    "df_topic_distribution = df_document_topic['dominant_topic'].value_counts().reset_index(name=\"Num Documents\")\n",
    "df_topic_distribution.columns = ['Topic Num', 'Num Songs']\n",
    "df_topic_distribution"
   ]
  },
  {
   "cell_type": "code",
   "execution_count": 17,
   "metadata": {
    "colab": {
     "base_uri": "https://localhost:8080/",
     "height": 1000
    },
    "colab_type": "code",
    "id": "E-jPg_SXRb0p",
    "outputId": "82044a0b-a3c1-4719-b47e-f82260614379"
   },
   "outputs": [
    {
     "data": {
      "text/html": [
       "\n",
       "<link rel=\"stylesheet\" type=\"text/css\" href=\"https://cdn.jsdelivr.net/gh/bmabey/pyLDAvis@3.3.1/pyLDAvis/js/ldavis.v1.0.0.css\">\n",
       "\n",
       "\n",
       "<div id=\"ldavis_el15621406011595677289696374200\"></div>\n",
       "<script type=\"text/javascript\">\n",
       "\n",
       "var ldavis_el15621406011595677289696374200_data = {\"mdsDat\": {\"x\": [269.5624084472656, 1.782994270324707, 220.81143188476562, 50.533992767333984], \"y\": [-124.80339813232422, -295.0796813964844, -343.8321228027344, -76.05093383789062], \"topics\": [1, 2, 3, 4], \"cluster\": [1, 1, 1, 1], \"Freq\": [32.67082517599176, 29.624977618084035, 24.33727153881971, 13.366925667104503]}, \"tinfo\": {\"Term\": [\"ooh\", \"yeah\", \"wan\", \"hey\", \"love\", \"young\", \"come\", \"wild\", \"know\", \"feel\", \"let\", \"little\", \"life\", \"tell\", \"night\", \"wait\", \"sun\", \"far\", \"somebody\", \"ride\", \"gon\", \"good\", \"girls\", \"higher\", \"rich\", \"hope\", \"town\", \"away\", \"need\", \"ones\", \"woah\", \"body\", \"thinkin\", \"saturday\", \"fallin\", \"watching\", \"green\", \"means\", \"raised\", \"party\", \"seat\", \"slip\", \"moonlight\", \"small\", \"sugar\", \"friday\", \"cool\", \"band\", \"goes\", \"truck\", \"sittin\", \"songs\", \"loved\", \"drinkin\", \"talkin\", \"town\", \"giving\", \"memory\", \"stick\", \"playing\", \"kinda\", \"damn\", \"thank\", \"dance\", \"sweet\", \"whoa\", \"whiskey\", \"country\", \"need\", \"little\", \"lights\", \"song\", \"knew\", \"sing\", \"want\", \"home\", \"like\", \"way\", \"yeah\", \"said\", \"hell\", \"mind\", \"night\", \"heart\", \"feels\", \"say\", \"let\", \"good\", \"right\", \"got\", \"new\", \"girl\", \"time\", \"gon\", \"baby\", \"love\", \"chorus\", \"think\", \"cause\", \"know\", \"bridge\", \"pre\", \"rich\", \"lady\", \"quit\", \"dollar\", \"problems\", \"far\", \"fly\", \"crying\", \"dry\", \"wind\", \"rest\", \"south\", \"locked\", \"smoke\", \"fade\", \"harder\", \"disappear\", \"changing\", \"ran\", \"movie\", \"family\", \"cover\", \"born\", \"outside\", \"walked\", \"cars\", \"calling\", \"chest\", \"sure\", \"yesterday\", \"people\", \"loving\", \"blame\", \"ask\", \"told\", \"tell\", \"away\", \"money\", \"head\", \"days\", \"perfect\", \"know\", \"gone\", \"pretty\", \"got\", \"run\", \"cause\", \"start\", \"left\", \"live\", \"feel\", \"chorus\", \"think\", \"come\", \"pre\", \"like\", \"way\", \"girl\", \"right\", \"say\", \"time\", \"bridge\", \"man\", \"stop\", \"yeah\", \"gon\", \"love\", \"baby\", \"higher\", \"ahead\", \"lovin\", \"future\", \"holdin\", \"okay\", \"wan\", \"woman\", \"act\", \"wait\", \"worry\", \"older\", \"story\", \"hope\", \"huh\", \"staring\", \"minute\", \"numb\", \"worst\", \"slowly\", \"honestly\", \"single\", \"easy\", \"somebody\", \"shoulder\", \"brought\", \"fake\", \"kid\", \"somethin\", \"warm\", \"happy\", \"bad\", \"love\", \"maybe\", \"day\", \"coming\", \"make\", \"life\", \"baby\", \"tonight\", \"let\", \"like\", \"forever\", \"time\", \"walk\", \"know\", \"feel\", \"hold\", \"want\", \"cause\", \"friends\", \"chorus\", \"say\", \"fall\", \"got\", \"stay\", \"bridge\", \"yeah\", \"pre\", \"need\", \"heart\", \"little\", \"ooh\", \"wild\", \"young\", \"ones\", \"hole\", \"hey\", \"rhythm\", \"magic\", \"angel\", \"catch\", \"girls\", \"ride\", \"sit\", \"lucky\", \"trouble\", \"mountain\", \"taking\", \"laughing\", \"sick\", \"freedom\", \"piece\", \"dad\", \"lives\", \"black\", \"afraid\", \"tryna\", \"belong\", \"simple\", \"fault\", \"mile\", \"darling\", \"insane\", \"woo\", \"yeah\", \"come\", \"best\", \"sun\", \"night\", \"look\", \"gon\", \"good\", \"life\", \"broke\", \"heaven\", \"eyes\", \"let\", \"chorus\", \"got\", \"feel\", \"heart\", \"know\", \"pre\", \"little\", \"time\", \"like\", \"baby\", \"make\", \"say\"], \"Freq\": [870.0, 1205.0, 625.0, 360.0, 1097.0, 178.0, 520.0, 101.0, 1353.0, 464.0, 691.0, 431.0, 409.0, 391.0, 399.0, 141.0, 176.0, 132.0, 140.0, 89.0, 413.0, 356.0, 83.0, 88.0, 102.0, 118.0, 177.0, 356.0, 383.0, 52.0, 90.25866812099778, 83.38966260786945, 53.06422980714621, 51.89272007586016, 34.4782443332154, 35.41261493504879, 31.504097958769382, 41.94822247453641, 22.71158321216209, 99.69968234990468, 19.587539363305446, 21.304405828676696, 14.81935830047836, 56.165143561394146, 29.411979745459547, 27.333609612269644, 31.191887470308767, 20.479104712726244, 112.50302303343146, 56.61675514935734, 22.074328693400734, 36.19768193668754, 38.71604906083594, 18.389589624932636, 17.474941787643253, 155.58503370415676, 46.226947631221016, 29.647701208960417, 12.645682808161252, 24.052567105944004, 53.65776674074379, 63.15453069307017, 52.296204757678275, 126.91173236413243, 62.57710544957618, 86.02356995138317, 42.78456145604977, 68.69519170374338, 248.38491694074628, 273.68550761996795, 61.364928849230054, 145.84723740664634, 90.6948224757776, 83.16571687384705, 300.98559769456386, 146.32049715330663, 589.9364788872629, 278.9102590001919, 445.45297257378473, 168.9129630616813, 82.20990801361899, 146.01360573702365, 192.61537012017047, 192.93786009117778, 77.30287892397175, 238.5520564086561, 254.43472264048515, 165.4780971502191, 185.97301153774436, 331.9165797986019, 101.23955115551911, 153.78042947789623, 222.32164066418605, 156.52828173224725, 184.32136027229635, 240.20002264415723, 210.9201598894838, 144.83919399277994, 175.61614642642857, 189.3325535808727, 125.18308328955982, 119.45476568370833, 101.36349410499018, 57.72687878652492, 57.72366557879465, 32.928496074610756, 18.056590786311794, 125.80929627830456, 58.38009201584404, 38.519532241350504, 15.493915912597913, 51.79246790509027, 38.00519330672514, 49.73938875162702, 14.387020122873087, 33.9830678178145, 16.821545973591846, 28.21878552017988, 25.47077334764031, 13.173453550860266, 24.420163661970747, 15.679297889789119, 17.288163286605464, 52.62028608877794, 60.350182293833235, 20.268190364743017, 16.724373688728, 15.911374754532824, 34.94583239481101, 27.295197848615544, 72.53485034976548, 9.920133913573617, 84.26662039000131, 67.66378911115204, 35.64485981976822, 55.14166447309049, 108.8019185964275, 275.3988747008134, 248.34341021460114, 95.47964950121576, 163.02440046514562, 106.07852126352363, 47.35878349683998, 696.9852865245144, 126.67637469534685, 74.44993205448705, 550.583625934906, 95.78036958860736, 350.6783225374482, 60.380347284496246, 102.60650536513057, 85.7242354756625, 214.94435044765348, 326.31086111324464, 163.69972380666155, 191.60382900995353, 178.3068777959036, 335.4540067505974, 191.37035289689777, 143.8356769847707, 157.40157795572276, 163.8924400149557, 159.249176465004, 123.46195050179716, 95.48523354428667, 87.63002297086422, 127.83290226566903, 98.53650035284842, 107.32847278185719, 101.3275778736671, 87.42700016368413, 52.362734769655894, 43.30602222253638, 36.32577890477487, 37.40037253973005, 82.64943483597256, 586.2884593182234, 37.09287849561221, 13.826367732511429, 127.07592893097853, 23.310290198962697, 44.74288506585037, 40.227975514903235, 101.14283181709118, 25.44521975478487, 25.406793446070054, 24.1974760048346, 24.704289924931732, 28.738797755882008, 31.537325657479492, 16.973013455561293, 52.477649011744475, 54.086315069592644, 112.98738923567127, 17.553605467685884, 11.16035856050386, 34.19532925457247, 30.938724674820502, 33.66864832464609, 16.20111667474694, 51.08913180324083, 101.03635392272147, 702.8729770756943, 92.16700106525808, 171.12908379346808, 73.97566515094448, 213.4526565029228, 199.94787049853846, 270.9271710380405, 105.03153776831782, 281.8248435847416, 457.3076517396707, 64.2411094046465, 253.86248577218166, 88.02164454266261, 355.1280862605624, 170.3110187087208, 101.16816453052105, 183.84960866671202, 205.60881277356293, 80.15322566353905, 213.89990459672276, 165.9722415023458, 81.52850779516662, 191.03019457476233, 83.46051033895071, 109.68897637536321, 158.31019500100112, 116.61096637221023, 96.525471629274, 93.13869024728042, 89.14795090227919, 869.3548551862683, 100.80957083941448, 174.10299752652662, 50.53200589166905, 43.846797806647174, 342.37508330190616, 50.51024479236923, 28.120721337405918, 27.627789055407053, 46.153140898614566, 61.96932105393892, 61.10546394800181, 23.8597034329297, 33.850681016999395, 17.521222577631615, 12.942426390599483, 31.559353186521875, 12.494079468587271, 27.65657235056358, 15.120232046061647, 13.918726436100359, 12.32104653514734, 19.600258448558947, 51.7312239813341, 21.342135596844976, 26.212525011351254, 15.243942072254457, 10.243377124932024, 10.76286680256541, 8.26578489231748, 17.878454177771726, 19.921376195195215, 28.67690346262535, 474.08718487177384, 177.01500135915015, 55.22930364924305, 67.11392275014558, 106.28120385665524, 74.57482592650665, 107.49575697559861, 90.67550794294738, 87.6967452766139, 32.26926314961892, 33.513142105578964, 61.60199837629504, 103.00929896876782, 111.39291897804584, 127.97318423793806, 73.69953310864601, 70.42333335784542, 111.67436935422707, 71.12230865283348, 66.18870042099368, 75.2074688913415, 91.48474554282416, 64.67826497094828, 55.875212313731275, 52.14733379488173], \"Total\": [870.0, 1205.0, 625.0, 360.0, 1097.0, 178.0, 520.0, 101.0, 1353.0, 464.0, 691.0, 431.0, 409.0, 391.0, 399.0, 141.0, 176.0, 132.0, 140.0, 89.0, 413.0, 356.0, 83.0, 88.0, 102.0, 118.0, 177.0, 356.0, 383.0, 52.0, 91.01748599072421, 84.1677670872916, 53.831353180606826, 52.85652759599703, 35.23819876115678, 36.21754910215084, 32.303005105811486, 43.07158332380511, 23.495800662761557, 103.74829059624554, 20.56230263316524, 22.522394178584346, 15.668393538595542, 59.73922513956473, 31.33888513642068, 29.372727928818286, 34.28997676100259, 22.534794382270345, 124.50692248390214, 62.686003379784665, 24.49491437255843, 40.20831210052726, 43.06368991834678, 20.577892182543327, 19.595092690059417, 177.289823557545, 52.96641927796299, 34.310162411707374, 14.705004937460028, 28.434984299091482, 63.76327573878429, 75.48801844013468, 62.871272591415526, 163.29984730438545, 76.38979516373082, 107.68198032696014, 50.992035538840014, 86.3185525481959, 383.42458540692337, 431.6857811154274, 77.3229183056908, 214.74212265677824, 122.86640818339947, 115.53560858101689, 578.7680520844145, 239.9161639050831, 1474.182882920355, 591.4744450604834, 1205.6832547122287, 316.9690673474663, 117.77665370387824, 264.8438908828717, 399.05991158710026, 422.81527192560947, 109.1226915337626, 620.5640717208394, 691.2957286320495, 356.1680534387645, 443.4625696766275, 1201.5035845462082, 165.48637652495032, 359.3781867434661, 710.6407717927132, 413.3855529718893, 621.2543741549522, 1097.408602217443, 862.523844577497, 398.15984848323603, 742.3734229209264, 1353.1202957201767, 404.4001315111572, 485.49491850465563, 102.11314421889661, 58.49017353674151, 58.490055163760005, 33.70454218940734, 18.832997642723818, 132.78571144641506, 62.49265585289799, 41.60551732652667, 16.84249118309644, 56.45610135636527, 41.59908072643094, 54.47226999114404, 15.84891771586987, 37.633863070990415, 18.846646576212464, 31.686818103287536, 28.712278101653546, 14.858813819681966, 27.784266346658907, 17.85655648449376, 19.816228970117354, 60.55156237982924, 70.26713002031464, 23.75193758273886, 19.795633802125895, 18.836870061992073, 41.561085542002985, 32.652378777135894, 87.0585765896617, 11.906464932955656, 102.9723826641541, 84.0648484779323, 43.5258702873131, 69.22112977281543, 143.02619136197328, 391.0811563493623, 356.0776321068125, 127.47663131004141, 233.28126943110357, 147.65182378988146, 60.353618274396915, 1353.1202957201767, 193.7987501831337, 103.72259409624036, 1201.5035845462082, 144.28941632870647, 742.3734229209264, 82.01601088671141, 163.80762027811045, 130.0243164814957, 464.73442411043794, 862.523844577497, 398.15984848323603, 520.9097231567927, 485.49491850465563, 1474.182882920355, 591.4744450604834, 359.3781867434661, 443.4625696766275, 620.5640717208394, 710.6407717927132, 404.4001315111572, 228.66167760865233, 188.66121077814145, 1205.6832547122287, 413.3855529718893, 1097.408602217443, 621.2543741549522, 88.19390233612778, 53.11095637804323, 44.08873599067731, 37.07292780135866, 39.05477869860063, 88.07685667334792, 625.9302404914699, 40.0271102492381, 15.015575943384855, 141.02415512629952, 26.01956594770084, 51.0448696615707, 45.97393543998134, 118.97910684418189, 29.96099731612049, 29.978619101736314, 28.975686815077562, 29.981483622953785, 35.005392669687154, 38.918427451567545, 20.972777821528446, 64.85673338370037, 66.89261373488844, 140.67069756040448, 21.996112879839124, 13.990631783822582, 42.92563960613945, 38.96030076340333, 42.882007304606766, 20.959650062902533, 67.92480708841381, 140.36464160612846, 1097.408602217443, 138.35546709003162, 287.6114985251409, 114.31346385556756, 436.76931066607915, 409.74158095165194, 621.2543741549522, 184.56277917600787, 691.2957286320495, 1474.182882920355, 103.57281851556297, 710.6407717927132, 164.91001901751832, 1353.1202957201767, 464.73442411043794, 208.5633715514375, 578.7680520844145, 742.3734229209264, 148.1911306535781, 862.523844577497, 620.5640717208394, 154.13434411820936, 1201.5035845462082, 185.9139952008246, 404.4001315111572, 1205.6832547122287, 485.49491850465563, 383.42458540692337, 422.81527192560947, 431.6857811154274, 870.1176541284243, 101.68567723887773, 178.98291554082664, 52.8046138546368, 45.97871441564375, 360.9757519124554, 53.84431399315257, 35.31249713805366, 35.28512695592823, 60.797426287420386, 83.17485154167758, 89.03603647296185, 35.22197060552402, 51.16541291152228, 26.52908036749851, 19.63526502014725, 49.232542657207354, 19.72216742640278, 44.18846948524512, 24.536170542276125, 22.615064448028313, 20.631559396077655, 33.26751244589489, 90.5462716578858, 38.308253240301525, 47.13224176705771, 27.67201543845848, 18.640881608036825, 19.64455919766769, 15.658973197513557, 34.34398425884868, 38.3843881881893, 56.75578027797266, 1205.6832547122287, 520.9097231567927, 137.0231051919786, 176.379096135334, 399.05991158710026, 243.92477667276438, 413.3855529718893, 356.1680534387645, 409.74158095165194, 77.9169753174777, 83.84081169073262, 256.5555829000395, 691.2957286320495, 862.523844577497, 1201.5035845462082, 464.73442411043794, 422.81527192560947, 1353.1202957201767, 485.49491850465563, 431.6857811154274, 710.6407717927132, 1474.182882920355, 621.2543741549522, 436.76931066607915, 620.5640717208394], \"Category\": [\"Default\", \"Default\", \"Default\", \"Default\", \"Default\", \"Default\", \"Default\", \"Default\", \"Default\", \"Default\", \"Default\", \"Default\", \"Default\", \"Default\", \"Default\", \"Default\", \"Default\", \"Default\", \"Default\", \"Default\", \"Default\", \"Default\", \"Default\", \"Default\", \"Default\", \"Default\", \"Default\", \"Default\", \"Default\", \"Default\", \"Topic1\", \"Topic1\", \"Topic1\", \"Topic1\", \"Topic1\", \"Topic1\", \"Topic1\", \"Topic1\", \"Topic1\", \"Topic1\", \"Topic1\", \"Topic1\", \"Topic1\", \"Topic1\", \"Topic1\", \"Topic1\", \"Topic1\", \"Topic1\", \"Topic1\", \"Topic1\", \"Topic1\", \"Topic1\", \"Topic1\", \"Topic1\", \"Topic1\", \"Topic1\", \"Topic1\", \"Topic1\", \"Topic1\", \"Topic1\", \"Topic1\", \"Topic1\", \"Topic1\", \"Topic1\", \"Topic1\", \"Topic1\", \"Topic1\", \"Topic1\", \"Topic1\", \"Topic1\", \"Topic1\", \"Topic1\", \"Topic1\", \"Topic1\", \"Topic1\", \"Topic1\", \"Topic1\", \"Topic1\", \"Topic1\", \"Topic1\", \"Topic1\", \"Topic1\", \"Topic1\", \"Topic1\", \"Topic1\", \"Topic1\", \"Topic1\", \"Topic1\", \"Topic1\", \"Topic1\", \"Topic1\", \"Topic1\", \"Topic1\", \"Topic1\", \"Topic1\", \"Topic1\", \"Topic1\", \"Topic1\", \"Topic1\", \"Topic1\", \"Topic1\", \"Topic1\", \"Topic2\", \"Topic2\", \"Topic2\", \"Topic2\", \"Topic2\", \"Topic2\", \"Topic2\", \"Topic2\", \"Topic2\", \"Topic2\", \"Topic2\", \"Topic2\", \"Topic2\", \"Topic2\", \"Topic2\", \"Topic2\", \"Topic2\", \"Topic2\", \"Topic2\", \"Topic2\", \"Topic2\", \"Topic2\", \"Topic2\", \"Topic2\", \"Topic2\", \"Topic2\", \"Topic2\", \"Topic2\", \"Topic2\", \"Topic2\", \"Topic2\", \"Topic2\", \"Topic2\", \"Topic2\", \"Topic2\", \"Topic2\", \"Topic2\", \"Topic2\", \"Topic2\", \"Topic2\", \"Topic2\", \"Topic2\", \"Topic2\", \"Topic2\", \"Topic2\", \"Topic2\", \"Topic2\", \"Topic2\", \"Topic2\", \"Topic2\", \"Topic2\", \"Topic2\", \"Topic2\", \"Topic2\", \"Topic2\", \"Topic2\", \"Topic2\", \"Topic2\", \"Topic2\", \"Topic2\", \"Topic2\", \"Topic2\", \"Topic2\", \"Topic2\", \"Topic2\", \"Topic2\", \"Topic2\", \"Topic2\", \"Topic3\", \"Topic3\", \"Topic3\", \"Topic3\", \"Topic3\", \"Topic3\", \"Topic3\", \"Topic3\", \"Topic3\", \"Topic3\", \"Topic3\", \"Topic3\", \"Topic3\", \"Topic3\", \"Topic3\", \"Topic3\", \"Topic3\", \"Topic3\", \"Topic3\", \"Topic3\", \"Topic3\", \"Topic3\", \"Topic3\", \"Topic3\", \"Topic3\", \"Topic3\", \"Topic3\", \"Topic3\", \"Topic3\", \"Topic3\", \"Topic3\", \"Topic3\", \"Topic3\", \"Topic3\", \"Topic3\", \"Topic3\", \"Topic3\", \"Topic3\", \"Topic3\", \"Topic3\", \"Topic3\", \"Topic3\", \"Topic3\", \"Topic3\", \"Topic3\", \"Topic3\", \"Topic3\", \"Topic3\", \"Topic3\", \"Topic3\", \"Topic3\", \"Topic3\", \"Topic3\", \"Topic3\", \"Topic3\", \"Topic3\", \"Topic3\", \"Topic3\", \"Topic3\", \"Topic3\", \"Topic3\", \"Topic3\", \"Topic4\", \"Topic4\", \"Topic4\", \"Topic4\", \"Topic4\", \"Topic4\", \"Topic4\", \"Topic4\", \"Topic4\", \"Topic4\", \"Topic4\", \"Topic4\", \"Topic4\", \"Topic4\", \"Topic4\", \"Topic4\", \"Topic4\", \"Topic4\", \"Topic4\", \"Topic4\", \"Topic4\", \"Topic4\", \"Topic4\", \"Topic4\", \"Topic4\", \"Topic4\", \"Topic4\", \"Topic4\", \"Topic4\", \"Topic4\", \"Topic4\", \"Topic4\", \"Topic4\", \"Topic4\", \"Topic4\", \"Topic4\", \"Topic4\", \"Topic4\", \"Topic4\", \"Topic4\", \"Topic4\", \"Topic4\", \"Topic4\", \"Topic4\", \"Topic4\", \"Topic4\", \"Topic4\", \"Topic4\", \"Topic4\", \"Topic4\", \"Topic4\", \"Topic4\", \"Topic4\", \"Topic4\", \"Topic4\", \"Topic4\", \"Topic4\", \"Topic4\"], \"logprob\": [30.0, 29.0, 28.0, 27.0, 26.0, 25.0, 24.0, 23.0, 22.0, 21.0, 20.0, 19.0, 18.0, 17.0, 16.0, 15.0, 14.0, 13.0, 12.0, 11.0, 10.0, 9.0, 8.0, 7.0, 6.0, 5.0, 4.0, 3.0, 2.0, 1.0, -5.3734, -5.4525, -5.9045, -5.9269, -6.3357, -6.309, -6.4259, -6.1396, -6.7532, -5.2739, -6.9011, -6.8171, -7.1801, -5.8477, -6.4946, -6.5679, -6.4359, -6.8566, -5.1531, -5.8397, -6.7816, -6.287, -6.2198, -6.9643, -7.0153, -4.8288, -6.0425, -6.4867, -7.3387, -6.6958, -5.8934, -5.7305, -5.9191, -5.0325, -5.7396, -5.4214, -6.1199, -5.6464, -4.3611, -4.2641, -5.7592, -4.8935, -5.3685, -5.4552, -4.169, -4.8902, -3.496, -4.2451, -3.7769, -4.7467, -5.4668, -4.8923, -4.6153, -4.6137, -5.5283, -4.4014, -4.337, -4.7672, -4.6504, -4.0712, -5.2585, -4.8405, -4.4719, -4.8228, -4.6594, -4.3946, -4.5246, -4.9004, -4.7077, -4.6325, -5.0463, -5.0931, -5.1595, -5.7224, -5.7225, -6.2838, -6.8847, -4.9434, -5.7112, -6.127, -7.0377, -5.8309, -6.1404, -5.8714, -7.1118, -6.2523, -6.9555, -6.4382, -6.5406, -7.2, -6.5828, -7.0258, -6.9281, -5.8151, -5.678, -6.7691, -6.9613, -7.0111, -6.2244, -6.4715, -5.4941, -7.4836, -5.3442, -5.5636, -6.2046, -5.7683, -5.0886, -4.1599, -4.2634, -5.2193, -4.6843, -5.114, -5.9204, -3.2314, -4.9365, -5.468, -3.4672, -5.2161, -3.9183, -5.6775, -5.1473, -5.327, -4.4078, -3.9903, -4.6801, -4.5227, -4.5947, -3.9627, -4.524, -4.8095, -4.7194, -4.679, -4.7077, -4.9622, -5.2192, -5.305, -4.9274, -5.1877, -5.1023, -5.1598, -5.1108, -5.6234, -5.8133, -5.989, -5.9599, -5.167, -3.2077, -5.9681, -6.955, -4.7368, -6.4327, -5.7806, -5.887, -4.965, -6.345, -6.3465, -6.3953, -6.3746, -6.2233, -6.1304, -6.7499, -5.6212, -5.591, -4.8543, -6.7163, -7.1692, -6.0495, -6.1496, -6.065, -6.7965, -5.648, -4.9661, -3.0264, -5.058, -4.4391, -5.2778, -4.2181, -4.2835, -3.9797, -4.9273, -3.9403, -3.4562, -5.4189, -4.0448, -5.104, -3.7091, -4.4439, -4.9648, -4.3674, -4.2556, -5.1976, -4.2161, -4.4697, -5.1806, -4.3291, -5.1572, -4.8839, -4.517, -4.8227, -5.0118, -5.0475, -5.0913, -2.2146, -4.3691, -3.8227, -5.0597, -5.2016, -3.1464, -5.0602, -5.6458, -5.6635, -5.1504, -4.8557, -4.8697, -5.8101, -5.4604, -6.1189, -6.4218, -5.5305, -6.4571, -5.6625, -6.2663, -6.3491, -6.471, -6.0068, -5.0363, -5.9217, -5.7161, -6.2582, -6.6557, -6.6062, -6.8702, -6.0987, -5.9905, -5.6262, -2.8209, -3.8061, -4.9708, -4.7759, -4.3162, -4.6705, -4.3049, -4.475, -4.5085, -5.5082, -5.4704, -4.8616, -4.3475, -4.2693, -4.1305, -4.6823, -4.7278, -4.2667, -4.7179, -4.7898, -4.6621, -4.4662, -4.8129, -4.9592, -5.0283], \"loglift\": [30.0, 29.0, 28.0, 27.0, 26.0, 25.0, 24.0, 23.0, 22.0, 21.0, 20.0, 19.0, 18.0, 17.0, 16.0, 15.0, 14.0, 13.0, 12.0, 11.0, 10.0, 9.0, 8.0, 7.0, 6.0, 5.0, 4.0, 3.0, 2.0, 1.0, 1.1103, 1.1094, 1.1043, 1.1003, 1.0969, 1.0962, 1.0936, 1.0923, 1.0847, 1.0789, 1.0701, 1.0631, 1.063, 1.057, 1.0552, 1.0467, 1.024, 1.023, 1.0173, 1.0169, 1.0146, 1.0136, 1.0123, 1.0063, 1.0042, 0.9881, 0.9826, 0.9726, 0.9678, 0.9513, 0.9461, 0.9403, 0.9345, 0.8666, 0.9192, 0.8941, 0.9432, 0.8903, 0.6845, 0.663, 0.8875, 0.7318, 0.8151, 0.7899, 0.4648, 0.6242, 0.2028, 0.367, 0.123, 0.4893, 0.7592, 0.5232, 0.3903, 0.3341, 0.7739, 0.1626, 0.1192, 0.3521, 0.2497, -0.1678, 0.6273, 0.2698, -0.0434, 0.1475, -0.0964, -0.4005, -0.2897, 0.1075, -0.3229, -0.848, -0.0539, -0.2835, 1.2092, 1.2034, 1.2034, 1.1933, 1.1745, 1.1626, 1.1485, 1.1395, 1.1331, 1.1303, 1.1262, 1.1257, 1.1198, 1.1145, 1.1029, 1.1006, 1.0968, 1.0962, 1.0875, 1.0865, 1.0801, 1.0762, 1.0644, 1.0579, 1.048, 1.0478, 1.0432, 1.0373, 1.034, 1.034, 1.0161, 0.9995, 1.0168, 0.9892, 0.9431, 0.8659, 0.8562, 0.9275, 0.8582, 0.8859, 0.9741, 0.5531, 0.7914, 0.885, 0.4362, 0.8068, 0.4666, 0.9103, 0.7488, 0.8, 0.4455, 0.2445, 0.3277, 0.2164, 0.2149, -0.2638, 0.0881, 0.3008, 0.1807, -0.1149, -0.2791, 0.0301, 0.3433, 0.4497, -1.0275, -0.2174, -1.1083, -0.5968, 1.4044, 1.399, 1.3952, 1.3928, 1.3699, 1.3496, 1.3477, 1.337, 1.3307, 1.309, 1.3032, 1.2814, 1.2796, 1.2507, 1.2498, 1.2477, 1.233, 1.2196, 1.2159, 1.2029, 1.2016, 1.2014, 1.2007, 1.194, 1.1876, 1.1871, 1.1858, 1.1826, 1.1713, 1.1556, 1.1283, 1.0844, 0.9676, 1.0069, 0.894, 0.978, 0.6972, 0.6957, 0.5833, 0.8494, 0.5159, 0.2427, 0.9355, 0.3838, 0.7853, 0.0755, 0.4093, 0.6897, 0.2664, 0.1293, 0.7986, 0.0188, 0.0944, 0.7763, -0.4257, 0.6123, 0.1084, -0.6171, -0.0132, 0.0338, -0.0997, -0.1642, 2.0115, 2.0037, 1.9847, 1.9684, 1.9649, 1.9595, 1.9485, 1.7847, 1.7677, 1.7368, 1.7181, 1.6359, 1.6229, 1.5993, 1.5976, 1.5956, 1.5677, 1.5559, 1.5438, 1.5283, 1.527, 1.4969, 1.4833, 1.4526, 1.4274, 1.4257, 1.4161, 1.4137, 1.4107, 1.3735, 1.3596, 1.3565, 1.3297, 1.079, 0.933, 1.1037, 1.0461, 0.6894, 0.8273, 0.6655, 0.6443, 0.4707, 1.1309, 1.0954, 0.5857, 0.1086, -0.0344, -0.2271, 0.1709, 0.22, -0.4822, 0.0916, 0.1372, -0.2335, -0.7673, -0.2499, -0.0439, -0.4642]}, \"token.table\": {\"Topic\": [2, 3, 1, 2, 4, 3, 1, 3, 4, 1, 2, 1, 2, 3, 4, 1, 2, 3, 4, 1, 3, 4, 1, 2, 3, 4, 1, 2, 3, 4, 1, 2, 3, 4, 1, 2, 1, 1, 2, 1, 2, 3, 4, 1, 2, 3, 4, 1, 2, 3, 1, 2, 4, 1, 2, 3, 1, 2, 4, 1, 2, 3, 4, 2, 4, 1, 2, 4, 1, 2, 3, 4, 1, 2, 3, 4, 1, 2, 3, 4, 1, 2, 1, 2, 3, 4, 2, 3, 1, 2, 1, 2, 4, 1, 2, 3, 4, 1, 3, 1, 2, 3, 4, 1, 2, 3, 4, 1, 2, 3, 4, 2, 4, 2, 1, 2, 1, 2, 1, 2, 3, 4, 1, 2, 3, 4, 2, 3, 1, 2, 3, 1, 2, 3, 4, 1, 2, 3, 4, 1, 2, 3, 1, 2, 3, 4, 1, 2, 3, 4, 1, 2, 3, 4, 2, 3, 1, 2, 3, 4, 1, 2, 4, 1, 3, 4, 1, 2, 3, 4, 3, 1, 2, 3, 4, 1, 2, 4, 1, 2, 3, 1, 2, 3, 1, 2, 3, 4, 1, 2, 3, 1, 2, 3, 4, 1, 2, 3, 4, 1, 1, 2, 3, 4, 1, 2, 1, 2, 3, 4, 1, 2, 3, 4, 1, 2, 3, 4, 1, 2, 3, 4, 1, 2, 3, 4, 3, 1, 2, 3, 4, 3, 4, 2, 4, 1, 2, 3, 4, 1, 2, 3, 4, 1, 2, 3, 3, 4, 2, 4, 1, 2, 3, 1, 3, 4, 1, 2, 3, 4, 1, 2, 3, 4, 2, 3, 4, 1, 2, 3, 4, 1, 2, 3, 4, 1, 2, 3, 4, 1, 2, 4, 1, 2, 3, 4, 1, 2, 3, 4, 1, 2, 3, 4, 1, 4, 2, 4, 1, 2, 3, 4, 1, 2, 3, 4, 1, 4, 3, 1, 2, 1, 3, 4, 2, 3, 4, 1, 2, 3, 4, 1, 2, 3, 4, 1, 2, 3, 4, 1, 2, 1, 2, 1, 4, 1, 2, 3, 4, 1, 2, 3, 1, 2, 4, 1, 1, 2, 4, 2, 3, 1, 2, 3, 4, 1, 2, 3, 4, 1, 2, 3, 4, 1, 2, 3, 4, 1, 3, 4, 2, 3, 1, 4, 4, 2, 4, 1, 3, 4, 1, 2, 3, 4, 1, 2, 3, 4, 1, 2, 3, 4, 1, 2, 1, 2, 3, 4, 1, 2, 3, 4, 2, 2, 1, 2, 3, 1, 2, 3, 4, 2, 1, 3, 4, 1, 2, 3, 4, 1, 2, 3, 4, 1, 2, 3, 4, 1, 1, 2, 3, 4, 1, 2, 3, 1, 2, 3, 4, 1, 3, 4, 1, 2, 4, 1, 3, 1, 3, 4, 1, 2, 1, 2, 1, 3, 1, 2, 1, 2, 4, 1, 2, 3, 1, 3, 1, 2, 3, 4, 1, 3, 1, 2, 2, 3, 4, 1, 2, 3, 4, 1, 2, 3, 4, 1, 2, 1, 2, 3, 2, 3, 4, 1, 2, 1, 2, 3, 4, 1, 2, 4, 1, 2, 4, 2, 3, 4, 1, 3, 4, 1, 2, 3, 4, 1, 3, 1, 2, 3, 4, 1, 1, 2, 3, 4, 2, 3, 4, 1, 2, 3, 4, 1, 2, 4, 1, 2, 3, 4, 1, 2, 3, 4, 1, 2, 3, 4, 1, 2, 3, 4, 1, 2, 3, 4, 1, 2, 1, 2, 3, 4, 1, 2, 3, 4, 2, 3, 4, 1, 1, 2, 3, 4, 1, 2, 1, 3, 4, 4, 1, 2, 1, 3, 4, 1, 3, 4, 2, 3, 4, 2, 3, 1, 2, 3, 4, 2, 3, 2, 3, 4], \"Freq\": [0.06659751206150386, 0.932365168861054, 0.13052017717006836, 0.31324842520816404, 0.5481847441142871, 0.9790823503509247, 0.1133622107976563, 0.08502165809824222, 0.793535475583594, 0.2022503828808944, 0.7945550756035137, 0.17973608626110485, 0.6964773342617813, 0.07020940869574407, 0.0533591506087655, 0.296174977037839, 0.16257430804794423, 0.43621423248507807, 0.10462702993184529, 0.13536172488022397, 0.7195544322580327, 0.14248602618970946, 0.8875164184207227, 0.04437582092103614, 0.4336511023813046, 0.5420638779766308, 0.1897490205288535, 0.1897490205288535, 0.2189411775332925, 0.40139215881103624, 0.011044077041386482, 0.35341046532436743, 0.06626446224831889, 0.5742920061520971, 0.16082389516380002, 0.8270943179852572, 0.98612572095348, 0.12808264685633308, 0.8538843123755538, 0.3090998005685646, 0.3041542037594676, 0.2720078245003369, 0.11374872660923178, 0.03850252127699142, 0.4491960815648999, 0.10267339007197711, 0.41069356028790843, 0.07147640045507478, 0.14295280091014956, 0.7862404050058225, 0.12030484610289684, 0.8421339227202779, 0.02406096922057937, 0.05308737580654342, 0.8493980129046947, 0.10617475161308684, 0.032896129361545366, 0.21382484085004488, 0.7566109753155434, 0.23707745262150445, 0.4728078742622049, 0.27748838204562454, 0.013470309808040025, 0.8749016010134144, 0.06730012315487803, 0.12250256029741122, 0.8268922820075256, 0.030625640074352804, 0.2446309181207127, 0.3779605654376888, 0.24810908283332947, 0.12869209436682041, 0.13821972752527822, 0.36858594006740864, 0.15357747502808694, 0.3397901634996423, 0.3061756578754511, 0.017495751878597206, 0.6473428195080966, 0.02624362781789581, 0.9040542726542694, 0.0874891231600906, 0.7993646552573261, 0.13901994004475238, 0.023169990007458726, 0.04633998001491745, 0.8752870762861638, 0.11560395347175748, 0.07210582136151622, 0.9373756776997108, 0.04846943368663223, 0.3392860358064256, 0.5816332042395868, 0.8345695290698586, 0.026494270764122495, 0.06623567691030624, 0.06623567691030624, 0.7777104638884093, 0.2204533598423837, 0.29117180827450195, 0.14558590413725098, 0.05823436165490039, 0.5241092548941035, 0.11821502330174732, 0.2051378345530321, 0.594552028958788, 0.0834458988012334, 0.06095420814312195, 0.7179051181301029, 0.13545379587360434, 0.0812722775241626, 0.8707076433116689, 0.10448491719740027, 0.9790965210134566, 0.8747251584528075, 0.09719168427253416, 0.05937363951264086, 0.8906045926896129, 0.10464533539895284, 0.059797334513687336, 0.807264015934779, 0.029898667256843668, 0.2650497768606131, 0.3001298943862825, 0.19488954180927434, 0.2416630318435002, 0.9020172332120223, 0.10611967449553203, 0.13977660100239597, 0.06988830050119799, 0.7920674056802439, 0.18165970835497974, 0.2595138690785425, 0.5320034316110122, 0.032439233634817814, 0.9648620302771647, 0.8578826993589852, 0.05046368819758737, 0.05046368819758737, 0.04518558461330583, 0.9488972768794224, 0.007530930768884304, 0.20361872006142556, 0.15271404004606917, 0.10180936003071278, 0.5599514801689203, 0.012910599449319424, 0.4626298136006127, 0.36580031773071703, 0.15923072654160625, 0.7056277564064315, 0.15578794621960176, 0.10996796203736595, 0.027491990509341487, 0.9281090587112621, 0.06400752129043187, 0.0965504284166737, 0.21241094251668216, 0.6179227418667117, 0.07724034273333896, 0.12226846870137958, 0.24453693740275917, 0.6113423435068979, 0.9192200351779262, 0.03404518648807134, 0.03404518648807134, 0.1687010544405774, 0.24967756057205456, 0.5398433742098477, 0.033740210888115484, 0.9710589946629643, 0.428517939264715, 0.4006920990527205, 0.15304212116596963, 0.016695504127196687, 0.20438870265348863, 0.04809145944787968, 0.745417621442135, 0.8684747926529854, 0.05663966039041209, 0.07551954718721612, 0.9075800585675073, 0.040158409671128645, 0.0562217735395801, 0.37979072773904166, 0.23948587290551035, 0.12337151028465686, 0.25883826667565263, 0.2683195838510911, 0.6553189836363187, 0.0773998799570455, 0.46326445734518473, 0.09546055484688655, 0.1853057829380739, 0.255497367384314, 0.27632044071295214, 0.45859205672541153, 0.158967482458355, 0.1065331819616201, 0.9906199096703553, 0.0441664853916342, 0.1913881033637482, 0.7508302516577814, 0.0147221617972114, 0.0946765935986721, 0.8836482069209396, 0.1971868556450284, 0.6987273363073833, 0.04286670774891922, 0.06001339084848691, 0.45646411758267, 0.15609653761894415, 0.21995421209942131, 0.1655569338382741, 0.047709461768511735, 0.4532398868008615, 0.10734628897915141, 0.40553042503234976, 0.6962330599591474, 0.06792517658138024, 0.09339711779939783, 0.144341000235433, 0.013851345896531605, 0.030472960972369532, 0.008310807537918963, 0.9474320593227619, 0.9864627564434383, 0.1486358787230985, 0.2541194055588458, 0.4842652822913855, 0.11027823260100857, 0.947387265603063, 0.025605061232515217, 0.04349838888317247, 0.9569645554297944, 0.6085459088023819, 0.24175111445574074, 0.07085808527151022, 0.07502620793454023, 0.04768085603679572, 0.09536171207359144, 0.8105745526255272, 0.04768085603679572, 0.06723869603826331, 0.08404837004782914, 0.8488885374830744, 0.8344181515796462, 0.1335069042527434, 0.4689406513854119, 0.5210451682060132, 0.07700145895223676, 0.12833576492039458, 0.7956817425064465, 0.8468824628963387, 0.10978106000508095, 0.047049025716463265, 0.7406418185853263, 0.07325028975019711, 0.14650057950039422, 0.04069460541677617, 0.1396771599670728, 0.5151057169156071, 0.262356570308523, 0.08277165035085797, 0.9916195574897106, 0.354930563596618, 0.6084523947370595, 0.36017860402239266, 0.6287863765136685, 0.006104722102074452, 0.006104722102074452, 0.3674259647208012, 0.0752210636436286, 0.40792961437506275, 0.14899556837103356, 0.12446869532144901, 0.1732799483886839, 0.48811253067234905, 0.2147695134958336, 0.7888993501104126, 0.025865552462636478, 0.18105886723845535, 0.4002217138969966, 0.22724453246693876, 0.3100022427981821, 0.06172911180445202, 0.6347209289405245, 0.006949499221976545, 0.20616847691863752, 0.152888982883484, 0.023072607349002617, 0.6614147440047418, 0.2384169426063604, 0.08459956027967627, 0.39077162806034094, 0.6011871200928323, 0.88334107419723, 0.06309579101408785, 0.35256771031248174, 0.25417672138806824, 0.08609211530886182, 0.3074718403887922, 0.21869702817624337, 0.0975024250619085, 0.6406000450329129, 0.04282816801784766, 0.9056353525196759, 0.09288567718150521, 0.9753058016698977, 0.190329255208259, 0.8088993346351008, 0.07817781138436221, 0.2540778869991772, 0.6645113967670788, 0.141592931829561, 0.056637172731824406, 0.7929204182455417, 0.17400489948366327, 0.20834797175017578, 0.48767162618447735, 0.12821413646164662, 0.2580231222696474, 0.4154609595867204, 0.25364984901083987, 0.06997237214092134, 0.20237725757363564, 0.08673311038870099, 0.6649538463133743, 0.043366555194350495, 0.9751208745740987, 0.023217163680335683, 0.8743765080448395, 0.11658353440597859, 0.4470280338120452, 0.5108891814994803, 0.5512681433326665, 0.2718582624654246, 0.10949846682635157, 0.06796456561635615, 0.10353507818972364, 0.06902338545981576, 0.8282806255177891, 0.21964810108528826, 0.7452346286822281, 0.03137830015504118, 0.957341284736747, 0.0509287752914934, 0.254643876457467, 0.6620740787894142, 0.8960294228001938, 0.11200367785002423, 0.6468025511113246, 0.0938906929032568, 0.2529832558782197, 0.007824224408604733, 0.6103221432537214, 0.09668469596098557, 0.2296261529073407, 0.06647072847317757, 0.483636653033927, 0.12028269090999222, 0.1303062484858249, 0.26562427575956615, 0.06670783958365564, 0.10006175937548346, 0.8338479947956956, 0.03335391979182782, 0.011353720350269951, 0.9423587890724059, 0.045414881401079805, 0.11754364424437193, 0.8815773318327894, 0.037875478182753136, 0.965824693660205, 0.9987155137892888, 0.8420365677676128, 0.12630548516514192, 0.9638713026045638, 0.009638713026045638, 0.028916139078136914, 0.09711341761038145, 0.8157527079272042, 0.048556708805190724, 0.03884536704415258, 0.033138029784842836, 0.7787436999438067, 0.033138029784842836, 0.14912113403179278, 0.044218313076140034, 0.22109156538070018, 0.08843662615228007, 0.6190563830659604, 0.8440307104641804, 0.14067178507736341, 0.24511070139832752, 0.36663617520085967, 0.240991193811801, 0.14624251932169122, 0.12533431229012437, 0.7134414699591696, 0.009641100945394183, 0.14461651418091273, 0.955769248288222, 0.9916215643430674, 0.9788983286895454, 0.8637982266854431, 0.1079747783356804, 0.0721169782507689, 0.9134817245097394, 0.05571618946397038, 0.9471752208874965, 0.9890989134904082, 0.29201659271856273, 0.022462814824504827, 0.6851158521473972, 0.419426604900682, 0.35403213424412405, 0.193928430222896, 0.031569744454890046, 0.19405442694572314, 0.6653294638139079, 0.05544412198449233, 0.08316618297673849, 0.5331750552641139, 0.2681649686239626, 0.10411110546577372, 0.09464645951433975, 0.9837952352348266, 0.38513347918652, 0.2642756928309175, 0.26749856713373354, 0.08379473187321775, 0.9726537128065467, 0.18185031245526392, 0.8183264060486877, 0.20367304196867853, 0.022630337996519836, 0.15841236597563885, 0.6336494639025554, 0.3218731885198585, 0.10729106283995284, 0.5364553141997642, 0.7183932384083822, 0.05193204133072643, 0.2250388457664812, 0.18502319456958358, 0.8017671764681954, 0.3123050701278713, 0.028391370011624662, 0.6813928802789919, 0.8981456177142846, 0.08164960161038952, 0.9324053132845028, 0.044400253013547754, 0.1798633824224071, 0.8222326053595753, 0.9374075386677844, 0.050218261000059876, 0.026571813744277487, 0.9034416673054345, 0.05314362748855497, 0.1919376278660032, 0.007108801032074193, 0.8032945166243838, 0.20987823485196647, 0.7928733316629843, 0.6798852418598442, 0.125732202261752, 0.023283741159583704, 0.17229968458091943, 0.8953372603653245, 0.09948191781836939, 0.07343185809312353, 0.917898226164044, 0.06671421366050057, 0.8339276707562571, 0.10007132049075085, 0.1950838601757988, 0.7315644756592454, 0.012192741260987424, 0.06096370630493712, 0.11833428664816528, 0.3926546784234575, 0.4464429905362599, 0.03765181847896168, 0.8840527463464741, 0.13600811482253447, 0.3975379978250919, 0.46644458411477446, 0.13781317257936518, 0.021751455263287024, 0.870058210531481, 0.10875727631643513, 0.9253679533831748, 0.03190923977183362, 0.49325573101500486, 0.12473133427965641, 0.0056696061036207454, 0.37986360894258997, 0.1263517097441984, 0.8385158919387712, 0.0344595572029632, 0.8247174883106877, 0.05236301513083731, 0.11781678404438395, 0.14218237820335777, 0.20311768314765394, 0.6499765860724926, 0.8675641533772429, 0.051033185492779, 0.051033185492779, 0.04091222433050907, 0.7031788556806245, 0.21223216371451578, 0.04346923835116588, 0.8270868054148487, 0.1590551548874709, 0.3641753445315193, 0.41189487243564943, 0.17832034111543357, 0.047719527904130116, 0.9845563387972508, 0.31239412205405404, 0.2237417360657414, 0.35742390541319696, 0.10553855474799123, 0.7620981790960288, 0.20975179241175104, 0.02796690565490014, 0.3684383184062912, 0.027091052823992, 0.5689121093038321, 0.0379274739535888, 0.8799151404726019, 0.07332626170605015, 0.04512385335756933, 0.07538896834321683, 0.18847242085804206, 0.07538896834321683, 0.6785007150889514, 0.9092938922053161, 0.06381009769861867, 0.015952524424654668, 0.031905048849309336, 0.23338588591574835, 0.08486759487845395, 0.12730139231768092, 0.5516393667099507, 0.007090983804188809, 0.021272951412566424, 0.9005549431319787, 0.07090983804188808, 0.20010912736899522, 0.18191738851726838, 0.5336243396506539, 0.08489478130805858, 0.15154857025481164, 0.8587752314439325, 0.0031952442470739766, 0.04952628582964664, 0.9362065643926751, 0.00958573274122193, 0.520070171316399, 0.12958559085956786, 0.3179166495754731, 0.03282834968442386, 0.09542144043425103, 0.7633715234740083, 0.09542144043425103, 0.9663823441305548, 0.47170254324592137, 0.3229218127597526, 0.13356451941371966, 0.07100898500476235, 0.8432689447599601, 0.15688724553673675, 0.798648016491468, 0.018573209685848094, 0.1764454920155569, 0.9932568946040753, 0.07085150947195207, 0.921069623135377, 0.9888209833566717, 0.9243735001005795, 0.04996613514057186, 0.47572247034156095, 0.017619350753391147, 0.5109611718483432, 0.076865233033479, 0.8839501798850085, 0.0384326165167395, 0.17140216242155418, 0.8284437850375119, 0.3690853283901767, 0.10616386973919689, 0.13104602670932117, 0.3931380801279635, 0.839879851518414, 0.0839879851518414, 0.016761376307537518, 0.005587125435845839, 0.972159825837176], \"Term\": [\"act\", \"act\", \"afraid\", \"afraid\", \"afraid\", \"ahead\", \"angel\", \"angel\", \"angel\", \"ask\", \"ask\", \"away\", \"away\", \"away\", \"away\", \"baby\", \"baby\", \"baby\", \"baby\", \"bad\", \"bad\", \"bad\", \"band\", \"band\", \"belong\", \"belong\", \"best\", \"best\", \"best\", \"best\", \"black\", \"black\", \"black\", \"black\", \"blame\", \"blame\", \"body\", \"born\", \"born\", \"bridge\", \"bridge\", \"bridge\", \"bridge\", \"broke\", \"broke\", \"broke\", \"broke\", \"brought\", \"brought\", \"brought\", \"calling\", \"calling\", \"calling\", \"cars\", \"cars\", \"cars\", \"catch\", \"catch\", \"catch\", \"cause\", \"cause\", \"cause\", \"cause\", \"changing\", \"changing\", \"chest\", \"chest\", \"chest\", \"chorus\", \"chorus\", \"chorus\", \"chorus\", \"come\", \"come\", \"come\", \"come\", \"coming\", \"coming\", \"coming\", \"coming\", \"cool\", \"cool\", \"country\", \"country\", \"country\", \"country\", \"cover\", \"cover\", \"crying\", \"crying\", \"dad\", \"dad\", \"dad\", \"damn\", \"damn\", \"damn\", \"damn\", \"dance\", \"dance\", \"darling\", \"darling\", \"darling\", \"darling\", \"day\", \"day\", \"day\", \"day\", \"days\", \"days\", \"days\", \"days\", \"disappear\", \"disappear\", \"dollar\", \"drinkin\", \"drinkin\", \"dry\", \"dry\", \"easy\", \"easy\", \"easy\", \"easy\", \"eyes\", \"eyes\", \"eyes\", \"eyes\", \"fade\", \"fade\", \"fake\", \"fake\", \"fake\", \"fall\", \"fall\", \"fall\", \"fall\", \"fallin\", \"family\", \"family\", \"family\", \"far\", \"far\", \"far\", \"fault\", \"fault\", \"fault\", \"fault\", \"feel\", \"feel\", \"feel\", \"feel\", \"feels\", \"feels\", \"feels\", \"feels\", \"fly\", \"fly\", \"forever\", \"forever\", \"forever\", \"forever\", \"freedom\", \"freedom\", \"freedom\", \"friday\", \"friday\", \"friday\", \"friends\", \"friends\", \"friends\", \"friends\", \"future\", \"girl\", \"girl\", \"girl\", \"girl\", \"girls\", \"girls\", \"girls\", \"giving\", \"giving\", \"giving\", \"goes\", \"goes\", \"goes\", \"gon\", \"gon\", \"gon\", \"gon\", \"gone\", \"gone\", \"gone\", \"good\", \"good\", \"good\", \"good\", \"got\", \"got\", \"got\", \"got\", \"green\", \"happy\", \"happy\", \"happy\", \"happy\", \"harder\", \"harder\", \"head\", \"head\", \"head\", \"head\", \"heart\", \"heart\", \"heart\", \"heart\", \"heaven\", \"heaven\", \"heaven\", \"heaven\", \"hell\", \"hell\", \"hell\", \"hell\", \"hey\", \"hey\", \"hey\", \"hey\", \"higher\", \"hold\", \"hold\", \"hold\", \"hold\", \"holdin\", \"holdin\", \"hole\", \"hole\", \"home\", \"home\", \"home\", \"home\", \"honestly\", \"honestly\", \"honestly\", \"honestly\", \"hope\", \"hope\", \"hope\", \"huh\", \"huh\", \"insane\", \"insane\", \"kid\", \"kid\", \"kid\", \"kinda\", \"kinda\", \"kinda\", \"knew\", \"knew\", \"knew\", \"knew\", \"know\", \"know\", \"know\", \"know\", \"lady\", \"laughing\", \"laughing\", \"left\", \"left\", \"left\", \"left\", \"let\", \"let\", \"let\", \"let\", \"life\", \"life\", \"life\", \"life\", \"lights\", \"lights\", \"lights\", \"like\", \"like\", \"like\", \"like\", \"little\", \"little\", \"little\", \"little\", \"live\", \"live\", \"live\", \"live\", \"lives\", \"lives\", \"locked\", \"locked\", \"look\", \"look\", \"look\", \"look\", \"love\", \"love\", \"love\", \"love\", \"loved\", \"loved\", \"lovin\", \"loving\", \"loving\", \"lucky\", \"lucky\", \"lucky\", \"magic\", \"magic\", \"magic\", \"make\", \"make\", \"make\", \"make\", \"man\", \"man\", \"man\", \"man\", \"maybe\", \"maybe\", \"maybe\", \"maybe\", \"means\", \"means\", \"memory\", \"memory\", \"mile\", \"mile\", \"mind\", \"mind\", \"mind\", \"mind\", \"minute\", \"minute\", \"minute\", \"money\", \"money\", \"money\", \"moonlight\", \"mountain\", \"mountain\", \"mountain\", \"movie\", \"movie\", \"need\", \"need\", \"need\", \"need\", \"new\", \"new\", \"new\", \"new\", \"night\", \"night\", \"night\", \"night\", \"numb\", \"numb\", \"numb\", \"numb\", \"okay\", \"okay\", \"okay\", \"older\", \"older\", \"ones\", \"ones\", \"ooh\", \"outside\", \"outside\", \"party\", \"party\", \"party\", \"people\", \"people\", \"people\", \"people\", \"perfect\", \"perfect\", \"perfect\", \"perfect\", \"piece\", \"piece\", \"piece\", \"piece\", \"playing\", \"playing\", \"pre\", \"pre\", \"pre\", \"pre\", \"pretty\", \"pretty\", \"pretty\", \"pretty\", \"problems\", \"quit\", \"raised\", \"ran\", \"ran\", \"rest\", \"rest\", \"rhythm\", \"rhythm\", \"rich\", \"ride\", \"ride\", \"ride\", \"right\", \"right\", \"right\", \"right\", \"run\", \"run\", \"run\", \"run\", \"said\", \"said\", \"said\", \"said\", \"saturday\", \"say\", \"say\", \"say\", \"say\", \"seat\", \"shoulder\", \"shoulder\", \"sick\", \"sick\", \"sick\", \"sick\", \"simple\", \"simple\", \"simple\", \"sing\", \"sing\", \"sing\", \"single\", \"single\", \"sit\", \"sit\", \"sit\", \"sittin\", \"sittin\", \"slip\", \"slip\", \"slowly\", \"slowly\", \"small\", \"small\", \"smoke\", \"smoke\", \"smoke\", \"somebody\", \"somebody\", \"somebody\", \"somethin\", \"somethin\", \"song\", \"song\", \"song\", \"song\", \"songs\", \"songs\", \"south\", \"south\", \"staring\", \"staring\", \"staring\", \"start\", \"start\", \"start\", \"start\", \"stay\", \"stay\", \"stay\", \"stay\", \"stick\", \"stick\", \"stop\", \"stop\", \"stop\", \"story\", \"story\", \"story\", \"sugar\", \"sugar\", \"sun\", \"sun\", \"sun\", \"sun\", \"sure\", \"sure\", \"sure\", \"sweet\", \"sweet\", \"sweet\", \"taking\", \"taking\", \"taking\", \"talkin\", \"talkin\", \"talkin\", \"tell\", \"tell\", \"tell\", \"tell\", \"thank\", \"thank\", \"think\", \"think\", \"think\", \"think\", \"thinkin\", \"time\", \"time\", \"time\", \"time\", \"told\", \"told\", \"told\", \"tonight\", \"tonight\", \"tonight\", \"tonight\", \"town\", \"town\", \"town\", \"trouble\", \"trouble\", \"trouble\", \"trouble\", \"truck\", \"truck\", \"truck\", \"truck\", \"tryna\", \"tryna\", \"tryna\", \"tryna\", \"wait\", \"wait\", \"wait\", \"wait\", \"walk\", \"walk\", \"walk\", \"walk\", \"walked\", \"walked\", \"wan\", \"wan\", \"wan\", \"wan\", \"want\", \"want\", \"want\", \"want\", \"warm\", \"warm\", \"warm\", \"watching\", \"way\", \"way\", \"way\", \"way\", \"whiskey\", \"whiskey\", \"whoa\", \"whoa\", \"whoa\", \"wild\", \"wind\", \"wind\", \"woah\", \"woman\", \"woman\", \"woo\", \"woo\", \"woo\", \"worry\", \"worry\", \"worry\", \"worst\", \"worst\", \"yeah\", \"yeah\", \"yeah\", \"yeah\", \"yesterday\", \"yesterday\", \"young\", \"young\", \"young\"]}, \"R\": 30, \"lambda.step\": 0.01, \"plot.opts\": {\"xlab\": \"PC1\", \"ylab\": \"PC2\"}, \"topic.order\": [4, 2, 1, 3]};\n",
       "\n",
       "function LDAvis_load_lib(url, callback){\n",
       "  var s = document.createElement('script');\n",
       "  s.src = url;\n",
       "  s.async = true;\n",
       "  s.onreadystatechange = s.onload = callback;\n",
       "  s.onerror = function(){console.warn(\"failed to load library \" + url);};\n",
       "  document.getElementsByTagName(\"head\")[0].appendChild(s);\n",
       "}\n",
       "\n",
       "if(typeof(LDAvis) !== \"undefined\"){\n",
       "   // already loaded: just create the visualization\n",
       "   !function(LDAvis){\n",
       "       new LDAvis(\"#\" + \"ldavis_el15621406011595677289696374200\", ldavis_el15621406011595677289696374200_data);\n",
       "   }(LDAvis);\n",
       "}else if(typeof define === \"function\" && define.amd){\n",
       "   // require.js is available: use it to load d3/LDAvis\n",
       "   require.config({paths: {d3: \"https://d3js.org/d3.v5\"}});\n",
       "   require([\"d3\"], function(d3){\n",
       "      window.d3 = d3;\n",
       "      LDAvis_load_lib(\"https://cdn.jsdelivr.net/gh/bmabey/pyLDAvis@3.3.1/pyLDAvis/js/ldavis.v3.0.0.js\", function(){\n",
       "        new LDAvis(\"#\" + \"ldavis_el15621406011595677289696374200\", ldavis_el15621406011595677289696374200_data);\n",
       "      });\n",
       "    });\n",
       "}else{\n",
       "    // require.js not available: dynamically load d3 & LDAvis\n",
       "    LDAvis_load_lib(\"https://d3js.org/d3.v5.js\", function(){\n",
       "         LDAvis_load_lib(\"https://cdn.jsdelivr.net/gh/bmabey/pyLDAvis@3.3.1/pyLDAvis/js/ldavis.v3.0.0.js\", function(){\n",
       "                 new LDAvis(\"#\" + \"ldavis_el15621406011595677289696374200\", ldavis_el15621406011595677289696374200_data);\n",
       "            })\n",
       "         });\n",
       "}\n",
       "</script>"
      ],
      "text/plain": [
       "PreparedData(topic_coordinates=                x           y  topics  cluster       Freq\n",
       "topic                                                    \n",
       "3      269.562408 -124.803398       1        1  32.670825\n",
       "1        1.782994 -295.079681       2        1  29.624978\n",
       "0      220.811432 -343.832123       3        1  24.337272\n",
       "2       50.533993  -76.050934       4        1  13.366926, topic_info=     Term         Freq        Total Category  logprob  loglift\n",
       "431   ooh   870.000000   870.000000  Default  30.0000  30.0000\n",
       "720  yeah  1205.000000  1205.000000  Default  29.0000  29.0000\n",
       "675   wan   625.000000   625.000000  Default  28.0000  28.0000\n",
       "274   hey   360.000000   360.000000  Default  27.0000  27.0000\n",
       "363  love  1097.000000  1097.000000  Default  26.0000  26.0000\n",
       "..    ...          ...          ...      ...      ...      ...\n",
       "632  time    75.207469   710.640772   Topic4  -4.6621  -0.2335\n",
       "337  like    91.484746  1474.182883   Topic4  -4.4662  -0.7673\n",
       "21   baby    64.678265   621.254374   Topic4  -4.8129  -0.2499\n",
       "375  make    55.875212   436.769311   Topic4  -4.9592  -0.0439\n",
       "507   say    52.147334   620.564072   Topic4  -5.0283  -0.4642\n",
       "\n",
       "[290 rows x 6 columns], token_table=      Topic      Freq       Term\n",
       "term                            \n",
       "0         2  0.066598        act\n",
       "0         3  0.932365        act\n",
       "1         1  0.130520     afraid\n",
       "1         2  0.313248     afraid\n",
       "1         4  0.548185     afraid\n",
       "...     ...       ...        ...\n",
       "724       2  0.839880  yesterday\n",
       "724       3  0.083988  yesterday\n",
       "725       2  0.016761      young\n",
       "725       3  0.005587      young\n",
       "725       4  0.972160      young\n",
       "\n",
       "[602 rows x 3 columns], R=30, lambda_step=0.01, plot_opts={'xlab': 'PC1', 'ylab': 'PC2'}, topic_order=[4, 2, 1, 3])"
      ]
     },
     "execution_count": 17,
     "metadata": {},
     "output_type": "execute_result"
    }
   ],
   "source": [
    "pyLDAvis.enable_notebook()\n",
    "panel = pyLDAvis.sklearn.prepare(best_lda_model, data_vectorized, vectorizer, mds='tsne')\n",
    "panel"
   ]
  },
  {
   "cell_type": "code",
   "execution_count": 18,
   "metadata": {
    "colab": {
     "base_uri": "https://localhost:8080/",
     "height": 172
    },
    "colab_type": "code",
    "id": "XWRoxxJJRhZn",
    "outputId": "744aa54e-f661-4e1d-e28b-348807419210"
   },
   "outputs": [
    {
     "data": {
      "text/html": [
       "<div>\n",
       "<style scoped>\n",
       "    .dataframe tbody tr th:only-of-type {\n",
       "        vertical-align: middle;\n",
       "    }\n",
       "\n",
       "    .dataframe tbody tr th {\n",
       "        vertical-align: top;\n",
       "    }\n",
       "\n",
       "    .dataframe thead th {\n",
       "        text-align: right;\n",
       "    }\n",
       "</style>\n",
       "<table border=\"1\" class=\"dataframe\">\n",
       "  <thead>\n",
       "    <tr style=\"text-align: right;\">\n",
       "      <th></th>\n",
       "      <th>Word 0</th>\n",
       "      <th>Word 1</th>\n",
       "      <th>Word 2</th>\n",
       "      <th>Word 3</th>\n",
       "      <th>Word 4</th>\n",
       "      <th>Word 5</th>\n",
       "      <th>Word 6</th>\n",
       "      <th>Word 7</th>\n",
       "      <th>Word 8</th>\n",
       "      <th>Word 9</th>\n",
       "      <th>...</th>\n",
       "      <th>Word 20</th>\n",
       "      <th>Word 21</th>\n",
       "      <th>Word 22</th>\n",
       "      <th>Word 23</th>\n",
       "      <th>Word 24</th>\n",
       "      <th>Word 25</th>\n",
       "      <th>Word 26</th>\n",
       "      <th>Word 27</th>\n",
       "      <th>Word 28</th>\n",
       "      <th>Word 29</th>\n",
       "    </tr>\n",
       "  </thead>\n",
       "  <tbody>\n",
       "    <tr>\n",
       "      <th>Topic 0</th>\n",
       "      <td>love</td>\n",
       "      <td>wan</td>\n",
       "      <td>like</td>\n",
       "      <td>know</td>\n",
       "      <td>let</td>\n",
       "      <td>baby</td>\n",
       "      <td>time</td>\n",
       "      <td>chorus</td>\n",
       "      <td>make</td>\n",
       "      <td>cause</td>\n",
       "      <td>...</td>\n",
       "      <td>bridge</td>\n",
       "      <td>tonight</td>\n",
       "      <td>hold</td>\n",
       "      <td>hope</td>\n",
       "      <td>bad</td>\n",
       "      <td>need</td>\n",
       "      <td>heart</td>\n",
       "      <td>maybe</td>\n",
       "      <td>little</td>\n",
       "      <td>walk</td>\n",
       "    </tr>\n",
       "    <tr>\n",
       "      <th>Topic 1</th>\n",
       "      <td>know</td>\n",
       "      <td>got</td>\n",
       "      <td>cause</td>\n",
       "      <td>like</td>\n",
       "      <td>chorus</td>\n",
       "      <td>tell</td>\n",
       "      <td>away</td>\n",
       "      <td>feel</td>\n",
       "      <td>come</td>\n",
       "      <td>way</td>\n",
       "      <td>...</td>\n",
       "      <td>bridge</td>\n",
       "      <td>told</td>\n",
       "      <td>love</td>\n",
       "      <td>days</td>\n",
       "      <td>left</td>\n",
       "      <td>rich</td>\n",
       "      <td>baby</td>\n",
       "      <td>gon</td>\n",
       "      <td>run</td>\n",
       "      <td>man</td>\n",
       "    </tr>\n",
       "    <tr>\n",
       "      <th>Topic 2</th>\n",
       "      <td>ooh</td>\n",
       "      <td>yeah</td>\n",
       "      <td>hey</td>\n",
       "      <td>come</td>\n",
       "      <td>young</td>\n",
       "      <td>got</td>\n",
       "      <td>know</td>\n",
       "      <td>chorus</td>\n",
       "      <td>gon</td>\n",
       "      <td>night</td>\n",
       "      <td>...</td>\n",
       "      <td>sun</td>\n",
       "      <td>little</td>\n",
       "      <td>baby</td>\n",
       "      <td>girls</td>\n",
       "      <td>eyes</td>\n",
       "      <td>ride</td>\n",
       "      <td>make</td>\n",
       "      <td>best</td>\n",
       "      <td>say</td>\n",
       "      <td>black</td>\n",
       "    </tr>\n",
       "    <tr>\n",
       "      <th>Topic 3</th>\n",
       "      <td>like</td>\n",
       "      <td>yeah</td>\n",
       "      <td>got</td>\n",
       "      <td>want</td>\n",
       "      <td>way</td>\n",
       "      <td>little</td>\n",
       "      <td>let</td>\n",
       "      <td>need</td>\n",
       "      <td>love</td>\n",
       "      <td>say</td>\n",
       "      <td>...</td>\n",
       "      <td>gon</td>\n",
       "      <td>town</td>\n",
       "      <td>girl</td>\n",
       "      <td>home</td>\n",
       "      <td>mind</td>\n",
       "      <td>song</td>\n",
       "      <td>think</td>\n",
       "      <td>dance</td>\n",
       "      <td>bridge</td>\n",
       "      <td>pre</td>\n",
       "    </tr>\n",
       "  </tbody>\n",
       "</table>\n",
       "<p>4 rows × 30 columns</p>\n",
       "</div>"
      ],
      "text/plain": [
       "        Word 0 Word 1 Word 2 Word 3  Word 4  Word 5 Word 6  Word 7 Word 8  \\\n",
       "Topic 0   love    wan   like   know     let    baby   time  chorus   make   \n",
       "Topic 1   know    got  cause   like  chorus    tell   away    feel   come   \n",
       "Topic 2    ooh   yeah    hey   come   young     got   know  chorus    gon   \n",
       "Topic 3   like   yeah    got   want     way  little    let    need   love   \n",
       "\n",
       "        Word 9  ... Word 20  Word 21 Word 22 Word 23 Word 24 Word 25 Word 26  \\\n",
       "Topic 0  cause  ...  bridge  tonight    hold    hope     bad    need   heart   \n",
       "Topic 1    way  ...  bridge     told    love    days    left    rich    baby   \n",
       "Topic 2  night  ...     sun   little    baby   girls    eyes    ride    make   \n",
       "Topic 3    say  ...     gon     town    girl    home    mind    song   think   \n",
       "\n",
       "        Word 27 Word 28 Word 29  \n",
       "Topic 0   maybe  little    walk  \n",
       "Topic 1     gon     run     man  \n",
       "Topic 2    best     say   black  \n",
       "Topic 3   dance  bridge     pre  \n",
       "\n",
       "[4 rows x 30 columns]"
      ]
     },
     "execution_count": 18,
     "metadata": {},
     "output_type": "execute_result"
    }
   ],
   "source": [
    "# Show top n keywords for each topic\n",
    "def show_topics(vectorizer=vectorizer, lda_model=lda_model, n_words=20):\n",
    "    keywords = np.array(vectorizer.get_feature_names())\n",
    "    topic_keywords = []\n",
    "    for topic_weights in lda_model.components_:\n",
    "        top_keyword_locs = (-topic_weights).argsort()[:n_words]\n",
    "        topic_keywords.append(keywords.take(top_keyword_locs))\n",
    "    return topic_keywords\n",
    "\n",
    "topic_keywords = show_topics(vectorizer=vectorizer, lda_model=best_lda_model, n_words=30)        \n",
    "\n",
    "# Topic - Keywords Dataframe\n",
    "df_topic_keywords = pd.DataFrame(topic_keywords)\n",
    "df_topic_keywords.columns = ['Word '+str(i) for i in range(df_topic_keywords.shape[1])]\n",
    "df_topic_keywords.index = ['Topic '+str(i) for i in range(df_topic_keywords.shape[0])]\n",
    "df_topic_keywords"
   ]
  },
  {
   "cell_type": "code",
   "execution_count": 19,
   "metadata": {
    "colab": {},
    "colab_type": "code",
    "id": "8RsCJ9ypRkHb"
   },
   "outputs": [
    {
     "name": "stdout",
     "output_type": "stream",
     "text": [
      "Component's weights: \n",
      " [[ 0.37  0.62  0.14  0.67]\n",
      " [ 0.07  0.7   0.07 -0.7 ]]\n",
      "Perc of Variance Explained: \n",
      " [0.05 0.43]\n"
     ]
    }
   ],
   "source": [
    "# # Construct the k-means clusters\n",
    "from sklearn.cluster import KMeans\n",
    "clusters = KMeans(n_clusters=15, random_state=100).fit_predict(lda_output)\n",
    "\n",
    "# # Build the Singular Value Decomposition(SVD) model\n",
    "svd_model = TruncatedSVD(n_components=2)  # 2 components\n",
    "lda_output_svd = svd_model.fit_transform(lda_output)\n",
    "\n",
    "# # X and Y axes of the plot using SVD decomposition\n",
    "x = lda_output_svd[:, 0]\n",
    "y = lda_output_svd[:, 1]\n",
    "\n",
    "# # Weights for the 15 columns of lda_output, for each component\n",
    "print(\"Component's weights: \\n\", np.round(svd_model.components_, 2))\n",
    "\n",
    "# # Percentage of total information in 'lda_output' explained by the two components\n",
    "print(\"Perc of Variance Explained: \\n\", np.round(svd_model.explained_variance_ratio_, 2))"
   ]
  },
  {
   "cell_type": "code",
   "execution_count": 20,
   "metadata": {
    "colab": {},
    "colab_type": "code",
    "id": "aFlB0lKkTfiP"
   },
   "outputs": [
    {
     "data": {
      "text/plain": [
       "Text(0.5, 1.0, 'Segregation of Topic Clusters')"
      ]
     },
     "execution_count": 20,
     "metadata": {},
     "output_type": "execute_result"
    },
    {
     "data": {
      "image/png": "[encoded data removed]",
      "text/plain": [
       "<Figure size 432x432 with 1 Axes>"
      ]
     },
     "metadata": {
      "needs_background": "light"
     },
     "output_type": "display_data"
    }
   ],
   "source": [
    "# # Plot\n",
    "plt.figure(figsize=(6, 6))\n",
    "plt.scatter(x, y, c=clusters)\n",
    "plt.xlabel('Component 2')\n",
    "plt.xlabel('Component 1')\n",
    "plt.title(\"Segregation of Topic Clusters\", )\n",
    "#plt.legend(loc=\"upper left\")"
   ]
  },
  {
   "cell_type": "code",
   "execution_count": 21,
   "metadata": {
    "colab": {
     "base_uri": "https://localhost:8080/",
     "height": 463
    },
    "colab_type": "code",
    "id": "yc1loEFwnWAq",
    "outputId": "ec036034-672f-4458-a233-79ba3bff5635"
   },
   "outputs": [],
   "source": [
    "df_post_topic = pd.concat([df,df_document_topic.reset_index(drop = True)], axis = 1)\n",
    "#df_post_topic.head()"
   ]
  },
  {
   "cell_type": "markdown",
   "metadata": {
    "colab_type": "text",
    "id": "stiU9Ep3pBcq"
   },
   "source": [
    "## Sentiment Analysis"
   ]
  },
  {
   "cell_type": "code",
   "execution_count": 22,
   "metadata": {
    "colab": {
     "base_uri": "https://localhost:8080/",
     "height": 127
    },
    "colab_type": "code",
    "id": "xg2xhQNmpD-O",
    "outputId": "d7a3f76d-108e-4359-cc27-22221e6aa797"
   },
   "outputs": [],
   "source": [
    "#!pip install vaderSentiment"
   ]
  },
  {
   "cell_type": "code",
   "execution_count": 23,
   "metadata": {
    "colab": {},
    "colab_type": "code",
    "id": "f9fNZYK0pcJ3"
   },
   "outputs": [],
   "source": [
    "from vaderSentiment.vaderSentiment import SentimentIntensityAnalyzer\n",
    "analyser = SentimentIntensityAnalyzer()"
   ]
  },
  {
   "cell_type": "code",
   "execution_count": 24,
   "metadata": {
    "colab": {},
    "colab_type": "code",
    "id": "YuMtCw0Wpgzh"
   },
   "outputs": [],
   "source": [
    "def sentiment_analyzer_scores(sentence):\n",
    "    score = analyser.polarity_scores(sentence)\n",
    "    return score['compound']"
   ]
  },
  {
   "cell_type": "code",
   "execution_count": 25,
   "metadata": {
    "colab": {},
    "colab_type": "code",
    "id": "J1gFexpWp29E"
   },
   "outputs": [],
   "source": [
    "df_post_topic.loc[:,'sentiment'] = df_post_topic.loc[:,'filtered_lyrics'].map(lambda x:sentiment_analyzer_scores(x))"
   ]
  },
  {
   "cell_type": "code",
   "execution_count": 26,
   "metadata": {
    "colab": {
     "base_uri": "https://localhost:8080/",
     "height": 463
    },
    "colab_type": "code",
    "id": "YWFyQW8xiYDj",
    "outputId": "ce411e6b-8dd7-4890-a813-c01b288c508f",
    "scrolled": true
   },
   "outputs": [
    {
     "data": {
      "text/plain": [
       "Index(['Unnamed: 0', 'Unnamed: 0.1', 'id', 'title', 'first_artist',\n",
       "       'all_artists', 'danceability', 'energy', 'key', 'loudness', 'mode',\n",
       "       'acousticness', 'instrumentalness', 'liveness', 'valence', 'tempo',\n",
       "       'duration_ms', 'time_signature', 'artist', 'song', 'lyrics',\n",
       "       'lyrics_cleaned', 'filtered_lyrics', 'Topic0', 'Topic1', 'Topic2',\n",
       "       'Topic3', 'dominant_topic', 'sentiment'],\n",
       "      dtype='object')"
      ]
     },
     "execution_count": 26,
     "metadata": {},
     "output_type": "execute_result"
    }
   ],
   "source": [
    "df_post_topic.columns"
   ]
  },
  {
   "cell_type": "code",
   "execution_count": 27,
   "metadata": {
    "colab": {},
    "colab_type": "code",
    "id": "9SDbLwf0kzV6"
   },
   "outputs": [],
   "source": [
    "#df_post_topic = df.copy()\n",
    "#df_post_topic['dominant_topic'] = dominant_topic"
   ]
  },
  {
   "cell_type": "code",
   "execution_count": 28,
   "metadata": {
    "colab": {
     "base_uri": "https://localhost:8080/",
     "height": 513
    },
    "colab_type": "code",
    "id": "nP-BEYaNhprW",
    "outputId": "b748269d-bd2f-486c-80f8-ce12f9b654fa"
   },
   "outputs": [
    {
     "data": {
      "image/png": "[encoded data removed]",
      "text/plain": [
       "<Figure size 720x576 with 1 Axes>"
      ]
     },
     "metadata": {
      "needs_background": "light"
     },
     "output_type": "display_data"
    }
   ],
   "source": [
    "import numpy as np\n",
    "plt.figure(figsize=(10,8))\n",
    "df_post_topic.groupby('dominant_topic')['sentiment'].median().plot(kind='barh', color=(df_post_topic.groupby('dominant_topic')['sentiment'].mean() > 0).map({True: 'g',False: 'r'}));\n",
    "plt.xlabel('Sentiment Score');\n",
    "plt.ylabel('');\n",
    "plt.title('Sentiments in Topics');\n",
    "#plt.yticks(np.arange(4), ('Explicit','Love/Emotional','Reflective/Upbeat','Breakfree/Celebrating Yourself'));"
   ]
  },
  {
   "cell_type": "code",
   "execution_count": 29,
   "metadata": {
    "colab": {},
    "colab_type": "code",
    "id": "l3g8n3pmqDv8"
   },
   "outputs": [],
   "source": [
    "df_post_topic.to_csv('data_with_topic_and_sentiment.csv', index = False)"
   ]
  },
  {
   "cell_type": "code",
   "execution_count": 30,
   "metadata": {
    "colab": {},
    "colab_type": "code",
    "id": "i4icC3dxTdlt"
   },
   "outputs": [],
   "source": [
    "import pandas as pd\n",
    "df = pd.read_csv('data_with_topic_and_sentiment.csv')"
   ]
  },
  {
   "cell_type": "code",
   "execution_count": 31,
   "metadata": {
    "colab": {
     "base_uri": "https://localhost:8080/",
     "height": 716
    },
    "colab_type": "code",
    "id": "2Y-fN8gjUgSf",
    "outputId": "ea7fa7a6-33c3-4bdb-fb29-d3181098bb24"
   },
   "outputs": [
    {
     "data": {
      "image/png": "[encoded data removed]",
      "text/plain": [
       "<Figure size 576x864 with 1 Axes>"
      ]
     },
     "metadata": {
      "needs_background": "light"
     },
     "output_type": "display_data"
    }
   ],
   "source": [
    "import seaborn as sns; \n",
    "plt.figure(figsize=(8,12))\n",
    "plt.title(\"Top Artists\")\n",
    "ax = sns.barplot(y=df['first_artist'].value_counts()[:20].index, x=df['first_artist'].value_counts()[:20].values, palette=\"Blues_d\", orient='h')"
   ]
  },
  {
   "cell_type": "code",
   "execution_count": 32,
   "metadata": {
    "colab": {
     "base_uri": "https://localhost:8080/",
     "height": 215
    },
    "colab_type": "code",
    "id": "0z25nIfJOIHC",
    "outputId": "3882e9ce-92f7-48ad-ae3b-03cf8e6455d7",
    "scrolled": true
   },
   "outputs": [
    {
     "data": {
      "text/plain": [
       "0     n't\n",
       "1    like\n",
       "2    know\n",
       "3     're\n",
       "4     got\n",
       "5    yeah\n",
       "6    love\n",
       "7     'll\n",
       "8     get\n",
       "9    time\n",
       "Name: Word, dtype: object"
      ]
     },
     "execution_count": 32,
     "metadata": {},
     "output_type": "execute_result"
    }
   ],
   "source": [
    "# word cloud\n",
    "from nltk.util import ngrams\n",
    "from collections import Counter\n",
    "\n",
    "unigram = Counter(ngrams(all_words, 1))\n",
    "output = pd.DataFrame.from_dict(unigram, orient='index').reset_index()\n",
    "\n",
    "output.columns = ['Word', 'Count']\n",
    "output = output.sort_values(by = ['Count'], ascending = False)\n",
    "for each in range(len(output)):\n",
    "    output.loc[each,'Word'] = str(output.loc[each,'Word'])[2:-3]\n",
    "output.reset_index(inplace = True)\n",
    "output = output.drop('index', axis = 1)\n",
    "output.to_csv('ngram.csv')\n",
    "output['Word'][:10]"
   ]
  },
  {
   "cell_type": "code",
   "execution_count": 33,
   "metadata": {},
   "outputs": [
    {
     "data": {
      "text/plain": [
       "Index(['Unnamed: 0', 'Unnamed: 0.1', 'id', 'title', 'first_artist',\n",
       "       'all_artists', 'danceability', 'energy', 'key', 'loudness', 'mode',\n",
       "       'acousticness', 'instrumentalness', 'liveness', 'valence', 'tempo',\n",
       "       'duration_ms', 'time_signature', 'artist', 'song', 'lyrics',\n",
       "       'lyrics_cleaned', 'filtered_lyrics', 'Topic0', 'Topic1', 'Topic2',\n",
       "       'Topic3', 'dominant_topic', 'sentiment'],\n",
       "      dtype='object')"
      ]
     },
     "execution_count": 33,
     "metadata": {},
     "output_type": "execute_result"
    }
   ],
   "source": [
    "df.columns"
   ]
  },
  {
   "cell_type": "markdown",
   "metadata": {
    "colab_type": "text",
    "id": "sAUDmoXJMtBQ"
   },
   "source": [
    "## TF-IDF"
   ]
  },
  {
   "cell_type": "code",
   "execution_count": 34,
   "metadata": {
    "colab": {},
    "colab_type": "code",
    "id": "1Vbd38yg_juw"
   },
   "outputs": [
    {
     "data": {
      "text/plain": [
       "Index(['Unnamed: 0', 'Unnamed: 0.1', 'id', 'title', 'first_artist',\n",
       "       'all_artists', 'danceability', 'energy', 'key', 'loudness', 'mode',\n",
       "       'acousticness', 'instrumentalness', 'liveness', 'valence', 'tempo',\n",
       "       'duration_ms', 'time_signature', 'artist', 'song', 'lyrics',\n",
       "       'lyrics_cleaned', 'filtered_lyrics', 'Topic0', 'Topic1', 'Topic2',\n",
       "       'Topic3', 'dominant_topic', 'sentiment'],\n",
       "      dtype='object')"
      ]
     },
     "execution_count": 34,
     "metadata": {},
     "output_type": "execute_result"
    }
   ],
   "source": [
    "df_post_topic = df.copy()\n",
    "df_post_topic.columns"
   ]
  },
  {
   "cell_type": "code",
   "execution_count": 35,
   "metadata": {
    "colab": {
     "base_uri": "https://localhost:8080/",
     "height": 89
    },
    "colab_type": "code",
    "id": "hLHml9zL7gi6",
    "outputId": "ddf46e80-ef18-420b-ab20-d3611d3c1f1e"
   },
   "outputs": [
    {
     "name": "stderr",
     "output_type": "stream",
     "text": [
      "[nltk_data] Downloading package punkt to\n",
      "[nltk_data]     /Users/caseyscomputer/nltk_data...\n",
      "[nltk_data]   Package punkt is already up-to-date!\n",
      "[nltk_data] Downloading package wordnet to\n",
      "[nltk_data]     /Users/caseyscomputer/nltk_data...\n",
      "[nltk_data]   Package wordnet is already up-to-date!\n"
     ]
    }
   ],
   "source": [
    "from sklearn.feature_extraction.text import TfidfTransformer\n",
    "from sklearn.feature_extraction.text import CountVectorizer\n",
    "from nltk import word_tokenize\n",
    "from nltk.stem import WordNetLemmatizer\n",
    "import nltk\n",
    "nltk.download('punkt')\n",
    "nltk.download('wordnet')\n",
    "\n",
    "class LemmaTokenizer(object):\n",
    "    def __init__(self):\n",
    "        self.wnl = WordNetLemmatizer()\n",
    "    def __call__(self, doc):\n",
    "        return [self.wnl.lemmatize(t) for t in word_tokenize(doc)]"
   ]
  },
  {
   "cell_type": "code",
   "execution_count": null,
   "metadata": {},
   "outputs": [],
   "source": []
  },
  {
   "cell_type": "code",
   "execution_count": 36,
   "metadata": {
    "colab": {
     "base_uri": "https://localhost:8080/",
     "height": 73
    },
    "colab_type": "code",
    "id": "FQQrXoLO7s27",
    "outputId": "ca1b693a-34a6-4d90-fceb-ae535cede8f5"
   },
   "outputs": [],
   "source": [
    "cv=CountVectorizer(tokenizer=LemmaTokenizer(), ngram_range=(1,2), stop_words='english', max_features=1250)\n",
    "word_count_vector=cv.fit_transform(df_post_topic.filtered_lyrics.values)\n",
    "tfidf_transformer=TfidfTransformer(smooth_idf=True,use_idf=True)\n",
    "tfidf_transformer.fit(word_count_vector)\n",
    "# tf-idf scores\n",
    "tf_idf_vector=tfidf_transformer.transform(word_count_vector)\n"
   ]
  },
  {
   "cell_type": "markdown",
   "metadata": {},
   "source": [
    "# Recommender - based on lyrics\n"
   ]
  },
  {
   "cell_type": "code",
   "execution_count": 37,
   "metadata": {
    "colab": {
     "base_uri": "https://localhost:8080/",
     "height": 197
    },
    "colab_type": "code",
    "id": "do-9VLl78O3n",
    "outputId": "630d6966-dc41-46bd-a897-ab8cb8edbebd"
   },
   "outputs": [
    {
     "name": "stdout",
     "output_type": "stream",
     "text": [
      "Song I want recommendations for:\n",
      "10    Fancy Like\n",
      "Name: title, dtype: object\n",
      " \n",
      " \n",
      "Recommendations:\n",
      " \n",
      "         title  first_artist\n",
      "10  Fancy Like  Walker Hayes\n",
      "           title first_artist\n",
      "534  Sunday Best     Surfaces\n",
      "        title first_artist\n",
      "13  New Truck  Dylan Scott\n",
      "                    title first_artist\n",
      "94  Body Like A Back Road     Sam Hunt\n",
      "         title       first_artist\n",
      "31  San Antone  Randy Rogers Band\n"
     ]
    }
   ],
   "source": [
    "#based on TF-IDF user inputs a song and we give them recommendations\n",
    "from sklearn.metrics.pairwise import linear_kernel\n",
    "\n",
    "#index = the songs index\n",
    "#make more user friendly\n",
    "index=10\n",
    "cosine_similarities = linear_kernel(tf_idf_vector[index:index+1], tf_idf_vector).flatten()\n",
    "related_song_indices = cosine_similarities.argsort()[:-6:-1]\n",
    "recom=list(related_song_indices)\n",
    "\n",
    "print('Song I want recommendations for:')\n",
    "print(df_post_topic['title'][index:index+1])\n",
    "print(' ')\n",
    "print(' ')\n",
    "print('Recommendations:')\n",
    "print(' ')\n",
    "for i in recom:\n",
    "  print(df_post_topic.iloc[[i]][['title', 'first_artist']] )\n"
   ]
  },
  {
   "cell_type": "markdown",
   "metadata": {},
   "source": [
    "# Feature Importance"
   ]
  },
  {
   "cell_type": "code",
   "execution_count": 38,
   "metadata": {},
   "outputs": [],
   "source": [
    "new_df = df.copy()\n",
    "new_df[:3]\n",
    "new_df.drop(columns=['song','artist','Unnamed: 0','id','title','first_artist','all_artists','lyrics','time_signature','lyrics_cleaned','filtered_lyrics'], inplace = True)"
   ]
  },
  {
   "cell_type": "code",
   "execution_count": 39,
   "metadata": {},
   "outputs": [
    {
     "data": {
      "text/plain": [
       "Index(['Unnamed: 0.1', 'danceability', 'energy', 'key', 'loudness', 'mode',\n",
       "       'acousticness', 'instrumentalness', 'liveness', 'valence', 'tempo',\n",
       "       'duration_ms', 'Topic0', 'Topic1', 'Topic2', 'Topic3', 'dominant_topic',\n",
       "       'sentiment'],\n",
       "      dtype='object')"
      ]
     },
     "execution_count": 39,
     "metadata": {},
     "output_type": "execute_result"
    }
   ],
   "source": [
    "new_df.columns"
   ]
  },
  {
   "cell_type": "code",
   "execution_count": 40,
   "metadata": {
    "scrolled": true
   },
   "outputs": [
    {
     "data": {
      "text/html": [
       "<div>\n",
       "<style scoped>\n",
       "    .dataframe tbody tr th:only-of-type {\n",
       "        vertical-align: middle;\n",
       "    }\n",
       "\n",
       "    .dataframe tbody tr th {\n",
       "        vertical-align: top;\n",
       "    }\n",
       "\n",
       "    .dataframe thead th {\n",
       "        text-align: right;\n",
       "    }\n",
       "</style>\n",
       "<table border=\"1\" class=\"dataframe\">\n",
       "  <thead>\n",
       "    <tr style=\"text-align: right;\">\n",
       "      <th></th>\n",
       "      <th>Unnamed: 0.1</th>\n",
       "      <th>danceability</th>\n",
       "      <th>energy</th>\n",
       "      <th>key</th>\n",
       "      <th>loudness</th>\n",
       "      <th>mode</th>\n",
       "      <th>acousticness</th>\n",
       "      <th>instrumentalness</th>\n",
       "      <th>liveness</th>\n",
       "      <th>valence</th>\n",
       "      <th>...</th>\n",
       "      <th>duration_ms</th>\n",
       "      <th>Topic0</th>\n",
       "      <th>Topic1</th>\n",
       "      <th>Topic2</th>\n",
       "      <th>Topic3</th>\n",
       "      <th>dominant_topic</th>\n",
       "      <th>sentiment</th>\n",
       "      <th>sentiment_positive</th>\n",
       "      <th>sentiment_negative</th>\n",
       "      <th>sentiment_neutral</th>\n",
       "    </tr>\n",
       "  </thead>\n",
       "  <tbody>\n",
       "    <tr>\n",
       "      <th>0</th>\n",
       "      <td>0</td>\n",
       "      <td>-0.691149</td>\n",
       "      <td>0.815</td>\n",
       "      <td>1</td>\n",
       "      <td>-4.865</td>\n",
       "      <td>1</td>\n",
       "      <td>0.05130</td>\n",
       "      <td>0.0</td>\n",
       "      <td>0.106</td>\n",
       "      <td>0.460</td>\n",
       "      <td>...</td>\n",
       "      <td>3.736883</td>\n",
       "      <td>0.68</td>\n",
       "      <td>0.12</td>\n",
       "      <td>0.00</td>\n",
       "      <td>0.20</td>\n",
       "      <td>0</td>\n",
       "      <td>0.9956</td>\n",
       "      <td>1</td>\n",
       "      <td>0</td>\n",
       "      <td>-2</td>\n",
       "    </tr>\n",
       "    <tr>\n",
       "      <th>1</th>\n",
       "      <td>4</td>\n",
       "      <td>-0.614336</td>\n",
       "      <td>0.903</td>\n",
       "      <td>11</td>\n",
       "      <td>-4.746</td>\n",
       "      <td>1</td>\n",
       "      <td>0.00546</td>\n",
       "      <td>0.0</td>\n",
       "      <td>0.205</td>\n",
       "      <td>0.767</td>\n",
       "      <td>...</td>\n",
       "      <td>2.978000</td>\n",
       "      <td>0.00</td>\n",
       "      <td>0.68</td>\n",
       "      <td>0.31</td>\n",
       "      <td>0.00</td>\n",
       "      <td>1</td>\n",
       "      <td>0.8958</td>\n",
       "      <td>1</td>\n",
       "      <td>0</td>\n",
       "      <td>-2</td>\n",
       "    </tr>\n",
       "    <tr>\n",
       "      <th>2</th>\n",
       "      <td>7</td>\n",
       "      <td>-0.634878</td>\n",
       "      <td>0.524</td>\n",
       "      <td>4</td>\n",
       "      <td>-5.751</td>\n",
       "      <td>1</td>\n",
       "      <td>0.54400</td>\n",
       "      <td>0.0</td>\n",
       "      <td>0.110</td>\n",
       "      <td>0.514</td>\n",
       "      <td>...</td>\n",
       "      <td>2.986900</td>\n",
       "      <td>0.09</td>\n",
       "      <td>0.16</td>\n",
       "      <td>0.00</td>\n",
       "      <td>0.75</td>\n",
       "      <td>3</td>\n",
       "      <td>-0.8625</td>\n",
       "      <td>0</td>\n",
       "      <td>1</td>\n",
       "      <td>-2</td>\n",
       "    </tr>\n",
       "    <tr>\n",
       "      <th>3</th>\n",
       "      <td>8</td>\n",
       "      <td>-0.543005</td>\n",
       "      <td>0.860</td>\n",
       "      <td>7</td>\n",
       "      <td>-4.092</td>\n",
       "      <td>1</td>\n",
       "      <td>0.04800</td>\n",
       "      <td>0.0</td>\n",
       "      <td>0.169</td>\n",
       "      <td>0.790</td>\n",
       "      <td>...</td>\n",
       "      <td>3.508000</td>\n",
       "      <td>0.00</td>\n",
       "      <td>0.33</td>\n",
       "      <td>0.08</td>\n",
       "      <td>0.58</td>\n",
       "      <td>3</td>\n",
       "      <td>0.9971</td>\n",
       "      <td>1</td>\n",
       "      <td>0</td>\n",
       "      <td>-2</td>\n",
       "    </tr>\n",
       "    <tr>\n",
       "      <th>4</th>\n",
       "      <td>9</td>\n",
       "      <td>-0.484508</td>\n",
       "      <td>0.657</td>\n",
       "      <td>2</td>\n",
       "      <td>-6.288</td>\n",
       "      <td>1</td>\n",
       "      <td>0.00258</td>\n",
       "      <td>0.0</td>\n",
       "      <td>0.101</td>\n",
       "      <td>0.476</td>\n",
       "      <td>...</td>\n",
       "      <td>3.539717</td>\n",
       "      <td>0.38</td>\n",
       "      <td>0.00</td>\n",
       "      <td>0.00</td>\n",
       "      <td>0.62</td>\n",
       "      <td>3</td>\n",
       "      <td>0.9377</td>\n",
       "      <td>1</td>\n",
       "      <td>0</td>\n",
       "      <td>-2</td>\n",
       "    </tr>\n",
       "  </tbody>\n",
       "</table>\n",
       "<p>5 rows × 21 columns</p>\n",
       "</div>"
      ],
      "text/plain": [
       "   Unnamed: 0.1  danceability  energy  key  loudness  mode  acousticness  \\\n",
       "0             0     -0.691149   0.815    1    -4.865     1       0.05130   \n",
       "1             4     -0.614336   0.903   11    -4.746     1       0.00546   \n",
       "2             7     -0.634878   0.524    4    -5.751     1       0.54400   \n",
       "3             8     -0.543005   0.860    7    -4.092     1       0.04800   \n",
       "4             9     -0.484508   0.657    2    -6.288     1       0.00258   \n",
       "\n",
       "   instrumentalness  liveness  valence  ...  duration_ms  Topic0  Topic1  \\\n",
       "0               0.0     0.106    0.460  ...     3.736883    0.68    0.12   \n",
       "1               0.0     0.205    0.767  ...     2.978000    0.00    0.68   \n",
       "2               0.0     0.110    0.514  ...     2.986900    0.09    0.16   \n",
       "3               0.0     0.169    0.790  ...     3.508000    0.00    0.33   \n",
       "4               0.0     0.101    0.476  ...     3.539717    0.38    0.00   \n",
       "\n",
       "   Topic2  Topic3  dominant_topic  sentiment  sentiment_positive  \\\n",
       "0    0.00    0.20               0     0.9956                   1   \n",
       "1    0.31    0.00               1     0.8958                   1   \n",
       "2    0.00    0.75               3    -0.8625                   0   \n",
       "3    0.08    0.58               3     0.9971                   1   \n",
       "4    0.00    0.62               3     0.9377                   1   \n",
       "\n",
       "   sentiment_negative  sentiment_neutral  \n",
       "0                   0                 -2  \n",
       "1                   0                 -2  \n",
       "2                   1                 -2  \n",
       "3                   0                 -2  \n",
       "4                   0                 -2  \n",
       "\n",
       "[5 rows x 21 columns]"
      ]
     },
     "execution_count": 40,
     "metadata": {},
     "output_type": "execute_result"
    }
   ],
   "source": [
    "new_df['danceability'] = np.log(new_df['danceability'])\n",
    "new_df['duration_ms'] = new_df['duration_ms']/60000\n",
    "new_df['sentiment_positive'] = (new_df['sentiment']>0.7).astype(int)\n",
    "new_df['sentiment_negative'] = (new_df['sentiment']<-0.7).astype(int)\n",
    "new_df['sentiment_neutral'] = (~(new_df['sentiment_positive'] | new_df['sentiment_negative'])).astype(int)\n",
    "new_df = new_df[~new_df.isin([np.nan, np.inf, -np.inf]).any(1)]\n",
    "new_df.head()"
   ]
  },
  {
   "cell_type": "markdown",
   "metadata": {},
   "source": [
    "## can change y variable depending on which attribute you want to predict feature importance"
   ]
  },
  {
   "cell_type": "code",
   "execution_count": 56,
   "metadata": {},
   "outputs": [],
   "source": [
    "new_df = new_df.drop(columns = ['Unnamed: 0.1'])"
   ]
  },
  {
   "cell_type": "code",
   "execution_count": 57,
   "metadata": {},
   "outputs": [],
   "source": [
    "\n",
    "y = new_df['danceability']\n",
    "X = new_df.loc[:,new_df.columns != 'danceability']\n",
    "# X.drop(columns = ['followers','artist_popularity','Topic0','Topic1', 'Topic2', 'Topic3','dominant_topic','sentiment','sentiment_positive','sentiment_negative','sentiment_neutral'],inplace = True)"
   ]
  },
  {
   "cell_type": "markdown",
   "metadata": {},
   "source": [
    "## predictive model"
   ]
  },
  {
   "cell_type": "code",
   "execution_count": 58,
   "metadata": {},
   "outputs": [
    {
     "data": {
      "text/plain": [
       "0.8651015830140025"
      ]
     },
     "execution_count": 58,
     "metadata": {},
     "output_type": "execute_result"
    }
   ],
   "source": [
    "from sklearn.ensemble import RandomForestRegressor\n",
    "from sklearn.metrics import r2_score\n",
    "regr = RandomForestRegressor(max_depth=10, random_state=0,n_estimators=500)\n",
    "regr.fit(X, y)\n",
    "\n",
    "r2_score(y, regr.predict(X), sample_weight=None)"
   ]
  },
  {
   "cell_type": "code",
   "execution_count": 59,
   "metadata": {},
   "outputs": [
    {
     "data": {
      "image/png": "[encoded data removed]",
      "text/plain": [
       "<Figure size 360x360 with 1 Axes>"
      ]
     },
     "metadata": {
      "needs_background": "light"
     },
     "output_type": "display_data"
    }
   ],
   "source": [
    "# Feature importannce\n",
    "import seaborn as sns; \n",
    "ft_imp = pd.Series(data=regr.feature_importances_, index=X.columns).sort_values(ascending=False)\n",
    "plt.figure(figsize=(5,5))\n",
    "plt.title(\"Feature importance for Danceability\")\n",
    "ax = sns.barplot(y=ft_imp.index, x=ft_imp.values, color=\"Blue\", orient='h')"
   ]
  },
  {
   "cell_type": "code",
   "execution_count": 47,
   "metadata": {},
   "outputs": [
    {
     "data": {
      "image/png": "[encoded data removed]",
      "text/plain": [
       "<Figure size 360x360 with 1 Axes>"
      ]
     },
     "metadata": {
      "needs_background": "light"
     },
     "output_type": "display_data"
    }
   ],
   "source": [
    "# Feature importannce \n",
    "ft_imp = pd.Series(data=regr.feature_importances_, index=X.columns).sort_values(ascending=False)\n",
    "\n",
    "ft_imp2 = ft_imp.sort_index(ascending=False)\n",
    "ft_imp2 = ft_imp2[16:].sort_values(ascending=False)\n",
    "\n",
    "plt.figure(figsize=(5,5))\n",
    "plt.title('Feature importance for Danceability')\n",
    "ax = sns.barplot(y=ft_imp2.index, x=ft_imp2.values, color=\"Blue\", orient='h')\n",
    "#plt.yticks(np.arange(4), ('Heartbreak','Partying','Good times','Love'));"
   ]
  }
 ],
 "metadata": {
  "accelerator": "GPU",
  "colab": {
   "collapsed_sections": [],
   "name": "Text Project.ipynb",
   "provenance": []
  },
  "kernelspec": {
   "display_name": "Python 3 (ipykernel)",
   "language": "python",
   "name": "python3"
  },
  "language_info": {
   "codemirror_mode": {
    "name": "ipython",
    "version": 3
   },
   "file_extension": ".py",
   "mimetype": "text/x-python",
   "name": "python",
   "nbconvert_exporter": "python",
   "pygments_lexer": "ipython3",
   "version": "3.8.10"
  }
 },
 "nbformat": 4,
 "nbformat_minor": 1
}
