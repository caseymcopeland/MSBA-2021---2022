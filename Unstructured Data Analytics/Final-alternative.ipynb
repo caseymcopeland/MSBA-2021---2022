{
 "cells": [
  {
   "cell_type": "markdown",
   "metadata": {
    "colab_type": "text",
    "id": "eXFNKm4GorAj"
   },
   "source": [
    "## Setup"
   ]
  },
  {
   "cell_type": "markdown",
   "metadata": {
    "colab_type": "text",
    "id": "0RPiojLxnage"
   },
   "source": [
    "## Data Pre-Processing"
   ]
  },
  {
   "cell_type": "code",
   "execution_count": 1,
   "metadata": {},
   "outputs": [],
   "source": [
    "#!pip install --upgrade ipykernel\n",
    "import warnings\n",
    "warnings.filterwarnings(\"ignore\", category=Warning)"
   ]
  },
  {
   "cell_type": "code",
   "execution_count": 2,
   "metadata": {
    "colab": {
     "base_uri": "https://localhost:8080/"
    },
    "colab_type": "code",
    "id": "GA5sWRz2B1YH",
    "outputId": "87eb21ac-2af9-4e64-b283-c37e867a62cd"
   },
   "outputs": [],
   "source": [
    "#!pip install pyLDAvis\n",
    "#!pip install spaCy\n",
    "import nltk\n",
    "import re\n",
    "import gensim\n",
    "import pandas as pd\n",
    "import numpy as np\n",
    "import spacy\n",
    "from gensim.utils import simple_preprocess\n",
    "from gensim.test.utils import common_corpus, common_dictionary\n",
    "from nltk.stem import WordNetLemmatizer\n",
    "from nltk.corpus import stopwords\n",
    "from nltk.tokenize import word_tokenize\n",
    "import seaborn as sns\n",
    "\n",
    "#nltk.download('stopwords')\n",
    "#nltk.download('wordnet')\n",
    "\n",
    "lemmatizer = WordNetLemmatizer()\n",
    "stop_words = stopwords.words('english')\n"
   ]
  },
  {
   "cell_type": "code",
   "execution_count": 3,
   "metadata": {},
   "outputs": [
    {
     "data": {
      "text/plain": [
       "Index(['Unnamed: 0', 'Unnamed: 0.1', 'id', 'title', 'first_artist',\n",
       "       'all_artists', 'danceability', 'energy', 'key', 'loudness', 'mode',\n",
       "       'acousticness', 'instrumentalness', 'liveness', 'valence', 'tempo',\n",
       "       'duration_ms', 'time_signature', 'artist', 'song', 'lyrics',\n",
       "       'lyrics_cleaned'],\n",
       "      dtype='object')"
      ]
     },
     "execution_count": 3,
     "metadata": {},
     "output_type": "execute_result"
    }
   ],
   "source": [
    "#read in CSV files\n",
    "#ROCK\n",
    "df = pd.read_csv('alternative.csv') #321 songs, 19 features\n",
    "\n",
    "df.columns"
   ]
  },
  {
   "cell_type": "code",
   "execution_count": 4,
   "metadata": {
    "colab": {
     "base_uri": "https://localhost:8080/"
    },
    "colab_type": "code",
    "id": "ETBfpA4UB90z",
    "outputId": "626f8b68-79e2-4040-80ad-47ef9f59fbd5"
   },
   "outputs": [],
   "source": [
    "final_lyrics = []\n",
    "all_words = []\n",
    "df['filtered_lyrics'] = ''\n",
    "\n",
    "\n",
    "# try:\n",
    "for each in range(len(df)):\n",
    "    try:\n",
    "        cleaned_lyrics = (re.sub(r\"[,.:;?'\\\")(!]\\d\", ' ', str(df.loc[each,'lyrics_cleaned']))).lower()\n",
    "    except:\n",
    "        cleaned_lyrics = 'no'\n",
    "\n",
    "    lemmatized_lyrics = lemmatizer.lemmatize(cleaned_lyrics)\n",
    "    tokenized_lyrics = word_tokenize(lemmatized_lyrics)\n",
    "    filtered_lyrics = [w for w in tokenized_lyrics if not w in stop_words]\n",
    "    filtered_lyrics = [w for w in filtered_lyrics if len(w) > 2]\n",
    "    \n",
    "    for i in filtered_lyrics:\n",
    "        all_words.append(i)\n",
    "\n",
    "    final_lyrics.append(filtered_lyrics)\n",
    "\n",
    "    filtered_lyrics = ' '.join(filtered_lyrics)\n",
    "    df.loc[each, 'filtered_lyrics'] = filtered_lyrics\n"
   ]
  },
  {
   "cell_type": "code",
   "execution_count": 5,
   "metadata": {
    "colab": {
     "base_uri": "https://localhost:8080/",
     "height": 35
    },
    "colab_type": "code",
    "id": "42slO6w29Od6",
    "outputId": "bafc0414-aef6-4c6f-eec8-1a7170af8f43"
   },
   "outputs": [
    {
     "data": {
      "text/html": [
       "<div>\n",
       "<style scoped>\n",
       "    .dataframe tbody tr th:only-of-type {\n",
       "        vertical-align: middle;\n",
       "    }\n",
       "\n",
       "    .dataframe tbody tr th {\n",
       "        vertical-align: top;\n",
       "    }\n",
       "\n",
       "    .dataframe thead th {\n",
       "        text-align: right;\n",
       "    }\n",
       "</style>\n",
       "<table border=\"1\" class=\"dataframe\">\n",
       "  <thead>\n",
       "    <tr style=\"text-align: right;\">\n",
       "      <th></th>\n",
       "      <th>Unnamed: 0</th>\n",
       "      <th>Unnamed: 0.1</th>\n",
       "      <th>id</th>\n",
       "      <th>title</th>\n",
       "      <th>first_artist</th>\n",
       "      <th>all_artists</th>\n",
       "      <th>danceability</th>\n",
       "      <th>energy</th>\n",
       "      <th>key</th>\n",
       "      <th>loudness</th>\n",
       "      <th>...</th>\n",
       "      <th>liveness</th>\n",
       "      <th>valence</th>\n",
       "      <th>tempo</th>\n",
       "      <th>duration_ms</th>\n",
       "      <th>time_signature</th>\n",
       "      <th>artist</th>\n",
       "      <th>song</th>\n",
       "      <th>lyrics</th>\n",
       "      <th>lyrics_cleaned</th>\n",
       "      <th>filtered_lyrics</th>\n",
       "    </tr>\n",
       "  </thead>\n",
       "  <tbody>\n",
       "    <tr>\n",
       "      <th>0</th>\n",
       "      <td>1187</td>\n",
       "      <td>1430</td>\n",
       "      <td>0tgVpDi06FyKpA1z0VMD4v</td>\n",
       "      <td>Perfect</td>\n",
       "      <td>Ed Sheeran</td>\n",
       "      <td>['Ed Sheeran']</td>\n",
       "      <td>0.599</td>\n",
       "      <td>0.448</td>\n",
       "      <td>8</td>\n",
       "      <td>-6.312</td>\n",
       "      <td>...</td>\n",
       "      <td>0.1060</td>\n",
       "      <td>0.1680</td>\n",
       "      <td>95.050</td>\n",
       "      <td>263400</td>\n",
       "      <td>3</td>\n",
       "      <td>Ed Sheeran</td>\n",
       "      <td>Perfect</td>\n",
       "      <td>\\n\\n[Verse 1]\\nI found a love for me\\nOh darli...</td>\n",
       "      <td>I found a love for me Oh darling, just div...</td>\n",
       "      <td>found love darling dive right follow lead well...</td>\n",
       "    </tr>\n",
       "    <tr>\n",
       "      <th>1</th>\n",
       "      <td>1191</td>\n",
       "      <td>1437</td>\n",
       "      <td>6FZDfxM3a3UCqtzo5pxSLZ</td>\n",
       "      <td>Without Me</td>\n",
       "      <td>Halsey</td>\n",
       "      <td>['Halsey']</td>\n",
       "      <td>0.752</td>\n",
       "      <td>0.488</td>\n",
       "      <td>6</td>\n",
       "      <td>-7.050</td>\n",
       "      <td>...</td>\n",
       "      <td>0.0936</td>\n",
       "      <td>0.5330</td>\n",
       "      <td>136.041</td>\n",
       "      <td>201661</td>\n",
       "      <td>4</td>\n",
       "      <td>Halsey</td>\n",
       "      <td>Without Me</td>\n",
       "      <td>\\n\\n[Verse 1]\\nFound you when your heart was b...</td>\n",
       "      <td>Found you when your heart was broke I fill...</td>\n",
       "      <td>found heart broke filled cup overflowed took f...</td>\n",
       "    </tr>\n",
       "    <tr>\n",
       "      <th>2</th>\n",
       "      <td>1192</td>\n",
       "      <td>1441</td>\n",
       "      <td>15xWRPHQMeqgdkGzInx3PY</td>\n",
       "      <td>Falling Like The Stars</td>\n",
       "      <td>James Arthur</td>\n",
       "      <td>['James Arthur']</td>\n",
       "      <td>0.296</td>\n",
       "      <td>0.351</td>\n",
       "      <td>6</td>\n",
       "      <td>-9.538</td>\n",
       "      <td>...</td>\n",
       "      <td>0.1100</td>\n",
       "      <td>0.1900</td>\n",
       "      <td>177.060</td>\n",
       "      <td>212720</td>\n",
       "      <td>3</td>\n",
       "      <td>James Arthur</td>\n",
       "      <td>Falling Like The Stars</td>\n",
       "      <td>\\n\\n[Verse 1]\\nI swear to God, when I come hom...</td>\n",
       "      <td>I swear to God, when I come home I'm gonna...</td>\n",
       "      <td>swear god come home gon hold close swear god c...</td>\n",
       "    </tr>\n",
       "    <tr>\n",
       "      <th>3</th>\n",
       "      <td>1193</td>\n",
       "      <td>1442</td>\n",
       "      <td>3XVBdLihbNbxUwZosxcGuJ</td>\n",
       "      <td>If I Ain't Got You</td>\n",
       "      <td>Alicia Keys</td>\n",
       "      <td>['Alicia Keys']</td>\n",
       "      <td>0.609</td>\n",
       "      <td>0.444</td>\n",
       "      <td>7</td>\n",
       "      <td>-9.129</td>\n",
       "      <td>...</td>\n",
       "      <td>0.1040</td>\n",
       "      <td>0.1660</td>\n",
       "      <td>118.402</td>\n",
       "      <td>228707</td>\n",
       "      <td>3</td>\n",
       "      <td>Alicia Keys</td>\n",
       "      <td>If I Ain't Got You</td>\n",
       "      <td>\\n\\n[Verse 1]\\nSome people live for the fortun...</td>\n",
       "      <td>Some people live for the fortune Some peop...</td>\n",
       "      <td>people live fortune people live fame people li...</td>\n",
       "    </tr>\n",
       "    <tr>\n",
       "      <th>4</th>\n",
       "      <td>1194</td>\n",
       "      <td>1446</td>\n",
       "      <td>6Up545NUflOiXo8cEraH49</td>\n",
       "      <td>You Say</td>\n",
       "      <td>Lauren Daigle</td>\n",
       "      <td>['Lauren Daigle']</td>\n",
       "      <td>0.494</td>\n",
       "      <td>0.632</td>\n",
       "      <td>5</td>\n",
       "      <td>-6.890</td>\n",
       "      <td>...</td>\n",
       "      <td>0.0869</td>\n",
       "      <td>0.0797</td>\n",
       "      <td>147.873</td>\n",
       "      <td>274693</td>\n",
       "      <td>4</td>\n",
       "      <td>Lauren Daigle</td>\n",
       "      <td>You Say</td>\n",
       "      <td>\\n\\n[Verse 1]\\nI keep fighting voices in my mi...</td>\n",
       "      <td>I keep fighting voices in my mind that say...</td>\n",
       "      <td>keep fighting voices mind say enough every sin...</td>\n",
       "    </tr>\n",
       "    <tr>\n",
       "      <th>5</th>\n",
       "      <td>1197</td>\n",
       "      <td>1449</td>\n",
       "      <td>0IktbUcnAGrvD03AWnz3Q8</td>\n",
       "      <td>Lucky</td>\n",
       "      <td>Jason Mraz</td>\n",
       "      <td>['Jason Mraz', 'Colbie Caillat']</td>\n",
       "      <td>0.623</td>\n",
       "      <td>0.417</td>\n",
       "      <td>0</td>\n",
       "      <td>-8.699</td>\n",
       "      <td>...</td>\n",
       "      <td>0.1350</td>\n",
       "      <td>0.7210</td>\n",
       "      <td>130.032</td>\n",
       "      <td>191360</td>\n",
       "      <td>4</td>\n",
       "      <td>Jason Mraz</td>\n",
       "      <td>Lucky</td>\n",
       "      <td>\\n\\n[Verse 1: Jason Mraz, Colbie Caillat]\\nDo ...</td>\n",
       "      <td>[Verse 1: Jason Mraz, Colbie Caillat] Do you...</td>\n",
       "      <td>verse jason mraz colbie caillat hear talking a...</td>\n",
       "    </tr>\n",
       "    <tr>\n",
       "      <th>6</th>\n",
       "      <td>1199</td>\n",
       "      <td>1451</td>\n",
       "      <td>4rMNgxEwGWoPHIUcvB5BrB</td>\n",
       "      <td>It Will Rain</td>\n",
       "      <td>Bruno Mars</td>\n",
       "      <td>['Bruno Mars']</td>\n",
       "      <td>0.574</td>\n",
       "      <td>0.824</td>\n",
       "      <td>2</td>\n",
       "      <td>-6.885</td>\n",
       "      <td>...</td>\n",
       "      <td>0.0816</td>\n",
       "      <td>0.4340</td>\n",
       "      <td>149.981</td>\n",
       "      <td>257848</td>\n",
       "      <td>4</td>\n",
       "      <td>Bruno Mars</td>\n",
       "      <td>It Will Rain</td>\n",
       "      <td>\\n\\n[Verse 1]\\nIf you ever leave me, baby\\nLea...</td>\n",
       "      <td>If you ever leave me, baby Leave some morp...</td>\n",
       "      <td>ever leave baby leave morphine door 'cause wou...</td>\n",
       "    </tr>\n",
       "    <tr>\n",
       "      <th>7</th>\n",
       "      <td>1200</td>\n",
       "      <td>1455</td>\n",
       "      <td>0KpfYajJVVGgQ32Dby7e9i</td>\n",
       "      <td>Hey, Soul Sister</td>\n",
       "      <td>Train</td>\n",
       "      <td>['Train']</td>\n",
       "      <td>0.675</td>\n",
       "      <td>0.885</td>\n",
       "      <td>1</td>\n",
       "      <td>-4.432</td>\n",
       "      <td>...</td>\n",
       "      <td>0.0860</td>\n",
       "      <td>0.7680</td>\n",
       "      <td>97.030</td>\n",
       "      <td>216667</td>\n",
       "      <td>4</td>\n",
       "      <td>Train</td>\n",
       "      <td>Hey, Soul Sister</td>\n",
       "      <td>\\n\\n[Intro]\\nHeyy\\nHe-e-e-e-ey\\nHe-e-e-e-ey\\n\\...</td>\n",
       "      <td>Heyy He-e-e-e-ey He-e-e-e-ey    Your lipst...</td>\n",
       "      <td>heyy he-e-e-e-ey he-e-e-e-ey lipstick stains f...</td>\n",
       "    </tr>\n",
       "    <tr>\n",
       "      <th>8</th>\n",
       "      <td>1201</td>\n",
       "      <td>1459</td>\n",
       "      <td>6700Z4Izi8EbB6JNthU6Ma</td>\n",
       "      <td>Hold Me While You Wait</td>\n",
       "      <td>Lewis Capaldi</td>\n",
       "      <td>['Lewis Capaldi']</td>\n",
       "      <td>0.688</td>\n",
       "      <td>0.530</td>\n",
       "      <td>11</td>\n",
       "      <td>-5.507</td>\n",
       "      <td>...</td>\n",
       "      <td>0.0995</td>\n",
       "      <td>0.1620</td>\n",
       "      <td>106.958</td>\n",
       "      <td>205687</td>\n",
       "      <td>4</td>\n",
       "      <td>Lewis Capaldi</td>\n",
       "      <td>Hold Me While You Wait</td>\n",
       "      <td>\\n\\n[Verse 1]\\nI'm waitin' up, savin' all my p...</td>\n",
       "      <td>I'm waitin' up, savin' all my precious tim...</td>\n",
       "      <td>waitin savin precious time losin light missin ...</td>\n",
       "    </tr>\n",
       "    <tr>\n",
       "      <th>9</th>\n",
       "      <td>1202</td>\n",
       "      <td>1460</td>\n",
       "      <td>1Xi84slp6FryDSCbzq4UCD</td>\n",
       "      <td>Arcade</td>\n",
       "      <td>Duncan Laurence</td>\n",
       "      <td>['Duncan Laurence']</td>\n",
       "      <td>0.450</td>\n",
       "      <td>0.329</td>\n",
       "      <td>9</td>\n",
       "      <td>-12.603</td>\n",
       "      <td>...</td>\n",
       "      <td>0.1350</td>\n",
       "      <td>0.2660</td>\n",
       "      <td>71.884</td>\n",
       "      <td>183624</td>\n",
       "      <td>3</td>\n",
       "      <td>Duncan Laurence</td>\n",
       "      <td>Arcade</td>\n",
       "      <td>\\n\\n[Verse 1]\\nA broken heart is all that's le...</td>\n",
       "      <td>A broken heart is all that's left I'm stil...</td>\n",
       "      <td>broken heart left still fixing cracks lost cou...</td>\n",
       "    </tr>\n",
       "  </tbody>\n",
       "</table>\n",
       "<p>10 rows × 23 columns</p>\n",
       "</div>"
      ],
      "text/plain": [
       "   Unnamed: 0  Unnamed: 0.1                      id                   title  \\\n",
       "0        1187          1430  0tgVpDi06FyKpA1z0VMD4v                 Perfect   \n",
       "1        1191          1437  6FZDfxM3a3UCqtzo5pxSLZ              Without Me   \n",
       "2        1192          1441  15xWRPHQMeqgdkGzInx3PY  Falling Like The Stars   \n",
       "3        1193          1442  3XVBdLihbNbxUwZosxcGuJ      If I Ain't Got You   \n",
       "4        1194          1446  6Up545NUflOiXo8cEraH49                 You Say   \n",
       "5        1197          1449  0IktbUcnAGrvD03AWnz3Q8                   Lucky   \n",
       "6        1199          1451  4rMNgxEwGWoPHIUcvB5BrB            It Will Rain   \n",
       "7        1200          1455  0KpfYajJVVGgQ32Dby7e9i        Hey, Soul Sister   \n",
       "8        1201          1459  6700Z4Izi8EbB6JNthU6Ma  Hold Me While You Wait   \n",
       "9        1202          1460  1Xi84slp6FryDSCbzq4UCD                  Arcade   \n",
       "\n",
       "      first_artist                       all_artists  danceability  energy  \\\n",
       "0       Ed Sheeran                    ['Ed Sheeran']         0.599   0.448   \n",
       "1           Halsey                        ['Halsey']         0.752   0.488   \n",
       "2     James Arthur                  ['James Arthur']         0.296   0.351   \n",
       "3      Alicia Keys                   ['Alicia Keys']         0.609   0.444   \n",
       "4    Lauren Daigle                 ['Lauren Daigle']         0.494   0.632   \n",
       "5       Jason Mraz  ['Jason Mraz', 'Colbie Caillat']         0.623   0.417   \n",
       "6       Bruno Mars                    ['Bruno Mars']         0.574   0.824   \n",
       "7            Train                         ['Train']         0.675   0.885   \n",
       "8    Lewis Capaldi                 ['Lewis Capaldi']         0.688   0.530   \n",
       "9  Duncan Laurence               ['Duncan Laurence']         0.450   0.329   \n",
       "\n",
       "   key  loudness  ...  liveness  valence    tempo  duration_ms  \\\n",
       "0    8    -6.312  ...    0.1060   0.1680   95.050       263400   \n",
       "1    6    -7.050  ...    0.0936   0.5330  136.041       201661   \n",
       "2    6    -9.538  ...    0.1100   0.1900  177.060       212720   \n",
       "3    7    -9.129  ...    0.1040   0.1660  118.402       228707   \n",
       "4    5    -6.890  ...    0.0869   0.0797  147.873       274693   \n",
       "5    0    -8.699  ...    0.1350   0.7210  130.032       191360   \n",
       "6    2    -6.885  ...    0.0816   0.4340  149.981       257848   \n",
       "7    1    -4.432  ...    0.0860   0.7680   97.030       216667   \n",
       "8   11    -5.507  ...    0.0995   0.1620  106.958       205687   \n",
       "9    9   -12.603  ...    0.1350   0.2660   71.884       183624   \n",
       "\n",
       "   time_signature           artist                    song  \\\n",
       "0               3       Ed Sheeran                 Perfect   \n",
       "1               4           Halsey              Without Me   \n",
       "2               3     James Arthur  Falling Like The Stars   \n",
       "3               3      Alicia Keys      If I Ain't Got You   \n",
       "4               4    Lauren Daigle                 You Say   \n",
       "5               4       Jason Mraz                   Lucky   \n",
       "6               4       Bruno Mars            It Will Rain   \n",
       "7               4            Train        Hey, Soul Sister   \n",
       "8               4    Lewis Capaldi  Hold Me While You Wait   \n",
       "9               3  Duncan Laurence                  Arcade   \n",
       "\n",
       "                                              lyrics  \\\n",
       "0  \\n\\n[Verse 1]\\nI found a love for me\\nOh darli...   \n",
       "1  \\n\\n[Verse 1]\\nFound you when your heart was b...   \n",
       "2  \\n\\n[Verse 1]\\nI swear to God, when I come hom...   \n",
       "3  \\n\\n[Verse 1]\\nSome people live for the fortun...   \n",
       "4  \\n\\n[Verse 1]\\nI keep fighting voices in my mi...   \n",
       "5  \\n\\n[Verse 1: Jason Mraz, Colbie Caillat]\\nDo ...   \n",
       "6  \\n\\n[Verse 1]\\nIf you ever leave me, baby\\nLea...   \n",
       "7  \\n\\n[Intro]\\nHeyy\\nHe-e-e-e-ey\\nHe-e-e-e-ey\\n\\...   \n",
       "8  \\n\\n[Verse 1]\\nI'm waitin' up, savin' all my p...   \n",
       "9  \\n\\n[Verse 1]\\nA broken heart is all that's le...   \n",
       "\n",
       "                                      lyrics_cleaned  \\\n",
       "0      I found a love for me Oh darling, just div...   \n",
       "1      Found you when your heart was broke I fill...   \n",
       "2      I swear to God, when I come home I'm gonna...   \n",
       "3      Some people live for the fortune Some peop...   \n",
       "4      I keep fighting voices in my mind that say...   \n",
       "5    [Verse 1: Jason Mraz, Colbie Caillat] Do you...   \n",
       "6      If you ever leave me, baby Leave some morp...   \n",
       "7      Heyy He-e-e-e-ey He-e-e-e-ey    Your lipst...   \n",
       "8      I'm waitin' up, savin' all my precious tim...   \n",
       "9      A broken heart is all that's left I'm stil...   \n",
       "\n",
       "                                     filtered_lyrics  \n",
       "0  found love darling dive right follow lead well...  \n",
       "1  found heart broke filled cup overflowed took f...  \n",
       "2  swear god come home gon hold close swear god c...  \n",
       "3  people live fortune people live fame people li...  \n",
       "4  keep fighting voices mind say enough every sin...  \n",
       "5  verse jason mraz colbie caillat hear talking a...  \n",
       "6  ever leave baby leave morphine door 'cause wou...  \n",
       "7  heyy he-e-e-e-ey he-e-e-e-ey lipstick stains f...  \n",
       "8  waitin savin precious time losin light missin ...  \n",
       "9  broken heart left still fixing cracks lost cou...  \n",
       "\n",
       "[10 rows x 23 columns]"
      ]
     },
     "execution_count": 5,
     "metadata": {},
     "output_type": "execute_result"
    }
   ],
   "source": [
    "df[:10]"
   ]
  },
  {
   "cell_type": "markdown",
   "metadata": {
    "colab_type": "text",
    "id": "jQYIllwdMyd4"
   },
   "source": [
    "## Sklearn topic modeling"
   ]
  },
  {
   "cell_type": "code",
   "execution_count": 6,
   "metadata": {
    "colab": {},
    "colab_type": "code",
    "id": "GcFGQrnYMwDp"
   },
   "outputs": [],
   "source": [
    "# Sklearn\n",
    "from sklearn.decomposition import LatentDirichletAllocation, TruncatedSVD\n",
    "from sklearn.feature_extraction.text import CountVectorizer, TfidfVectorizer\n",
    "from sklearn.model_selection import GridSearchCV\n",
    "from pprint import pprint\n",
    "\n",
    "# Plotting tools\n",
    "import pyLDAvis\n",
    "import pyLDAvis.sklearn\n",
    "import matplotlib.pyplot as plt\n",
    "%matplotlib inline"
   ]
  },
  {
   "cell_type": "code",
   "execution_count": 7,
   "metadata": {
    "colab": {},
    "colab_type": "code",
    "id": "OtdbgydKPgaY"
   },
   "outputs": [],
   "source": [
    "vectorizer = CountVectorizer(analyzer='word',       \n",
    "                             min_df=10,                        # minimum reqd occurences of a word \n",
    "                             stop_words='english',             # remove stop words\n",
    "                             lowercase=True,                   # convert all words to lowercase\n",
    "                             token_pattern='[a-zA-Z0-9]{3,}',  # num chars > 3\n",
    "                             # max_features=50000,             # max number of uniq words\n",
    "                            )\n",
    "\n",
    "data_vectorized = vectorizer.fit_transform(df.loc[:, 'filtered_lyrics'])"
   ]
  },
  {
   "cell_type": "code",
   "execution_count": 8,
   "metadata": {
    "colab": {
     "base_uri": "https://localhost:8080/",
     "height": 35
    },
    "colab_type": "code",
    "id": "BUJp1CopQHJJ",
    "outputId": "9a7bfb38-3968-4420-d074-87cf05c3d096"
   },
   "outputs": [
    {
     "name": "stdout",
     "output_type": "stream",
     "text": [
      "Sparsicity:  15.004568135497925 %\n"
     ]
    }
   ],
   "source": [
    "# Materialize the sparse data\n",
    "data_dense = data_vectorized.todense()\n",
    "\n",
    "# Compute Sparsicity = Percentage of Non-Zero cells\n",
    "print(\"Sparsicity: \", ((data_dense > 0).sum()/data_dense.size)*100, \"%\")"
   ]
  },
  {
   "cell_type": "code",
   "execution_count": 9,
   "metadata": {
    "colab": {
     "base_uri": "https://localhost:8080/",
     "height": 143
    },
    "colab_type": "code",
    "id": "OLlj_HOJQgCj",
    "outputId": "facbb611-0391-4900-8c63-19b9ff165ad9"
   },
   "outputs": [
    {
     "name": "stdout",
     "output_type": "stream",
     "text": [
      "LatentDirichletAllocation(learning_method='online', max_iter=25, n_components=4,\n",
      "                          n_jobs=-1, random_state=102)\n"
     ]
    }
   ],
   "source": [
    "# Build LDA Model\n",
    "lda_model = LatentDirichletAllocation(n_components=4,            # Number of topics\n",
    "                                      max_iter=25,               # Max learning iterations\n",
    "                                      learning_method='online',   \n",
    "                                      random_state=102,          # Random state\n",
    "                                      batch_size=128,            # n docs in each learning iter\n",
    "                                      evaluate_every = -1,       # compute perplexity every n iters, default: Don't\n",
    "                                      n_jobs = -1,               # Use all available CPUs\n",
    "                                     )\n",
    "lda_output = lda_model.fit_transform(data_vectorized)\n",
    "\n",
    "print(lda_model)  # Model attributes"
   ]
  },
  {
   "cell_type": "code",
   "execution_count": 10,
   "metadata": {
    "colab": {
     "base_uri": "https://localhost:8080/",
     "height": 1000
    },
    "colab_type": "code",
    "id": "2gXUeLCYCAn_",
    "outputId": "9d7948e3-dc9c-4404-e3b1-95717b73b215"
   },
   "outputs": [],
   "source": [
    "# 4\n",
    "#pyLDAvis.enable_notebook()\n",
    "#panel = pyLDAvis.sklearn.prepare(lda_model, data_vectorized, vectorizer, mds='tsne')\n",
    "#panel"
   ]
  },
  {
   "cell_type": "code",
   "execution_count": 11,
   "metadata": {
    "colab": {
     "base_uri": "https://localhost:8080/",
     "height": 341
    },
    "colab_type": "code",
    "id": "dcvHn9-qQ0hU",
    "outputId": "c9cd5784-be3f-44b5-9970-9444872b8c7d"
   },
   "outputs": [
    {
     "name": "stdout",
     "output_type": "stream",
     "text": [
      "Log Likelihood:  -58641.34450261928\n",
      "Perplexity:  113.371122502793\n",
      "{'batch_size': 128,\n",
      " 'doc_topic_prior': None,\n",
      " 'evaluate_every': -1,\n",
      " 'learning_decay': 0.7,\n",
      " 'learning_method': 'online',\n",
      " 'learning_offset': 10.0,\n",
      " 'max_doc_update_iter': 100,\n",
      " 'max_iter': 25,\n",
      " 'mean_change_tol': 0.001,\n",
      " 'n_components': 4,\n",
      " 'n_jobs': -1,\n",
      " 'perp_tol': 0.1,\n",
      " 'random_state': 102,\n",
      " 'topic_word_prior': None,\n",
      " 'total_samples': 1000000.0,\n",
      " 'verbose': 0}\n"
     ]
    }
   ],
   "source": [
    "# Log Likelyhood: Higher the better\n",
    "print(\"Log Likelihood: \", lda_model.score(data_vectorized))\n",
    "\n",
    "# Perplexity: Lower the better. Perplexity = exp(-1. * log-likelihood per word)\n",
    "print(\"Perplexity: \", lda_model.perplexity(data_vectorized))\n",
    "\n",
    "# See model parameters\n",
    "pprint(lda_model.get_params())"
   ]
  },
  {
   "cell_type": "code",
   "execution_count": 12,
   "metadata": {
    "colab": {
     "base_uri": "https://localhost:8080/",
     "height": 451
    },
    "colab_type": "code",
    "id": "XMOkWmh3Q06O",
    "outputId": "cdfc0e0c-451d-40a1-8f8b-3bbbd29f5601"
   },
   "outputs": [
    {
     "data": {
      "text/plain": [
       "GridSearchCV(estimator=LatentDirichletAllocation(),\n",
       "             param_grid={'learning_decay': [0.5, 0.7, 0.9],\n",
       "                         'n_components': [4, 5, 6]})"
      ]
     },
     "execution_count": 12,
     "metadata": {},
     "output_type": "execute_result"
    }
   ],
   "source": [
    "# grid search\n",
    "\n",
    "# Define Search Param\n",
    "search_params = {'n_components': [4, 5, 6], 'learning_decay': [.5, .7, .9]}\n",
    "\n",
    "# Init the Model\n",
    "lda = LatentDirichletAllocation()\n",
    "\n",
    "# Init Grid Search Class\n",
    "model = GridSearchCV(lda, param_grid=search_params)\n",
    "\n",
    "# Do the Grid Search\n",
    "model.fit(data_vectorized)"
   ]
  },
  {
   "cell_type": "code",
   "execution_count": 13,
   "metadata": {
    "colab": {
     "base_uri": "https://localhost:8080/",
     "height": 71
    },
    "colab_type": "code",
    "id": "jmZXBoo8RDxj",
    "outputId": "0331b104-90e9-41f4-b3c8-f4835217dd81"
   },
   "outputs": [
    {
     "name": "stdout",
     "output_type": "stream",
     "text": [
      "Best Model's Params:  {'learning_decay': 0.7, 'n_components': 4}\n",
      "Best Log Likelihood Score:  -13070.499594118766\n",
      "Model Perplexity:  105.9098167101077\n"
     ]
    }
   ],
   "source": [
    "# Best Model\n",
    "best_lda_model = model.best_estimator_\n",
    "\n",
    "# Model Parameters\n",
    "print(\"Best Model's Params: \", model.best_params_)\n",
    "\n",
    "# Log Likelihood Score\n",
    "print(\"Best Log Likelihood Score: \", model.best_score_)\n",
    "\n",
    "# Perplexity\n",
    "print(\"Model Perplexity: \", best_lda_model.perplexity(data_vectorized))"
   ]
  },
  {
   "cell_type": "code",
   "execution_count": 14,
   "metadata": {
    "colab": {
     "base_uri": "https://localhost:8080/",
     "height": 348
    },
    "colab_type": "code",
    "id": "QhEyRn8DRLl0",
    "outputId": "1653d141-1c4e-4019-dd37-1b56f91956a0"
   },
   "outputs": [],
   "source": [
    "# Create Document - Topic Matrix\n",
    "lda_output = best_lda_model.transform(data_vectorized)\n",
    "\n",
    "# column names\n",
    "topicnames = [\"Topic\" + str(i) for i in range(best_lda_model.n_components)]\n",
    "\n",
    "# index names\n",
    "docnames = [\"Song\" + str(i) for i in range(len(df))]\n",
    "\n",
    "# Make the pandas dataframe\n",
    "df_document_topic = pd.DataFrame(np.round(lda_output, 2), columns=topicnames, index=docnames)\n",
    "\n",
    "# Get dominant topic for each document\n",
    "dominant_topic = np.argmax(df_document_topic.values, axis=1)\n",
    "df_document_topic['dominant_topic'] = dominant_topic\n",
    "\n",
    "# Styling\n",
    "def color_green(val):\n",
    "    color = 'green' if val > .1 else 'black'\n",
    "    return 'color: {col}'.format(col=color)\n",
    "\n",
    "def make_bold(val):\n",
    "    weight = 700 if val > .1 else 400\n",
    "    return 'font-weight: {weight}'.format(weight=weight)\n",
    "\n",
    "# Apply Style\n",
    "#df_document_topics = df_document_topic.head(15).style.applymap(color_green).applymap(make_bold)\n",
    "#df_document_topics"
   ]
  },
  {
   "cell_type": "code",
   "execution_count": 15,
   "metadata": {
    "colab": {
     "base_uri": "https://localhost:8080/",
     "height": 221
    },
    "colab_type": "code",
    "id": "_pfeToo9RbyG",
    "outputId": "df302e71-9cfe-4c1a-e579-8cf2df0fa769"
   },
   "outputs": [],
   "source": [
    "# Topic-Keyword Matrix\n",
    "df_topic_keywords = pd.DataFrame(best_lda_model.components_)\n",
    "\n",
    "# Assign Column and Index\n",
    "df_topic_keywords.columns = vectorizer.get_feature_names()\n",
    "df_topic_keywords.index = topicnames\n",
    "\n",
    "# View\n",
    "#df_topic_keywords.head()"
   ]
  },
  {
   "cell_type": "code",
   "execution_count": 16,
   "metadata": {
    "colab": {
     "base_uri": "https://localhost:8080/",
     "height": 172
    },
    "colab_type": "code",
    "id": "3kqlkpklRb30",
    "outputId": "71e89749-0760-4d45-ef83-41a1ca15b491"
   },
   "outputs": [
    {
     "data": {
      "text/html": [
       "<div>\n",
       "<style scoped>\n",
       "    .dataframe tbody tr th:only-of-type {\n",
       "        vertical-align: middle;\n",
       "    }\n",
       "\n",
       "    .dataframe tbody tr th {\n",
       "        vertical-align: top;\n",
       "    }\n",
       "\n",
       "    .dataframe thead th {\n",
       "        text-align: right;\n",
       "    }\n",
       "</style>\n",
       "<table border=\"1\" class=\"dataframe\">\n",
       "  <thead>\n",
       "    <tr style=\"text-align: right;\">\n",
       "      <th></th>\n",
       "      <th>Topic Num</th>\n",
       "      <th>Num Songs</th>\n",
       "    </tr>\n",
       "  </thead>\n",
       "  <tbody>\n",
       "    <tr>\n",
       "      <th>0</th>\n",
       "      <td>2</td>\n",
       "      <td>54</td>\n",
       "    </tr>\n",
       "    <tr>\n",
       "      <th>1</th>\n",
       "      <td>3</td>\n",
       "      <td>47</td>\n",
       "    </tr>\n",
       "    <tr>\n",
       "      <th>2</th>\n",
       "      <td>1</td>\n",
       "      <td>38</td>\n",
       "    </tr>\n",
       "    <tr>\n",
       "      <th>3</th>\n",
       "      <td>0</td>\n",
       "      <td>14</td>\n",
       "    </tr>\n",
       "  </tbody>\n",
       "</table>\n",
       "</div>"
      ],
      "text/plain": [
       "   Topic Num  Num Songs\n",
       "0          2         54\n",
       "1          3         47\n",
       "2          1         38\n",
       "3          0         14"
      ]
     },
     "execution_count": 16,
     "metadata": {},
     "output_type": "execute_result"
    }
   ],
   "source": [
    "df_topic_distribution = df_document_topic['dominant_topic'].value_counts().reset_index(name=\"Num Documents\")\n",
    "df_topic_distribution.columns = ['Topic Num', 'Num Songs']\n",
    "df_topic_distribution"
   ]
  },
  {
   "cell_type": "code",
   "execution_count": 17,
   "metadata": {
    "colab": {
     "base_uri": "https://localhost:8080/",
     "height": 1000
    },
    "colab_type": "code",
    "id": "E-jPg_SXRb0p",
    "outputId": "82044a0b-a3c1-4719-b47e-f82260614379"
   },
   "outputs": [
    {
     "data": {
      "text/html": [
       "\n",
       "<link rel=\"stylesheet\" type=\"text/css\" href=\"https://cdn.jsdelivr.net/gh/bmabey/pyLDAvis@3.3.1/pyLDAvis/js/ldavis.v1.0.0.css\">\n",
       "\n",
       "\n",
       "<div id=\"ldavis_el15711406886690993925704446536\"></div>\n",
       "<script type=\"text/javascript\">\n",
       "\n",
       "var ldavis_el15711406886690993925704446536_data = {\"mdsDat\": {\"x\": [269.5624084472656, 1.782994270324707, 220.81143188476562, 50.533992767333984], \"y\": [-124.80339813232422, -295.0796813964844, -343.8321228027344, -76.05093383789062], \"topics\": [1, 2, 3, 4], \"cluster\": [1, 1, 1, 1], \"Freq\": [32.09778736016938, 31.772339039565633, 24.115311547606748, 12.014562052658235]}, \"tinfo\": {\"Term\": [\"ooh\", \"yeah\", \"wan\", \"young\", \"want\", \"good\", \"stop\", \"got\", \"way\", \"like\", \"feel\", \"hey\", \"dance\", \"baby\", \"broke\", \"away\", \"night\", \"money\", \"make\", \"gon\", \"knew\", \"old\", \"told\", \"said\", \"life\", \"wish\", \"really\", \"song\", \"stay\", \"walk\", \"phone\", \"dreams\", \"face\", \"cold\", \"yes\", \"dark\", \"damn\", \"man\", \"hey\", \"hair\", \"days\", \"bitch\", \"alright\", \"gold\", \"hate\", \"little\", \"low\", \"said\", \"hand\", \"girl\", \"dream\", \"hope\", \"believe\", \"trying\", \"left\", \"care\", \"saying\", \"life\", \"remember\", \"shit\", \"like\", \"look\", \"song\", \"let\", \"home\", \"know\", \"verse\", \"night\", \"chorus\", \"cause\", \"say\", \"love\", \"think\", \"come\", \"baby\", \"need\", \"pre\", \"make\", \"right\", \"bridge\", \"heart\", \"want\", \"tell\", \"yeah\", \"got\", \"stop\", \"somebody\", \"far\", \"walk\", \"house\", \"free\", \"stay\", \"wan\", \"sorry\", \"way\", \"real\", \"away\", \"wait\", \"getting\", \"start\", \"want\", \"bad\", \"fall\", \"couple\", \"try\", \"smile\", \"kiss\", \"broken\", \"mean\", \"hold\", \"friends\", \"lights\", \"thing\", \"talk\", \"baby\", \"think\", \"right\", \"know\", \"say\", \"love\", \"chorus\", \"tell\", \"cause\", \"pre\", \"need\", \"got\", \"post\", \"bridge\", \"let\", \"like\", \"time\", \"yeah\", \"came\", \"money\", \"yeah\", \"happy\", \"hot\", \"hands\", \"til\", \"watch\", \"feel\", \"scared\", \"okay\", \"fine\", \"hell\", \"head\", \"thought\", \"boy\", \"young\", \"hard\", \"town\", \"swear\", \"lookin\", \"help\", \"cut\", \"going\", \"gon\", \"whoa\", \"party\", \"stars\", \"everybody\", \"feeling\", \"got\", \"day\", \"time\", \"night\", \"god\", \"best\", \"like\", \"chorus\", \"pre\", \"love\", \"song\", \"cause\", \"make\", \"tell\", \"let\", \"know\", \"life\", \"heart\", \"good\", \"bridge\", \"ooh\", \"goodbye\", \"told\", \"dance\", \"broke\", \"wish\", \"old\", \"sky\", \"forget\", \"knew\", \"good\", \"guess\", \"new\", \"change\", \"really\", \"lose\", \"young\", \"hurt\", \"round\", \"town\", \"times\", \"break\", \"maybe\", \"home\", \"leave\", \"trying\", \"high\", \"mind\", \"make\", \"better\", \"got\", \"say\", \"love\", \"let\", \"hold\", \"said\", \"like\", \"time\", \"heart\", \"baby\", \"chorus\", \"know\", \"gon\"], \"Freq\": [352.0, 439.0, 223.0, 112.0, 238.0, 111.0, 91.0, 314.0, 178.0, 524.0, 136.0, 178.0, 45.0, 260.0, 42.0, 116.0, 134.0, 50.0, 138.0, 170.0, 44.0, 40.0, 31.0, 97.0, 163.0, 36.0, 53.0, 84.0, 62.0, 51.0, 33.09791822592758, 17.985095947599373, 27.187130703114878, 20.54795913368478, 24.514164699007942, 18.673633150615398, 31.896966841678292, 40.60776577583253, 145.70190649982058, 20.83074743860953, 31.523759766698877, 39.901216634703424, 26.467304993746456, 16.796583492061664, 17.497707736159747, 54.665510670549146, 17.449961851407846, 71.10637574451763, 24.455305481613106, 47.3680105257946, 16.42787418058365, 29.92032120498265, 27.982695177191296, 16.668785500008514, 25.955787279078468, 28.358940541700377, 13.363456933398552, 107.19329519272385, 23.86914674742397, 30.846433082797706, 314.4402689858308, 50.54370446809584, 50.60712202381061, 118.23874334510229, 37.47628679458279, 138.98640331750727, 34.818807687171116, 64.81927387055632, 131.02724810341047, 105.20427756484577, 97.64029359434912, 130.87152573907585, 54.47261887264644, 46.896912845056185, 68.35217261535595, 45.06312835030644, 58.72011395011497, 44.459498526133935, 39.38826906864354, 40.038495836842834, 39.50470251056679, 41.379650664754216, 36.72615429719434, 39.419762262618505, 38.30971805439506, 91.0667276630385, 32.81623145180837, 21.783803999523343, 48.18633937658017, 21.348438003977726, 17.642381023471497, 55.42176375492457, 198.00184051215697, 45.313881815177865, 151.7616445713414, 18.321912395305674, 93.46611133801463, 34.895750827042185, 38.27818838110578, 17.1716516106836, 188.56080413258823, 58.91236493166213, 35.25959611714621, 21.291675321897493, 25.237234579888863, 17.59066938589621, 15.294424423580256, 14.359478207307347, 17.454449722538843, 44.06192224863895, 32.18010418315414, 14.436330302900918, 24.904756751441155, 18.24323164385779, 164.6613995214903, 66.33288551955367, 55.7824397650633, 134.40895262446514, 100.45601289956507, 138.68694395045543, 114.27696950670247, 59.06094336224813, 91.28813318031742, 71.68002344594751, 48.98646103466565, 78.75009320759034, 36.21919057996006, 39.88093940408518, 44.779009011700516, 49.2534683137677, 38.67772914131742, 41.015022511979915, 22.171632447120707, 45.484752658096795, 351.53656807091096, 20.18534596989778, 14.54730737469888, 21.12405942631634, 30.517946288296727, 17.620044165479076, 98.3589915342659, 10.863042362372406, 17.431497163790326, 10.939217751391917, 15.79293964058285, 35.30129088761774, 15.477089937993151, 24.389991884580898, 69.05246192264019, 29.856828938683933, 11.133451602790505, 15.64958180653602, 13.62721594958364, 16.737921163944815, 11.72956878092236, 9.36455055583823, 94.52944821169038, 27.530312474330035, 26.620130812414764, 11.182168323430378, 16.896342445839437, 13.701469549707236, 155.20868022159937, 33.94650591258227, 81.94559554943855, 63.691995574011514, 26.512045525048077, 24.366684710207828, 129.59242228779718, 90.232458973972, 60.67496134896125, 91.67767585754173, 32.8917163136044, 67.51882003106307, 43.248821807315, 40.850179015703084, 53.89548710497638, 62.651934713222616, 42.03669648293974, 31.611867507485115, 30.52042661134477, 28.222410380299788, 351.5425010706136, 19.312093442054742, 21.67730375836449, 30.72853678993717, 28.66742774085862, 21.329336561946977, 23.550023114777073, 9.316810321307058, 18.150717797009005, 22.51628510139104, 54.3200042553305, 17.754286937947985, 11.252339461569113, 13.629483047297086, 21.705689836620135, 10.103318763950044, 42.46187325890412, 4.942401759351161, 7.485876995205941, 6.22573618957654, 9.819962796868861, 13.950273485502299, 6.550640036069032, 16.963253599709642, 18.941669418129692, 6.373789842985175, 8.862745913992931, 15.265723033478505, 32.62031200488453, 10.276728999513141, 42.077564924211714, 29.403940558212362, 34.05251008678807, 24.927767066209704, 11.906292007172826, 14.272018573528834, 31.362523365538273, 18.527912728561315, 15.40147703572652, 20.2596719768025, 16.485149698178116, 15.527040745709593, 13.829960188212386], \"Total\": [352.0, 439.0, 223.0, 112.0, 238.0, 111.0, 91.0, 314.0, 178.0, 524.0, 136.0, 178.0, 45.0, 260.0, 42.0, 116.0, 134.0, 50.0, 138.0, 170.0, 44.0, 40.0, 31.0, 97.0, 163.0, 36.0, 53.0, 84.0, 62.0, 51.0, 33.85658960948603, 18.911031672377565, 28.86770387061557, 21.895604468793593, 26.843173736921294, 20.89353027256933, 35.78498119322411, 46.69978688700394, 178.86021812388995, 25.849284090743083, 39.65903471373826, 51.69090886795196, 34.70833039039404, 22.782901822627473, 23.75423988862734, 74.40630326516771, 23.78299155690774, 97.21804917410638, 33.71994740996255, 65.49299704053925, 22.755685653166005, 41.72904450293437, 39.72692027411875, 23.77956070114675, 37.70551155034879, 41.50789006969269, 19.859803382376384, 163.12103271850808, 36.60429921496271, 47.48845758880577, 524.648682952934, 81.1282699126144, 84.81268073543646, 241.8410065279889, 61.35429647361913, 351.5743314009046, 58.48410298588811, 134.73276517437802, 352.0218262822631, 270.30598482151424, 245.19123945079406, 395.2886556338611, 123.88302257348431, 98.74141853362201, 260.0159989380374, 110.71630256336937, 199.88041132035164, 138.6072046383011, 104.89556974175166, 118.28567923885618, 117.18923024215015, 238.27375058195912, 136.89747302487277, 439.75267593871627, 314.3460564077965, 91.83524146093256, 33.571617435062834, 22.706071508222347, 51.323857727440426, 23.68199036076508, 19.758165873258076, 62.21293537439225, 223.13012452290582, 52.37844898682461, 178.60674910553513, 22.648995409737296, 116.30204506140326, 43.50710696626504, 48.24365850945592, 21.688738195757722, 238.27375058195912, 75.04278259030963, 45.39153440972907, 27.586710975125786, 33.536910433692924, 23.74323019705204, 20.706538590197358, 19.744903175905563, 24.664271396201922, 65.1229322399891, 48.353091998673456, 21.740941811751576, 37.58085297818628, 28.71797067846205, 260.0159989380374, 123.88302257348431, 104.89556974175166, 351.5743314009046, 245.19123945079406, 395.2886556338611, 352.0218262822631, 136.89747302487277, 270.30598482151424, 199.88041132035164, 110.71630256336937, 314.3460564077965, 83.7443760228655, 118.28567923885618, 241.8410065279889, 524.648682952934, 174.5455409340288, 439.75267593871627, 24.316390123502575, 50.626007694864, 439.75267593871627, 25.29798853231091, 18.54505423243091, 27.248557337375004, 40.97205516773962, 24.422875155187615, 136.8072996395917, 15.620601183921037, 26.359775254063358, 16.60453461534096, 24.42330682203289, 54.79963160475948, 24.39582068715976, 39.21144579435853, 112.0266134707659, 48.94970554732614, 18.52807766670752, 26.445036186739856, 23.505993999706547, 29.362681841477098, 20.580144519773185, 16.66103132123941, 170.37385852833575, 49.911308649709376, 48.92993196484417, 20.558826391551676, 31.41465055058543, 26.538328085741863, 314.3460564077965, 67.5978550791112, 174.5455409340288, 134.73276517437802, 51.82725540978643, 48.91048651165538, 524.648682952934, 352.0218262822631, 199.88041132035164, 395.2886556338611, 84.81268073543646, 270.30598482151424, 138.6072046383011, 136.89747302487277, 241.8410065279889, 351.5743314009046, 163.12103271850808, 117.18923024215015, 111.59877010363451, 118.28567923885618, 352.33198099315723, 24.534928180349137, 31.478372399655562, 45.14351288006199, 42.29493173519903, 36.26316826089854, 40.233641849171846, 16.59268071201488, 32.393760484196555, 44.3724354759118, 111.59877010363451, 40.28394418271857, 27.588776885693385, 33.58933120339902, 53.88709859464039, 26.391306067455133, 112.0266134707659, 13.758820863182258, 21.732997245184563, 18.52807766670752, 31.407820313978423, 45.343699801149384, 23.690228990987244, 61.35429647361913, 70.04901613368818, 23.77956070114675, 36.35372751271207, 63.90790689869894, 138.6072046383011, 49.40511807192016, 314.3460564077965, 245.19123945079406, 395.2886556338611, 241.8410065279889, 65.1229322399891, 97.21804917410638, 524.648682952934, 174.5455409340288, 117.18923024215015, 260.0159989380374, 352.0218262822631, 351.5743314009046, 170.37385852833575], \"Category\": [\"Default\", \"Default\", \"Default\", \"Default\", \"Default\", \"Default\", \"Default\", \"Default\", \"Default\", \"Default\", \"Default\", \"Default\", \"Default\", \"Default\", \"Default\", \"Default\", \"Default\", \"Default\", \"Default\", \"Default\", \"Default\", \"Default\", \"Default\", \"Default\", \"Default\", \"Default\", \"Default\", \"Default\", \"Default\", \"Default\", \"Topic1\", \"Topic1\", \"Topic1\", \"Topic1\", \"Topic1\", \"Topic1\", \"Topic1\", \"Topic1\", \"Topic1\", \"Topic1\", \"Topic1\", \"Topic1\", \"Topic1\", \"Topic1\", \"Topic1\", \"Topic1\", \"Topic1\", \"Topic1\", \"Topic1\", \"Topic1\", \"Topic1\", \"Topic1\", \"Topic1\", \"Topic1\", \"Topic1\", \"Topic1\", \"Topic1\", \"Topic1\", \"Topic1\", \"Topic1\", \"Topic1\", \"Topic1\", \"Topic1\", \"Topic1\", \"Topic1\", \"Topic1\", \"Topic1\", \"Topic1\", \"Topic1\", \"Topic1\", \"Topic1\", \"Topic1\", \"Topic1\", \"Topic1\", \"Topic1\", \"Topic1\", \"Topic1\", \"Topic1\", \"Topic1\", \"Topic1\", \"Topic1\", \"Topic1\", \"Topic1\", \"Topic1\", \"Topic1\", \"Topic2\", \"Topic2\", \"Topic2\", \"Topic2\", \"Topic2\", \"Topic2\", \"Topic2\", \"Topic2\", \"Topic2\", \"Topic2\", \"Topic2\", \"Topic2\", \"Topic2\", \"Topic2\", \"Topic2\", \"Topic2\", \"Topic2\", \"Topic2\", \"Topic2\", \"Topic2\", \"Topic2\", \"Topic2\", \"Topic2\", \"Topic2\", \"Topic2\", \"Topic2\", \"Topic2\", \"Topic2\", \"Topic2\", \"Topic2\", \"Topic2\", \"Topic2\", \"Topic2\", \"Topic2\", \"Topic2\", \"Topic2\", \"Topic2\", \"Topic2\", \"Topic2\", \"Topic2\", \"Topic2\", \"Topic2\", \"Topic2\", \"Topic2\", \"Topic2\", \"Topic2\", \"Topic2\", \"Topic3\", \"Topic3\", \"Topic3\", \"Topic3\", \"Topic3\", \"Topic3\", \"Topic3\", \"Topic3\", \"Topic3\", \"Topic3\", \"Topic3\", \"Topic3\", \"Topic3\", \"Topic3\", \"Topic3\", \"Topic3\", \"Topic3\", \"Topic3\", \"Topic3\", \"Topic3\", \"Topic3\", \"Topic3\", \"Topic3\", \"Topic3\", \"Topic3\", \"Topic3\", \"Topic3\", \"Topic3\", \"Topic3\", \"Topic3\", \"Topic3\", \"Topic3\", \"Topic3\", \"Topic3\", \"Topic3\", \"Topic3\", \"Topic3\", \"Topic3\", \"Topic3\", \"Topic3\", \"Topic3\", \"Topic3\", \"Topic3\", \"Topic3\", \"Topic3\", \"Topic3\", \"Topic3\", \"Topic3\", \"Topic3\", \"Topic3\", \"Topic4\", \"Topic4\", \"Topic4\", \"Topic4\", \"Topic4\", \"Topic4\", \"Topic4\", \"Topic4\", \"Topic4\", \"Topic4\", \"Topic4\", \"Topic4\", \"Topic4\", \"Topic4\", \"Topic4\", \"Topic4\", \"Topic4\", \"Topic4\", \"Topic4\", \"Topic4\", \"Topic4\", \"Topic4\", \"Topic4\", \"Topic4\", \"Topic4\", \"Topic4\", \"Topic4\", \"Topic4\", \"Topic4\", \"Topic4\", \"Topic4\", \"Topic4\", \"Topic4\", \"Topic4\", \"Topic4\", \"Topic4\", \"Topic4\", \"Topic4\", \"Topic4\", \"Topic4\", \"Topic4\", \"Topic4\", \"Topic4\"], \"logprob\": [30.0, 29.0, 28.0, 27.0, 26.0, 25.0, 24.0, 23.0, 22.0, 21.0, 20.0, 19.0, 18.0, 17.0, 16.0, 15.0, 14.0, 13.0, 12.0, 11.0, 10.0, 9.0, 8.0, 7.0, 6.0, 5.0, 4.0, 3.0, 2.0, 1.0, -4.7893, -5.3992, -4.986, -5.266, -5.0895, -5.3616, -4.8262, -4.5848, -3.3072, -5.2523, -4.838, -4.6023, -5.0128, -5.4676, -5.4267, -4.2875, -5.4294, -4.0246, -5.0919, -4.4308, -5.4898, -4.8902, -4.9572, -5.4752, -5.0324, -4.9438, -5.6962, -3.6141, -5.1162, -4.8597, -2.538, -4.3659, -4.3647, -3.516, -4.665, -3.3544, -4.7386, -4.1171, -3.4133, -3.6328, -3.7075, -3.4145, -4.291, -4.4408, -4.0641, -4.4807, -4.216, -4.4942, -4.6153, -4.5989, -4.6123, -4.566, -4.6853, -4.6145, -4.643, -3.767, -4.7876, -5.1974, -4.4035, -5.2176, -5.4083, -4.2636, -2.9903, -4.4649, -3.2562, -5.3705, -3.741, -4.7262, -4.6337, -5.4353, -3.0391, -4.2025, -4.7158, -5.2202, -5.0502, -5.4112, -5.5511, -5.6141, -5.419, -4.493, -4.8072, -5.6088, -5.0635, -5.3748, -3.1747, -4.0839, -4.2571, -3.3777, -3.6688, -3.3463, -3.5399, -4.2, -3.7645, -4.0063, -4.387, -3.9123, -4.689, -4.5927, -4.4768, -4.3816, -4.6233, -4.5646, -4.904, -4.1854, -2.1405, -4.9978, -5.3254, -4.9524, -4.5845, -5.1338, -3.4142, -5.6174, -5.1445, -5.6105, -5.2432, -4.4389, -5.2634, -4.8086, -3.7679, -4.6064, -5.5929, -5.2524, -5.3907, -5.1851, -5.5407, -5.7659, -3.4539, -4.6875, -4.7211, -5.5885, -5.1757, -5.3853, -2.958, -4.478, -3.5968, -3.8487, -4.7252, -4.8096, -3.1384, -3.5004, -3.8973, -3.4845, -4.5096, -3.7904, -4.2358, -4.2929, -4.0158, -3.8652, -4.2643, -4.5493, -4.5844, -4.6627, -1.4437, -4.3453, -4.2298, -3.8809, -3.9503, -4.246, -4.147, -5.0743, -4.4074, -4.1918, -3.3112, -4.4295, -4.8855, -4.6938, -4.2285, -4.9932, -3.5575, -5.7082, -5.2931, -5.4774, -5.0217, -4.6706, -5.4265, -4.475, -4.3647, -5.4539, -5.1242, -4.5805, -3.8211, -4.9762, -3.5666, -3.9249, -3.7782, -4.0901, -4.829, -4.6478, -3.8605, -4.3868, -4.5716, -4.2974, -4.5036, -4.5635, -4.6792], \"loglift\": [30.0, 29.0, 28.0, 27.0, 26.0, 25.0, 24.0, 23.0, 22.0, 21.0, 20.0, 19.0, 18.0, 17.0, 16.0, 15.0, 14.0, 13.0, 12.0, 11.0, 10.0, 9.0, 8.0, 7.0, 6.0, 5.0, 4.0, 3.0, 2.0, 1.0, 1.1137, 1.0862, 1.0764, 1.0729, 1.0456, 1.0241, 1.0214, 0.9966, 0.9313, 0.9205, 0.9068, 0.8775, 0.8653, 0.8315, 0.8307, 0.8281, 0.8267, 0.8236, 0.8151, 0.8124, 0.8105, 0.8037, 0.7859, 0.7811, 0.763, 0.7554, 0.7402, 0.7165, 0.7088, 0.7049, 0.6244, 0.6632, 0.62, 0.4208, 0.6434, 0.2083, 0.6178, 0.4047, 0.1481, 0.1927, 0.2156, 0.031, 0.3147, 0.3918, -0.1997, 0.2375, -0.0886, -0.0007, 0.1569, 0.0531, 0.049, -0.6142, -0.1794, -1.2756, -0.9684, 1.1382, 1.1238, 1.1051, 1.0835, 1.0428, 1.0333, 1.031, 1.0271, 1.0017, 0.9837, 0.9346, 0.928, 0.926, 0.9152, 0.913, 0.9126, 0.9046, 0.894, 0.8876, 0.8622, 0.8466, 0.8436, 0.8281, 0.8008, 0.7559, 0.7394, 0.7371, 0.7351, 0.6928, 0.6897, 0.5219, 0.5151, 0.185, 0.2543, 0.0992, 0.0215, 0.3059, 0.061, 0.1211, 0.3311, -0.2376, 0.3084, 0.0594, -0.54, -1.2192, -0.3603, -1.2257, 1.33, 1.3152, 1.1984, 1.1966, 1.1795, 1.1677, 1.1277, 1.0958, 1.0924, 1.0591, 1.0088, 1.005, 0.9863, 0.9826, 0.9673, 0.9475, 0.9385, 0.9279, 0.913, 0.8977, 0.8771, 0.8603, 0.8601, 0.8462, 0.8332, 0.8274, 0.8136, 0.8134, 0.8021, 0.7612, 0.7166, 0.7335, 0.6662, 0.6731, 0.752, 0.7255, 0.024, 0.061, 0.2301, -0.039, 0.4751, 0.0352, 0.2576, 0.213, -0.0789, -0.3025, 0.0664, 0.1121, 0.1258, -0.0107, 2.1168, 1.8797, 1.746, 1.7344, 1.7301, 1.5883, 1.5835, 1.5419, 1.5398, 1.4407, 1.399, 1.2997, 1.2222, 1.2171, 1.2097, 1.1589, 1.1489, 1.0952, 1.0532, 1.0285, 0.9564, 0.9403, 0.8336, 0.8334, 0.8112, 0.8024, 0.7076, 0.6872, 0.6723, 0.5489, 0.1081, -0.0019, -0.3327, -0.1532, 0.4198, 0.2004, -0.6981, -0.1239, 0.0897, -0.4331, -0.9422, -1.0008, -0.3921]}, \"token.table\": {\"Topic\": [1, 2, 3, 4, 1, 2, 3, 4, 1, 2, 3, 4, 1, 2, 4, 1, 2, 4, 1, 2, 3, 4, 1, 2, 4, 1, 2, 1, 3, 1, 2, 3, 4, 1, 2, 3, 4, 1, 2, 4, 1, 2, 4, 2, 3, 1, 3, 1, 2, 3, 4, 1, 2, 4, 1, 2, 3, 4, 1, 2, 1, 2, 3, 4, 2, 3, 4, 1, 2, 3, 1, 3, 4, 2, 4, 1, 2, 1, 2, 3, 1, 3, 4, 1, 3, 1, 1, 2, 3, 1, 2, 1, 2, 3, 2, 1, 2, 3, 4, 1, 3, 2, 3, 2, 3, 4, 1, 2, 1, 2, 3, 4, 2, 3, 4, 1, 2, 4, 2, 3, 4, 1, 2, 3, 1, 2, 3, 4, 1, 2, 3, 4, 1, 2, 3, 4, 1, 2, 4, 1, 2, 3, 4, 1, 2, 3, 4, 1, 2, 1, 2, 3, 4, 3, 4, 3, 4, 1, 2, 3, 4, 1, 3, 1, 2, 3, 1, 2, 3, 4, 2, 3, 1, 2, 3, 1, 2, 3, 4, 1, 3, 4, 1, 2, 3, 4, 1, 2, 3, 4, 1, 2, 1, 3, 2, 4, 2, 3, 4, 1, 2, 3, 4, 1, 2, 4, 1, 2, 3, 4, 1, 2, 3, 4, 1, 2, 3, 1, 2, 3, 4, 1, 2, 3, 4, 1, 2, 4, 1, 2, 3, 4, 1, 2, 3, 4, 1, 2, 3, 4, 1, 2, 3, 1, 3, 4, 1, 2, 3, 4, 1, 2, 3, 4, 1, 2, 3, 4, 1, 3, 4, 1, 2, 4, 1, 2, 3, 1, 2, 3, 4, 1, 3, 1, 2, 3, 1, 2, 4, 1, 3, 4, 2, 3, 4, 1, 3, 4, 4, 2, 3, 1, 1, 2, 3, 4, 1, 2, 3, 4, 2, 3, 1, 2, 3, 4, 1, 2, 3, 4, 1, 2, 3, 4, 1, 2, 4, 1, 2, 3, 4, 1, 2, 3, 4, 1, 2, 1, 2, 3, 1, 2, 3, 4, 3, 4, 1, 2, 2, 1, 2, 3, 1, 2, 4, 1, 2, 3, 4, 1, 2, 3, 1, 2, 4, 2, 1, 3, 4, 1, 2, 1, 2, 3, 1, 2, 3, 1, 2, 4, 2, 3, 4, 1, 2, 3, 1, 2, 3, 4, 1, 3, 4, 1, 4, 1, 3, 4, 1, 2, 3, 1, 4, 1, 2, 3, 4, 1, 2, 4, 2, 3, 4, 1, 2, 3, 4, 1, 2, 4, 1, 2, 3, 1, 2, 3, 4, 1, 2, 3, 2, 3, 4, 1, 2, 3, 4, 1, 3, 3, 4], \"Freq\": [0.7490997033725316, 0.05762305410557936, 0.08643458115836904, 0.08643458115836904, 0.017196602165886872, 0.7996420007137396, 0.06878640866354749, 0.10317961299532123, 0.2615223689224008, 0.6345763363558256, 0.026921420330247144, 0.07691834380070613, 0.10660585500507613, 0.7862181806624365, 0.10660585500507613, 0.7048117449527396, 0.2517184803402641, 0.025171848034026414, 0.040891026498446295, 0.286237185489124, 0.4906923179813555, 0.16356410599378518, 0.30361226903990307, 0.4857796304638449, 0.20240817935993538, 0.7738304641186092, 0.21280337763261753, 0.3570386073857604, 0.6120661840898749, 0.24259158490020633, 0.37491426757304613, 0.0661613413364199, 0.30875292623662626, 0.3381643514023989, 0.3381643514023989, 0.23671504598167922, 0.08454108785059973, 0.2600784431777553, 0.07093048450302417, 0.6856613501959004, 0.15193794435319688, 0.7090437403149188, 0.15193794435319688, 0.08224905053102169, 0.9047395558412386, 0.6745705443708983, 0.3131934670293456, 0.3884486689014028, 0.33665551304788244, 0.2515667570028132, 0.022197066794365877, 0.4763417259817577, 0.08931407362157957, 0.416799010234038, 0.372136016063276, 0.32384355596346154, 0.25566596523431173, 0.04545172715276653, 0.9590966090901925, 0.045671267099532974, 0.4759907311235987, 0.26331402147262906, 0.2430590967439653, 0.020254924728663776, 0.7612360900483987, 0.07249867524270463, 0.14499735048540927, 0.242952618490898, 0.1943620947927184, 0.5830862843781552, 0.8942298956987911, 0.02794468424058722, 0.05588936848117444, 0.3101220774997157, 0.6866988858922277, 0.9093724110829032, 0.09572341169293719, 0.05917347518377196, 0.4438010638782897, 0.5029745390620617, 0.8068779341448495, 0.1512896126521593, 0.050429870884053096, 0.7031209801306917, 0.26367036754900935, 0.9518253848779564, 0.3501550966574418, 0.09549684454293868, 0.5411487857433191, 0.9353012668071358, 0.034640787659523546, 0.11015269840554931, 0.7710688888388452, 0.11015269840554931, 0.9689038454773357, 0.1754292355979992, 0.09502416928224956, 0.7163360453584967, 0.007309551483249966, 0.4521761868807097, 0.5275388846941613, 0.30112256174771024, 0.6624696358449625, 0.37044170916353647, 0.06174028486058941, 0.5556625637453046, 0.10122397052587374, 0.9110157347328638, 0.18613080628322407, 0.6617984223403522, 0.12408720418881604, 0.041362401396272015, 0.7876682899691754, 0.16582490315140533, 0.04145622578785133, 0.7176339780405477, 0.12215046434732726, 0.15268808043415907, 0.32801273896494865, 0.5209614089443302, 0.15435893598350525, 0.24008117642158308, 0.1800608823161873, 0.5401826469485619, 0.7461736056429816, 0.04389256503782245, 0.13167769511346736, 0.0877851300756449, 0.17021390634982222, 0.1936916865360046, 0.5575972794218315, 0.08217223065163831, 0.02688201668543565, 0.2150561334834852, 0.2777808390828351, 0.4838763003378417, 0.12227465994389185, 0.08151643996259457, 0.7744061796446484, 0.12088588110265065, 0.2513153843976158, 0.49308714660291714, 0.13361071069240335, 0.04964757152200556, 0.44682814369805, 0.07447135728300834, 0.44682814369805, 0.8124016095099645, 0.1547431637161837, 0.7117448822861807, 0.148280183809621, 0.08896811028577259, 0.029656036761924198, 0.7706830031399762, 0.2201951437542789, 0.7905766885163913, 0.19764417212909782, 0.22472045290170026, 0.10214566040986375, 0.6128739624591826, 0.06128739624591825, 0.7156617125913163, 0.2525864867969352, 0.20073127643151203, 0.14598638285928148, 0.6386904250093565, 0.34132829371220635, 0.2645294276269599, 0.2730626349697651, 0.12799811014207738, 0.327555971772954, 0.655111943545908, 0.06811366927576903, 0.3405683463788452, 0.5789661888440368, 0.816279894609494, 0.12300108000964978, 0.039136707275797655, 0.022363832729027235, 0.38510493855422445, 0.3575974429432084, 0.24756746049914427, 0.12284459137249283, 0.6756452525487106, 0.015355573921561604, 0.18426688705873925, 0.6030547512823182, 0.0651951082467371, 0.04889633118505283, 0.27707921004863273, 0.718923722250348, 0.2636053648251276, 0.1617681977307842, 0.8088409886539211, 0.8867497908787074, 0.08445236103606737, 0.5087645278333088, 0.07268064683332984, 0.36340323416664916, 0.09658784790553145, 0.7244088592914859, 0.09658784790553145, 0.09658784790553145, 0.3605842191981061, 0.11268256849940815, 0.5183398150972776, 0.395364472275698, 0.38114272866865845, 0.17919396944869764, 0.045509579542526386, 0.42827153978501503, 0.15703289792117217, 0.12848146193550453, 0.2712386418638429, 0.6895543630347456, 0.2386918948966427, 0.07956396496554756, 0.48792387070363746, 0.18607266255647192, 0.22328719506776631, 0.10337370142026217, 0.6559546504628004, 0.055173755646403776, 0.2574775263498843, 0.03065208647022432, 0.22998083722837448, 0.6439463442394485, 0.0919923348913498, 0.5984957366759821, 0.09339583151950039, 0.2477848591333684, 0.05908715871641861, 0.7391846871358746, 0.14783693742717494, 0.0940780510900204, 0.02687944316857726, 0.628634137704817, 0.12326159562839549, 0.16024007431691412, 0.08628311693987684, 0.17016936191041046, 0.21271170238801307, 0.5955927666864366, 0.11367379819445536, 0.49258645884263985, 0.3789126606481845, 0.3314033887209242, 0.3516417636046447, 0.23274131116278646, 0.08601309325581238, 0.7147965368159235, 0.04204685510681903, 0.1261405653204571, 0.08409371021363805, 0.3174438162490837, 0.12986337937462514, 0.31022918406160455, 0.23808286218681277, 0.8779483319528781, 0.0428267479001404, 0.0856534958002808, 0.2532689744063956, 0.464326453078392, 0.2954804701407949, 0.16217791053888436, 0.6892561197902586, 0.12163343290416327, 0.3911879016727578, 0.04694254820073093, 0.32859783740511656, 0.23471274100365466, 0.09876346620370086, 0.8888711958333076, 0.40644420883043747, 0.4425725829486986, 0.14451349647304443, 0.18123311594117217, 0.3987128550705788, 0.3987128550705788, 0.48243647279022056, 0.47501437320883255, 0.04453259748832805, 0.2655561336366459, 0.6449220388318543, 0.03793659051952084, 0.22369339652968184, 0.1739837528564192, 0.5965157240791517, 0.9990577608305058, 0.44962253403104774, 0.5518094735835586, 0.974699471524857, 0.26270420826818436, 0.4298796135297562, 0.2507631078923578, 0.04776440150330624, 0.29517649883879676, 0.3602153884134469, 0.3051824818502814, 0.045026923551680864, 0.7947372355535649, 0.17660827456745887, 0.20413049295428312, 0.03711463508259693, 0.35258903328467084, 0.40826098590856624, 0.6556606878076644, 0.027319195325319352, 0.13659597662659675, 0.19123436727723545, 0.3717983523614611, 0.5338643008267133, 0.04766645543095655, 0.04766645543095655, 0.4141168334245362, 0.23006490745807567, 0.3220908704413059, 0.7303170615247292, 0.09257540216510651, 0.030858467388368838, 0.14400618114572125, 0.39968801585044816, 0.40784491413311036, 0.07341208454395987, 0.118275025098602, 0.6545885550677817, 0.30211779464666844, 0.06401802262446489, 0.25607209049785956, 0.7041982488691138, 0.6527902057469115, 0.04211549714496203, 0.1263464914348861, 0.18951973715232914, 0.4218727595313306, 0.5424078336831393, 0.2527036106799386, 0.7581108320398158, 0.9829731934671153, 0.6013251739924212, 0.011790689686125906, 0.3890927596421549, 0.11455092917144709, 0.8591319687858532, 0.019091821528574512, 0.19456363528823498, 0.09728181764411749, 0.5350499970426461, 0.1459227264661762, 0.04610687772493829, 0.783816921323951, 0.13832063317481488, 0.06429531054801278, 0.8840605200351758, 0.04822148291100959, 0.9909050006550276, 0.3025142390998649, 0.6050284781997298, 0.11344283966244934, 0.3482140194362625, 0.6267852349852725, 0.27027525915892914, 0.4309794673074816, 0.2994942060950296, 0.26609294913568027, 0.6652323728392007, 0.05321858982713606, 0.435895079714967, 0.5327606529849597, 0.024216393317498166, 0.20495313783936966, 0.614859413518109, 0.16396251027149572, 0.02440687917425668, 0.21966191256831014, 0.7566132544019571, 0.20052073408869606, 0.22343738941311847, 0.4697914341506593, 0.10885411279100643, 0.31839204058198783, 0.3502312446401866, 0.31839204058198783, 0.2859105892050022, 0.6988925513900053, 0.05397213990509476, 0.5936935389560424, 0.32383283943056856, 0.1192715711815061, 0.745447319884413, 0.1192715711815061, 0.7148996658790332, 0.2523175291337764, 0.5984532242624172, 0.29067728035603124, 0.03419732710070956, 0.08549331775177389, 0.18387800425808862, 0.8044662686291377, 0.022984750532261077, 0.9352375703110228, 0.01948411604814631, 0.03896823209629262, 0.05826196721664744, 0.8873745776073995, 0.0313718285012717, 0.022408448929479786, 0.1720709893551502, 0.7932052923932533, 0.03357482719124882, 0.16378088061226354, 0.12283566045919765, 0.7370139627551859, 0.055988925670951, 0.8510316701984552, 0.044791140536760796, 0.0503900331038559, 0.02003553958118513, 0.42074633120488775, 0.5609951082731837, 0.27576189504607335, 0.13788094752303667, 0.579099979596754, 0.08868621416970075, 0.09323422515276232, 0.8004499330188375, 0.018192043932246306, 0.9313354763864561, 0.07450683811091649, 0.61592507228656, 0.3749109135657322], \"Term\": [\"alright\", \"alright\", \"alright\", \"alright\", \"away\", \"away\", \"away\", \"away\", \"baby\", \"baby\", \"baby\", \"baby\", \"bad\", \"bad\", \"bad\", \"believe\", \"believe\", \"believe\", \"best\", \"best\", \"best\", \"best\", \"better\", \"better\", \"better\", \"bitch\", \"bitch\", \"boy\", \"boy\", \"break\", \"break\", \"break\", \"break\", \"bridge\", \"bridge\", \"bridge\", \"bridge\", \"broke\", \"broke\", \"broke\", \"broken\", \"broken\", \"broken\", \"came\", \"came\", \"care\", \"care\", \"cause\", \"cause\", \"cause\", \"cause\", \"change\", \"change\", \"change\", \"chorus\", \"chorus\", \"chorus\", \"chorus\", \"cold\", \"cold\", \"come\", \"come\", \"come\", \"come\", \"couple\", \"couple\", \"couple\", \"cut\", \"cut\", \"cut\", \"damn\", \"damn\", \"damn\", \"dance\", \"dance\", \"dark\", \"dark\", \"day\", \"day\", \"day\", \"days\", \"days\", \"days\", \"dream\", \"dream\", \"dreams\", \"everybody\", \"everybody\", \"everybody\", \"face\", \"face\", \"fall\", \"fall\", \"fall\", \"far\", \"feel\", \"feel\", \"feel\", \"feel\", \"feeling\", \"feeling\", \"fine\", \"fine\", \"forget\", \"forget\", \"forget\", \"free\", \"free\", \"friends\", \"friends\", \"friends\", \"friends\", \"getting\", \"getting\", \"getting\", \"girl\", \"girl\", \"girl\", \"god\", \"god\", \"god\", \"going\", \"going\", \"going\", \"gold\", \"gold\", \"gold\", \"gold\", \"gon\", \"gon\", \"gon\", \"gon\", \"good\", \"good\", \"good\", \"good\", \"goodbye\", \"goodbye\", \"goodbye\", \"got\", \"got\", \"got\", \"got\", \"guess\", \"guess\", \"guess\", \"guess\", \"hair\", \"hair\", \"hand\", \"hand\", \"hand\", \"hand\", \"hands\", \"hands\", \"happy\", \"happy\", \"hard\", \"hard\", \"hard\", \"hard\", \"hate\", \"hate\", \"head\", \"head\", \"head\", \"heart\", \"heart\", \"heart\", \"heart\", \"hell\", \"hell\", \"help\", \"help\", \"help\", \"hey\", \"hey\", \"hey\", \"hey\", \"high\", \"high\", \"high\", \"hold\", \"hold\", \"hold\", \"hold\", \"home\", \"home\", \"home\", \"home\", \"hope\", \"hope\", \"hot\", \"hot\", \"house\", \"house\", \"hurt\", \"hurt\", \"hurt\", \"kiss\", \"kiss\", \"kiss\", \"kiss\", \"knew\", \"knew\", \"knew\", \"know\", \"know\", \"know\", \"know\", \"leave\", \"leave\", \"leave\", \"leave\", \"left\", \"left\", \"left\", \"let\", \"let\", \"let\", \"let\", \"life\", \"life\", \"life\", \"life\", \"lights\", \"lights\", \"lights\", \"like\", \"like\", \"like\", \"like\", \"little\", \"little\", \"little\", \"little\", \"look\", \"look\", \"look\", \"look\", \"lookin\", \"lookin\", \"lookin\", \"lose\", \"lose\", \"lose\", \"love\", \"love\", \"love\", \"love\", \"low\", \"low\", \"low\", \"low\", \"make\", \"make\", \"make\", \"make\", \"man\", \"man\", \"man\", \"maybe\", \"maybe\", \"maybe\", \"mean\", \"mean\", \"mean\", \"mind\", \"mind\", \"mind\", \"mind\", \"money\", \"money\", \"need\", \"need\", \"need\", \"new\", \"new\", \"new\", \"night\", \"night\", \"night\", \"okay\", \"okay\", \"okay\", \"old\", \"old\", \"old\", \"ooh\", \"party\", \"party\", \"phone\", \"post\", \"post\", \"post\", \"post\", \"pre\", \"pre\", \"pre\", \"pre\", \"real\", \"real\", \"really\", \"really\", \"really\", \"really\", \"remember\", \"remember\", \"remember\", \"remember\", \"right\", \"right\", \"right\", \"right\", \"round\", \"round\", \"round\", \"said\", \"said\", \"said\", \"said\", \"say\", \"say\", \"say\", \"say\", \"saying\", \"saying\", \"scared\", \"scared\", \"scared\", \"shit\", \"shit\", \"shit\", \"shit\", \"sky\", \"sky\", \"smile\", \"smile\", \"somebody\", \"song\", \"song\", \"song\", \"sorry\", \"sorry\", \"sorry\", \"stars\", \"stars\", \"stars\", \"stars\", \"start\", \"start\", \"start\", \"stay\", \"stay\", \"stay\", \"stop\", \"swear\", \"swear\", \"swear\", \"talk\", \"talk\", \"tell\", \"tell\", \"tell\", \"thing\", \"thing\", \"thing\", \"think\", \"think\", \"think\", \"thought\", \"thought\", \"thought\", \"til\", \"til\", \"til\", \"time\", \"time\", \"time\", \"time\", \"times\", \"times\", \"times\", \"told\", \"told\", \"town\", \"town\", \"town\", \"try\", \"try\", \"try\", \"trying\", \"trying\", \"verse\", \"verse\", \"verse\", \"verse\", \"wait\", \"wait\", \"wait\", \"walk\", \"walk\", \"walk\", \"wan\", \"wan\", \"wan\", \"wan\", \"want\", \"want\", \"want\", \"watch\", \"watch\", \"watch\", \"way\", \"way\", \"way\", \"way\", \"whoa\", \"whoa\", \"whoa\", \"wish\", \"wish\", \"wish\", \"yeah\", \"yeah\", \"yeah\", \"yeah\", \"yes\", \"yes\", \"young\", \"young\"]}, \"R\": 30, \"lambda.step\": 0.01, \"plot.opts\": {\"xlab\": \"PC1\", \"ylab\": \"PC2\"}, \"topic.order\": [3, 4, 2, 1]};\n",
       "\n",
       "function LDAvis_load_lib(url, callback){\n",
       "  var s = document.createElement('script');\n",
       "  s.src = url;\n",
       "  s.async = true;\n",
       "  s.onreadystatechange = s.onload = callback;\n",
       "  s.onerror = function(){console.warn(\"failed to load library \" + url);};\n",
       "  document.getElementsByTagName(\"head\")[0].appendChild(s);\n",
       "}\n",
       "\n",
       "if(typeof(LDAvis) !== \"undefined\"){\n",
       "   // already loaded: just create the visualization\n",
       "   !function(LDAvis){\n",
       "       new LDAvis(\"#\" + \"ldavis_el15711406886690993925704446536\", ldavis_el15711406886690993925704446536_data);\n",
       "   }(LDAvis);\n",
       "}else if(typeof define === \"function\" && define.amd){\n",
       "   // require.js is available: use it to load d3/LDAvis\n",
       "   require.config({paths: {d3: \"https://d3js.org/d3.v5\"}});\n",
       "   require([\"d3\"], function(d3){\n",
       "      window.d3 = d3;\n",
       "      LDAvis_load_lib(\"https://cdn.jsdelivr.net/gh/bmabey/pyLDAvis@3.3.1/pyLDAvis/js/ldavis.v3.0.0.js\", function(){\n",
       "        new LDAvis(\"#\" + \"ldavis_el15711406886690993925704446536\", ldavis_el15711406886690993925704446536_data);\n",
       "      });\n",
       "    });\n",
       "}else{\n",
       "    // require.js not available: dynamically load d3 & LDAvis\n",
       "    LDAvis_load_lib(\"https://d3js.org/d3.v5.js\", function(){\n",
       "         LDAvis_load_lib(\"https://cdn.jsdelivr.net/gh/bmabey/pyLDAvis@3.3.1/pyLDAvis/js/ldavis.v3.0.0.js\", function(){\n",
       "                 new LDAvis(\"#\" + \"ldavis_el15711406886690993925704446536\", ldavis_el15711406886690993925704446536_data);\n",
       "            })\n",
       "         });\n",
       "}\n",
       "</script>"
      ],
      "text/plain": [
       "PreparedData(topic_coordinates=                x           y  topics  cluster       Freq\n",
       "topic                                                    \n",
       "2      269.562408 -124.803398       1        1  32.097787\n",
       "3        1.782994 -295.079681       2        1  31.772339\n",
       "1      220.811432 -343.832123       3        1  24.115312\n",
       "0       50.533993  -76.050934       4        1  12.014562, topic_info=       Term        Freq       Total Category  logprob  loglift\n",
       "117     ooh  352.000000  352.000000  Default  30.0000  30.0000\n",
       "183    yeah  439.000000  439.000000  Default  29.0000  29.0000\n",
       "175     wan  223.000000  223.000000  Default  28.0000  28.0000\n",
       "185   young  112.000000  112.000000  Default  27.0000  27.0000\n",
       "176    want  238.000000  238.000000  Default  26.0000  26.0000\n",
       "..      ...         ...         ...      ...      ...      ...\n",
       "69    heart   15.401477  117.189230   Topic4  -4.5716   0.0897\n",
       "2      baby   20.259672  260.015999   Topic4  -4.2974  -0.4331\n",
       "20   chorus   16.485150  352.021826   Topic4  -4.5036  -0.9422\n",
       "83     know   15.527041  351.574331   Topic4  -4.5635  -1.0008\n",
       "55      gon   13.829960  170.373859   Topic4  -4.6792  -0.3921\n",
       "\n",
       "[225 rows x 6 columns], token_table=      Topic      Freq     Term\n",
       "term                          \n",
       "0         1  0.749100  alright\n",
       "0         2  0.057623  alright\n",
       "0         3  0.086435  alright\n",
       "0         4  0.086435  alright\n",
       "1         1  0.017197     away\n",
       "...     ...       ...      ...\n",
       "183       4  0.018192     yeah\n",
       "184       1  0.931335      yes\n",
       "184       3  0.074507      yes\n",
       "185       3  0.615925    young\n",
       "185       4  0.374911    young\n",
       "\n",
       "[431 rows x 3 columns], R=30, lambda_step=0.01, plot_opts={'xlab': 'PC1', 'ylab': 'PC2'}, topic_order=[3, 4, 2, 1])"
      ]
     },
     "execution_count": 17,
     "metadata": {},
     "output_type": "execute_result"
    }
   ],
   "source": [
    "pyLDAvis.enable_notebook()\n",
    "panel = pyLDAvis.sklearn.prepare(best_lda_model, data_vectorized, vectorizer, mds='tsne')\n",
    "panel"
   ]
  },
  {
   "cell_type": "code",
   "execution_count": 18,
   "metadata": {
    "colab": {
     "base_uri": "https://localhost:8080/",
     "height": 172
    },
    "colab_type": "code",
    "id": "XWRoxxJJRhZn",
    "outputId": "744aa54e-f661-4e1d-e28b-348807419210"
   },
   "outputs": [
    {
     "data": {
      "text/html": [
       "<div>\n",
       "<style scoped>\n",
       "    .dataframe tbody tr th:only-of-type {\n",
       "        vertical-align: middle;\n",
       "    }\n",
       "\n",
       "    .dataframe tbody tr th {\n",
       "        vertical-align: top;\n",
       "    }\n",
       "\n",
       "    .dataframe thead th {\n",
       "        text-align: right;\n",
       "    }\n",
       "</style>\n",
       "<table border=\"1\" class=\"dataframe\">\n",
       "  <thead>\n",
       "    <tr style=\"text-align: right;\">\n",
       "      <th></th>\n",
       "      <th>Word 0</th>\n",
       "      <th>Word 1</th>\n",
       "      <th>Word 2</th>\n",
       "      <th>Word 3</th>\n",
       "      <th>Word 4</th>\n",
       "      <th>Word 5</th>\n",
       "      <th>Word 6</th>\n",
       "      <th>Word 7</th>\n",
       "      <th>Word 8</th>\n",
       "      <th>Word 9</th>\n",
       "      <th>...</th>\n",
       "      <th>Word 20</th>\n",
       "      <th>Word 21</th>\n",
       "      <th>Word 22</th>\n",
       "      <th>Word 23</th>\n",
       "      <th>Word 24</th>\n",
       "      <th>Word 25</th>\n",
       "      <th>Word 26</th>\n",
       "      <th>Word 27</th>\n",
       "      <th>Word 28</th>\n",
       "      <th>Word 29</th>\n",
       "    </tr>\n",
       "  </thead>\n",
       "  <tbody>\n",
       "    <tr>\n",
       "      <th>Topic 0</th>\n",
       "      <td>ooh</td>\n",
       "      <td>good</td>\n",
       "      <td>young</td>\n",
       "      <td>got</td>\n",
       "      <td>love</td>\n",
       "      <td>make</td>\n",
       "      <td>like</td>\n",
       "      <td>dance</td>\n",
       "      <td>say</td>\n",
       "      <td>broke</td>\n",
       "      <td>...</td>\n",
       "      <td>forget</td>\n",
       "      <td>guess</td>\n",
       "      <td>home</td>\n",
       "      <td>chorus</td>\n",
       "      <td>know</td>\n",
       "      <td>heart</td>\n",
       "      <td>mind</td>\n",
       "      <td>said</td>\n",
       "      <td>break</td>\n",
       "      <td>gon</td>\n",
       "    </tr>\n",
       "    <tr>\n",
       "      <th>Topic 1</th>\n",
       "      <td>yeah</td>\n",
       "      <td>got</td>\n",
       "      <td>like</td>\n",
       "      <td>feel</td>\n",
       "      <td>gon</td>\n",
       "      <td>love</td>\n",
       "      <td>chorus</td>\n",
       "      <td>time</td>\n",
       "      <td>young</td>\n",
       "      <td>cause</td>\n",
       "      <td>...</td>\n",
       "      <td>song</td>\n",
       "      <td>heart</td>\n",
       "      <td>good</td>\n",
       "      <td>til</td>\n",
       "      <td>hard</td>\n",
       "      <td>bridge</td>\n",
       "      <td>whoa</td>\n",
       "      <td>party</td>\n",
       "      <td>god</td>\n",
       "      <td>boy</td>\n",
       "    </tr>\n",
       "    <tr>\n",
       "      <th>Topic 2</th>\n",
       "      <td>like</td>\n",
       "      <td>hey</td>\n",
       "      <td>know</td>\n",
       "      <td>chorus</td>\n",
       "      <td>love</td>\n",
       "      <td>let</td>\n",
       "      <td>life</td>\n",
       "      <td>cause</td>\n",
       "      <td>say</td>\n",
       "      <td>said</td>\n",
       "      <td>...</td>\n",
       "      <td>make</td>\n",
       "      <td>want</td>\n",
       "      <td>man</td>\n",
       "      <td>bridge</td>\n",
       "      <td>bitch</td>\n",
       "      <td>heart</td>\n",
       "      <td>yeah</td>\n",
       "      <td>right</td>\n",
       "      <td>got</td>\n",
       "      <td>home</td>\n",
       "    </tr>\n",
       "    <tr>\n",
       "      <th>Topic 3</th>\n",
       "      <td>wan</td>\n",
       "      <td>want</td>\n",
       "      <td>baby</td>\n",
       "      <td>way</td>\n",
       "      <td>love</td>\n",
       "      <td>know</td>\n",
       "      <td>chorus</td>\n",
       "      <td>say</td>\n",
       "      <td>away</td>\n",
       "      <td>cause</td>\n",
       "      <td>...</td>\n",
       "      <td>walk</td>\n",
       "      <td>sorry</td>\n",
       "      <td>let</td>\n",
       "      <td>hold</td>\n",
       "      <td>yeah</td>\n",
       "      <td>bridge</td>\n",
       "      <td>time</td>\n",
       "      <td>getting</td>\n",
       "      <td>post</td>\n",
       "      <td>fall</td>\n",
       "    </tr>\n",
       "  </tbody>\n",
       "</table>\n",
       "<p>4 rows × 30 columns</p>\n",
       "</div>"
      ],
      "text/plain": [
       "        Word 0 Word 1 Word 2  Word 3 Word 4 Word 5  Word 6 Word 7 Word 8  \\\n",
       "Topic 0    ooh   good  young     got   love   make    like  dance    say   \n",
       "Topic 1   yeah    got   like    feel    gon   love  chorus   time  young   \n",
       "Topic 2   like    hey   know  chorus   love    let    life  cause    say   \n",
       "Topic 3    wan   want   baby     way   love   know  chorus    say   away   \n",
       "\n",
       "        Word 9  ... Word 20 Word 21 Word 22 Word 23 Word 24 Word 25 Word 26  \\\n",
       "Topic 0  broke  ...  forget   guess    home  chorus    know   heart    mind   \n",
       "Topic 1  cause  ...    song   heart    good     til    hard  bridge    whoa   \n",
       "Topic 2   said  ...    make    want     man  bridge   bitch   heart    yeah   \n",
       "Topic 3  cause  ...    walk   sorry     let    hold    yeah  bridge    time   \n",
       "\n",
       "         Word 27 Word 28 Word 29  \n",
       "Topic 0     said   break     gon  \n",
       "Topic 1    party     god     boy  \n",
       "Topic 2    right     got    home  \n",
       "Topic 3  getting    post    fall  \n",
       "\n",
       "[4 rows x 30 columns]"
      ]
     },
     "execution_count": 18,
     "metadata": {},
     "output_type": "execute_result"
    }
   ],
   "source": [
    "# Show top n keywords for each topic\n",
    "def show_topics(vectorizer=vectorizer, lda_model=lda_model, n_words=20):\n",
    "    keywords = np.array(vectorizer.get_feature_names())\n",
    "    topic_keywords = []\n",
    "    for topic_weights in lda_model.components_:\n",
    "        top_keyword_locs = (-topic_weights).argsort()[:n_words]\n",
    "        topic_keywords.append(keywords.take(top_keyword_locs))\n",
    "    return topic_keywords\n",
    "\n",
    "topic_keywords = show_topics(vectorizer=vectorizer, lda_model=best_lda_model, n_words=30)        \n",
    "\n",
    "# Topic - Keywords Dataframe\n",
    "df_topic_keywords = pd.DataFrame(topic_keywords)\n",
    "df_topic_keywords.columns = ['Word '+str(i) for i in range(df_topic_keywords.shape[1])]\n",
    "df_topic_keywords.index = ['Topic '+str(i) for i in range(df_topic_keywords.shape[0])]\n",
    "df_topic_keywords"
   ]
  },
  {
   "cell_type": "code",
   "execution_count": 19,
   "metadata": {
    "colab": {},
    "colab_type": "code",
    "id": "8RsCJ9ypRkHb"
   },
   "outputs": [
    {
     "name": "stdout",
     "output_type": "stream",
     "text": [
      "Component's weights: \n",
      " [[ 0.12  0.38  0.65  0.65]\n",
      " [-0.02 -0.33  0.76 -0.56]]\n",
      "Perc of Variance Explained: \n",
      " [0.05 0.44]\n"
     ]
    }
   ],
   "source": [
    "# # Construct the k-means clusters\n",
    "from sklearn.cluster import KMeans\n",
    "clusters = KMeans(n_clusters=15, random_state=100).fit_predict(lda_output)\n",
    "\n",
    "# # Build the Singular Value Decomposition(SVD) model\n",
    "svd_model = TruncatedSVD(n_components=2)  # 2 components\n",
    "lda_output_svd = svd_model.fit_transform(lda_output)\n",
    "\n",
    "# # X and Y axes of the plot using SVD decomposition\n",
    "x = lda_output_svd[:, 0]\n",
    "y = lda_output_svd[:, 1]\n",
    "\n",
    "# # Weights for the 15 columns of lda_output, for each component\n",
    "print(\"Component's weights: \\n\", np.round(svd_model.components_, 2))\n",
    "\n",
    "# # Percentage of total information in 'lda_output' explained by the two components\n",
    "print(\"Perc of Variance Explained: \\n\", np.round(svd_model.explained_variance_ratio_, 2))"
   ]
  },
  {
   "cell_type": "code",
   "execution_count": 20,
   "metadata": {
    "colab": {},
    "colab_type": "code",
    "id": "aFlB0lKkTfiP"
   },
   "outputs": [
    {
     "data": {
      "text/plain": [
       "Text(0.5, 1.0, 'Segregation of Topic Clusters')"
      ]
     },
     "execution_count": 20,
     "metadata": {},
     "output_type": "execute_result"
    },
    {
     "data": {
      "image/png": "[encoded data removed]",
      "text/plain": [
       "<Figure size 432x432 with 1 Axes>"
      ]
     },
     "metadata": {
      "needs_background": "light"
     },
     "output_type": "display_data"
    }
   ],
   "source": [
    "# # Plot\n",
    "plt.figure(figsize=(6, 6))\n",
    "plt.scatter(x, y, c=clusters)\n",
    "plt.xlabel('Component 2')\n",
    "plt.xlabel('Component 1')\n",
    "plt.title(\"Segregation of Topic Clusters\", )\n",
    "#plt.legend(loc=\"upper left\")"
   ]
  },
  {
   "cell_type": "code",
   "execution_count": 21,
   "metadata": {
    "colab": {
     "base_uri": "https://localhost:8080/",
     "height": 463
    },
    "colab_type": "code",
    "id": "yc1loEFwnWAq",
    "outputId": "ec036034-672f-4458-a233-79ba3bff5635"
   },
   "outputs": [],
   "source": [
    "df_post_topic = pd.concat([df,df_document_topic.reset_index(drop = True)], axis = 1)\n",
    "#df_post_topic.head()"
   ]
  },
  {
   "cell_type": "markdown",
   "metadata": {
    "colab_type": "text",
    "id": "stiU9Ep3pBcq"
   },
   "source": [
    "## Sentiment Analysis"
   ]
  },
  {
   "cell_type": "code",
   "execution_count": 22,
   "metadata": {
    "colab": {
     "base_uri": "https://localhost:8080/",
     "height": 127
    },
    "colab_type": "code",
    "id": "xg2xhQNmpD-O",
    "outputId": "d7a3f76d-108e-4359-cc27-22221e6aa797"
   },
   "outputs": [],
   "source": [
    "#!pip install vaderSentiment"
   ]
  },
  {
   "cell_type": "code",
   "execution_count": 23,
   "metadata": {
    "colab": {},
    "colab_type": "code",
    "id": "f9fNZYK0pcJ3"
   },
   "outputs": [],
   "source": [
    "from vaderSentiment.vaderSentiment import SentimentIntensityAnalyzer\n",
    "analyser = SentimentIntensityAnalyzer()"
   ]
  },
  {
   "cell_type": "code",
   "execution_count": 24,
   "metadata": {
    "colab": {},
    "colab_type": "code",
    "id": "YuMtCw0Wpgzh"
   },
   "outputs": [],
   "source": [
    "def sentiment_analyzer_scores(sentence):\n",
    "    score = analyser.polarity_scores(sentence)\n",
    "    return score['compound']"
   ]
  },
  {
   "cell_type": "code",
   "execution_count": 25,
   "metadata": {
    "colab": {},
    "colab_type": "code",
    "id": "J1gFexpWp29E"
   },
   "outputs": [],
   "source": [
    "df_post_topic.loc[:,'sentiment'] = df_post_topic.loc[:,'filtered_lyrics'].map(lambda x:sentiment_analyzer_scores(x))"
   ]
  },
  {
   "cell_type": "code",
   "execution_count": 26,
   "metadata": {
    "colab": {
     "base_uri": "https://localhost:8080/",
     "height": 463
    },
    "colab_type": "code",
    "id": "YWFyQW8xiYDj",
    "outputId": "ce411e6b-8dd7-4890-a813-c01b288c508f",
    "scrolled": true
   },
   "outputs": [
    {
     "data": {
      "text/plain": [
       "Index(['Unnamed: 0', 'Unnamed: 0.1', 'id', 'title', 'first_artist',\n",
       "       'all_artists', 'danceability', 'energy', 'key', 'loudness', 'mode',\n",
       "       'acousticness', 'instrumentalness', 'liveness', 'valence', 'tempo',\n",
       "       'duration_ms', 'time_signature', 'artist', 'song', 'lyrics',\n",
       "       'lyrics_cleaned', 'filtered_lyrics', 'Topic0', 'Topic1', 'Topic2',\n",
       "       'Topic3', 'dominant_topic', 'sentiment'],\n",
       "      dtype='object')"
      ]
     },
     "execution_count": 26,
     "metadata": {},
     "output_type": "execute_result"
    }
   ],
   "source": [
    "df_post_topic.columns"
   ]
  },
  {
   "cell_type": "code",
   "execution_count": 27,
   "metadata": {
    "colab": {},
    "colab_type": "code",
    "id": "9SDbLwf0kzV6"
   },
   "outputs": [],
   "source": [
    "#df_post_topic = df.copy()\n",
    "#df_post_topic['dominant_topic'] = dominant_topic"
   ]
  },
  {
   "cell_type": "code",
   "execution_count": 28,
   "metadata": {
    "colab": {
     "base_uri": "https://localhost:8080/",
     "height": 513
    },
    "colab_type": "code",
    "id": "nP-BEYaNhprW",
    "outputId": "b748269d-bd2f-486c-80f8-ce12f9b654fa"
   },
   "outputs": [
    {
     "data": {
      "image/png": "[encoded data removed]",
      "text/plain": [
       "<Figure size 720x576 with 1 Axes>"
      ]
     },
     "metadata": {
      "needs_background": "light"
     },
     "output_type": "display_data"
    }
   ],
   "source": [
    "import numpy as np\n",
    "plt.figure(figsize=(10,8))\n",
    "df_post_topic.groupby('dominant_topic')['sentiment'].median().plot(kind='barh', color=(df_post_topic.groupby('dominant_topic')['sentiment'].mean() > 0).map({True: 'g',False: 'r'}));\n",
    "plt.xlabel('Sentiment Score');\n",
    "plt.ylabel('');\n",
    "plt.title('Sentiments in Topics');\n",
    "#plt.yticks(np.arange(4), ('Explicit','Love/Emotional','Reflective/Upbeat','Breakfree/Celebrating Yourself'));"
   ]
  },
  {
   "cell_type": "code",
   "execution_count": 29,
   "metadata": {
    "colab": {},
    "colab_type": "code",
    "id": "l3g8n3pmqDv8"
   },
   "outputs": [],
   "source": [
    "df_post_topic.to_csv('data_with_topic_and_sentiment.csv', index = False)"
   ]
  },
  {
   "cell_type": "code",
   "execution_count": 30,
   "metadata": {
    "colab": {},
    "colab_type": "code",
    "id": "i4icC3dxTdlt"
   },
   "outputs": [],
   "source": [
    "import pandas as pd\n",
    "df = pd.read_csv('data_with_topic_and_sentiment.csv')"
   ]
  },
  {
   "cell_type": "code",
   "execution_count": 31,
   "metadata": {
    "colab": {
     "base_uri": "https://localhost:8080/",
     "height": 716
    },
    "colab_type": "code",
    "id": "2Y-fN8gjUgSf",
    "outputId": "ea7fa7a6-33c3-4bdb-fb29-d3181098bb24"
   },
   "outputs": [
    {
     "data": {
      "image/png": "[encoded data removed]",
      "text/plain": [
       "<Figure size 576x864 with 1 Axes>"
      ]
     },
     "metadata": {
      "needs_background": "light"
     },
     "output_type": "display_data"
    }
   ],
   "source": [
    "import seaborn as sns; \n",
    "plt.figure(figsize=(8,12))\n",
    "plt.title(\"Top Artists\")\n",
    "ax = sns.barplot(y=df['first_artist'].value_counts()[:20].index, x=df['first_artist'].value_counts()[:20].values, palette=\"Blues_d\", orient='h')"
   ]
  },
  {
   "cell_type": "code",
   "execution_count": 32,
   "metadata": {
    "colab": {
     "base_uri": "https://localhost:8080/",
     "height": 215
    },
    "colab_type": "code",
    "id": "0z25nIfJOIHC",
    "outputId": "3882e9ce-92f7-48ad-ae3b-03cf8e6455d7",
    "scrolled": true
   },
   "outputs": [
    {
     "data": {
      "text/plain": [
       "0       n't\n",
       "1      like\n",
       "2       're\n",
       "3      yeah\n",
       "4      love\n",
       "5      know\n",
       "6       'll\n",
       "7       got\n",
       "8    'cause\n",
       "9      baby\n",
       "Name: Word, dtype: object"
      ]
     },
     "execution_count": 32,
     "metadata": {},
     "output_type": "execute_result"
    }
   ],
   "source": [
    "# word cloud\n",
    "from nltk.util import ngrams\n",
    "from collections import Counter\n",
    "\n",
    "unigram = Counter(ngrams(all_words, 1))\n",
    "output = pd.DataFrame.from_dict(unigram, orient='index').reset_index()\n",
    "\n",
    "output.columns = ['Word', 'Count']\n",
    "output = output.sort_values(by = ['Count'], ascending = False)\n",
    "for each in range(len(output)):\n",
    "    output.loc[each,'Word'] = str(output.loc[each,'Word'])[2:-3]\n",
    "output.reset_index(inplace = True)\n",
    "output = output.drop('index', axis = 1)\n",
    "output.to_csv('ngram.csv')\n",
    "output['Word'][:10]"
   ]
  },
  {
   "cell_type": "code",
   "execution_count": 33,
   "metadata": {},
   "outputs": [
    {
     "data": {
      "text/plain": [
       "Index(['Unnamed: 0', 'Unnamed: 0.1', 'id', 'title', 'first_artist',\n",
       "       'all_artists', 'danceability', 'energy', 'key', 'loudness', 'mode',\n",
       "       'acousticness', 'instrumentalness', 'liveness', 'valence', 'tempo',\n",
       "       'duration_ms', 'time_signature', 'artist', 'song', 'lyrics',\n",
       "       'lyrics_cleaned', 'filtered_lyrics', 'Topic0', 'Topic1', 'Topic2',\n",
       "       'Topic3', 'dominant_topic', 'sentiment'],\n",
       "      dtype='object')"
      ]
     },
     "execution_count": 33,
     "metadata": {},
     "output_type": "execute_result"
    }
   ],
   "source": [
    "df.columns"
   ]
  },
  {
   "cell_type": "markdown",
   "metadata": {
    "colab_type": "text",
    "id": "sAUDmoXJMtBQ"
   },
   "source": [
    "## TF-IDF"
   ]
  },
  {
   "cell_type": "code",
   "execution_count": 34,
   "metadata": {
    "colab": {},
    "colab_type": "code",
    "id": "1Vbd38yg_juw"
   },
   "outputs": [
    {
     "data": {
      "text/plain": [
       "Index(['Unnamed: 0', 'Unnamed: 0.1', 'id', 'title', 'first_artist',\n",
       "       'all_artists', 'danceability', 'energy', 'key', 'loudness', 'mode',\n",
       "       'acousticness', 'instrumentalness', 'liveness', 'valence', 'tempo',\n",
       "       'duration_ms', 'time_signature', 'artist', 'song', 'lyrics',\n",
       "       'lyrics_cleaned', 'filtered_lyrics', 'Topic0', 'Topic1', 'Topic2',\n",
       "       'Topic3', 'dominant_topic', 'sentiment'],\n",
       "      dtype='object')"
      ]
     },
     "execution_count": 34,
     "metadata": {},
     "output_type": "execute_result"
    }
   ],
   "source": [
    "df_post_topic = df.copy()\n",
    "df_post_topic.columns"
   ]
  },
  {
   "cell_type": "code",
   "execution_count": 35,
   "metadata": {
    "colab": {
     "base_uri": "https://localhost:8080/",
     "height": 89
    },
    "colab_type": "code",
    "id": "hLHml9zL7gi6",
    "outputId": "ddf46e80-ef18-420b-ab20-d3611d3c1f1e"
   },
   "outputs": [
    {
     "name": "stderr",
     "output_type": "stream",
     "text": [
      "[nltk_data] Downloading package punkt to\n",
      "[nltk_data]     /Users/caseyscomputer/nltk_data...\n",
      "[nltk_data]   Package punkt is already up-to-date!\n",
      "[nltk_data] Downloading package wordnet to\n",
      "[nltk_data]     /Users/caseyscomputer/nltk_data...\n",
      "[nltk_data]   Package wordnet is already up-to-date!\n"
     ]
    }
   ],
   "source": [
    "from sklearn.feature_extraction.text import TfidfTransformer\n",
    "from sklearn.feature_extraction.text import CountVectorizer\n",
    "from nltk import word_tokenize\n",
    "from nltk.stem import WordNetLemmatizer\n",
    "import nltk\n",
    "nltk.download('punkt')\n",
    "nltk.download('wordnet')\n",
    "\n",
    "class LemmaTokenizer(object):\n",
    "    def __init__(self):\n",
    "        self.wnl = WordNetLemmatizer()\n",
    "    def __call__(self, doc):\n",
    "        return [self.wnl.lemmatize(t) for t in word_tokenize(doc)]"
   ]
  },
  {
   "cell_type": "code",
   "execution_count": null,
   "metadata": {},
   "outputs": [],
   "source": []
  },
  {
   "cell_type": "code",
   "execution_count": 36,
   "metadata": {
    "colab": {
     "base_uri": "https://localhost:8080/",
     "height": 73
    },
    "colab_type": "code",
    "id": "FQQrXoLO7s27",
    "outputId": "ca1b693a-34a6-4d90-fceb-ae535cede8f5"
   },
   "outputs": [],
   "source": [
    "cv=CountVectorizer(tokenizer=LemmaTokenizer(), ngram_range=(1,2), stop_words='english', max_features=1250)\n",
    "word_count_vector=cv.fit_transform(df_post_topic.filtered_lyrics.values)\n",
    "tfidf_transformer=TfidfTransformer(smooth_idf=True,use_idf=True)\n",
    "tfidf_transformer.fit(word_count_vector)\n",
    "# tf-idf scores\n",
    "tf_idf_vector=tfidf_transformer.transform(word_count_vector)\n"
   ]
  },
  {
   "cell_type": "markdown",
   "metadata": {},
   "source": [
    "# Recommender - based on lyrics\n"
   ]
  },
  {
   "cell_type": "code",
   "execution_count": 37,
   "metadata": {
    "colab": {
     "base_uri": "https://localhost:8080/",
     "height": 197
    },
    "colab_type": "code",
    "id": "do-9VLl78O3n",
    "outputId": "630d6966-dc41-46bd-a897-ab8cb8edbebd"
   },
   "outputs": [
    {
     "name": "stdout",
     "output_type": "stream",
     "text": [
      "Song I want recommendations for:\n",
      "10    Say Something\n",
      "Name: title, dtype: object\n",
      " \n",
      " \n",
      "Recommendations:\n",
      " \n",
      "            title       first_artist\n",
      "10  Say Something  A Great Big World\n",
      "    title   first_artist\n",
      "85  Bored  Billie Eilish\n",
      "                 title first_artist\n",
      "127  Dancing On My Own  Calum Scott\n",
      "       title    first_artist\n",
      "36  good 4 u  Olivia Rodrigo\n",
      "     title   first_artist\n",
      "4  You Say  Lauren Daigle\n"
     ]
    }
   ],
   "source": [
    "#based on TF-IDF user inputs a song and we give them recommendations\n",
    "from sklearn.metrics.pairwise import linear_kernel\n",
    "\n",
    "#index = the songs index\n",
    "#make more user friendly\n",
    "index=10\n",
    "cosine_similarities = linear_kernel(tf_idf_vector[index:index+1], tf_idf_vector).flatten()\n",
    "related_song_indices = cosine_similarities.argsort()[:-6:-1]\n",
    "recom=list(related_song_indices)\n",
    "\n",
    "print('Song I want recommendations for:')\n",
    "print(df_post_topic['title'][index:index+1])\n",
    "print(' ')\n",
    "print(' ')\n",
    "print('Recommendations:')\n",
    "print(' ')\n",
    "for i in recom:\n",
    "  print(df_post_topic.iloc[[i]][['title', 'first_artist']] )\n"
   ]
  },
  {
   "cell_type": "markdown",
   "metadata": {},
   "source": [
    "# Feature Importance"
   ]
  },
  {
   "cell_type": "code",
   "execution_count": 38,
   "metadata": {},
   "outputs": [],
   "source": [
    "new_df = df.copy()\n",
    "new_df[:3]\n",
    "new_df.drop(columns=['song','artist','Unnamed: 0','id','title','first_artist','all_artists','lyrics','time_signature','lyrics_cleaned','filtered_lyrics'], inplace = True)"
   ]
  },
  {
   "cell_type": "code",
   "execution_count": 39,
   "metadata": {},
   "outputs": [
    {
     "data": {
      "text/plain": [
       "Index(['Unnamed: 0.1', 'danceability', 'energy', 'key', 'loudness', 'mode',\n",
       "       'acousticness', 'instrumentalness', 'liveness', 'valence', 'tempo',\n",
       "       'duration_ms', 'Topic0', 'Topic1', 'Topic2', 'Topic3', 'dominant_topic',\n",
       "       'sentiment'],\n",
       "      dtype='object')"
      ]
     },
     "execution_count": 39,
     "metadata": {},
     "output_type": "execute_result"
    }
   ],
   "source": [
    "new_df.columns"
   ]
  },
  {
   "cell_type": "code",
   "execution_count": 40,
   "metadata": {
    "scrolled": true
   },
   "outputs": [
    {
     "data": {
      "text/html": [
       "<div>\n",
       "<style scoped>\n",
       "    .dataframe tbody tr th:only-of-type {\n",
       "        vertical-align: middle;\n",
       "    }\n",
       "\n",
       "    .dataframe tbody tr th {\n",
       "        vertical-align: top;\n",
       "    }\n",
       "\n",
       "    .dataframe thead th {\n",
       "        text-align: right;\n",
       "    }\n",
       "</style>\n",
       "<table border=\"1\" class=\"dataframe\">\n",
       "  <thead>\n",
       "    <tr style=\"text-align: right;\">\n",
       "      <th></th>\n",
       "      <th>Unnamed: 0.1</th>\n",
       "      <th>danceability</th>\n",
       "      <th>energy</th>\n",
       "      <th>key</th>\n",
       "      <th>loudness</th>\n",
       "      <th>mode</th>\n",
       "      <th>acousticness</th>\n",
       "      <th>instrumentalness</th>\n",
       "      <th>liveness</th>\n",
       "      <th>valence</th>\n",
       "      <th>...</th>\n",
       "      <th>duration_ms</th>\n",
       "      <th>Topic0</th>\n",
       "      <th>Topic1</th>\n",
       "      <th>Topic2</th>\n",
       "      <th>Topic3</th>\n",
       "      <th>dominant_topic</th>\n",
       "      <th>sentiment</th>\n",
       "      <th>sentiment_positive</th>\n",
       "      <th>sentiment_negative</th>\n",
       "      <th>sentiment_neutral</th>\n",
       "    </tr>\n",
       "  </thead>\n",
       "  <tbody>\n",
       "    <tr>\n",
       "      <th>0</th>\n",
       "      <td>1430</td>\n",
       "      <td>-0.512494</td>\n",
       "      <td>0.448</td>\n",
       "      <td>8</td>\n",
       "      <td>-6.312</td>\n",
       "      <td>1</td>\n",
       "      <td>0.163</td>\n",
       "      <td>0.000000</td>\n",
       "      <td>0.1060</td>\n",
       "      <td>0.1680</td>\n",
       "      <td>...</td>\n",
       "      <td>4.390000</td>\n",
       "      <td>0.01</td>\n",
       "      <td>0.01</td>\n",
       "      <td>0.98</td>\n",
       "      <td>0.01</td>\n",
       "      <td>2</td>\n",
       "      <td>0.9979</td>\n",
       "      <td>1</td>\n",
       "      <td>0</td>\n",
       "      <td>-2</td>\n",
       "    </tr>\n",
       "    <tr>\n",
       "      <th>1</th>\n",
       "      <td>1437</td>\n",
       "      <td>-0.285019</td>\n",
       "      <td>0.488</td>\n",
       "      <td>6</td>\n",
       "      <td>-7.050</td>\n",
       "      <td>1</td>\n",
       "      <td>0.297</td>\n",
       "      <td>0.000009</td>\n",
       "      <td>0.0936</td>\n",
       "      <td>0.5330</td>\n",
       "      <td>...</td>\n",
       "      <td>3.361017</td>\n",
       "      <td>0.07</td>\n",
       "      <td>0.33</td>\n",
       "      <td>0.00</td>\n",
       "      <td>0.60</td>\n",
       "      <td>3</td>\n",
       "      <td>-0.8833</td>\n",
       "      <td>0</td>\n",
       "      <td>1</td>\n",
       "      <td>-2</td>\n",
       "    </tr>\n",
       "    <tr>\n",
       "      <th>2</th>\n",
       "      <td>1441</td>\n",
       "      <td>-1.217396</td>\n",
       "      <td>0.351</td>\n",
       "      <td>6</td>\n",
       "      <td>-9.538</td>\n",
       "      <td>1</td>\n",
       "      <td>0.823</td>\n",
       "      <td>0.000001</td>\n",
       "      <td>0.1100</td>\n",
       "      <td>0.1900</td>\n",
       "      <td>...</td>\n",
       "      <td>3.545333</td>\n",
       "      <td>0.00</td>\n",
       "      <td>0.51</td>\n",
       "      <td>0.42</td>\n",
       "      <td>0.06</td>\n",
       "      <td>1</td>\n",
       "      <td>0.9984</td>\n",
       "      <td>1</td>\n",
       "      <td>0</td>\n",
       "      <td>-2</td>\n",
       "    </tr>\n",
       "    <tr>\n",
       "      <th>3</th>\n",
       "      <td>1442</td>\n",
       "      <td>-0.495937</td>\n",
       "      <td>0.444</td>\n",
       "      <td>7</td>\n",
       "      <td>-9.129</td>\n",
       "      <td>1</td>\n",
       "      <td>0.603</td>\n",
       "      <td>0.000007</td>\n",
       "      <td>0.1040</td>\n",
       "      <td>0.1660</td>\n",
       "      <td>...</td>\n",
       "      <td>3.811783</td>\n",
       "      <td>0.10</td>\n",
       "      <td>0.21</td>\n",
       "      <td>0.00</td>\n",
       "      <td>0.69</td>\n",
       "      <td>3</td>\n",
       "      <td>0.9861</td>\n",
       "      <td>1</td>\n",
       "      <td>0</td>\n",
       "      <td>-2</td>\n",
       "    </tr>\n",
       "    <tr>\n",
       "      <th>4</th>\n",
       "      <td>1446</td>\n",
       "      <td>-0.705220</td>\n",
       "      <td>0.632</td>\n",
       "      <td>5</td>\n",
       "      <td>-6.890</td>\n",
       "      <td>1</td>\n",
       "      <td>0.682</td>\n",
       "      <td>0.000000</td>\n",
       "      <td>0.0869</td>\n",
       "      <td>0.0797</td>\n",
       "      <td>...</td>\n",
       "      <td>4.578217</td>\n",
       "      <td>0.01</td>\n",
       "      <td>0.01</td>\n",
       "      <td>0.87</td>\n",
       "      <td>0.12</td>\n",
       "      <td>2</td>\n",
       "      <td>0.8750</td>\n",
       "      <td>1</td>\n",
       "      <td>0</td>\n",
       "      <td>-2</td>\n",
       "    </tr>\n",
       "  </tbody>\n",
       "</table>\n",
       "<p>5 rows × 21 columns</p>\n",
       "</div>"
      ],
      "text/plain": [
       "   Unnamed: 0.1  danceability  energy  key  loudness  mode  acousticness  \\\n",
       "0          1430     -0.512494   0.448    8    -6.312     1         0.163   \n",
       "1          1437     -0.285019   0.488    6    -7.050     1         0.297   \n",
       "2          1441     -1.217396   0.351    6    -9.538     1         0.823   \n",
       "3          1442     -0.495937   0.444    7    -9.129     1         0.603   \n",
       "4          1446     -0.705220   0.632    5    -6.890     1         0.682   \n",
       "\n",
       "   instrumentalness  liveness  valence  ...  duration_ms  Topic0  Topic1  \\\n",
       "0          0.000000    0.1060   0.1680  ...     4.390000    0.01    0.01   \n",
       "1          0.000009    0.0936   0.5330  ...     3.361017    0.07    0.33   \n",
       "2          0.000001    0.1100   0.1900  ...     3.545333    0.00    0.51   \n",
       "3          0.000007    0.1040   0.1660  ...     3.811783    0.10    0.21   \n",
       "4          0.000000    0.0869   0.0797  ...     4.578217    0.01    0.01   \n",
       "\n",
       "   Topic2  Topic3  dominant_topic  sentiment  sentiment_positive  \\\n",
       "0    0.98    0.01               2     0.9979                   1   \n",
       "1    0.00    0.60               3    -0.8833                   0   \n",
       "2    0.42    0.06               1     0.9984                   1   \n",
       "3    0.00    0.69               3     0.9861                   1   \n",
       "4    0.87    0.12               2     0.8750                   1   \n",
       "\n",
       "   sentiment_negative  sentiment_neutral  \n",
       "0                   0                 -2  \n",
       "1                   1                 -2  \n",
       "2                   0                 -2  \n",
       "3                   0                 -2  \n",
       "4                   0                 -2  \n",
       "\n",
       "[5 rows x 21 columns]"
      ]
     },
     "execution_count": 40,
     "metadata": {},
     "output_type": "execute_result"
    }
   ],
   "source": [
    "new_df['danceability'] = np.log(new_df['danceability'])\n",
    "new_df['duration_ms'] = new_df['duration_ms']/60000\n",
    "new_df['sentiment_positive'] = (new_df['sentiment']>0.7).astype(int)\n",
    "new_df['sentiment_negative'] = (new_df['sentiment']<-0.7).astype(int)\n",
    "new_df['sentiment_neutral'] = (~(new_df['sentiment_positive'] | new_df['sentiment_negative'])).astype(int)\n",
    "new_df = new_df[~new_df.isin([np.nan, np.inf, -np.inf]).any(1)]\n",
    "new_df.head()"
   ]
  },
  {
   "cell_type": "markdown",
   "metadata": {},
   "source": [
    "## can change y variable depending on which attribute you want to predict feature importance"
   ]
  },
  {
   "cell_type": "code",
   "execution_count": 41,
   "metadata": {},
   "outputs": [],
   "source": [
    "y = new_df['danceability']\n",
    "X = new_df.loc[:,new_df.columns != 'danceability']\n",
    "# X.drop(columns = ['followers','artist_popularity','Topic0','Topic1', 'Topic2', 'Topic3','dominant_topic','sentiment','sentiment_positive','sentiment_negative','sentiment_neutral'],inplace = True)"
   ]
  },
  {
   "cell_type": "markdown",
   "metadata": {},
   "source": [
    "## predictive model"
   ]
  },
  {
   "cell_type": "code",
   "execution_count": 42,
   "metadata": {},
   "outputs": [
    {
     "data": {
      "text/plain": [
       "0.9092406853850123"
      ]
     },
     "execution_count": 42,
     "metadata": {},
     "output_type": "execute_result"
    }
   ],
   "source": [
    "from sklearn.ensemble import RandomForestRegressor\n",
    "from sklearn.metrics import r2_score\n",
    "regr = RandomForestRegressor(max_depth=10, random_state=0,n_estimators=500)\n",
    "regr.fit(X, y)\n",
    "\n",
    "r2_score(y, regr.predict(X), sample_weight=None)"
   ]
  },
  {
   "cell_type": "code",
   "execution_count": 43,
   "metadata": {},
   "outputs": [
    {
     "data": {
      "image/png": "[encoded data removed]",
      "text/plain": [
       "<Figure size 360x360 with 1 Axes>"
      ]
     },
     "metadata": {
      "needs_background": "light"
     },
     "output_type": "display_data"
    }
   ],
   "source": [
    "# Feature importannce\n",
    "import seaborn as sns; \n",
    "ft_imp = pd.Series(data=regr.feature_importances_, index=X.columns).sort_values(ascending=False)\n",
    "plt.figure(figsize=(5,5))\n",
    "plt.title(\"Feature importance for Danceability\")\n",
    "ax = sns.barplot(y=ft_imp.index, x=ft_imp.values, palette=\"Blues_d\", orient='h')"
   ]
  },
  {
   "cell_type": "code",
   "execution_count": 51,
   "metadata": {},
   "outputs": [
    {
     "data": {
      "image/png": "[encoded data removed]",
      "text/plain": [
       "<Figure size 360x360 with 1 Axes>"
      ]
     },
     "metadata": {
      "needs_background": "light"
     },
     "output_type": "display_data"
    }
   ],
   "source": [
    "# Feature importannce \n",
    "ft_imp = pd.Series(data=regr.feature_importances_, index=X.columns).sort_values(ascending=False)\n",
    "\n",
    "ft_imp2 = ft_imp.sort_index(ascending=False)\n",
    "ft_imp2 = ft_imp2[16:].sort_values(ascending=False)\n",
    "\n",
    "plt.figure(figsize=(5,5))\n",
    "plt.title(\"Alternative - Feature importance for Danceability\")\n",
    "ax = sns.barplot(y=ft_imp2.index, x=ft_imp2.values, color=\"Blue\", orient='h')\n",
    "plt.yticks(np.arange(4), ('Heartbreak','Partying','Good times','Love'));"
   ]
  },
  {
   "cell_type": "code",
   "execution_count": null,
   "metadata": {},
   "outputs": [],
   "source": []
  }
 ],
 "metadata": {
  "accelerator": "GPU",
  "colab": {
   "collapsed_sections": [],
   "name": "Text Project.ipynb",
   "provenance": []
  },
  "kernelspec": {
   "display_name": "Python 3 (ipykernel)",
   "language": "python",
   "name": "python3"
  },
  "language_info": {
   "codemirror_mode": {
    "name": "ipython",
    "version": 3
   },
   "file_extension": ".py",
   "mimetype": "text/x-python",
   "name": "python",
   "nbconvert_exporter": "python",
   "pygments_lexer": "ipython3",
   "version": "3.8.10"
  }
 },
 "nbformat": 4,
 "nbformat_minor": 1
}
