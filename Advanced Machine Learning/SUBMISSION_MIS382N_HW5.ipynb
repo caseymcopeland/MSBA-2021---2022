{
 "cells": [
  {
   "cell_type": "markdown",
   "metadata": {
    "id": "qjzT9K-gmtJS"
   },
   "source": [
    "# <p style=\"text-align: center;\">MIS 382N: Advanced Machine Learning</p>\n",
    "# <p style=\"text-align: center;\">Homework 5</p> (Finally the final homework this semester, yay!)\n",
    "## <p style=\"text-align: center;\">Total points: 55 </p>\n",
    "## <p style=\"text-align: center;\">Due: Monday, **Nov 29th** submitted via Canvas by 11:59 pm</p>\n",
    "\n",
    "Your homework should be written in a **Jupyter notebook**. Please make sure your code runs and the graphics (and anything else) are displayed in your notebook before submitting (%matplotlib inline). \n",
    "\n",
    "**Note: Notebooks MUST have the images embedded in them. There will be no regrades if attached images do not render in the notebook. Please re download from canvas after submission and make sure all attached images render without errors. (Hint: Image module from IPython.display)**"
   ]
  },
  {
   "cell_type": "markdown",
   "metadata": {
    "id": "pfPMQCbGnKaW"
   },
   "source": [
    "**This can be an individual assignment or group of 2. If you choose to do it as a group, please specify who you are working with (name and EID), then only one student should submit the homework. Put your name and eid here.**\n",
    "\n",
    "Name: Rhiannon Pytlak\n",
    "\n",
    "EID: rkp643\n",
    "\n",
    "Name: Sophia Scott\n",
    "\n",
    "EID: sbs2753"
   ]
  },
  {
   "cell_type": "code",
   "execution_count": null,
   "metadata": {
    "id": "CfFH7xMgiLYK"
   },
   "outputs": [],
   "source": [
    "#Import packages\n",
    "import pandas as pd\n",
    "import numpy as np\n",
    "import matplotlib.pyplot as plt\n",
    "import seaborn as sns\n",
    "from sklearn.cluster import KMeans\n",
    "from sklearn import datasets\n",
    "from io import StringIO\n",
    "from sklearn.tree import export_graphviz\n",
    "from sklearn.model_selection import train_test_split\n",
    "from sklearn import tree\n",
    "from sklearn import metrics\n",
    "from sklearn.metrics import roc_auc_score\n",
    "from sklearn.linear_model import LogisticRegression\n",
    "from sklearn.ensemble import BaggingClassifier\n",
    "from sklearn.ensemble import RandomForestClassifier\n",
    "from sklearn.model_selection import GridSearchCV\n",
    "from sklearn.ensemble import GradientBoostingClassifier\n",
    "from sklearn.ensemble import AdaBoostClassifier\n",
    "import warnings\n",
    "warnings.filterwarnings(\"ignore\")\n",
    "\n",
    "%matplotlib inline"
   ]
  },
  {
   "cell_type": "markdown",
   "metadata": {
    "id": "ld3ZWXbOoTE8"
   },
   "source": [
    "# Question 1: Ensembles Conceptual (5 pts)\n",
    "Briefly describe the concepts of Gradient Boosting in your own words. How does it differ from Adaboost?"
   ]
  },
  {
   "cell_type": "markdown",
   "metadata": {
    "id": "2c8qvF0Bq33L"
   },
   "source": [
    "## Answer:\n",
    "\n",
    "\n",
    "**Concepts of Gradient Boosting:**\n",
    "* trains learners based upon minimizing the loss function of a learner \n",
    "  * (i.e., training on the residuals of the model) \n",
    "* Weak learners are decision trees constructed in a greedy manner with split points based on purity scores \n",
    "  * Learners should still remain weak and so they should be constrained \n",
    "    * (i.e., the maximum number of layers, nodes, splits, leaf nodes)\n",
    "* All the learners have equal weights in the case of gradient boosting\n",
    "  * The weight is usually set as the learning rate which is small in magnitude\n",
    "\n",
    "**How does gradient boosting differ from Adaboost?**\n",
    "\n",
    "Gradient boosting improvised upon some of the features of Adaboost to create a stronger and more efficient algorithm.\n",
    "\n",
    "Instead of using the weighted average of individual outputs as the final outputs, it uses a loss function to minimize loss and converge upon a final output value. \n",
    "\n",
    "The loss function optimization is done using gradient descent, and hence the name gradient boosting.\n",
    "\n"
   ]
  },
  {
   "cell_type": "markdown",
   "metadata": {
    "id": "7ftHMxZX1fnh"
   },
   "source": [
    "# Question 2: SVM (25 pts)\n",
    "Support Vector Machine (SVM) is a supervised machine learning algorithm that can be used for both classification and regression. In this problem, you will be playing with SVM on the sklearn wine dataset to explore the impacts of different parameters.\n",
    "\n",
    "**a) (5 pts)** Implement the `train_model()` function. This function takes as input:\n",
    "\n",
    "- X (the features)\n",
    "- y (the labels)\n",
    "- kernel (the specified kernel type, default value is `'linear'`)\n",
    "- C (the penalty parameter, default value is 1\n",
    ")\n",
    "- gamma (the kernel coefficient, default value is 0.5). \n",
    "\n",
    "The `train_model()` function should fit a [svm.SVC](https://scikit-learn.org/stable/modules/generated/sklearn.svm.SVC.html) model and return the trained model. After implementing `train_model()`, use the `plot_model()` function provided below to plot the results of your model.\n",
    "\n",
    "**b) (10 pts)** The `kernel` parameter decides what form the input data will be transformed into, and may affect how your trained SVM model performs. In (a), the default value for `kernel` is `'linear'`, now re-train your svm model as you did in (a), but this time, use `'rbf'` as the `kernel`, while keeping `C=1, gamma=0.5` still. Use the provided `plot_model()` function to plot the results of your model. What do you observe?\n",
    "\n",
    "**c) (10 pts)** The `'gamma'` is a hyper-parameter needed for `'rbf'` kernel, which specifies the width of the Gaussian Kernel. Now experiment with different gamma values `[0.5, 1, 10, 100]`, use `'rbf'` as the `kernel`, while keeping `C=1`. Train your SVM and use the provided `plot_model()` function to plot the results of your model. What do you observe from the plot as gamma increases? "
   ]
  },
  {
   "cell_type": "markdown",
   "metadata": {
    "id": "jI85gxTiacFo"
   },
   "source": [
    "## Part A"
   ]
  },
  {
   "cell_type": "code",
   "execution_count": null,
   "metadata": {
    "id": "pJxDghiN41EH"
   },
   "outputs": [],
   "source": [
    "import numpy as np\n",
    "import matplotlib.pyplot as plt\n",
    "from sklearn import svm, datasets\n",
    "from sklearn.metrics import accuracy_score\n",
    "\n",
    "# load data\n",
    "wine = datasets.load_wine()\n",
    "# only take the first two features\n",
    "X = wine.data[:, :2]\n",
    "y = wine.target"
   ]
  },
  {
   "cell_type": "code",
   "execution_count": null,
   "metadata": {
    "id": "vYMiRB-C4-Cf"
   },
   "outputs": [],
   "source": [
    "#train model function \n",
    "def train_model(X, y, kernel='linear', C=1, gamma=0.5):\n",
    "  svc = svm.SVC(kernel= kernel, C = C, gamma = gamma)\n",
    "  svc.fit(X,y)\n",
    "  return svc"
   ]
  },
  {
   "cell_type": "code",
   "execution_count": null,
   "metadata": {
    "id": "0ABf3DGRQ806"
   },
   "outputs": [],
   "source": [
    "def plot_model(X, y, svc, kernel):\n",
    "# You don't need to implement this function, this has been implemented and is just for plotting the trained model.\n",
    "\n",
    "# Input: \n",
    "#  - X: data features \n",
    "#  - y: the labels\n",
    "#  - svc: the trained svm.SVC model\n",
    "#  - kernel: specified kernel type, default value is 'linear'\n",
    "\n",
    "  x0_min, x0_max = X[:, 0].min() - 0.5, X[:, 0].max() + 0.5\n",
    "  x1_min, x1_max = X[:, 1].min() - 0.5, X[:, 1].max() + 0.5\n",
    "  h = (x0_max / x0_min)/100\n",
    "  xx0, xx1 = np.meshgrid(np.arange(x0_min, x0_max, h), np.arange(x1_min, x1_max, h))\n",
    "\n",
    "  plt.subplot(1, 1, 1)\n",
    "  y_pred = svc.predict(np.c_[xx0.ravel(), xx1.ravel()])\n",
    "  y_pred = y_pred.reshape(xx0.shape)\n",
    "  plt.contourf(xx0, xx1, y_pred, cmap=plt.cm.Paired, alpha=0.2)\n",
    "\n",
    "  plt.scatter(X[:, 0], X[:, 1], c=y, cmap=plt.cm.Paired)\n",
    "  plt.xlabel('Alcohol')\n",
    "  plt.ylabel('Malic Acid')\n",
    "  plt.xlim(xx0.min(), xx0.max())\n",
    "  plt.title('SVC with {} kernel'.format(kernel))\n",
    "  plt.show()"
   ]
  },
  {
   "cell_type": "code",
   "execution_count": null,
   "metadata": {
    "colab": {
     "base_uri": "https://localhost:8080/",
     "height": 295
    },
    "id": "h0gqCnvO5IJj",
    "outputId": "0e0d35ba-4ec9-4d85-f09c-4f719ed9354b"
   },
   "outputs": [
    {
     "data": {
      "image/png": "[encoded data removed]",
      "text/plain": [
       "<Figure size 432x288 with 1 Axes>"
      ]
     },
     "metadata": {
      "needs_background": "light"
     },
     "output_type": "display_data"
    }
   ],
   "source": [
    "SVC_linear = train_model(X,y)\n",
    "plot_model(X, y, SVC_linear, kernel='linear')"
   ]
  },
  {
   "cell_type": "code",
   "execution_count": null,
   "metadata": {
    "colab": {
     "base_uri": "https://localhost:8080/"
    },
    "id": "T2H8pyU1bNcl",
    "outputId": "95f821d5-32f0-46f3-d4ff-96e5e0f337e5"
   },
   "outputs": [
    {
     "name": "stdout",
     "output_type": "stream",
     "text": [
      "accuracy 0.7415730337078652\n",
      "f1 score macro 0.7313842457383126\n",
      "f1 score micro 0.7415730337078652\n",
      "precision score 0.7311546125816067\n",
      "recall score 0.7320860189384897\n",
      "hamming_loss 0.25842696629213485\n",
      "classification_report               precision    recall  f1-score   support\n",
      "\n",
      "           0       0.76      0.80      0.78        59\n",
      "           1       0.80      0.77      0.79        71\n",
      "           2       0.64      0.62      0.63        48\n",
      "\n",
      "    accuracy                           0.74       178\n",
      "   macro avg       0.73      0.73      0.73       178\n",
      "weighted avg       0.74      0.74      0.74       178\n",
      "\n"
     ]
    }
   ],
   "source": [
    "from sklearn.model_selection import cross_val_predict\n",
    "from sklearn import metrics\n",
    "predicted = cross_val_predict(SVC_linear,X, y, cv=2)\n",
    "print(\"accuracy\",metrics.accuracy_score(y, predicted))\n",
    "print(\"f1 score macro\",metrics.f1_score(y, predicted, average='macro') )\n",
    "print(\"f1 score micro\",metrics.f1_score(y, predicted, average='micro') )\n",
    "print(\"precision score\",metrics.precision_score(y, predicted, average='macro')) \n",
    "print(\"recall score\",metrics.recall_score(y, predicted, average='macro')) \n",
    "# fraction of mispredicted labels \n",
    "print(\"hamming_loss\",metrics.hamming_loss(y, predicted))\n",
    "#classification report \n",
    "print(\"classification_report\", metrics.classification_report(y, predicted))"
   ]
  },
  {
   "cell_type": "markdown",
   "metadata": {
    "id": "kUAWLavuafK4"
   },
   "source": [
    "## Part B"
   ]
  },
  {
   "cell_type": "code",
   "execution_count": null,
   "metadata": {
    "colab": {
     "base_uri": "https://localhost:8080/",
     "height": 295
    },
    "id": "CIYyx-HWahTu",
    "outputId": "7627b55b-549e-42b6-f888-f93fed73423b"
   },
   "outputs": [
    {
     "data": {
      "image/png": "[encoded data removed]",
      "text/plain": [
       "<Figure size 432x288 with 1 Axes>"
      ]
     },
     "metadata": {
      "needs_background": "light"
     },
     "output_type": "display_data"
    }
   ],
   "source": [
    "SVC_rbf = train_model(X,y, kernel = 'rbf')\n",
    "plot_model(X, y, SVC_rbf , kernel='rbf')"
   ]
  },
  {
   "cell_type": "code",
   "execution_count": null,
   "metadata": {
    "colab": {
     "base_uri": "https://localhost:8080/"
    },
    "id": "TkHkjAuCcsWK",
    "outputId": "b74772d1-c1ae-41db-bbf6-657b9ed9e205"
   },
   "outputs": [
    {
     "name": "stdout",
     "output_type": "stream",
     "text": [
      "accuracy 0.7696629213483146\n",
      "f1 score macro 0.7652105470287288\n",
      "f1 score micro 0.7696629213483146\n",
      "precision score 0.7677524867389908\n",
      "recall score 0.7709676135911514\n",
      "hamming_loss 0.2303370786516854\n",
      "classification_report               precision    recall  f1-score   support\n",
      "\n",
      "           0       0.79      0.83      0.81        59\n",
      "           1       0.88      0.73      0.80        71\n",
      "           2       0.63      0.75      0.69        48\n",
      "\n",
      "    accuracy                           0.77       178\n",
      "   macro avg       0.77      0.77      0.77       178\n",
      "weighted avg       0.78      0.77      0.77       178\n",
      "\n"
     ]
    }
   ],
   "source": [
    "from sklearn.model_selection import cross_val_predict\n",
    "from sklearn import metrics\n",
    "predicted = cross_val_predict(SVC_rbf,X, y, cv=2)\n",
    "print(\"accuracy\",metrics.accuracy_score(y, predicted))\n",
    "print(\"f1 score macro\",metrics.f1_score(y, predicted, average='macro') )\n",
    "print(\"f1 score micro\",metrics.f1_score(y, predicted, average='micro') )\n",
    "print(\"precision score\",metrics.precision_score(y, predicted, average='macro')) \n",
    "print(\"recall score\",metrics.recall_score(y, predicted, average='macro')) \n",
    "# fraction of mispredicted labels \n",
    "print(\"hamming_loss\",metrics.hamming_loss(y, predicted))\n",
    "# classification report \n",
    "print(\"classification_report\", metrics.classification_report(y, predicted))"
   ]
  },
  {
   "cell_type": "markdown",
   "metadata": {
    "id": "TZX8qNFpDq0Z"
   },
   "source": [
    "### **PART B Analysis:**\n",
    "\n",
    "the RBF kernal function performs better than the linear function in accuracy,percsion and recall. \n",
    "\n",
    "linear kernals are a good basis to beigin with as it is starting with the simplest hypothesis space first. \n",
    "\n",
    "linear SVM is a parametric model while RBF kernal SVM is not. The complexity of RBF grows with the size of the training set. RBFis more expensive to train, has more hyper parameters to tune, and is more expensive with model selection. \n",
    "\n",
    "However, despite it being more expesnive it is able to model non-linear data and is necessary for obtaining the most accurate results.\n",
    "\n"
   ]
  },
  {
   "cell_type": "markdown",
   "metadata": {
    "id": "-nZ5CwoS_bPX"
   },
   "source": [
    "## Part C"
   ]
  },
  {
   "cell_type": "code",
   "execution_count": null,
   "metadata": {
    "colab": {
     "base_uri": "https://localhost:8080/",
     "height": 1000
    },
    "id": "civWge2s_h7Z",
    "outputId": "e151791a-77c7-4891-e778-2651f094e0ea"
   },
   "outputs": [
    {
     "name": "stdout",
     "output_type": "stream",
     "text": [
      "gamma =  0.5\n"
     ]
    },
    {
     "data": {
      "image/png": "[encoded data removed]",
      "text/plain": [
       "<Figure size 432x288 with 1 Axes>"
      ]
     },
     "metadata": {
      "needs_background": "light"
     },
     "output_type": "display_data"
    },
    {
     "name": "stdout",
     "output_type": "stream",
     "text": [
      "MODEL COMPARISON METRICS:\n",
      "accuracy 0.7696629213483146\n",
      "f1 score macro 0.7652105470287288\n",
      "f1 score micro 0.7696629213483146\n",
      "precision score 0.7677524867389908\n",
      "recall score 0.7709676135911514\n",
      "hamming_loss 0.2303370786516854\n",
      "gamma =  1\n"
     ]
    },
    {
     "data": {
      "image/png": "[encoded data removed]",
      "text/plain": [
       "<Figure size 432x288 with 1 Axes>"
      ]
     },
     "metadata": {
      "needs_background": "light"
     },
     "output_type": "display_data"
    },
    {
     "name": "stdout",
     "output_type": "stream",
     "text": [
      "MODEL COMPARISON METRICS:\n",
      "accuracy 0.7528089887640449\n",
      "f1 score macro 0.7472416472416472\n",
      "f1 score micro 0.752808988764045\n",
      "precision score 0.7488290398126464\n",
      "recall score 0.7514290071881383\n",
      "hamming_loss 0.24719101123595505\n",
      "gamma =  10\n"
     ]
    },
    {
     "data": {
      "image/png": "[encoded data removed]",
      "text/plain": [
       "<Figure size 432x288 with 1 Axes>"
      ]
     },
     "metadata": {
      "needs_background": "light"
     },
     "output_type": "display_data"
    },
    {
     "name": "stdout",
     "output_type": "stream",
     "text": [
      "MODEL COMPARISON METRICS:\n",
      "accuracy 0.7359550561797753\n",
      "f1 score macro 0.7298440011205969\n",
      "f1 score micro 0.7359550561797754\n",
      "precision score 0.733974358974359\n",
      "recall score 0.7303204822153259\n",
      "hamming_loss 0.2640449438202247\n",
      "gamma =  100\n"
     ]
    },
    {
     "data": {
      "image/png": "[encoded data removed]",
      "text/plain": [
       "<Figure size 432x288 with 1 Axes>"
      ]
     },
     "metadata": {
      "needs_background": "light"
     },
     "output_type": "display_data"
    },
    {
     "name": "stdout",
     "output_type": "stream",
     "text": [
      "MODEL COMPARISON METRICS:\n",
      "accuracy 0.5561797752808989\n",
      "f1 score macro 0.47763040560202\n",
      "f1 score micro 0.5561797752808989\n",
      "precision score 0.6717825739408473\n",
      "recall score 0.503113312644227\n",
      "hamming_loss 0.4438202247191011\n"
     ]
    }
   ],
   "source": [
    "gammas = [0.5, 1, 10, 100]\n",
    "\n",
    "for i in range(len(gammas)):\n",
    "  SVC_rbf_gammas = train_model(X,y, kernel = 'rbf', gamma = gammas[i])\n",
    "  print( 'gamma = ', gammas[i])\n",
    "  plot_model(X, y, SVC_rbf_gammas , kernel='rbf')\n",
    "  print(\"MODEL COMPARISON METRICS:\")\n",
    "  predicted = cross_val_predict(SVC_rbf_gammas,X, y, cv=2)\n",
    "  print(\"accuracy\",metrics.accuracy_score(y, predicted))\n",
    "  print(\"f1 score macro\",metrics.f1_score(y, predicted, average='macro') )\n",
    "  print(\"f1 score micro\",metrics.f1_score(y, predicted, average='micro') )\n",
    "  print(\"precision score\",metrics.precision_score(y, predicted, average='macro')) \n",
    "  print(\"recall score\",metrics.recall_score(y, predicted, average='macro')) \n",
    "  # fraction of mispredicted labels \n",
    "  print(\"hamming_loss\",metrics.hamming_loss(y, predicted))\n"
   ]
  },
  {
   "cell_type": "markdown",
   "metadata": {
    "id": "PsjV1xhZGPFn"
   },
   "source": [
    "### **Part C Answer**\n",
    "as gamma increases, the complexity of the \"cuts\" or decision boundaries increase and become more fitted to the exact data points in the training set. \n",
    "\n",
    "this ultimately decreases the accuracy, percision and recall of the model. Having too high of a gamma will lead to overfitting and make the model less transferable to new data"
   ]
  },
  {
   "cell_type": "markdown",
   "metadata": {
    "id": "QYLh0dv-P6nn"
   },
   "source": [
    "# Question 3: Ensemble methods for classification (25 pts)\n",
    "\n",
    "In this question, we will compare the performances of different ensemble methods for classification: Bagging, AdaBoost, GradientBoosting. \n",
    "\n",
    "The dataset used is [Spam Classification Data](https://archive.ics.uci.edu/ml/datasets/Spambase), which you can load from `spam_uci.csv` file. The last column represents the target label, where 1 means spam and 0 otherwise. You can use the provided codes to load the data and split training/test sets.\n",
    "\n",
    "**a) (5 pts)** Fit a [Decision Tree Classifier](https://scikit-learn.org/stable/modules/generated/sklearn.tree.DecisionTreeClassifier.html) with `random_state=10`,  and a [Logistic Regression Classifier](https://scikit-learn.org/stable/modules/generated/sklearn.linear_model.LogisticRegression.html) with `random_state=10` and `solver=\"newton-cg\"` for the spam classification problem. For each classifier, report the [accuracy_score](http://scikit-learn.org/stable/modules/generated/sklearn.metrics.accuracy_score.html) and [roc_auc_score](http://scikit-learn.org/stable/modules/generated/sklearn.metrics.roc_auc_score.html#sklearn.metrics.roc_auc_score) on the test data. \n",
    "**Note**: Before computing roc_auc_score, you will need [`predict_proba(X_test)[:, 1]`](http://scikit-learn.org/stable/modules/generated/sklearn.ensemble.RandomForestClassifier.html#sklearn.ensemble.RandomForestClassifier.predict_proba) to obtain the predicted target scores first.\n",
    "\n",
    "\n",
    "**b) (5 pts)** For **each** classifier in (a), use [Bagging](https://scikit-learn.org/stable/modules/generated/sklearn.ensemble.BaggingClassifier.html) to create an ensemble of 50 classifiers (i.e `n_estimators=50`) with `random_state=10`, report the accuracy_score and roc_auc_score on the test data. Compare the scores with what you obtained in (a), briefly describe the impact of Bagging on both classifiers.\n",
    "\n",
    "\n",
    "**c) (5 pts)** Fit a [Random Forest Classifier](http://scikit-learn.org/stable/modules/generated/sklearn.ensemble.RandomForestClassifier.html) for the spam classification problem. Use [GridSearchCV](https://scikit-learn.org/stable/modules/generated/sklearn.model_selection.GridSearchCV.html) to find the best combination of hyperparameters from `{\"n_estimators\": [10, 100, 500], \"criterion\": ['gini', 'entropy'], \"random_state\": [42]}`. As what you did in (a), report the accuracy_score and roc_auc_score on the test data. \n",
    "\n",
    "\n",
    "**d) (6 pts)** Fit a [GradientBoosting Classifier](http://scikit-learn.org/stable/modules/generated/sklearn.ensemble.GradientBoostingClassifier.html), and an [AdaBoost Classifier](http://scikit-learn.org/stable/modules/generated/sklearn.ensemble.AdaBoostClassifier.html#sklearn.ensemble.AdaBoostClassifier) for the spam classification problem. Use GridSearchCV to find the best combination of hyperparameters for each classifier: \n",
    "- For GradientBoosting, find the best combination from `{\"n_estimators\":[10, 100, 500], \"learning_rate\":[0.01, 0.1, 0.5], \"max_depth\":[3, 5, 10], \"subsample\":[0.5, 0.7, 1.0], \"random_state\":[42]}`;\n",
    "- For AdaBoost, find the best combination from `{\"n_estimators\":[10, 100, 500], \"learning_rate\":[0.01, 0.1, 0.5], \"random_state\":[42]}`. \n",
    "\n",
    "Report the accuracy_score and roc_auc_score on the test data for each classifier. The GridSearchCV may take some time, especially for GradientBoostingClassifier.\n",
    "\n",
    "**e) (4 pts)** In (c) and (d), you have obtained the best combination of hyperparameters respectively for Random Forest Classifier, Gradient Boosting Classifier and AdaBoost Classifier. \n",
    "\n",
    "Please use the best hyperparameters to initialize your classifiers, train your model, compute the accuracy_score and roc_auc_score on the test data, and plot the `accuracy_scores` of the three classifiers vs `n_estimators= [10, 100, 500]` in one plot, and plot the `roc_auc_scores` of the three classifiers vs `n_estimators= [10, 100, 500]` in another plot. That is, keep all other hyperparameters (except for `n_estimators`) as the best hyperparameters you obtained in (c) and (d), plot how the accuracy_score and roc_auc_score changes as you change the number of estimators (`n_estimators`).\n"
   ]
  },
  {
   "cell_type": "markdown",
   "metadata": {
    "id": "APtRDHTnV5QB"
   },
   "source": [
    "### Load in Data & Preprocessing"
   ]
  },
  {
   "cell_type": "code",
   "execution_count": null,
   "metadata": {
    "colab": {
     "base_uri": "https://localhost:8080/",
     "height": 74,
     "resources": {
      "http://localhost:8080/nbextensions/google.colab/files.js": {
       "data": "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",
       "headers": [
        [
         "content-type",
         "application/javascript"
        ]
       ],
       "ok": true,
       "status": 200,
       "status_text": ""
      }
     }
    },
    "id": "KwlPRxIJUpJC",
    "outputId": "8f864954-79d9-40ce-9ce7-52a224def859"
   },
   "outputs": [
    {
     "data": {
      "text/html": [
       "\n",
       "     <input type=\"file\" id=\"files-9da59a9a-566a-44fb-a338-1392981624cd\" name=\"files[]\" multiple disabled\n",
       "        style=\"border:none\" />\n",
       "     <output id=\"result-9da59a9a-566a-44fb-a338-1392981624cd\">\n",
       "      Upload widget is only available when the cell has been executed in the\n",
       "      current browser session. Please rerun this cell to enable.\n",
       "      </output>\n",
       "      <script src=\"/nbextensions/google.colab/files.js\"></script> "
      ],
      "text/plain": [
       "<IPython.core.display.HTML object>"
      ]
     },
     "metadata": {},
     "output_type": "display_data"
    },
    {
     "name": "stdout",
     "output_type": "stream",
     "text": [
      "Saving spam_uci.csv to spam_uci.csv\n"
     ]
    }
   ],
   "source": [
    "from google.colab import files\n",
    "uploaded = files.upload()"
   ]
  },
  {
   "cell_type": "code",
   "execution_count": null,
   "metadata": {
    "colab": {
     "base_uri": "https://localhost:8080/"
    },
    "id": "mysVytBbQBKj",
    "outputId": "e30afeda-ebc2-43da-c3c0-a5f2f03296dd"
   },
   "outputs": [
    {
     "name": "stdout",
     "output_type": "stream",
     "text": [
      "(4601, 58)\n"
     ]
    }
   ],
   "source": [
    "import matplotlib.pyplot as plt\n",
    "import pandas as pd\n",
    "import numpy as np\n",
    "\n",
    "from sklearn.linear_model import LogisticRegression\n",
    "from sklearn.tree import DecisionTreeClassifier\n",
    "from sklearn.ensemble import BaggingClassifier, RandomForestClassifier, GradientBoostingClassifier, AdaBoostClassifier\n",
    "\n",
    "from sklearn.model_selection import train_test_split, GridSearchCV\n",
    "from sklearn.metrics import accuracy_score, roc_auc_score\n",
    "\n",
    "data = pd.read_csv('spam_uci.csv', index_col=0)\n",
    "print(data.shape)\n",
    "\n",
    "X = data.iloc[:, :56]\n",
    "y = data.iloc[:, 57]\n",
    "X_train, X_test, y_train, y_test = train_test_split(X, y, test_size=0.33, random_state=42)"
   ]
  },
  {
   "cell_type": "code",
   "execution_count": null,
   "metadata": {
    "colab": {
     "base_uri": "https://localhost:8080/",
     "height": 226
    },
    "id": "WPlpghXYWdj2",
    "outputId": "b7742b5e-d3b9-47de-a264-39b14daeae44"
   },
   "outputs": [
    {
     "data": {
      "text/html": [
       "<div>\n",
       "<style scoped>\n",
       "    .dataframe tbody tr th:only-of-type {\n",
       "        vertical-align: middle;\n",
       "    }\n",
       "\n",
       "    .dataframe tbody tr th {\n",
       "        vertical-align: top;\n",
       "    }\n",
       "\n",
       "    .dataframe thead th {\n",
       "        text-align: right;\n",
       "    }\n",
       "</style>\n",
       "<table border=\"1\" class=\"dataframe\">\n",
       "  <thead>\n",
       "    <tr style=\"text-align: right;\">\n",
       "      <th></th>\n",
       "      <th>0</th>\n",
       "      <th>1</th>\n",
       "      <th>2</th>\n",
       "      <th>3</th>\n",
       "      <th>4</th>\n",
       "      <th>5</th>\n",
       "      <th>6</th>\n",
       "      <th>7</th>\n",
       "      <th>8</th>\n",
       "      <th>9</th>\n",
       "      <th>10</th>\n",
       "      <th>11</th>\n",
       "      <th>12</th>\n",
       "      <th>13</th>\n",
       "      <th>14</th>\n",
       "      <th>15</th>\n",
       "      <th>16</th>\n",
       "      <th>17</th>\n",
       "      <th>18</th>\n",
       "      <th>19</th>\n",
       "      <th>20</th>\n",
       "      <th>21</th>\n",
       "      <th>22</th>\n",
       "      <th>23</th>\n",
       "      <th>24</th>\n",
       "      <th>25</th>\n",
       "      <th>26</th>\n",
       "      <th>27</th>\n",
       "      <th>28</th>\n",
       "      <th>29</th>\n",
       "      <th>30</th>\n",
       "      <th>31</th>\n",
       "      <th>32</th>\n",
       "      <th>33</th>\n",
       "      <th>34</th>\n",
       "      <th>35</th>\n",
       "      <th>36</th>\n",
       "      <th>37</th>\n",
       "      <th>38</th>\n",
       "      <th>39</th>\n",
       "      <th>40</th>\n",
       "      <th>41</th>\n",
       "      <th>42</th>\n",
       "      <th>43</th>\n",
       "      <th>44</th>\n",
       "      <th>45</th>\n",
       "      <th>46</th>\n",
       "      <th>47</th>\n",
       "      <th>48</th>\n",
       "      <th>49</th>\n",
       "      <th>50</th>\n",
       "      <th>51</th>\n",
       "      <th>52</th>\n",
       "      <th>53</th>\n",
       "      <th>54</th>\n",
       "      <th>55</th>\n",
       "      <th>56</th>\n",
       "      <th>57</th>\n",
       "    </tr>\n",
       "  </thead>\n",
       "  <tbody>\n",
       "    <tr>\n",
       "      <th>0</th>\n",
       "      <td>0.00</td>\n",
       "      <td>0.64</td>\n",
       "      <td>0.64</td>\n",
       "      <td>0.0</td>\n",
       "      <td>0.32</td>\n",
       "      <td>0.00</td>\n",
       "      <td>0.00</td>\n",
       "      <td>0.00</td>\n",
       "      <td>0.00</td>\n",
       "      <td>0.00</td>\n",
       "      <td>0.00</td>\n",
       "      <td>0.64</td>\n",
       "      <td>0.00</td>\n",
       "      <td>0.00</td>\n",
       "      <td>0.00</td>\n",
       "      <td>0.32</td>\n",
       "      <td>0.00</td>\n",
       "      <td>1.29</td>\n",
       "      <td>1.93</td>\n",
       "      <td>0.00</td>\n",
       "      <td>0.96</td>\n",
       "      <td>0.0</td>\n",
       "      <td>0.00</td>\n",
       "      <td>0.00</td>\n",
       "      <td>0.0</td>\n",
       "      <td>0.0</td>\n",
       "      <td>0.0</td>\n",
       "      <td>0.0</td>\n",
       "      <td>0.0</td>\n",
       "      <td>0.0</td>\n",
       "      <td>0.0</td>\n",
       "      <td>0.0</td>\n",
       "      <td>0.0</td>\n",
       "      <td>0.0</td>\n",
       "      <td>0.0</td>\n",
       "      <td>0.0</td>\n",
       "      <td>0.00</td>\n",
       "      <td>0.0</td>\n",
       "      <td>0.0</td>\n",
       "      <td>0.00</td>\n",
       "      <td>0.0</td>\n",
       "      <td>0.0</td>\n",
       "      <td>0.00</td>\n",
       "      <td>0.0</td>\n",
       "      <td>0.00</td>\n",
       "      <td>0.00</td>\n",
       "      <td>0.0</td>\n",
       "      <td>0.0</td>\n",
       "      <td>0.00</td>\n",
       "      <td>0.000</td>\n",
       "      <td>0.0</td>\n",
       "      <td>0.778</td>\n",
       "      <td>0.000</td>\n",
       "      <td>0.000</td>\n",
       "      <td>3.756</td>\n",
       "      <td>61</td>\n",
       "      <td>278</td>\n",
       "      <td>1</td>\n",
       "    </tr>\n",
       "    <tr>\n",
       "      <th>1</th>\n",
       "      <td>0.21</td>\n",
       "      <td>0.28</td>\n",
       "      <td>0.50</td>\n",
       "      <td>0.0</td>\n",
       "      <td>0.14</td>\n",
       "      <td>0.28</td>\n",
       "      <td>0.21</td>\n",
       "      <td>0.07</td>\n",
       "      <td>0.00</td>\n",
       "      <td>0.94</td>\n",
       "      <td>0.21</td>\n",
       "      <td>0.79</td>\n",
       "      <td>0.65</td>\n",
       "      <td>0.21</td>\n",
       "      <td>0.14</td>\n",
       "      <td>0.14</td>\n",
       "      <td>0.07</td>\n",
       "      <td>0.28</td>\n",
       "      <td>3.47</td>\n",
       "      <td>0.00</td>\n",
       "      <td>1.59</td>\n",
       "      <td>0.0</td>\n",
       "      <td>0.43</td>\n",
       "      <td>0.43</td>\n",
       "      <td>0.0</td>\n",
       "      <td>0.0</td>\n",
       "      <td>0.0</td>\n",
       "      <td>0.0</td>\n",
       "      <td>0.0</td>\n",
       "      <td>0.0</td>\n",
       "      <td>0.0</td>\n",
       "      <td>0.0</td>\n",
       "      <td>0.0</td>\n",
       "      <td>0.0</td>\n",
       "      <td>0.0</td>\n",
       "      <td>0.0</td>\n",
       "      <td>0.07</td>\n",
       "      <td>0.0</td>\n",
       "      <td>0.0</td>\n",
       "      <td>0.00</td>\n",
       "      <td>0.0</td>\n",
       "      <td>0.0</td>\n",
       "      <td>0.00</td>\n",
       "      <td>0.0</td>\n",
       "      <td>0.00</td>\n",
       "      <td>0.00</td>\n",
       "      <td>0.0</td>\n",
       "      <td>0.0</td>\n",
       "      <td>0.00</td>\n",
       "      <td>0.132</td>\n",
       "      <td>0.0</td>\n",
       "      <td>0.372</td>\n",
       "      <td>0.180</td>\n",
       "      <td>0.048</td>\n",
       "      <td>5.114</td>\n",
       "      <td>101</td>\n",
       "      <td>1028</td>\n",
       "      <td>1</td>\n",
       "    </tr>\n",
       "    <tr>\n",
       "      <th>2</th>\n",
       "      <td>0.06</td>\n",
       "      <td>0.00</td>\n",
       "      <td>0.71</td>\n",
       "      <td>0.0</td>\n",
       "      <td>1.23</td>\n",
       "      <td>0.19</td>\n",
       "      <td>0.19</td>\n",
       "      <td>0.12</td>\n",
       "      <td>0.64</td>\n",
       "      <td>0.25</td>\n",
       "      <td>0.38</td>\n",
       "      <td>0.45</td>\n",
       "      <td>0.12</td>\n",
       "      <td>0.00</td>\n",
       "      <td>1.75</td>\n",
       "      <td>0.06</td>\n",
       "      <td>0.06</td>\n",
       "      <td>1.03</td>\n",
       "      <td>1.36</td>\n",
       "      <td>0.32</td>\n",
       "      <td>0.51</td>\n",
       "      <td>0.0</td>\n",
       "      <td>1.16</td>\n",
       "      <td>0.06</td>\n",
       "      <td>0.0</td>\n",
       "      <td>0.0</td>\n",
       "      <td>0.0</td>\n",
       "      <td>0.0</td>\n",
       "      <td>0.0</td>\n",
       "      <td>0.0</td>\n",
       "      <td>0.0</td>\n",
       "      <td>0.0</td>\n",
       "      <td>0.0</td>\n",
       "      <td>0.0</td>\n",
       "      <td>0.0</td>\n",
       "      <td>0.0</td>\n",
       "      <td>0.00</td>\n",
       "      <td>0.0</td>\n",
       "      <td>0.0</td>\n",
       "      <td>0.06</td>\n",
       "      <td>0.0</td>\n",
       "      <td>0.0</td>\n",
       "      <td>0.12</td>\n",
       "      <td>0.0</td>\n",
       "      <td>0.06</td>\n",
       "      <td>0.06</td>\n",
       "      <td>0.0</td>\n",
       "      <td>0.0</td>\n",
       "      <td>0.01</td>\n",
       "      <td>0.143</td>\n",
       "      <td>0.0</td>\n",
       "      <td>0.276</td>\n",
       "      <td>0.184</td>\n",
       "      <td>0.010</td>\n",
       "      <td>9.821</td>\n",
       "      <td>485</td>\n",
       "      <td>2259</td>\n",
       "      <td>1</td>\n",
       "    </tr>\n",
       "    <tr>\n",
       "      <th>3</th>\n",
       "      <td>0.00</td>\n",
       "      <td>0.00</td>\n",
       "      <td>0.00</td>\n",
       "      <td>0.0</td>\n",
       "      <td>0.63</td>\n",
       "      <td>0.00</td>\n",
       "      <td>0.31</td>\n",
       "      <td>0.63</td>\n",
       "      <td>0.31</td>\n",
       "      <td>0.63</td>\n",
       "      <td>0.31</td>\n",
       "      <td>0.31</td>\n",
       "      <td>0.31</td>\n",
       "      <td>0.00</td>\n",
       "      <td>0.00</td>\n",
       "      <td>0.31</td>\n",
       "      <td>0.00</td>\n",
       "      <td>0.00</td>\n",
       "      <td>3.18</td>\n",
       "      <td>0.00</td>\n",
       "      <td>0.31</td>\n",
       "      <td>0.0</td>\n",
       "      <td>0.00</td>\n",
       "      <td>0.00</td>\n",
       "      <td>0.0</td>\n",
       "      <td>0.0</td>\n",
       "      <td>0.0</td>\n",
       "      <td>0.0</td>\n",
       "      <td>0.0</td>\n",
       "      <td>0.0</td>\n",
       "      <td>0.0</td>\n",
       "      <td>0.0</td>\n",
       "      <td>0.0</td>\n",
       "      <td>0.0</td>\n",
       "      <td>0.0</td>\n",
       "      <td>0.0</td>\n",
       "      <td>0.00</td>\n",
       "      <td>0.0</td>\n",
       "      <td>0.0</td>\n",
       "      <td>0.00</td>\n",
       "      <td>0.0</td>\n",
       "      <td>0.0</td>\n",
       "      <td>0.00</td>\n",
       "      <td>0.0</td>\n",
       "      <td>0.00</td>\n",
       "      <td>0.00</td>\n",
       "      <td>0.0</td>\n",
       "      <td>0.0</td>\n",
       "      <td>0.00</td>\n",
       "      <td>0.137</td>\n",
       "      <td>0.0</td>\n",
       "      <td>0.137</td>\n",
       "      <td>0.000</td>\n",
       "      <td>0.000</td>\n",
       "      <td>3.537</td>\n",
       "      <td>40</td>\n",
       "      <td>191</td>\n",
       "      <td>1</td>\n",
       "    </tr>\n",
       "    <tr>\n",
       "      <th>4</th>\n",
       "      <td>0.00</td>\n",
       "      <td>0.00</td>\n",
       "      <td>0.00</td>\n",
       "      <td>0.0</td>\n",
       "      <td>0.63</td>\n",
       "      <td>0.00</td>\n",
       "      <td>0.31</td>\n",
       "      <td>0.63</td>\n",
       "      <td>0.31</td>\n",
       "      <td>0.63</td>\n",
       "      <td>0.31</td>\n",
       "      <td>0.31</td>\n",
       "      <td>0.31</td>\n",
       "      <td>0.00</td>\n",
       "      <td>0.00</td>\n",
       "      <td>0.31</td>\n",
       "      <td>0.00</td>\n",
       "      <td>0.00</td>\n",
       "      <td>3.18</td>\n",
       "      <td>0.00</td>\n",
       "      <td>0.31</td>\n",
       "      <td>0.0</td>\n",
       "      <td>0.00</td>\n",
       "      <td>0.00</td>\n",
       "      <td>0.0</td>\n",
       "      <td>0.0</td>\n",
       "      <td>0.0</td>\n",
       "      <td>0.0</td>\n",
       "      <td>0.0</td>\n",
       "      <td>0.0</td>\n",
       "      <td>0.0</td>\n",
       "      <td>0.0</td>\n",
       "      <td>0.0</td>\n",
       "      <td>0.0</td>\n",
       "      <td>0.0</td>\n",
       "      <td>0.0</td>\n",
       "      <td>0.00</td>\n",
       "      <td>0.0</td>\n",
       "      <td>0.0</td>\n",
       "      <td>0.00</td>\n",
       "      <td>0.0</td>\n",
       "      <td>0.0</td>\n",
       "      <td>0.00</td>\n",
       "      <td>0.0</td>\n",
       "      <td>0.00</td>\n",
       "      <td>0.00</td>\n",
       "      <td>0.0</td>\n",
       "      <td>0.0</td>\n",
       "      <td>0.00</td>\n",
       "      <td>0.135</td>\n",
       "      <td>0.0</td>\n",
       "      <td>0.135</td>\n",
       "      <td>0.000</td>\n",
       "      <td>0.000</td>\n",
       "      <td>3.537</td>\n",
       "      <td>40</td>\n",
       "      <td>191</td>\n",
       "      <td>1</td>\n",
       "    </tr>\n",
       "  </tbody>\n",
       "</table>\n",
       "</div>"
      ],
      "text/plain": [
       "      0     1     2    3     4     5  ...     52     53     54   55    56  57\n",
       "0  0.00  0.64  0.64  0.0  0.32  0.00  ...  0.000  0.000  3.756   61   278   1\n",
       "1  0.21  0.28  0.50  0.0  0.14  0.28  ...  0.180  0.048  5.114  101  1028   1\n",
       "2  0.06  0.00  0.71  0.0  1.23  0.19  ...  0.184  0.010  9.821  485  2259   1\n",
       "3  0.00  0.00  0.00  0.0  0.63  0.00  ...  0.000  0.000  3.537   40   191   1\n",
       "4  0.00  0.00  0.00  0.0  0.63  0.00  ...  0.000  0.000  3.537   40   191   1\n",
       "\n",
       "[5 rows x 58 columns]"
      ]
     },
     "execution_count": 22,
     "metadata": {},
     "output_type": "execute_result"
    }
   ],
   "source": [
    "data.head()"
   ]
  },
  {
   "cell_type": "markdown",
   "metadata": {
    "id": "wYcFDBthVmfP"
   },
   "source": [
    "### **Part 3A**\n",
    "\n",
    "Fit a [Decision Tree Classifier](https://scikit-learn.org/stable/modules/generated/sklearn.tree.DecisionTreeClassifier.html) with `random_state=10`,  and a [Logistic Regression Classifier](https://scikit-learn.org/stable/modules/generated/sklearn.linear_model.LogisticRegression.html) with `random_state=10` and `solver=\"newton-cg\"` for the spam classification problem. For each classifier, report the [accuracy_score](http://scikit-learn.org/stable/modules/generated/sklearn.metrics.accuracy_score.html) and [roc_auc_score](http://scikit-learn.org/stable/modules/generated/sklearn.metrics.roc_auc_score.html#sklearn.metrics.roc_auc_score) on the test data. \n",
    "\n",
    "**Note**: Before computing roc_auc_score, you will need [`predict_proba(X_test)[:, 1]`](http://scikit-learn.org/stable/modules/generated/sklearn.ensemble.RandomForestClassifier.html#sklearn.ensemble.RandomForestClassifier.predict_proba) to obtain the predicted target scores first."
   ]
  },
  {
   "cell_type": "code",
   "execution_count": null,
   "metadata": {
    "colab": {
     "base_uri": "https://localhost:8080/"
    },
    "id": "25I11tk5VlUU",
    "outputId": "ed24219d-36a7-4732-9ff2-8d1c685d0452"
   },
   "outputs": [
    {
     "name": "stdout",
     "output_type": "stream",
     "text": [
      "Testing Accuracy for random state 10 decision tree: 0.9098090849242922\n",
      "The roc_auc_score is: 0.9040453749567611\n"
     ]
    }
   ],
   "source": [
    "#Decision trees\n",
    "decision_tree = DecisionTreeClassifier(random_state = 10).fit(X_train,y_train)\n",
    "\n",
    "decision_treetepred = decision_tree.predict(X_test)\n",
    "print(\"Testing Accuracy for random state 10 decision tree:\", metrics.accuracy_score(y_test,decision_treetepred))\n",
    "\n",
    "print(\"The roc_auc_score is:\", roc_auc_score(y_test,decision_tree.predict_proba(X_test)[:,1]))"
   ]
  },
  {
   "cell_type": "code",
   "execution_count": null,
   "metadata": {
    "colab": {
     "base_uri": "https://localhost:8080/"
    },
    "id": "ZlP1tg98Wj52",
    "outputId": "9c08bd48-1f4d-4086-eedd-8fc433bb976b"
   },
   "outputs": [
    {
     "name": "stdout",
     "output_type": "stream",
     "text": [
      "Testing Accuracy for logistic regression: 0.9315339038841343\n",
      "The roc_auc_score is: 0.9734682742610166\n"
     ]
    }
   ],
   "source": [
    "#Logistic Regression\n",
    "logistic = LogisticRegression(random_state=10,solver='newton-cg').fit(X_train, y_train)\n",
    "\n",
    "logistic_tepred = logistic.predict(X_test)\n",
    "print(\"Testing Accuracy for logistic regression:\", metrics.accuracy_score(y_test,logistic_tepred))\n",
    "\n",
    "print(\"The roc_auc_score is:\", roc_auc_score(y_test,logistic.predict_proba(X_test)[:,1]))"
   ]
  },
  {
   "cell_type": "markdown",
   "metadata": {
    "id": "2Em514cwW5kT"
   },
   "source": [
    "### **Part 3B**\n",
    "\n",
    "For **each** classifier in (a), use [Bagging](https://scikit-learn.org/stable/modules/generated/sklearn.ensemble.BaggingClassifier.html) to create an ensemble of 50 classifiers (i.e `n_estimators=50`) with `random_state=10`, report the accuracy_score and roc_auc_score on the test data. Compare the scores with what you obtained in (a), briefly describe the impact of Bagging on both classifiers."
   ]
  },
  {
   "cell_type": "code",
   "execution_count": null,
   "metadata": {
    "colab": {
     "base_uri": "https://localhost:8080/"
    },
    "id": "nbAegrkXW5Kw",
    "outputId": "e8101eea-d758-47ab-ec4b-e1d10da361e7"
   },
   "outputs": [
    {
     "name": "stdout",
     "output_type": "stream",
     "text": [
      "Testing accuracy for decision tree ensemble 0.9368005266622779\n",
      "The roc_auc_score is: 0.9796839729119637\n"
     ]
    }
   ],
   "source": [
    "#Bagging classifier for decsion trees\n",
    "dtbag = BaggingClassifier(base_estimator = decision_tree, n_estimators = 50, random_state = 10).fit(X_train,y_train)\n",
    "\n",
    "dtbag_tepred = dtbag.predict(X_test)\n",
    "print(\"Testing accuracy for decision tree ensemble\", metrics.accuracy_score(y_test,dtbag_tepred))\n",
    "\n",
    "print(\"The roc_auc_score is:\", roc_auc_score(y_test,dtbag.predict_proba(X_test)[:,1]))"
   ]
  },
  {
   "cell_type": "code",
   "execution_count": null,
   "metadata": {
    "colab": {
     "base_uri": "https://localhost:8080/"
    },
    "id": "LCghc9K1XEbe",
    "outputId": "7ffde16e-67ce-4e40-9d14-2e64138b5106"
   },
   "outputs": [
    {
     "name": "stdout",
     "output_type": "stream",
     "text": [
      "Testing accuracy for logistic regression ensemble 0.934167215273206\n",
      "The roc_auc_score is: 0.97552769248874\n"
     ]
    }
   ],
   "source": [
    "#Bagging classifier for logistic regression\n",
    "logistic_bag = BaggingClassifier(base_estimator = logistic, n_estimators = 50, random_state = 10).fit(X_train,y_train)\n",
    "\n",
    "logistic_bag_tepred = logistic_bag.predict(X_test)\n",
    "print(\"Testing accuracy for logistic regression ensemble\", metrics.accuracy_score(y_test,logistic_bag_tepred))\n",
    "\n",
    "print(\"The roc_auc_score is:\", roc_auc_score(y_test,logistic_bag.predict_proba(X_test)[:,1]))"
   ]
  },
  {
   "cell_type": "markdown",
   "metadata": {
    "id": "1wsXNO_UXOqc"
   },
   "source": [
    "##### **Part B Analysis**\n",
    "**Accuracy of Decision Trees went up in both evaluation metrics**\n",
    "\n",
    "Testing Accuracy --> 90 to 93\n",
    "\n",
    "ROC & AUC -->  90 to ~98\n",
    "\n",
    "**Accuracy of Logistic Regression up in both evaluation metrics**\n",
    "\n",
    "Testing Accuracy --> 93.1 to 93.4\n",
    "\n",
    "ROC & AUC --> 97.3 to 97.6\n",
    "_________________________________________\n",
    "When compared to non ensemble methods, the decision tree improved greatly while the logistic regression mostly remained the same with same slight improvements. \n",
    "\n",
    "This is due to the fact that ensemble relies on model variability or ambiguity in order to obtain a higher accuracy. \n",
    "\n",
    "Logistic regression models are going to be very similar while the decision tree model can vary a lot. \n",
    "\n",
    "As a result, the decision tree model benefits from the ensemble more than the logistic."
   ]
  },
  {
   "cell_type": "markdown",
   "metadata": {
    "id": "bUOePiCJXUhp"
   },
   "source": [
    "### **Part 3C**\n",
    "\n",
    "Fit a [Random Forest Classifier](http://scikit-learn.org/stable/modules/generated/sklearn.ensemble.RandomForestClassifier.html) for the spam classification problem. Use [GridSearchCV](https://scikit-learn.org/stable/modules/generated/sklearn.model_selection.GridSearchCV.html) to find the best combination of hyperparameters from `{\"n_estimators\": [10, 100, 500], \"criterion\": ['gini', 'entropy'], \"random_state\": [42]}`. As what you did in (a), report the accuracy_score and roc_auc_score on the test data. \n"
   ]
  },
  {
   "cell_type": "code",
   "execution_count": null,
   "metadata": {
    "colab": {
     "base_uri": "https://localhost:8080/"
    },
    "id": "RrpeIxP3XfDu",
    "outputId": "12f64b87-e814-4277-eb5c-3cef82576e15"
   },
   "outputs": [
    {
     "name": "stdout",
     "output_type": "stream",
     "text": [
      "Random Forest Classifier Parameters:\n"
     ]
    },
    {
     "data": {
      "text/plain": [
       "{'criterion': 'gini', 'n_estimators': 500, 'random_state': 42}"
      ]
     },
     "execution_count": 40,
     "metadata": {},
     "output_type": "execute_result"
    }
   ],
   "source": [
    "#Using grid search\n",
    "params = {\"n_estimators\": [10, 100, 500], \"criterion\": ['gini', 'entropy'], \"random_state\": [42]}\n",
    "\n",
    "rf_optimal_params = GridSearchCV(RandomForestClassifier(random_state=10), params)\n",
    "rf_optimal_params.fit(X_train, y_train)\n",
    "print(\"Random Forest Classifier Parameters:\")\n",
    "rf_optimal_params.best_params_"
   ]
  },
  {
   "cell_type": "code",
   "execution_count": null,
   "metadata": {
    "colab": {
     "base_uri": "https://localhost:8080/"
    },
    "id": "TS_ZGo3oXydl",
    "outputId": "dc60468f-e6d9-4736-ff0a-3e64c9872cc5"
   },
   "outputs": [
    {
     "name": "stdout",
     "output_type": "stream",
     "text": [
      "Testing accuracy for random forest 0.9585253456221198\n",
      "The roc_auc_score is: 0.9887989044964857\n"
     ]
    }
   ],
   "source": [
    "#Random Forest with grid search \n",
    "random_forest = RandomForestClassifier(random_state = 10, \n",
    "                                       criterion = rf_optimal_params.best_params_['criterion'],\n",
    "                                       n_estimators = rf_optimal_params.best_params_['n_estimators']).fit(X_train,y_train)\n",
    "\n",
    "random_forest_tepred = random_forest.predict(X_test)\n",
    "print(\"Testing accuracy for random forest\", metrics.accuracy_score(y_test,random_forest_tepred))\n",
    "\n",
    "print(\"The roc_auc_score is:\", roc_auc_score(y_test,random_forest.predict_proba(X_test)[:,1]))"
   ]
  },
  {
   "cell_type": "markdown",
   "metadata": {
    "id": "eJBRdjvuWQ-T"
   },
   "source": [
    "##### **Part C Anlysis**\n",
    "of all models thus far, the grid searched random forest model has the highest testing accuracy and ROC & AUC"
   ]
  },
  {
   "cell_type": "markdown",
   "metadata": {
    "id": "NK1gm31kYf5a"
   },
   "source": [
    "### **Part 3D**\n",
    "\n",
    "\n",
    "Fit a [GradientBoosting Classifier](http://scikit-learn.org/stable/modules/generated/sklearn.ensemble.GradientBoostingClassifier.html), and an [AdaBoost Classifier](http://scikit-learn.org/stable/modules/generated/sklearn.ensemble.AdaBoostClassifier.html#sklearn.ensemble.AdaBoostClassifier) for the spam classification problem. Use GridSearchCV to find the best combination of hyperparameters for each classifier: \n",
    "- For GradientBoosting, find the best combination from `{\"n_estimators\":[10, 100, 500], \"learning_rate\":[0.01, 0.1, 0.5], \"max_depth\":[3, 5, 10], \"subsample\":[0.5, 0.7, 1.0], \"random_state\":[42]}`;\n",
    "- For AdaBoost, find the best combination from `{\"n_estimators\":[10, 100, 500], \"learning_rate\":[0.01, 0.1, 0.5], \"random_state\":[42]}`. \n",
    "\n",
    "Report the accuracy_score and roc_auc_score on the test data for each classifier. The GridSearchCV may take some time, especially for GradientBoostingClassifier."
   ]
  },
  {
   "cell_type": "code",
   "execution_count": null,
   "metadata": {
    "colab": {
     "base_uri": "https://localhost:8080/"
    },
    "id": "eB__RVQPYmRa",
    "outputId": "66db24b9-58cb-44d7-a9e4-b6a5fdd38238"
   },
   "outputs": [
    {
     "name": "stdout",
     "output_type": "stream",
     "text": [
      "Gradient Boost Best Parameters:\n",
      "{'learning_rate': 0.1, 'max_depth': 3, 'n_estimators': 500, 'random_state': 42, 'subsample': 1.0}\n"
     ]
    }
   ],
   "source": [
    "#Using grid search for gradient boosting \n",
    "params =({\"n_estimators\":[10, 100, 500], \"learning_rate\":[0.01, 0.1, 0.5], \"max_depth\":[3, 5, 10], \"subsample\":[0.5, 0.7, 1.0], \"random_state\":[42]})\n",
    "\n",
    "gb_optimal_params = GridSearchCV(GradientBoostingClassifier(), param_grid= params)\n",
    "gb_optimal_params.fit(X_train, y_train)\n",
    "print('Gradient Boost Best Parameters:')\n",
    "print(gb_optimal_params.best_params_)"
   ]
  },
  {
   "cell_type": "code",
   "execution_count": null,
   "metadata": {
    "colab": {
     "base_uri": "https://localhost:8080/"
    },
    "id": "838BJbM4YnGT",
    "outputId": "e9c3e1f3-e8cb-4f66-ba44-5f3692128152"
   },
   "outputs": [
    {
     "name": "stdout",
     "output_type": "stream",
     "text": [
      "Testing accuracy for grid search gradient boost 0.9552337063857801\n",
      "The roc_auc_score is: 0.9889094533537314\n"
     ]
    }
   ],
   "source": [
    "#Gradient Boost\n",
    "gradient_boost = GradientBoostingClassifier(n_estimators = gb_optimal_params.best_params_['n_estimators'],\n",
    "                                            learning_rate = gb_optimal_params.best_params_['learning_rate'],\n",
    "                                            max_depth = gb_optimal_params.best_params_['max_depth'],\n",
    "                                            subsample = gb_optimal_params.best_params_['subsample'],\n",
    "                                            random_state = gb_optimal_params.best_params_['random_state']\n",
    "                                            ).fit(X_train,y_train)\n",
    "\n",
    "gradient_boost_ypred = gradient_boost.predict(X_test)\n",
    "print(\"Testing accuracy for grid search gradient boost\", metrics.accuracy_score(y_test,gradient_boost_ypred))\n",
    "\n",
    "print(\"The roc_auc_score is:\", roc_auc_score(y_test,gradient_boost.predict_proba(X_test)[:,1]))"
   ]
  },
  {
   "cell_type": "code",
   "execution_count": null,
   "metadata": {
    "colab": {
     "base_uri": "https://localhost:8080/"
    },
    "id": "VcHTaS7nYoCN",
    "outputId": "6ef585a5-4606-4547-bdec-5561399772e4"
   },
   "outputs": [
    {
     "name": "stdout",
     "output_type": "stream",
     "text": [
      "Ada Boost Best Parameters:\n",
      "{'learning_rate': 0.1, 'n_estimators': 500, 'random_state': 42}\n"
     ]
    }
   ],
   "source": [
    "ada_params =({\"n_estimators\":[10, 100, 500], \"learning_rate\":[0.01, 0.1, 0.5], \"random_state\":[42]})\n",
    "\n",
    "ada_optimal_params = GridSearchCV(AdaBoostClassifier(), ada_params)\n",
    "ada_optimal_params.fit(X_train, y_train)\n",
    "print(\"Ada Boost Best Parameters:\")\n",
    "print(ada_optimal_params.best_params_)"
   ]
  },
  {
   "cell_type": "code",
   "execution_count": null,
   "metadata": {
    "colab": {
     "base_uri": "https://localhost:8080/"
    },
    "id": "NcS7FOqHYo6h",
    "outputId": "b2c69a46-e5fe-4c60-ba65-136b0814e24a"
   },
   "outputs": [
    {
     "name": "stdout",
     "output_type": "stream",
     "text": [
      "Testing accuracy for Ada Boost 0.9512837393021725\n",
      "The roc_auc_score is: 0.9858836241481498\n"
     ]
    }
   ],
   "source": [
    "#Ada Boost\n",
    "ada_boost = AdaBoostClassifier(random_state = ada_optimal_params.best_params_['random_state'],\n",
    "                               learning_rate = ada_optimal_params.best_params_['learning_rate'],\n",
    "                               n_estimators = ada_optimal_params.best_params_['n_estimators']).fit(X_train,y_train)\n",
    "\n",
    "ada_boost_ypred = ada_boost.predict(X_test)\n",
    "print(\"Testing accuracy for Ada Boost\", metrics.accuracy_score(y_test,ada_boost_ypred))\n",
    "\n",
    "print(\"The roc_auc_score is:\", roc_auc_score(y_test,ada_boost.predict_proba(X_test)[:,1]))"
   ]
  },
  {
   "cell_type": "markdown",
   "metadata": {
    "id": "F2UqIn87QBsK"
   },
   "source": [
    "## Answer:\n",
    "\n",
    "\n",
    "the accuracies for AdaBoost and Gradient Boosting using Grid Search Cross Validation higher than decsion trees, logistic regression and bagging\n",
    "\n",
    "However, they are relatively the same for random forest. "
   ]
  },
  {
   "cell_type": "markdown",
   "metadata": {
    "id": "RfgK6mIxQPxO"
   },
   "source": [
    "### **Part 3E**\n",
    "In (c) and (d), you have obtained the best combination of hyperparameters respectively for Random Forest Classifier, Gradient Boosting Classifier and AdaBoost Classifier.\n",
    "\n",
    "Please use the best hyperparameters to initialize your classifiers, train your model, compute the accuracy_score and roc_auc_score on the test data, and plot the accuracy_scores of the three classifiers vs n_estimators= [10, 100, 500] in one plot, and plot the roc_auc_scores of the three classifiers vs n_estimators= [10, 100, 500] in another plot. That is, keep all other hyperparameters (except for n_estimators) as the best hyperparameters you obtained in (c) and (d), plot how the accuracy_score and roc_auc_score changes as you change the number of estimators (n_estimators)."
   ]
  },
  {
   "cell_type": "code",
   "execution_count": null,
   "metadata": {
    "id": "YwOVuQsFQwyj"
   },
   "outputs": [],
   "source": [
    "#best hyper parameters for Random Forest Classifer \n",
    "    #'criterion': 'gini', 'n_estimators': 500, 'random_state': 42\n",
    "#best hyper parameters for Gradient Boosting Classifer \n",
    "    # 'learning_rate': 0.1 , 'max_depth': 3 'n_estimators': 500, 'random_state': 42, 'subsample': 1.0\n",
    "#best hyper parameters for AdaBoost Classifer \n",
    "    # {'learning_rate': 0.1, 'n_estimators': 500, 'random_state': 42}\n"
   ]
  },
  {
   "cell_type": "markdown",
   "metadata": {
    "id": "D7M1cPKPIAUC"
   },
   "source": [
    "### Random Forest with 3 Different estimators "
   ]
  },
  {
   "cell_type": "code",
   "execution_count": null,
   "metadata": {
    "colab": {
     "base_uri": "https://localhost:8080/"
    },
    "id": "jUBuakDoGmCo",
    "outputId": "b1070dd9-cd20-40ef-f630-639e249258bf"
   },
   "outputs": [
    {
     "data": {
      "text/plain": [
       "[['Random Forest', 10, 0.945358788676761, 0.981291388957239],\n",
       " ['Random Forest', 100, 0.956550362080316, 0.9883299633762335],\n",
       " ['Random Forest', 500, 0.9552337063857801, 0.9891234188838844]]"
      ]
     },
     "execution_count": 9,
     "metadata": {},
     "output_type": "execute_result"
    }
   ],
   "source": [
    "n_estimators = [10,100,500]\n",
    "\n",
    "random_forest = []\n",
    "#a for loop to run the random forest with our 3 different levels of n_estimators\n",
    "for n in n_estimators:\n",
    "    rfnes = RandomForestClassifier(criterion = 'gini', random_state = 42, n_estimators = n)\n",
    "    rfnes.fit(X_train, y_train)\n",
    "    y_pred = rfnes.predict(X_test)\n",
    "    random_forest.append(\"Random Forest\")\n",
    "    random_forest.append(n)\n",
    "    random_forest.append(accuracy_score(y_test, y_pred))\n",
    "    random_forest.append(roc_auc_score(y_test, rfnes.predict_proba(X_test)[:, 1]))\n",
    "\n",
    "length = 4\n",
    "outputRf = [random_forest[i:i + length] for i in range(0, len(random_forest), length)]\n",
    "outputRf\n",
    "\n"
   ]
  },
  {
   "cell_type": "markdown",
   "metadata": {
    "id": "sEldlgOoIGyy"
   },
   "source": [
    "### Gradient Boosting Classifer with 3 different estimators "
   ]
  },
  {
   "cell_type": "code",
   "execution_count": null,
   "metadata": {
    "colab": {
     "base_uri": "https://localhost:8080/"
    },
    "id": "FLjo-lj1H9YW",
    "outputId": "26041f83-1ded-42d1-8e19-2445c09a3fe9"
   },
   "outputs": [
    {
     "data": {
      "text/plain": [
       "[['Gradient Boost', 10, 0.8953258722843976, 0.9543923557248258],\n",
       " ['Gradient Boost', 100, 0.9506254114549045, 0.987072915886584],\n",
       " ['Gradient Boost', 500, 0.9552337063857801, 0.9889094533537314]]"
      ]
     },
     "execution_count": 10,
     "metadata": {},
     "output_type": "execute_result"
    }
   ],
   "source": [
    "gboost = []\n",
    "#a for loop to run the gradient boost with our 3 different levels of n_estimators\n",
    "for n in n_estimators:\n",
    "    gb = GradientBoostingClassifier(learning_rate = .1, max_depth = 3, subsample = 1, random_state = 42, n_estimators = n)\n",
    "    gb.fit(X_train, y_train)\n",
    "    y_pred = gb.predict(X_test)\n",
    "    gboost.append(\"Gradient Boost\")\n",
    "    gboost.append(n)\n",
    "    gboost.append(accuracy_score(y_test, y_pred))\n",
    "    gboost.append(roc_auc_score(y_test, gb.predict_proba(X_test)[:, 1]))\n",
    "\n",
    "length = 4\n",
    "outputGb = [gboost[i:i + length] for i in range(0, len(gboost), length)]\n",
    "outputGb"
   ]
  },
  {
   "cell_type": "markdown",
   "metadata": {
    "id": "zF4LhaZIQ2gi"
   },
   "source": [
    "## AdaBoost Classifer with 3 different estimators"
   ]
  },
  {
   "cell_type": "code",
   "execution_count": null,
   "metadata": {
    "colab": {
     "base_uri": "https://localhost:8080/"
    },
    "id": "CeuvXWeSRBNK",
    "outputId": "779e07fb-a14e-4d9a-a1f0-519e97abf72b"
   },
   "outputs": [
    {
     "data": {
      "text/plain": [
       "[['AdaBoost', 10, 0.8446346280447663, 0.9889094533537314],\n",
       " ['AdaBoost', 100, 0.9400921658986175, 0.9889094533537314],\n",
       " ['AdaBoost', 500, 0.9512837393021725, 0.9889094533537314]]"
      ]
     },
     "execution_count": 11,
     "metadata": {},
     "output_type": "execute_result"
    }
   ],
   "source": [
    "adaboost = []\n",
    "#a for loop to run the adaboost with our 3 different levels of n_estimators\n",
    "for n in n_estimators:\n",
    "    ada = AdaBoostClassifier(learning_rate = .1, random_state = 42, n_estimators = n)\n",
    "    ada.fit(X_train, y_train)\n",
    "    y_pred = ada.predict(X_test)\n",
    "    adaboost.append(\"AdaBoost\")\n",
    "    adaboost.append(n)\n",
    "    adaboost.append(accuracy_score(y_test, y_pred))\n",
    "    adaboost.append(roc_auc_score(y_test, gb.predict_proba(X_test)[:, 1]))\n",
    "\n",
    "length = 4\n",
    "outputAda = [adaboost[i:i + length] for i in range(0, len(adaboost), length)]\n",
    "outputAda"
   ]
  },
  {
   "cell_type": "code",
   "execution_count": null,
   "metadata": {
    "colab": {
     "base_uri": "https://localhost:8080/",
     "height": 332
    },
    "id": "nvxTNSmsRu60",
    "outputId": "6b6c1989-2996-444f-86e9-a7f106addda8"
   },
   "outputs": [
    {
     "data": {
      "text/html": [
       "<div>\n",
       "<style scoped>\n",
       "    .dataframe tbody tr th:only-of-type {\n",
       "        vertical-align: middle;\n",
       "    }\n",
       "\n",
       "    .dataframe tbody tr th {\n",
       "        vertical-align: top;\n",
       "    }\n",
       "\n",
       "    .dataframe thead th {\n",
       "        text-align: right;\n",
       "    }\n",
       "</style>\n",
       "<table border=\"1\" class=\"dataframe\">\n",
       "  <thead>\n",
       "    <tr style=\"text-align: right;\">\n",
       "      <th></th>\n",
       "      <th>Model</th>\n",
       "      <th>n_estimators</th>\n",
       "      <th>Classic Ac</th>\n",
       "      <th>Roc Auc Acc</th>\n",
       "    </tr>\n",
       "  </thead>\n",
       "  <tbody>\n",
       "    <tr>\n",
       "      <th>0</th>\n",
       "      <td>Random Forest</td>\n",
       "      <td>10</td>\n",
       "      <td>0.9454</td>\n",
       "      <td>0.9813</td>\n",
       "    </tr>\n",
       "    <tr>\n",
       "      <th>1</th>\n",
       "      <td>Random Forest</td>\n",
       "      <td>100</td>\n",
       "      <td>0.9566</td>\n",
       "      <td>0.9883</td>\n",
       "    </tr>\n",
       "    <tr>\n",
       "      <th>2</th>\n",
       "      <td>Random Forest</td>\n",
       "      <td>500</td>\n",
       "      <td>0.9552</td>\n",
       "      <td>0.9891</td>\n",
       "    </tr>\n",
       "    <tr>\n",
       "      <th>0</th>\n",
       "      <td>Gradient Boost</td>\n",
       "      <td>10</td>\n",
       "      <td>0.8953</td>\n",
       "      <td>0.9544</td>\n",
       "    </tr>\n",
       "    <tr>\n",
       "      <th>1</th>\n",
       "      <td>Gradient Boost</td>\n",
       "      <td>100</td>\n",
       "      <td>0.9506</td>\n",
       "      <td>0.9871</td>\n",
       "    </tr>\n",
       "    <tr>\n",
       "      <th>2</th>\n",
       "      <td>Gradient Boost</td>\n",
       "      <td>500</td>\n",
       "      <td>0.9552</td>\n",
       "      <td>0.9889</td>\n",
       "    </tr>\n",
       "    <tr>\n",
       "      <th>0</th>\n",
       "      <td>AdaBoost</td>\n",
       "      <td>10</td>\n",
       "      <td>0.8446</td>\n",
       "      <td>0.9889</td>\n",
       "    </tr>\n",
       "    <tr>\n",
       "      <th>1</th>\n",
       "      <td>AdaBoost</td>\n",
       "      <td>100</td>\n",
       "      <td>0.9401</td>\n",
       "      <td>0.9889</td>\n",
       "    </tr>\n",
       "    <tr>\n",
       "      <th>2</th>\n",
       "      <td>AdaBoost</td>\n",
       "      <td>500</td>\n",
       "      <td>0.9513</td>\n",
       "      <td>0.9889</td>\n",
       "    </tr>\n",
       "  </tbody>\n",
       "</table>\n",
       "</div>"
      ],
      "text/plain": [
       "            Model  n_estimators  Classic Ac  Roc Auc Acc\n",
       "0   Random Forest            10      0.9454       0.9813\n",
       "1   Random Forest           100      0.9566       0.9883\n",
       "2   Random Forest           500      0.9552       0.9891\n",
       "0  Gradient Boost            10      0.8953       0.9544\n",
       "1  Gradient Boost           100      0.9506       0.9871\n",
       "2  Gradient Boost           500      0.9552       0.9889\n",
       "0        AdaBoost            10      0.8446       0.9889\n",
       "1        AdaBoost           100      0.9401       0.9889\n",
       "2        AdaBoost           500      0.9513       0.9889"
      ]
     },
     "execution_count": 15,
     "metadata": {},
     "output_type": "execute_result"
    }
   ],
   "source": [
    "df = pd.DataFrame(outputRf, columns= ['Model', 'n_estimators', 'Classic Ac', 'Roc Auc Acc'])\n",
    "df2 = pd.DataFrame(outputGb, columns= ['Model', 'n_estimators', 'Classic Ac', 'Roc Auc Acc'])\n",
    "df3 = pd.DataFrame(outputAda, columns= ['Model', 'n_estimators', 'Classic Ac', 'Roc Auc Acc'])\n",
    "\n",
    "from functools import reduce\n",
    "\n",
    "df =pd.concat([df, df2, df3])\n",
    "\n",
    "df = df.round(4)\n",
    "#df.reset_index(drop=True, inplace=True)\n",
    "df"
   ]
  },
  {
   "cell_type": "code",
   "execution_count": null,
   "metadata": {
    "colab": {
     "base_uri": "https://localhost:8080/",
     "height": 605
    },
    "id": "epWFtAIMTC5L",
    "outputId": "45e64a03-d0cd-4f11-ccd2-6af82be20965"
   },
   "outputs": [
    {
     "data": {
      "image/png": "[encoded data removed]",
      "text/plain": [
       "<Figure size 1080x720 with 1 Axes>"
      ]
     },
     "metadata": {
      "needs_background": "light"
     },
     "output_type": "display_data"
    }
   ],
   "source": [
    "import matplotlib.pyplot as plt \n",
    "\n",
    "piv = df.pivot(columns = 'Model', values = 'Classic Ac').plot(kind='bar', figsize=(15,10))\n",
    "piv.set_xlabel(\"10                                                                                       100                                                                                   500\")\n",
    "piv.set_ylabel(\"Classic Accuracy\")\n",
    "piv.set_title(\"Classic Accuracy by Model (y) and Number of Estimators (x)\")\n",
    "\n",
    "plt.tick_params(\n",
    "    axis='x',          # changes apply to the x-axis\n",
    "    which='both',      # both major and minor ticks are affected\n",
    "    bottom=False,      # ticks along the bottom edge are off\n",
    "    top=False,         # ticks along the top edge are off\n",
    "    labelbottom=False)\n",
    "\n",
    "#adding numbers or accuracy assurance\n",
    "for p in piv.patches:\n",
    "    piv.annotate(str(p.get_height()), (p.get_x() * 1.005, p.get_height() * 1.005))"
   ]
  },
  {
   "cell_type": "markdown",
   "metadata": {
    "id": "CapO8LraVRRU"
   },
   "source": [
    "### **Analysis for Part E: Test Accuracy**\n",
    "AdaBoost imporves the most with the increase in number of estimators, followed by gradient boost \n",
    "\n",
    "In the case of random forests there is a decrease in accuracy with the highest number of estimators, most likely due to overfitting / overtuning of parameters. "
   ]
  },
  {
   "cell_type": "code",
   "execution_count": null,
   "metadata": {
    "colab": {
     "base_uri": "https://localhost:8080/",
     "height": 605
    },
    "id": "0_HuLVPiTNa4",
    "outputId": "e176115e-d3bf-4e9b-b28b-8350ed4678e6"
   },
   "outputs": [
    {
     "data": {
      "image/png": "[encoded data removed]",
      "text/plain": [
       "<Figure size 1080x720 with 1 Axes>"
      ]
     },
     "metadata": {
      "needs_background": "light"
     },
     "output_type": "display_data"
    }
   ],
   "source": [
    "piv = df.pivot(columns = 'Model', values = 'Roc Auc Acc').plot(kind='bar', figsize=(15,10))\n",
    "piv.set_xlabel(\"10                                                                                       100                                                                                   500\")\n",
    "piv.set_ylabel(\"Roc Auc Accuracy\")\n",
    "piv.set_title(\"Roc Auc Accuracy Accuracy by Model (y) and Number of Estimators (x)\")\n",
    "\n",
    "plt.tick_params(\n",
    "    axis='x',          # changes apply to the x-axis\n",
    "    which='both',      # both major and minor ticks are affected\n",
    "    bottom=False,      # ticks along the bottom edge are off\n",
    "    top=False,         # ticks along the top edge are off\n",
    "    labelbottom=False)\n",
    "\n",
    "#adding numbers or accuracy assurance\n",
    "for p in piv.patches:\n",
    "    piv.annotate(str(p.get_height()), (p.get_x() * 1.005, p.get_height() * 1.005))"
   ]
  },
  {
   "cell_type": "markdown",
   "metadata": {
    "id": "yHsdQOwXTdOZ"
   },
   "source": [
    "### **Analysis for Part E: ROC & AUC**\n",
    "\n",
    "the only improvement is seen in gradient boost with an increase of estimators from 10 to 100. \n",
    "\n",
    "However, AdaBoost and Random Forests obtain the same classification accuracy regardless of the increase in estimators meaning that the percision and recall cannot be further improved with more training "
   ]
  },
  {
   "cell_type": "code",
   "execution_count": null,
   "metadata": {
    "id": "SeeRzezcYQL2"
   },
   "outputs": [],
   "source": []
  },
  {
   "cell_type": "code",
   "execution_count": null,
   "metadata": {
    "id": "-MwR267_YPOg"
   },
   "outputs": [],
   "source": []
  }
 ],
 "metadata": {
  "colab": {
   "collapsed_sections": [],
   "name": "SUBMISSION: MIS382N_HW5.ipynb",
   "provenance": []
  },
  "kernelspec": {
   "display_name": "Python 3 (ipykernel)",
   "language": "python",
   "name": "python3"
  },
  "language_info": {
   "codemirror_mode": {
    "name": "ipython",
    "version": 3
   },
   "file_extension": ".py",
   "mimetype": "text/x-python",
   "name": "python",
   "nbconvert_exporter": "python",
   "pygments_lexer": "ipython3",
   "version": "3.8.10"
  }
 },
 "nbformat": 4,
 "nbformat_minor": 1
}
