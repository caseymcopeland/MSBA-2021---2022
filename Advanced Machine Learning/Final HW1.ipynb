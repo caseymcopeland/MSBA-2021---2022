{
 "cells": [
  {
   "cell_type": "markdown",
   "metadata": {
    "id": "evHVxwk2JA-3"
   },
   "source": [
    "# <p style=\"text-align: center;\">MIS 382N: Advanced Machine Learning</p>\n",
    "# <p style=\"text-align: center;\">Homework 1</p>\n",
    "## <p style=\"text-align: center;\">Casey Copeland, EID: cmc6793</p>\n",
    "## <p style=\"text-align: center;\">Total points: 55</p>\n",
    "## <p style=\"text-align: center;\">Due: Wednesday, **Sep 10** submitted via Canvas by 11:59 pm</p>\n",
    "\n",
    "Your homework should be written in a **Jupyter notebook**. Please make sure your code runs and the graphics (and anything else) are displayed in your notebook before submitting (%matplotlib inline). **This can be an individual assignment or group of 2. If you choose to do it as a group, please specify who you are working with (name and EID), then only one student should submit the homework.**\n",
    "\n",
    "**Note: Notebooks MUST have the images embedded in them. There will be no regrades if attached images do not render in the notebook. Please re download from canvas after submission and make sure all attached images render without errors. (Hint: Image module from IPython.display)**"
   ]
  },
  {
   "cell_type": "markdown",
   "metadata": {
    "id": "TWWU_gOSLEEv"
   },
   "source": [
    "# Question 1: MLOps (10 pts)\n",
    "Read this [article](https://towardsdatascience.com/what-is-mlops-everything-you-must-know-to-get-started-523f2d0b8bd8) \"What is MLOps — Everything You Must Know to Get Started\", which gives a quick walkthrough of the machine learning development lifecycle and explains how MLOps come into play, or watch this [video](https://www.youtube.com/watch?v=06-AZXmwHjo) which you may find interesting.\n",
    "\n",
    "1. (**4 pts**) Use your own words to describe what MLOps is, and what challenges MLOps address. Limit your answer to one paragraph.\n",
    "\n",
    "2. (**6 pts**) Describe what the main phases in MLOps are. Your answer should be 2-3 paragraphs.\n",
    "\n",
    "\n",
    "## Answer:"
   ]
  },
  {
   "cell_type": "markdown",
   "metadata": {},
   "source": [
    "1.1 \n",
    "MLOps goes beyond simply Machine Learning. It is the entire system necessary to use ML across departments to standardize and streamline models used for different business problems. MLOps challenges include a shortage of capable data scientist, the constant change of business objectives which in turn requires continuous model training and development, communication issues between tech teams and non-tech business teams, and the risks and costs of the ML systems not doing what they are built to do. \n",
    "\n",
    "1.2 \n",
    "    The first phase is defining the business objective and key performance metrics you want the ML system to solve/discover. Translate these objects into ML problems. Secondly, you must find appropriate input data. Then you will prep and process your chosen data so it is clean, compatible, and cost-efficient with your system, pipelines. Next comes data science where you train and experiment with your pipelines and models to find the optimal model that is reproducible. \n",
    "    Once the above steps are completed you will build and automate the chosen, optimal ML piplines. Once build, you will deploy the production system to be used for MLOps and the original business goal you framed as an ML problem. And finally, you will monitor, optimize, and maintain models as results come in, time passes, and business objectives shift. "
   ]
  },
  {
   "cell_type": "markdown",
   "metadata": {
    "id": "wusA9L1LmUMH"
   },
   "source": [
    "# Question 2: Applications of Machine Learning (5 pts)\n",
    "Read this [article](https://builtin.com/data-science/data-science-applications-examples) \"17 Data Science Applications & Examples\" and pick one of the data science systems used by various organizations according to this blog. \n",
    "\n",
    "For this system you have chosen, answer the following questions. Please limit your answer to one paragraph:\n",
    "\n",
    "1. What kind of machine learning problem is involved (e.g. classification, regression, clustering, outlier detection,...) in this system?\n",
    "2. Speculate on what kind of data may be needed and how the results can be useful to the organization.\n",
    "3. What do you think are the ethical implications of using machine learning in a domain like this?\n",
    "\n",
    "## Answer:"
   ]
  },
  {
   "cell_type": "markdown",
   "metadata": {},
   "source": [
    "Airbnb: search that highlights hip areas (Airbnb's search algorithm)\n",
    "\n",
    "Originally to pull up booking options for Airbnb customers they used an exponential demotion function (based on distance between center of city & listing location, applied on top of listings quality score) and then a sigmoid demotion curve (creating a positive lift). However, Airbnb could not get optimal results by hardcoding so they turned to Machine Learning The model estimates conditional probability of booking in a location, given where the person searched, normalized by the ammount of listings in that location. They refine the model to have a 2nd conditional probablility based on the cities people booked in & all the cities they searched to get there. Airbnb needs historical user data to create this model such as search history and booking history. Ethical issues caused by this model could be bais/skewing towards neighborhood possibly more upscale, white, or gentrified. This model creates demand in already popular areas, making them hotspots for more development and resulting in other neighborhoods not benefitting for the influx of tourism and new businesses. "
   ]
  },
  {
   "cell_type": "markdown",
   "metadata": {
    "id": "2w8za9lLmVO7"
   },
   "source": [
    "# Question 3: Simpson's Paradox (10 pts)\n",
    "A data scientist should be careful about drawing unwarranted conclusions about any data that is presented. One of the 'gotchas' that can happen even in apparently very simple tabular summaries, is called Simpson's paradox.\n",
    "\n",
    "Read this [article](https://www.covid-datascience.com/post/israeli-data-how-can-efficacy-vs-severe-disease-be-strong-when-60-of-hospitalized-are-vaccinated), which explains why the computed efficacy of the Pfizer vaccine is misleadingly low (67.5%) when you lump all people together, but once you stratify people by age (which is the right thing to do), you get much higher efficacy numbers.\n",
    "\n",
    "1.(**5 pts**) Explain in your own words what Simpson's paradox is, and how this 'paradox' can happen in real data.\n",
    "\n",
    "2.(**5 pts**) Find and mention another example of Simpson's paradox (but not any of the 3 examples given in the Wikipedia entry for 'Simpson's paradox'), state why the paradox appeared in your chosen example. Also give a reference (URL) to your source for the chosen example.\n",
    "\n",
    "## Answer:"
   ]
  },
  {
   "cell_type": "markdown",
   "metadata": {},
   "source": [
    "3.1 Simpson's Paradox is when observational data has misleading results due to confounding factors. Trends reverse when you group the data properly (in this article goruping by older people and younger people). \n",
    "\n",
    "3.2 Racial Bias in the criminal justice system.\n",
    "https://www.urban.org/urban-wire/simpsons-paradox-logic-racial-disparities\n",
    "\n",
    "The FBI reported rate for justifiable homicides is 2%. However when you take into account race, 11.41% of white-on-black homicides are ruled justifiable, while only 1.2% of black-on-white homicides are ruled justifiable. This demonstrates simpsons paradox in the FBI's reporting and racial disparity in the US criminal justice system. When you also take into account the population size of Whites versus Blacks in the US, many more White Americans are being ruled 'justifiable homicide' versus their Black counterparts. "
   ]
  },
  {
   "cell_type": "markdown",
   "metadata": {
    "id": "gth0D8jiMBSe"
   },
   "source": [
    "# Question 4: Ridge and Lasso Regression (30 pts)\n",
    "\n",
    "Download the dataset **Admission.csv** from Canvas and use the following codes to import the Admission dataset in Python. \n",
    "\n",
    "There are 7 features in the dataset:\n",
    "\n",
    "1. GRE score\n",
    "2. TOEFL score\n",
    "3. University Rating\n",
    "4. SOP(Statement of Purpose)\n",
    "5. LOR(Letter of Recommendation)\n",
    "6. CGPA\n",
    "7. Research\n",
    "\n",
    "And the target is **Chance of Admission**."
   ]
  },
  {
   "cell_type": "code",
   "execution_count": 113,
   "metadata": {
    "id": "QFazlpLgGpAa"
   },
   "outputs": [],
   "source": [
    "# Only use this code block if you are using Google Colab.\n",
    "# If you are using Jupyter Notebook, please ignore this code block. You can directly upload the file to your Jupyter Notebook file systems.\n",
    "#from google.colab import files\n",
    "\n",
    "## It will prompt you to select a local file. Click on “Choose Files” then select and upload the file. \n",
    "## Wait for the file to be 100% uploaded. You should see the name of the file once Colab has uploaded it.\n",
    "#uploaded = files.upload()"
   ]
  },
  {
   "cell_type": "code",
   "execution_count": 114,
   "metadata": {
    "id": "xsPaOOehGuU6"
   },
   "outputs": [],
   "source": [
    "# Codes below will work for both Google Colab and Jupyter Notebook.\n",
    "import numpy as np\n",
    "import pandas as pd\n",
    "import random\n",
    "from sklearn import linear_model\n",
    "from sklearn.metrics import mean_absolute_error, mean_squared_error\n",
    "from sklearn.linear_model import LinearRegression\n",
    "\n",
    "## Load the dataset into pandas DataFrame\n",
    "df = pd.read_csv('Admission.csv', index_col=0)\n",
    "df = df.replace([np.inf, -np.inf], np.nan) # \n",
    "df = df.fillna(0) # Replace all the NaN values with 0"
   ]
  },
  {
   "cell_type": "code",
   "execution_count": 115,
   "metadata": {
    "id": "PmMz72U6Gv-z"
   },
   "outputs": [
    {
     "data": {
      "text/plain": [
       "Index(['GRE_Score', 'TOEFL_Score', 'University_Rating', 'SOP', 'LOR ', 'CGPA',\n",
       "       'Research', 'Chance_of_Admit'],\n",
       "      dtype='object')"
      ]
     },
     "execution_count": 115,
     "metadata": {},
     "output_type": "execute_result"
    }
   ],
   "source": [
    "df.columns # Show you all the columns in this file"
   ]
  },
  {
   "cell_type": "code",
   "execution_count": 116,
   "metadata": {
    "id": "CyZN-yFfGxlt"
   },
   "outputs": [
    {
     "data": {
      "text/html": [
       "<div>\n",
       "<style scoped>\n",
       "    .dataframe tbody tr th:only-of-type {\n",
       "        vertical-align: middle;\n",
       "    }\n",
       "\n",
       "    .dataframe tbody tr th {\n",
       "        vertical-align: top;\n",
       "    }\n",
       "\n",
       "    .dataframe thead th {\n",
       "        text-align: right;\n",
       "    }\n",
       "</style>\n",
       "<table border=\"1\" class=\"dataframe\">\n",
       "  <thead>\n",
       "    <tr style=\"text-align: right;\">\n",
       "      <th></th>\n",
       "      <th>GRE_Score</th>\n",
       "      <th>TOEFL_Score</th>\n",
       "      <th>University_Rating</th>\n",
       "      <th>SOP</th>\n",
       "      <th>LOR</th>\n",
       "      <th>CGPA</th>\n",
       "      <th>Research</th>\n",
       "      <th>Chance_of_Admit</th>\n",
       "    </tr>\n",
       "    <tr>\n",
       "      <th>Serial No.</th>\n",
       "      <th></th>\n",
       "      <th></th>\n",
       "      <th></th>\n",
       "      <th></th>\n",
       "      <th></th>\n",
       "      <th></th>\n",
       "      <th></th>\n",
       "      <th></th>\n",
       "    </tr>\n",
       "  </thead>\n",
       "  <tbody>\n",
       "    <tr>\n",
       "      <th>1</th>\n",
       "      <td>337</td>\n",
       "      <td>118</td>\n",
       "      <td>4</td>\n",
       "      <td>4.5</td>\n",
       "      <td>4.5</td>\n",
       "      <td>9.65</td>\n",
       "      <td>1</td>\n",
       "      <td>0.92</td>\n",
       "    </tr>\n",
       "    <tr>\n",
       "      <th>2</th>\n",
       "      <td>324</td>\n",
       "      <td>107</td>\n",
       "      <td>4</td>\n",
       "      <td>4.0</td>\n",
       "      <td>4.5</td>\n",
       "      <td>8.87</td>\n",
       "      <td>1</td>\n",
       "      <td>0.76</td>\n",
       "    </tr>\n",
       "    <tr>\n",
       "      <th>3</th>\n",
       "      <td>316</td>\n",
       "      <td>104</td>\n",
       "      <td>3</td>\n",
       "      <td>3.0</td>\n",
       "      <td>3.5</td>\n",
       "      <td>8.00</td>\n",
       "      <td>1</td>\n",
       "      <td>0.72</td>\n",
       "    </tr>\n",
       "    <tr>\n",
       "      <th>4</th>\n",
       "      <td>322</td>\n",
       "      <td>110</td>\n",
       "      <td>3</td>\n",
       "      <td>3.5</td>\n",
       "      <td>2.5</td>\n",
       "      <td>8.67</td>\n",
       "      <td>1</td>\n",
       "      <td>0.80</td>\n",
       "    </tr>\n",
       "    <tr>\n",
       "      <th>5</th>\n",
       "      <td>314</td>\n",
       "      <td>103</td>\n",
       "      <td>2</td>\n",
       "      <td>2.0</td>\n",
       "      <td>3.0</td>\n",
       "      <td>8.21</td>\n",
       "      <td>0</td>\n",
       "      <td>0.65</td>\n",
       "    </tr>\n",
       "  </tbody>\n",
       "</table>\n",
       "</div>"
      ],
      "text/plain": [
       "            GRE_Score  TOEFL_Score  University_Rating  SOP  LOR   CGPA  \\\n",
       "Serial No.                                                               \n",
       "1                 337          118                  4  4.5   4.5  9.65   \n",
       "2                 324          107                  4  4.0   4.5  8.87   \n",
       "3                 316          104                  3  3.0   3.5  8.00   \n",
       "4                 322          110                  3  3.5   2.5  8.67   \n",
       "5                 314          103                  2  2.0   3.0  8.21   \n",
       "\n",
       "            Research  Chance_of_Admit  \n",
       "Serial No.                             \n",
       "1                  1             0.92  \n",
       "2                  1             0.76  \n",
       "3                  1             0.72  \n",
       "4                  1             0.80  \n",
       "5                  0             0.65  "
      ]
     },
     "execution_count": 116,
     "metadata": {},
     "output_type": "execute_result"
    }
   ],
   "source": [
    "df.head() # Show you the first 5 rows in this file"
   ]
  },
  {
   "cell_type": "code",
   "execution_count": 117,
   "metadata": {
    "id": "S3TfR0i4G2rO"
   },
   "outputs": [],
   "source": [
    "Y = df['Chance_of_Admit'] # The column named Chance_of_Admit is used as the target, and we store it in y\n",
    "X = df.drop(['Chance_of_Admit'], axis=1) # We keep the remaining columns as the features, and store them in x"
   ]
  },
  {
   "cell_type": "markdown",
   "metadata": {
    "id": "pKq1KERxJw9y"
   },
   "source": [
    "1)(**2 pts**) Split the data into a training set(75% of data) and a test set(25% of data), using the [train_test_split](https://scikit-learn.org/stable/modules/generated/sklearn.model_selection.train_test_split.html) function with random_state = 50. Then scale the data (not including target) so that each of the independent variables would have zero mean and unit variance. You can use the [sklearn.preprocessing.scale](https://scikit-learn.org/stable/modules/generated/sklearn.preprocessing.scale.html) function for this. Print the first 5 rows of the training set after scaling.\n",
    "\n",
    "2)(**5 pts**) Use [sklearn.linear_model.Lasso](https://scikit-learn.org/stable/modules/generated/sklearn.linear_model.Lasso.html) and [sklearn.linear_model.Ridge](https://scikit-learn.org/stable/modules/generated/sklearn.linear_model.Ridge.html) classes to do a **5-fold** cross validation using sklearn's KFold. For the sweep of the regularization parameter, we will look at a grid of values ranging from α=10^10 to α=10^−6. In Python, you can consider this range of values as follows: alpha = 10**numpy.linspace(6,-6,100) \n",
    "so that you can generate 100 uniform values between -6 to 6 as power series.\n",
    "\n",
    "Fit the 2 regression models with scaled data and report the best chosen **α** based on cross validation as well as the corresponding scoring metric. The cross validation should happen on your training data using **MSE** as the scoring metric.\n",
    "\n",
    "3)(**5 pts**) Run ridge and lasso regression for all of the **α** specified above (on training data), and plot the coefficients learned for each of them - there should be one plot each for lasso and ridge, so a total of two plots; different features' weights of each model should be on the same plot with different colors (3pts). \n",
    "\n",
    "What do you qualitatively observe when the value of the regularization parameter changes (2pts)? \n",
    "\n",
    "4)(**3 pts**) Take the exponential of Y_train as the target, and fit the 2 regression models again. Report the best chosen **α** based on cross validation as well as the corresponding scoring metric. Compare the results of using the original target with the results of using the exponential of the target. What do you observe? \n",
    "\n",
    "5)(**5 pts**) Similarly, use [sklearn.linear_model.ElasticNet](https://scikit-learn.org/stable/modules/generated/sklearn.linear_model.ElasticNet.html) to do linear regression with different **α** values, and plot the coefficients learned for each of them (2pts). Observe the plot, then explain the pros and cons of ridge, lasso and Elastic Net models (3pts).\n",
    "\n",
    "\n",
    "6)(**5 pts**) Run the following three regression models with **MSE** loss on the training data: \n",
    "\n",
    "a. linear regression without regularization (1pts)\n",
    "\n",
    "b. linear regression with ridge regularization (2pts)\n",
    "\n",
    "c. linear regression with lasso regularization (2pts)\n",
    "\n",
    "For part (b) and (c), use only the best regularization parameters. Report the MSE and R<sup>2</sup> on the test data for each model.\n",
    "\n",
    "7)(**5 pts**) Train the 3 models and report the metrics with the original data without scaling (3pts). \n",
    "\n",
    "Why do we need to scale the data before regularization (2pts)? \n",
    "\n",
    "## Answer:\n"
   ]
  },
  {
   "cell_type": "markdown",
   "metadata": {},
   "source": [
    "### 4.1 Answer"
   ]
  },
  {
   "cell_type": "code",
   "execution_count": 118,
   "metadata": {
    "scrolled": true
   },
   "outputs": [
    {
     "data": {
      "text/html": [
       "<div>\n",
       "<style scoped>\n",
       "    .dataframe tbody tr th:only-of-type {\n",
       "        vertical-align: middle;\n",
       "    }\n",
       "\n",
       "    .dataframe tbody tr th {\n",
       "        vertical-align: top;\n",
       "    }\n",
       "\n",
       "    .dataframe thead th {\n",
       "        text-align: right;\n",
       "    }\n",
       "</style>\n",
       "<table border=\"1\" class=\"dataframe\">\n",
       "  <thead>\n",
       "    <tr style=\"text-align: right;\">\n",
       "      <th></th>\n",
       "      <th>GRE_Score</th>\n",
       "      <th>TOEFL_Score</th>\n",
       "      <th>University_Rating</th>\n",
       "      <th>SOP</th>\n",
       "      <th>LOR</th>\n",
       "      <th>CGPA</th>\n",
       "      <th>Research</th>\n",
       "    </tr>\n",
       "    <tr>\n",
       "      <th>Serial No.</th>\n",
       "      <th></th>\n",
       "      <th></th>\n",
       "      <th></th>\n",
       "      <th></th>\n",
       "      <th></th>\n",
       "      <th></th>\n",
       "      <th></th>\n",
       "    </tr>\n",
       "  </thead>\n",
       "  <tbody>\n",
       "    <tr>\n",
       "      <th>204</th>\n",
       "      <td>334</td>\n",
       "      <td>120</td>\n",
       "      <td>5</td>\n",
       "      <td>4.0</td>\n",
       "      <td>5.0</td>\n",
       "      <td>9.87</td>\n",
       "      <td>1</td>\n",
       "    </tr>\n",
       "    <tr>\n",
       "      <th>265</th>\n",
       "      <td>325</td>\n",
       "      <td>110</td>\n",
       "      <td>2</td>\n",
       "      <td>3.0</td>\n",
       "      <td>2.5</td>\n",
       "      <td>8.76</td>\n",
       "      <td>1</td>\n",
       "    </tr>\n",
       "    <tr>\n",
       "      <th>339</th>\n",
       "      <td>323</td>\n",
       "      <td>108</td>\n",
       "      <td>5</td>\n",
       "      <td>4.0</td>\n",
       "      <td>4.0</td>\n",
       "      <td>8.74</td>\n",
       "      <td>1</td>\n",
       "    </tr>\n",
       "    <tr>\n",
       "      <th>262</th>\n",
       "      <td>312</td>\n",
       "      <td>104</td>\n",
       "      <td>3</td>\n",
       "      <td>3.5</td>\n",
       "      <td>4.0</td>\n",
       "      <td>8.09</td>\n",
       "      <td>0</td>\n",
       "    </tr>\n",
       "    <tr>\n",
       "      <th>217</th>\n",
       "      <td>322</td>\n",
       "      <td>112</td>\n",
       "      <td>4</td>\n",
       "      <td>4.5</td>\n",
       "      <td>4.5</td>\n",
       "      <td>9.26</td>\n",
       "      <td>1</td>\n",
       "    </tr>\n",
       "  </tbody>\n",
       "</table>\n",
       "</div>"
      ],
      "text/plain": [
       "            GRE_Score  TOEFL_Score  University_Rating  SOP  LOR   CGPA  \\\n",
       "Serial No.                                                               \n",
       "204               334          120                  5  4.0   5.0  9.87   \n",
       "265               325          110                  2  3.0   2.5  8.76   \n",
       "339               323          108                  5  4.0   4.0  8.74   \n",
       "262               312          104                  3  3.5   4.0  8.09   \n",
       "217               322          112                  4  4.5   4.5  9.26   \n",
       "\n",
       "            Research  \n",
       "Serial No.            \n",
       "204                1  \n",
       "265                1  \n",
       "339                1  \n",
       "262                0  \n",
       "217                1  "
      ]
     },
     "execution_count": 118,
     "metadata": {},
     "output_type": "execute_result"
    }
   ],
   "source": [
    "from sklearn.linear_model import Lasso\n",
    "from sklearn.metrics import mean_squared_error, mean_absolute_error\n",
    "from sklearn.linear_model import Ridge, RidgeCV, Lasso, LassoCV\n",
    "import matplotlib.pyplot as plt\n",
    "from sklearn.model_selection import train_test_split\n",
    "from sklearn import preprocessing\n",
    "\n",
    "#train & test set\n",
    "X_train, X_test, Y_train, Y_test = train_test_split(X, Y, test_size=0.25, random_state=50)\n",
    "\n",
    "#scaling\n",
    "preprocessing.scale(X, axis=0, with_mean=True, with_std=True, copy=True)\n",
    "X_train[:5]"
   ]
  },
  {
   "cell_type": "markdown",
   "metadata": {},
   "source": [
    "### 4.2 Answer"
   ]
  },
  {
   "cell_type": "code",
   "execution_count": 119,
   "metadata": {},
   "outputs": [],
   "source": [
    "#alpha range to test \n",
    "alphas = 10**np.linspace(6,-6,100)"
   ]
  },
  {
   "cell_type": "code",
   "execution_count": 120,
   "metadata": {},
   "outputs": [],
   "source": [
    "#KFold class creation\n",
    "\n",
    "from sklearn.model_selection import KFold\n",
    "\n",
    "kf = KFold(n_splits = 5)"
   ]
  },
  {
   "cell_type": "code",
   "execution_count": 121,
   "metadata": {},
   "outputs": [
    {
     "name": "stdout",
     "output_type": "stream",
     "text": [
      "LASSO\n",
      "MSE 0.013198100617920804\n",
      "MAE 0.09070957086118375\n",
      " \n",
      "MSE 0.015216851808810251\n",
      "MAE 0.09562796056110633\n",
      " \n",
      "MSE 0.015699040840390404\n",
      "MAE 0.10251193018549322\n",
      " \n",
      "MSE 0.01649030340862912\n",
      "MAE 0.09955692513718267\n",
      " \n",
      "MSE 0.015787731830492636\n",
      "MAE 0.09830165698862434\n",
      " \n",
      "RIDGE\n",
      "MSE 0.005156914936203436\n",
      "MAE 0.05349901456047849\n",
      " \n",
      "MSE 0.003629393260149606\n",
      "MAE 0.04420843363818246\n",
      " \n",
      "MSE 0.00417753410286102\n",
      "MAE 0.04665479400468099\n",
      " \n",
      "MSE 0.0032803978382984554\n",
      "MAE 0.04165684226719257\n",
      " \n",
      "MSE 0.004378070986732532\n",
      "MAE 0.04745288999426821\n",
      " \n"
     ]
    }
   ],
   "source": [
    "#5 FOLD CROSS VALIDATION\n",
    "\n",
    "#Lasso\n",
    "print('LASSO')\n",
    "from sklearn.linear_model import Lasso\n",
    "from sklearn.metrics import mean_squared_error, mean_absolute_error\n",
    "from sklearn.linear_model import Ridge, RidgeCV, Lasso, LassoCV\n",
    "\n",
    "#create for loop, Training set into 5 folds (4 folds = train, 1 fold = test - evaluate the result)\n",
    "for train_index, test_index in kf.split(X_train):\n",
    "    x_train, x_test = X_train.iloc[train_index], X_train.iloc[test_index]\n",
    "    y_train, y_test = Y_train.iloc[train_index], Y_train.iloc[test_index]\n",
    "    \n",
    "    #classifier clf\n",
    "    lasso = linear_model.Lasso()\n",
    "    lasso = lasso.fit(x_train, y_train) #our train model \n",
    "    \n",
    "    mse = mean_squared_error(y_test, lasso.predict(x_test)) # mse of target set and prediction set\n",
    "    mae = mean_absolute_error(y_test,lasso.predict(x_test))\n",
    "    \n",
    "    print('MSE',mse) #should give you 5 mse\n",
    "    print('MAE',mae) #should give you 5 mae\n",
    "    print(' ')\n",
    "    \n",
    "\n",
    "#Ridge\n",
    "print('RIDGE')\n",
    "from sklearn.linear_model import Ridge\n",
    "from sklearn.metrics import mean_squared_error, mean_absolute_error\n",
    "\n",
    "#create for loop, Training set into 5 folds (4 folds = train, 1 fold = test - evaluate the result)\n",
    "for train_index, test_index in kf.split(X_train):\n",
    "    x_train, x_test = X_train.iloc[train_index], X_train.iloc[test_index]\n",
    "    y_train, y_test = Y_train.iloc[train_index], Y_train.iloc[test_index]\n",
    "    \n",
    "    #classifier clf\n",
    "    ridge = linear_model.Ridge()\n",
    "    ridge = ridge.fit(x_train, y_train) #our train model \n",
    "    \n",
    "    mse = mean_squared_error(y_test, ridge.predict(x_test)) # mse of target set and prediction set\n",
    "    mae = mean_absolute_error(y_test,ridge.predict(x_test))\n",
    "    \n",
    "    print('MSE',mse) #should give you 5 mse\n",
    "    print('MAE',mae) #should give you 5 mae\n",
    "    print(' ')"
   ]
  },
  {
   "cell_type": "code",
   "execution_count": 122,
   "metadata": {},
   "outputs": [
    {
     "name": "stdout",
     "output_type": "stream",
     "text": [
      "Ridge\n",
      "Using CV, the optimal alpha is: 0.017475284000076828\n",
      "The MSE for alpha is: 0.0044956388451210996\n",
      " \n",
      "Lasso\n",
      "Using CV, the optimal alpha is: 0.0006135907273413163\n",
      "The MSE for alpha is: 0.004613817489802236\n",
      " \n"
     ]
    }
   ],
   "source": [
    "#BEST CHOSEN α BASED ON CROSS VALIDATION\n",
    "#Ridge\n",
    "print('Ridge')\n",
    "ridgecv = RidgeCV(alphas = alphas, cv = kf, scoring = 'neg_mean_squared_error', normalize = True)\n",
    "ridgecv.fit(X_train, Y_train)\n",
    "print('Using CV, the optimal alpha is:', ridgecv.alpha_)\n",
    "ridge4 = Ridge(alpha = ridgecv.alpha_, normalize = True)\n",
    "ridge4.fit(X_train, Y_train)\n",
    "print('The MSE for alpha is:', mean_squared_error(Y_test, ridge4.predict(X_test)))\n",
    "print(' ')\n",
    "#Lasso\n",
    "print('Lasso')\n",
    "lassocv = LassoCV(alphas = alphas, cv = kf, max_iter = 100000)\n",
    "lassocv.fit(X_train, Y_train)\n",
    "print('Using CV, the optimal alpha is:', lassocv.alpha_)\n",
    "lasso = Lasso(alpha = lassocv.alpha_, normalize = True)\n",
    "lasso.fit(X_train, Y_train)\n",
    "print('The MSE for alpha is:', mean_squared_error(Y_test, lasso.predict(X_test)))\n",
    "print(' ')"
   ]
  },
  {
   "cell_type": "markdown",
   "metadata": {},
   "source": [
    "### 4.3 Answer\n",
    "\n",
    "As the regularization parameter (alpha) becomes larger, the coefficients move towards zero. A too large alpha causes the features to be insignificant (coefficients of zero). The tuning parameter is too large in this case, we have over-shrunk, the model is biased, and will result in a large MSE and inaccurate model. \n",
    "\n",
    "As the regularization parameter (alpha) becomes smaller, the coefficients become larger. If alpha is too small, we risk overfitting, allowing too much noise/variance in the model. This will also result in a large MSE and inaccurate model. \n",
    "\n",
    "You want the 'juuust right' (goldilocks) regularization parameter, where MSE is it's lowest for the model. "
   ]
  },
  {
   "cell_type": "code",
   "execution_count": 123,
   "metadata": {},
   "outputs": [],
   "source": [
    "#FEATURE IMPORTANCE, PLOT COEFFICIENTS FOR EVERY ALPHA "
   ]
  },
  {
   "cell_type": "code",
   "execution_count": 124,
   "metadata": {},
   "outputs": [
    {
     "data": {
      "text/plain": [
       "Text(0, 0.5, 'coefficients')"
      ]
     },
     "execution_count": 124,
     "metadata": {},
     "output_type": "execute_result"
    },
    {
     "data": {
      "image/png": "[encoded data removed]",
      "text/plain": [
       "<Figure size 432x288 with 1 Axes>"
      ]
     },
     "metadata": {
      "needs_background": "light"
     },
     "output_type": "display_data"
    }
   ],
   "source": [
    "#Ridge\n",
    "coefsR = []\n",
    "\n",
    "for a in alphas:\n",
    "    ridge.set_params(alpha = a)\n",
    "    ridge.fit(X_train, Y_train)\n",
    "    coefsR.append(ridge.coef_)\n",
    "    \n",
    "np.shape(coefsR) #(100, 7)\n",
    "\n",
    "ax = plt.gca()\n",
    "ax.plot(alphas, coefsR)\n",
    "ax.set_xscale('log')\n",
    "plt.axis('tight')\n",
    "plt.xlabel('alpha')\n",
    "plt.ylabel('coefficients')"
   ]
  },
  {
   "cell_type": "code",
   "execution_count": 125,
   "metadata": {
    "scrolled": true
   },
   "outputs": [
    {
     "data": {
      "text/plain": [
       "Text(0, 0.5, 'weights')"
      ]
     },
     "execution_count": 125,
     "metadata": {},
     "output_type": "execute_result"
    },
    {
     "data": {
      "image/png": "[encoded data removed]",
      "text/plain": [
       "<Figure size 432x288 with 1 Axes>"
      ]
     },
     "metadata": {
      "needs_background": "light"
     },
     "output_type": "display_data"
    }
   ],
   "source": [
    "#Lasso\n",
    "from sklearn.preprocessing import scale \n",
    "lasso = Lasso(max_iter = 10000, normalize = True)\n",
    "coefsL = []\n",
    "\n",
    "for a in alphas:\n",
    "    lasso.set_params(alpha=a)\n",
    "    lasso.fit(scale(X_train), Y_train)\n",
    "    coefsL.append(lasso.coef_)\n",
    "    \n",
    "ax = plt.gca()\n",
    "ax.plot(alphas*2, coefsL)\n",
    "ax.set_xscale('log')\n",
    "plt.axis('tight')\n",
    "plt.xlabel('alpha')\n",
    "plt.ylabel('weights')"
   ]
  },
  {
   "cell_type": "markdown",
   "metadata": {},
   "source": [
    "### 4.4 Answer\n",
    "The alphas stay roughly the same, each becoming a bit small for both Ridge & Lasso. However, the MSE for both models goes way up when we use an exponential Y_train. Using regular Y_train resulted in more accurate models."
   ]
  },
  {
   "cell_type": "code",
   "execution_count": 126,
   "metadata": {},
   "outputs": [],
   "source": [
    "Y_train2 = np.exp(Y_train) "
   ]
  },
  {
   "cell_type": "code",
   "execution_count": 127,
   "metadata": {},
   "outputs": [
    {
     "name": "stdout",
     "output_type": "stream",
     "text": [
      "Ridge Exp\n",
      "Using CV, the optimal alpha is: 0.02310129700083158\n",
      "The MSE at this alpha is: 1.89476840915737\n",
      " \n",
      "Lasso Exp\n",
      "Using CV, the optimal alpha is: 0.001072267222010321\n",
      "The MSE at this alpha is: 1.8877222215209095\n",
      " \n"
     ]
    }
   ],
   "source": [
    "#BEST CHOSEN α BASED ON CROSS VALIDATION\n",
    "#Ridge\n",
    "print('Ridge Exp')\n",
    "ridgecv = RidgeCV(alphas = alphas, cv = kf, scoring = 'neg_mean_squared_error', normalize = True)\n",
    "ridgecv.fit(X_train, Y_train2)\n",
    "print('Using CV, the optimal alpha is:', ridgecv.alpha_)\n",
    "ridge4 = Ridge(alpha = ridgecv.alpha_, normalize = True)\n",
    "ridge4.fit(X_train, Y_train2)\n",
    "print('The MSE at this alpha is:', mean_squared_error(Y_test, ridge4.predict(X_test)))\n",
    "print(' ')\n",
    "#Lasso\n",
    "print('Lasso Exp')\n",
    "lassocv = LassoCV(alphas = alphas, cv = kf, max_iter = 100000)\n",
    "lassocv.fit(X_train, Y_train2)\n",
    "print('Using CV, the optimal alpha is:', lassocv.alpha_)\n",
    "lasso = Lasso(alpha = lassocv.alpha_, normalize = True)\n",
    "lasso.fit(X_train, Y_train2)\n",
    "print('The MSE at this alpha is:', mean_squared_error(Y_test, lasso.predict(X_test)))\n",
    "print(' ')"
   ]
  },
  {
   "cell_type": "markdown",
   "metadata": {},
   "source": [
    "### 4.5 Answer\n",
    "\n",
    "Each of these models handles the bias-variance trade off slightly different. \n",
    "\n",
    "Ridge lowers variance and bias by using a regulation parameter and a penalty (L2) term. Ridge decreases the complexity of model, but does not reduce the number of variables, therefore if you need feature reduction ridge is not the best model. \n",
    "\n",
    "Lasso has a similar approach to Ridge, except Lasso tends to set coefficients to absolute zero due to its penalty term. We see this in our coefficient plots where the ridge coefficients do not reach zero until a larger alpha value, while lasso coefficients reach zero at a much smaller alpha. Lasso is not a good model to use when predictors is > observations and when 2 or more variables are highly collinear. Lasso can cause bias when Y is too dependent on one variable.\n",
    "\n",
    "Elastic Nets combines the regularization of both Ridge and Lasso, it can be more computationally expensive because of this. \n",
    "\n",
    "In our models, the MSE is relatively the same, and low, for all 3 models: Ridge, Lasso, and Elastic Nets. Alpha is much larger for Ridge(.0174) when compared to Lasso(.0006) & Elastic Nets(.0001). And we see a bit more coefficient complexity with Elastic Nets versus Lasso. "
   ]
  },
  {
   "cell_type": "code",
   "execution_count": 128,
   "metadata": {},
   "outputs": [
    {
     "name": "stdout",
     "output_type": "stream",
     "text": [
      "Elastic Net\n",
      "Using CV, the optimal alpha is: 0.00011497569953977356\n",
      "The MSE at this alpha is: 0.0044882080958358874\n",
      " \n"
     ]
    },
    {
     "data": {
      "text/plain": [
       "Text(0, 0.5, 'coefficients')"
      ]
     },
     "execution_count": 128,
     "metadata": {},
     "output_type": "execute_result"
    },
    {
     "data": {
      "image/png": "[encoded data removed]",
      "text/plain": [
       "<Figure size 432x288 with 1 Axes>"
      ]
     },
     "metadata": {
      "needs_background": "light"
     },
     "output_type": "display_data"
    }
   ],
   "source": [
    "from sklearn.linear_model import ElasticNetCV, ElasticNet\n",
    "elasticnet = linear_model.ElasticNet()\n",
    "\n",
    "#CV\n",
    "print('Elastic Net')\n",
    "ENcv = ElasticNetCV(alphas = alphas, cv = kf, normalize = True)\n",
    "ENcv.fit(X_train, Y_train)\n",
    "print('Using CV, the optimal alpha is:', ENcv.alpha_)\n",
    "EN4 = ElasticNet(alpha = ENcv.alpha_, normalize = True)\n",
    "EN4.fit(X_train, Y_train)\n",
    "print('The MSE at this alpha is:', mean_squared_error(Y_test, EN4.predict(X_test)))\n",
    "print(' ')\n",
    "\n",
    "coefsEN = []\n",
    "\n",
    "for a in alphas:\n",
    "    elasticnet.set_params(alpha = a)\n",
    "    elasticnet.fit(X_train, Y_train)\n",
    "    coefsEN.append(elasticnet.coef_)\n",
    "    \n",
    "np.shape(coefsEN) #(100, 7)\n",
    "\n",
    "ax = plt.gca()\n",
    "ax.plot(alphas, coefsEN)\n",
    "ax.set_xscale('log')\n",
    "plt.axis('tight')\n",
    "plt.xlabel('alpha')\n",
    "plt.ylabel('coefficients')"
   ]
  },
  {
   "cell_type": "markdown",
   "metadata": {},
   "source": [
    "### 4.6 Answer\n"
   ]
  },
  {
   "cell_type": "code",
   "execution_count": 129,
   "metadata": {},
   "outputs": [
    {
     "name": "stdout",
     "output_type": "stream",
     "text": [
      "The linear regression MSE is: 0.004526319242200027\n",
      "The linear regression R^2 is: 0.8193370700006861\n",
      " \n",
      "The Ridge MSE is: 0.004526158463578651\n",
      "The Ridge R^2 is: 0.8193370367899377\n",
      " \n",
      "The lasso MSE is: 0.00455449597201753\n",
      "The lasso R^2 is: 0.8190885789866322\n"
     ]
    }
   ],
   "source": [
    "ols = linear_model.LinearRegression()\n",
    "ols = ols.fit(X_train, Y_train)\n",
    "print('The linear regression MSE is:', mean_squared_error(Y_test, ols.predict(X_test)))\n",
    "print('The linear regression R^2 is:', ols.score(X_train, Y_train))\n",
    "print(' ')\n",
    "ridge = linear_model.Ridge(alpha = 0.017475284000076828)\n",
    "ridge.fit(X_train, Y_train)\n",
    "print('The Ridge MSE is:', mean_squared_error(Y_test, ridge.predict(X_test)))\n",
    "print('The Ridge R^2 is:', ridge.score(X_train, Y_train))\n",
    "print(' ')\n",
    "lasso = linear_model.Lasso(alpha = 0.0006135907273413163)\n",
    "lasso = lasso.fit(X_train, Y_train)\n",
    "print('The lasso MSE is:', mean_squared_error(Y_test, lasso.predict(X_test)))\n",
    "print('The lasso R^2 is:', lasso.score(X_train, Y_train))\n",
    "\n"
   ]
  },
  {
   "cell_type": "markdown",
   "metadata": {},
   "source": [
    "### 4.7 Answer\n",
    "\n",
    "We normalized the variables beforehand so they are all on the same scale and the regularization term affects each one similarly."
   ]
  },
  {
   "cell_type": "code",
   "execution_count": 130,
   "metadata": {},
   "outputs": [
    {
     "name": "stdout",
     "output_type": "stream",
     "text": [
      "Models performance on original data: \n",
      " \n",
      "The linear regression MSE is: 0.004265270428719118\n",
      "The linear regression R^2 is: 0.8034713719824395\n",
      " \n",
      "The Ridge MSE is: 0.004265135376878355\n",
      "The Ridge R^2 is: 0.803471352862373\n",
      " \n",
      "The lasso MSE is: 0.004305615366164559\n",
      "The lasso R^2 is: 0.8030250210393687\n"
     ]
    }
   ],
   "source": [
    "#a. linear regression without regularization (1pts)\n",
    "print('Models performance on original data: ')\n",
    "print(' ')\n",
    "ols = linear_model.LinearRegression()\n",
    "ols = ols.fit(X, Y)\n",
    "print('The linear regression MSE is:', mean_squared_error(Y_test, ols.predict(X_test)))\n",
    "print('The linear regression R^2 is:', ols.score(X, Y))\n",
    "print(' ')\n",
    "ridge = linear_model.Ridge(alpha = 0.017475284000076828)\n",
    "ridge.fit(X, Y)\n",
    "print('The Ridge MSE is:', mean_squared_error(Y_test, ridge.predict(X_test)))\n",
    "print('The Ridge R^2 is:', ridge.score(X, Y))\n",
    "print(' ')\n",
    "lasso = linear_model.Lasso(alpha = 0.0006135907273413163)\n",
    "lasso = lasso.fit(X, Y)\n",
    "print('The lasso MSE is:', mean_squared_error(Y_test, lasso.predict(X_test)))\n",
    "print('The lasso R^2 is:', lasso.score(X, Y))"
   ]
  }
 ],
 "metadata": {
  "colab": {
   "collapsed_sections": [],
   "name": "MIS 382N - HW1.ipynb",
   "provenance": []
  },
  "kernelspec": {
   "display_name": "Python 3 (ipykernel)",
   "language": "python",
   "name": "python3"
  },
  "language_info": {
   "codemirror_mode": {
    "name": "ipython",
    "version": 3
   },
   "file_extension": ".py",
   "mimetype": "text/x-python",
   "name": "python",
   "nbconvert_exporter": "python",
   "pygments_lexer": "ipython3",
   "version": "3.8.10"
  }
 },
 "nbformat": 4,
 "nbformat_minor": 1
}
