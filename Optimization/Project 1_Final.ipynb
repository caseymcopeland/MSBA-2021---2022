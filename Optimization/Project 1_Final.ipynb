{
 "cells": [
  {
   "cell_type": "markdown",
   "metadata": {},
   "source": [
    "# RM 294 - Optimization I\n",
    "# FA Track Project 1: Linear Programming\n",
    "# Dedicated / Cash Flow Matched Portfolio\n",
    "\n",
    "#### Team Members:\n",
    "- **Aritra Chowdhury _(ac79277)_**\n",
    "- **Casey Copeland _(cmc6793)_**\n",
    "- **Emilio Cabrera _(eac4622)_**\n",
    "- **Rohitashwa Chakraborty _(rc47878)_**"
   ]
  },
  {
   "cell_type": "markdown",
   "metadata": {},
   "source": [
    "### Part 1 - Dedicated Portfolio Build"
   ]
  },
  {
   "cell_type": "markdown",
   "metadata": {},
   "source": [
    "#### Import required Libraries"
   ]
  },
  {
   "cell_type": "code",
   "execution_count": 33,
   "metadata": {},
   "outputs": [],
   "source": [
    "import pandas as pd\n",
    "import numpy as np\n",
    "import gurobipy as gp\n",
    "import matplotlib.pyplot as plt\n",
    "\n",
    "%matplotlib inline\n",
    "plt.style.use('ggplot')"
   ]
  },
  {
   "cell_type": "markdown",
   "metadata": {},
   "source": [
    "#### Read Bonds and Liabilities CSV Files\n",
    "We also print the number of years and bonds in the 2 respective files."
   ]
  },
  {
   "cell_type": "code",
   "execution_count": 34,
   "metadata": {},
   "outputs": [
    {
     "name": "stdout",
     "output_type": "stream",
     "text": [
      "Number of years: 8\n",
      "Number of bonds: 13\n"
     ]
    }
   ],
   "source": [
    "df_bonds = pd.read_csv(\"bonds.csv\", index_col=\"Bond\")\n",
    "df_liabilities = pd.read_csv(\"liabilities.csv\", index_col=\"Year\")\n",
    "\n",
    "nyears = df_liabilities.shape[0]\n",
    "print(\"Number of years:\", nyears)\n",
    "\n",
    "nbonds = df_bonds.shape[0]\n",
    "print(\"Number of bonds:\", nbonds)"
   ]
  },
  {
   "cell_type": "markdown",
   "metadata": {},
   "source": [
    "#### Create Objective and Constraint Matrices"
   ]
  },
  {
   "cell_type": "markdown",
   "metadata": {},
   "source": [
    "**Objective Function**\n",
    "\n",
    "The objective function is the initial investment in bonds in Year 0, which we try to minimize. Note that there is no cash outflow for forward bonds (bonds starting after Year 0). Therefore, for N bonds:\n",
    "\n",
    "$$ minimize \\sum \\limits _{i=1} ^{N} (P_{i} * {x}_{i}) $$\n",
    "\n",
    "where  \n",
    "$i$ = $i$th bond  \n",
    "$P_{i}$ = Price of the $i$th bond  \n",
    "$x_{i}$ = Quantity of the $i$th bond (to be optimized)  \n",
    "\n",
    "**Constraint Function**\n",
    "\n",
    "Our constraint entails that the cash outflow should equal the cash inflow. The cash outflow is given by $L_{t}$ which is the liability at year $t$. The cash inflow is a combination of the coupon prices received from bonds, the maturity prices of bonds at the expiration date and the outflow from paying the forward prices for forward bonds. Therefore, the constraint becomes:\n",
    "\n",
    "$$ L_{t} = \\sum \\limits _{i=1} ^{N} (C_{i} * x_{i}) \\mid (M_{i} > t-1, S_{i} > t-1) - \\sum \\limits _{i=1} ^{N} (P_{i} - {x}_{i}) \\mid (S_{i} = t) + \\sum \\limits _{i=1} ^{N} (100 * x_{i}) \\mid (M_{i} = t) $$\n",
    "\n",
    "where  \n",
    "$t$ = $t$th year  \n",
    "$C_{i}$ = Coupon price of the $i$th bond  \n",
    "$M_{i}$ = Maturity price of the $i$th bond"
   ]
  },
  {
   "cell_type": "code",
   "execution_count": 35,
   "metadata": {},
   "outputs": [
    {
     "name": "stdout",
     "output_type": "stream",
     "text": [
      "Objective Function (to be minimized):\n",
      " [102.  -0.  99. 101.  98.  98.  -0. 104. 100. 101. 102.  94.  -0.]\n",
      "\n",
      "Dimensions of Matrix (A): (8, 13)\n"
     ]
    }
   ],
   "source": [
    "A = np.zeros((nyears+1, nbonds)) # nyears +1 because year = 0 is the investment.....to be minimised\n",
    "\n",
    "for index, row in df_bonds.iterrows():\n",
    "    price, coupon, start, maturity = row[[\"Price\", \"Coupon\", \"StartTime\", \"Maturity\"]].apply(float)\n",
    "    start = int(start)\n",
    "    maturity = int(maturity)\n",
    "    \n",
    "    A[start, index-1] = -1*price                 # Outflow: buying a bond\n",
    "    A[(start+1) : (maturity), index-1] = coupon  # Inflow : Coupon Payment\n",
    "    A[maturity, index-1] = coupon + 100          # Inflow : Maturity = Coupon + FV ($100)\n",
    "\n",
    "objective = -1*A[0]\n",
    "A_bonds = A[1:]\n",
    "print(\"Objective Function (to be minimized):\\n\", objective)\n",
    "print(\"\\nDimensions of Matrix (A):\", A_bonds.shape)"
   ]
  },
  {
   "cell_type": "code",
   "execution_count": 36,
   "metadata": {},
   "outputs": [],
   "source": [
    "sense = np.array((['=']*nyears))\n",
    "b_liabilities = np.array(df_liabilities)"
   ]
  },
  {
   "cell_type": "markdown",
   "metadata": {},
   "source": [
    "### Part 2 - Dedicated Portfolio Solution using Gurobi"
   ]
  },
  {
   "cell_type": "code",
   "execution_count": 37,
   "metadata": {},
   "outputs": [],
   "source": [
    "model = gp.Model() # initialize an empty model\n",
    "\n",
    "modX = model.addMVar(nbonds)\n",
    "\n",
    "modCon = model.addMConstrs(A_bonds, modX, sense, b_liabilities) # add model constraints\n",
    "\n",
    "model.setMObjective(None,objective,0,sense=gp.GRB.MINIMIZE)\n",
    "\n",
    "model.Params.OutputFlag = 0\n",
    "\n",
    "model.optimize() # solve the LP"
   ]
  },
  {
   "cell_type": "markdown",
   "metadata": {},
   "source": [
    "After solving the problem using Gurobi, we get the following results."
   ]
  },
  {
   "cell_type": "code",
   "execution_count": 38,
   "metadata": {},
   "outputs": [
    {
     "name": "stdout",
     "output_type": "stream",
     "text": [
      "Cost of portfolio: $ 9447500.76 \n",
      "\n",
      "We buy the following bond quantities at Year 0:\n",
      "\n",
      "Bond 1 (@ $102):  6522.49\n",
      "Bond 3 (@ $99):  12848.62\n",
      "Bond 5 (@ $98):  15298.32\n",
      "Bond 6 (@ $98):  15680.78\n",
      "Bond 8 (@ $104):  12308.01\n",
      "Bond 10 (@ $101):  12415.73\n",
      "Bond 11 (@ $102):  10408.99\n",
      "Bond 12 (@ $94):  9345.79\n"
     ]
    }
   ],
   "source": [
    "print(\"Cost of portfolio: $\",round(model.objVal,2),\"\\n\")\n",
    "\n",
    "print(\"We buy the following bond quantities at Year 0:\\n\")\n",
    "for i in range(len(modX.x)):\n",
    "    if (modX.x[i] > 0.0):\n",
    "        print(\"Bond {index} (@ ${price}): \".format(index = df_bonds.index[i], price = df_bonds[\"Price\"].iloc[i]), round(modX.x[i],2))"
   ]
  },
  {
   "cell_type": "code",
   "execution_count": 39,
   "metadata": {},
   "outputs": [
    {
     "data": {
      "image/png": "[encoded data removed]",
      "text/plain": [
       "<Figure size 720x432 with 1 Axes>"
      ]
     },
     "metadata": {},
     "output_type": "display_data"
    }
   ],
   "source": [
    "mask = modX.x > 0\n",
    "\n",
    "used_A = A_bonds[:,mask]\n",
    "used_b = modX.x[mask]\n",
    "\n",
    "year_lst = [\"Year \"+str(i) for i in range(1,df_bonds[\"Maturity\"].max()+1)]\n",
    "\n",
    "plt.figure().set_size_inches(10, 6,  forward=True)\n",
    "\n",
    "weight_prev = np.array([0]*used_A.shape[1])\n",
    "for i in range(used_A.shape[1]):\n",
    "    weight = used_A[:,i]*used_b[i]\n",
    "    # plot bars in stack manner\n",
    "    plt.bar(year_lst,weight, bottom=weight_prev, alpha = 0.6)\n",
    "    weight_prev = np.add(weight_prev , weight)\n",
    "\n",
    "plt.plot(year_lst, b_liabilities)\n",
    "plt.xlabel(\"Bond\")\n",
    "plt.ylabel(\"Payoff ($)\")\n",
    "plt.title(\"Payoff for each bond over the years\")\n",
    "plt.legend([\"Net liabilities\"]+[\"Bond \"+str(i+1) for i in range(1,df_bonds[\"Maturity\"].max()+1)], loc = \"best\")\n",
    "plt.show()"
   ]
  },
  {
   "cell_type": "code",
   "execution_count": 40,
   "metadata": {},
   "outputs": [
    {
     "data": {
      "image/png": "[encoded data removed]",
      "text/plain": [
       "<Figure size 432x288 with 1 Axes>"
      ]
     },
     "metadata": {},
     "output_type": "display_data"
    }
   ],
   "source": [
    "plt.bar(df_bonds.index, df_bonds[\"Price\"]*modX.x)\n",
    "plt.title(\"Total Price of Bonds Bought in Year 0\")\n",
    "plt.xlabel(\"Bond\")\n",
    "plt.ylabel(\"Total Price\")\n",
    "plt.xticks(np.arange(1, nbonds+1, 1.0))\n",
    "plt.show();"
   ]
  },
  {
   "cell_type": "code",
   "execution_count": 41,
   "metadata": {},
   "outputs": [
    {
     "data": {
      "image/png": "[encoded data removed]",
      "text/plain": [
       "<Figure size 432x288 with 1 Axes>"
      ]
     },
     "metadata": {},
     "output_type": "display_data"
    }
   ],
   "source": [
    "plt.pie((df_bonds[\"Price\"]*modX.x)[modX.x > 0], labels=[\"Bonds \"+str(i+1) for i in range(len(modX.x)) if modX.x[i] > 0])\n",
    "plt.title(\"Total Price of Bonds Bought in Year 0\")\n",
    "plt.show();"
   ]
  },
  {
   "cell_type": "markdown",
   "metadata": {},
   "source": [
    "Note that Bonds 2, 7 and 13 are forward contracts so we buy them and pay later. \n",
    "\n",
    "The portfolio generates exactly equal cash flows to the liabilities, which we confirm below. "
   ]
  },
  {
   "cell_type": "code",
   "execution_count": 16,
   "metadata": {},
   "outputs": [
    {
     "name": "stdout",
     "output_type": "stream",
     "text": [
      "All Cash Flows matched?: True\n"
     ]
    }
   ],
   "source": [
    "print(\"All Cash Flows matched?:\", all(list(map(int, A_bonds@(modX.x.T))) == b_liabilities.T[0]))"
   ]
  },
  {
   "cell_type": "markdown",
   "metadata": {},
   "source": [
    "### Part 5 - Flexibility of Portfolio in case of Changes in Liability"
   ]
  },
  {
   "cell_type": "markdown",
   "metadata": {},
   "source": [
    "To understand the flexibility of the Portfolio in case of changes in liability, we first look at the following outcomes.\n",
    "\n",
    "**Outcome 1**\n",
    "\n",
    "If some of our employees were to quit without notice and don’t need a replacement, this will reduce the liabilities. In the case of our annual liabilities decreasing, the current portfolio would have a surplus and our liabilities set at time zero could still be met.\n",
    "\n",
    "**Outcome 2**\n",
    "\n",
    "If some employees were to quit without notice and the new replacement requests a higher salary than the previous employee, then our annual liabilities will increase. In the case of annual liabilities increasing, our portfolio would have a deficit and we would need to adjust the portfolio at that year in order to meet future liability payments.\n",
    "\n",
    "The magnitude at which the Portfolio cost will change according to a change in Liability depends on the year and can be understood from the Shadow Prices of the respective year. The Shadow Prices are calculated below."
   ]
  },
  {
   "cell_type": "code",
   "execution_count": 42,
   "metadata": {},
   "outputs": [
    {
     "data": {
      "text/html": [
       "<div>\n",
       "<style scoped>\n",
       "    .dataframe tbody tr th:only-of-type {\n",
       "        vertical-align: middle;\n",
       "    }\n",
       "\n",
       "    .dataframe tbody tr th {\n",
       "        vertical-align: top;\n",
       "    }\n",
       "\n",
       "    .dataframe thead th {\n",
       "        text-align: right;\n",
       "    }\n",
       "</style>\n",
       "<table border=\"1\" class=\"dataframe\">\n",
       "  <thead>\n",
       "    <tr style=\"text-align: right;\">\n",
       "      <th></th>\n",
       "      <th>Year</th>\n",
       "      <th>Shadow Price</th>\n",
       "      <th>Lower Bound</th>\n",
       "      <th>Upper Bound</th>\n",
       "    </tr>\n",
       "  </thead>\n",
       "  <tbody>\n",
       "    <tr>\n",
       "      <th>0</th>\n",
       "      <td>1</td>\n",
       "      <td>0.971429</td>\n",
       "      <td>5.151384e+05</td>\n",
       "      <td>inf</td>\n",
       "    </tr>\n",
       "    <tr>\n",
       "      <th>1</th>\n",
       "      <td>2</td>\n",
       "      <td>0.923671</td>\n",
       "      <td>4.701682e+05</td>\n",
       "      <td>2.205234e+07</td>\n",
       "    </tr>\n",
       "    <tr>\n",
       "      <th>2</th>\n",
       "      <td>3</td>\n",
       "      <td>0.909876</td>\n",
       "      <td>4.319224e+05</td>\n",
       "      <td>3.106210e+07</td>\n",
       "    </tr>\n",
       "    <tr>\n",
       "      <th>3</th>\n",
       "      <td>4</td>\n",
       "      <td>0.834424</td>\n",
       "      <td>3.691993e+05</td>\n",
       "      <td>2.089037e+07</td>\n",
       "    </tr>\n",
       "    <tr>\n",
       "      <th>4</th>\n",
       "      <td>5</td>\n",
       "      <td>0.653628</td>\n",
       "      <td>2.584273e+05</td>\n",
       "      <td>1.075133e+07</td>\n",
       "    </tr>\n",
       "    <tr>\n",
       "      <th>5</th>\n",
       "      <td>6</td>\n",
       "      <td>0.617183</td>\n",
       "      <td>1.591014e+05</td>\n",
       "      <td>1.261887e+07</td>\n",
       "    </tr>\n",
       "    <tr>\n",
       "      <th>6</th>\n",
       "      <td>7</td>\n",
       "      <td>0.530350</td>\n",
       "      <td>6.542056e+04</td>\n",
       "      <td>1.197295e+07</td>\n",
       "    </tr>\n",
       "    <tr>\n",
       "      <th>7</th>\n",
       "      <td>8</td>\n",
       "      <td>0.522580</td>\n",
       "      <td>-1.164153e-10</td>\n",
       "      <td>1.582050e+07</td>\n",
       "    </tr>\n",
       "  </tbody>\n",
       "</table>\n",
       "</div>"
      ],
      "text/plain": [
       "   Year  Shadow Price   Lower Bound   Upper Bound\n",
       "0     1      0.971429  5.151384e+05           inf\n",
       "1     2      0.923671  4.701682e+05  2.205234e+07\n",
       "2     3      0.909876  4.319224e+05  3.106210e+07\n",
       "3     4      0.834424  3.691993e+05  2.089037e+07\n",
       "4     5      0.653628  2.584273e+05  1.075133e+07\n",
       "5     6      0.617183  1.591014e+05  1.261887e+07\n",
       "6     7      0.530350  6.542056e+04  1.197295e+07\n",
       "7     8      0.522580 -1.164153e-10  1.582050e+07"
      ]
     },
     "execution_count": 42,
     "metadata": {},
     "output_type": "execute_result"
    }
   ],
   "source": [
    "df_portfolio_flexibility = pd.DataFrame()\n",
    "\n",
    "df_portfolio_flexibility['Year'] = np.array(range(1, nyears+1))\n",
    "df_portfolio_flexibility['Shadow Price'] = np.array([con.Pi for con in modCon]) \n",
    "df_portfolio_flexibility['Lower Bound'] = np.array([con.SARHSLow for con in modCon])\n",
    "df_portfolio_flexibility['Upper Bound'] = np.array([con.SARHSUp for con in modCon])\n",
    "\n",
    "df_portfolio_flexibility"
   ]
  },
  {
   "cell_type": "markdown",
   "metadata": {},
   "source": [
    "### Part 6 - Dedicated Portfolio using Real Bond Data from WSJ"
   ]
  },
  {
   "cell_type": "markdown",
   "metadata": {},
   "source": [
    "Th Treasury Bond data from WSJ is current as of **6th October 2021**. We extract the data here using a CSV file."
   ]
  },
  {
   "cell_type": "code",
   "execution_count": 43,
   "metadata": {},
   "outputs": [],
   "source": [
    "scraped_bonds = pd.read_csv(\"wsj_bondsdata.csv\")"
   ]
  },
  {
   "cell_type": "code",
   "execution_count": 44,
   "metadata": {},
   "outputs": [
    {
     "name": "stdout",
     "output_type": "stream",
     "text": [
      "Number of bonds: 18\n",
      "\n",
      "The extracted bonds from WSJ are as shown below.\n"
     ]
    },
    {
     "data": {
      "text/html": [
       "<div>\n",
       "<style scoped>\n",
       "    .dataframe tbody tr th:only-of-type {\n",
       "        vertical-align: middle;\n",
       "    }\n",
       "\n",
       "    .dataframe tbody tr th {\n",
       "        vertical-align: top;\n",
       "    }\n",
       "\n",
       "    .dataframe thead th {\n",
       "        text-align: right;\n",
       "    }\n",
       "</style>\n",
       "<table border=\"1\" class=\"dataframe\">\n",
       "  <thead>\n",
       "    <tr style=\"text-align: right;\">\n",
       "      <th></th>\n",
       "      <th>Maturity</th>\n",
       "      <th>StartTime</th>\n",
       "      <th>Expiration</th>\n",
       "      <th>Coupon</th>\n",
       "      <th>Price</th>\n",
       "    </tr>\n",
       "  </thead>\n",
       "  <tbody>\n",
       "    <tr>\n",
       "      <th>0</th>\n",
       "      <td>1</td>\n",
       "      <td>0</td>\n",
       "      <td>2022-08-15</td>\n",
       "      <td>1.500</td>\n",
       "      <td>101.066</td>\n",
       "    </tr>\n",
       "    <tr>\n",
       "      <th>1</th>\n",
       "      <td>1</td>\n",
       "      <td>0</td>\n",
       "      <td>2022-08-15</td>\n",
       "      <td>1.625</td>\n",
       "      <td>101.104</td>\n",
       "    </tr>\n",
       "    <tr>\n",
       "      <th>2</th>\n",
       "      <td>1</td>\n",
       "      <td>0</td>\n",
       "      <td>2022-08-15</td>\n",
       "      <td>7.250</td>\n",
       "      <td>106.032</td>\n",
       "    </tr>\n",
       "    <tr>\n",
       "      <th>3</th>\n",
       "      <td>2</td>\n",
       "      <td>0</td>\n",
       "      <td>2023-08-15</td>\n",
       "      <td>0.125</td>\n",
       "      <td>99.242</td>\n",
       "    </tr>\n",
       "    <tr>\n",
       "      <th>4</th>\n",
       "      <td>2</td>\n",
       "      <td>0</td>\n",
       "      <td>2023-08-15</td>\n",
       "      <td>2.500</td>\n",
       "      <td>104.050</td>\n",
       "    </tr>\n",
       "    <tr>\n",
       "      <th>5</th>\n",
       "      <td>2</td>\n",
       "      <td>0</td>\n",
       "      <td>2023-08-15</td>\n",
       "      <td>6.250</td>\n",
       "      <td>111.036</td>\n",
       "    </tr>\n",
       "    <tr>\n",
       "      <th>6</th>\n",
       "      <td>3</td>\n",
       "      <td>0</td>\n",
       "      <td>2024-08-15</td>\n",
       "      <td>0.375</td>\n",
       "      <td>99.204</td>\n",
       "    </tr>\n",
       "    <tr>\n",
       "      <th>7</th>\n",
       "      <td>3</td>\n",
       "      <td>0</td>\n",
       "      <td>2024-08-15</td>\n",
       "      <td>2.375</td>\n",
       "      <td>105.106</td>\n",
       "    </tr>\n",
       "    <tr>\n",
       "      <th>8</th>\n",
       "      <td>4</td>\n",
       "      <td>0</td>\n",
       "      <td>2025-08-15</td>\n",
       "      <td>2.000</td>\n",
       "      <td>104.240</td>\n",
       "    </tr>\n",
       "    <tr>\n",
       "      <th>9</th>\n",
       "      <td>4</td>\n",
       "      <td>0</td>\n",
       "      <td>2025-08-15</td>\n",
       "      <td>6.875</td>\n",
       "      <td>123.110</td>\n",
       "    </tr>\n",
       "    <tr>\n",
       "      <th>10</th>\n",
       "      <td>5</td>\n",
       "      <td>0</td>\n",
       "      <td>2026-08-15</td>\n",
       "      <td>1.500</td>\n",
       "      <td>102.176</td>\n",
       "    </tr>\n",
       "    <tr>\n",
       "      <th>11</th>\n",
       "      <td>5</td>\n",
       "      <td>0</td>\n",
       "      <td>2026-08-15</td>\n",
       "      <td>6.750</td>\n",
       "      <td>127.162</td>\n",
       "    </tr>\n",
       "    <tr>\n",
       "      <th>12</th>\n",
       "      <td>6</td>\n",
       "      <td>0</td>\n",
       "      <td>2027-08-15</td>\n",
       "      <td>2.250</td>\n",
       "      <td>106.110</td>\n",
       "    </tr>\n",
       "    <tr>\n",
       "      <th>13</th>\n",
       "      <td>6</td>\n",
       "      <td>0</td>\n",
       "      <td>2027-08-15</td>\n",
       "      <td>6.375</td>\n",
       "      <td>129.284</td>\n",
       "    </tr>\n",
       "    <tr>\n",
       "      <th>14</th>\n",
       "      <td>7</td>\n",
       "      <td>0</td>\n",
       "      <td>2028-08-15</td>\n",
       "      <td>2.875</td>\n",
       "      <td>110.164</td>\n",
       "    </tr>\n",
       "    <tr>\n",
       "      <th>15</th>\n",
       "      <td>7</td>\n",
       "      <td>0</td>\n",
       "      <td>2028-08-15</td>\n",
       "      <td>5.500</td>\n",
       "      <td>127.262</td>\n",
       "    </tr>\n",
       "    <tr>\n",
       "      <th>16</th>\n",
       "      <td>8</td>\n",
       "      <td>0</td>\n",
       "      <td>2029-08-15</td>\n",
       "      <td>1.625</td>\n",
       "      <td>101.280</td>\n",
       "    </tr>\n",
       "    <tr>\n",
       "      <th>17</th>\n",
       "      <td>8</td>\n",
       "      <td>0</td>\n",
       "      <td>2029-08-15</td>\n",
       "      <td>6.125</td>\n",
       "      <td>135.262</td>\n",
       "    </tr>\n",
       "  </tbody>\n",
       "</table>\n",
       "</div>"
      ],
      "text/plain": [
       "    Maturity  StartTime Expiration  Coupon    Price\n",
       "0          1          0 2022-08-15   1.500  101.066\n",
       "1          1          0 2022-08-15   1.625  101.104\n",
       "2          1          0 2022-08-15   7.250  106.032\n",
       "3          2          0 2023-08-15   0.125   99.242\n",
       "4          2          0 2023-08-15   2.500  104.050\n",
       "5          2          0 2023-08-15   6.250  111.036\n",
       "6          3          0 2024-08-15   0.375   99.204\n",
       "7          3          0 2024-08-15   2.375  105.106\n",
       "8          4          0 2025-08-15   2.000  104.240\n",
       "9          4          0 2025-08-15   6.875  123.110\n",
       "10         5          0 2026-08-15   1.500  102.176\n",
       "11         5          0 2026-08-15   6.750  127.162\n",
       "12         6          0 2027-08-15   2.250  106.110\n",
       "13         6          0 2027-08-15   6.375  129.284\n",
       "14         7          0 2028-08-15   2.875  110.164\n",
       "15         7          0 2028-08-15   5.500  127.262\n",
       "16         8          0 2029-08-15   1.625  101.280\n",
       "17         8          0 2029-08-15   6.125  135.262"
      ]
     },
     "execution_count": 44,
     "metadata": {},
     "output_type": "execute_result"
    }
   ],
   "source": [
    "scraped_bonds[\"MATURITY\"] = pd.to_datetime(scraped_bonds[\"MATURITY\"])\n",
    "\n",
    "df_bonds_real = scraped_bonds[(scraped_bonds[\"MATURITY\"].apply(lambda x: x.month) == pd.to_datetime(\"8/15/2021\").month)&\n",
    "                (scraped_bonds[\"MATURITY\"].apply(lambda x: x.day) == pd.to_datetime(\"8/15/2021\").day)][[\"MATURITY\",\"COUPON\",\"ASKED\"]].copy()\n",
    "\n",
    "\n",
    "df_bonds_real.insert(0, \"StartTime\", [0]*len(df_bonds_real))\n",
    "df_bonds_real.insert(0, \"Maturity\", df_bonds_real.MATURITY.apply(lambda x: x.year - 2021))\n",
    "df_bonds_real.rename_axis(\"Bonds\", inplace=True)\n",
    "df_bonds_real.rename(columns = {\"COUPON\":\"Coupon\", \"ASKED\":\"Price\", \"MATURITY\":\"Expiration\"}, inplace=True)\n",
    "df_bonds_real.reset_index(drop = True, inplace = True)\n",
    "df_bonds_real = df_bonds_real[df_bonds_real[\"Maturity\"] <= 8]\n",
    "\n",
    "nbonds = df_bonds_real.shape[0]\n",
    "print(\"Number of bonds:\", nbonds)\n",
    "print(\"\\nThe extracted bonds from WSJ are as shown below.\")\n",
    "df_bonds_real"
   ]
  },
  {
   "cell_type": "code",
   "execution_count": 45,
   "metadata": {},
   "outputs": [
    {
     "name": "stdout",
     "output_type": "stream",
     "text": [
      "Objective Function (to be minimized):\n",
      " [101.066 101.104 106.032  99.242 104.05  111.036  99.204 105.106 104.24\n",
      " 123.11  102.176 127.162 106.11  129.284 110.164 127.262 101.28  135.262]\n",
      "\n",
      "Dimensions of Matrix (A): (8, 18)\n"
     ]
    }
   ],
   "source": [
    "A = np.zeros((nyears+1, nbonds)) # nyears +1 because year = 0 is the investment.....to be minimised\n",
    "\n",
    "for index, row in df_bonds_real.iterrows():\n",
    "    price, coupon, start, maturity = row[[\"Price\", \"Coupon\", \"StartTime\", \"Maturity\"]].apply(float)\n",
    "    start = int(start)\n",
    "    maturity = int(maturity)\n",
    "    \n",
    "    A[start, index] = -1*price                 # Outflow: buying a bond\n",
    "    A[(start+1) : (maturity), index] = coupon  # Inflow : Coupon Payment\n",
    "    A[maturity, index] = coupon + 100          # Inflow : Maturity = Coupon + FV ($100)\n",
    "\n",
    "objective = -1*A[0]\n",
    "A_bonds = A[1:]\n",
    "print(\"Objective Function (to be minimized):\\n\", objective)\n",
    "print(\"\\nDimensions of Matrix (A):\", A_bonds.shape)"
   ]
  },
  {
   "cell_type": "code",
   "execution_count": 46,
   "metadata": {},
   "outputs": [],
   "source": [
    "sense = np.array((['='] * nyears))\n",
    "b_liabilities = np.array(df_liabilities)"
   ]
  },
  {
   "cell_type": "markdown",
   "metadata": {},
   "source": [
    "### Solving the Model using Gurobi"
   ]
  },
  {
   "cell_type": "code",
   "execution_count": 47,
   "metadata": {},
   "outputs": [],
   "source": [
    "model = gp.Model() # initialize an empty model\n",
    "\n",
    "modX = model.addMVar(nbonds) # nbonds updated to 18\n",
    "\n",
    "model.addMConstrs(A_bonds, modX, sense, b_liabilities) # add constraints to model\n",
    "\n",
    "model.setMObjective(None, objective, 0, sense = gp.GRB.MINIMIZE)\n",
    "\n",
    "model.Params.OutputFlag = 0\n",
    "\n",
    "model.optimize() # solve the LP"
   ]
  },
  {
   "cell_type": "markdown",
   "metadata": {},
   "source": [
    "After solving the problem using Gurobi, we get the following results."
   ]
  },
  {
   "cell_type": "code",
   "execution_count": 48,
   "metadata": {},
   "outputs": [
    {
     "name": "stdout",
     "output_type": "stream",
     "text": [
      "Cost of portfolio: $ 11717495.64 \n",
      "\n",
      "We buy the following bond quantities at Year 0:\n",
      "\n",
      "Bond 3 (Year 2022) (@ $106.032): 6376.46\n",
      "Bond 6 (Year 2023) (@ $111.036): 12838.75\n",
      "Bond 8 (Year 2024) (@ $105.106): 15641.17\n",
      "Bond 10 (Year 2025) (@ $123.11): 16012.65\n",
      "Bond 12 (Year 2026) (@ $127.162): 13113.52\n",
      "Bond 14 (Year 2027) (@ $129.284): 12998.68\n",
      "Bond 16 (Year 2028) (@ $127.262): 10827.35\n",
      "Bond 18 (Year 2029) (@ $135.262): 9422.85\n"
     ]
    }
   ],
   "source": [
    "print(\"Cost of portfolio: $\",round(model.objVal,2),\"\\n\")\n",
    "\n",
    "print(\"We buy the following bond quantities at Year 0:\\n\")\n",
    "\n",
    "for i in range(len(modX.x)):\n",
    "    if modX.x[i] > 0.0:\n",
    "        print(\"Bond {index} (Year {year}) (@ ${price}):\".format(index = df_bonds_real.index[i] + 1, year = df_bonds_real[\"Expiration\"][i].year, price = df_bonds_real[\"Price\"].iloc[i]), round(modX.x[i],2))"
   ]
  },
  {
   "cell_type": "code",
   "execution_count": 49,
   "metadata": {},
   "outputs": [
    {
     "data": {
      "image/png": "[encoded data removed]",
      "text/plain": [
       "<Figure size 720x432 with 1 Axes>"
      ]
     },
     "metadata": {},
     "output_type": "display_data"
    }
   ],
   "source": [
    "mask = modX.x > 0\n",
    "\n",
    "used_A = A_bonds[:,mask]\n",
    "used_b = modX.x[mask]\n",
    "\n",
    "year_lst = [\"Year \"+str(i) for i in range(df_bonds_real[\"Expiration\"].min().year,df_bonds_real[\"Expiration\"].max().year+1)]\n",
    "\n",
    "plt.figure().set_size_inches(10, 6,  forward=True)\n",
    "weight_prev = np.array([0]*used_A.shape[1])\n",
    "for i in range(used_A.shape[1]):\n",
    "    weight = used_A[:,i]*used_b[i]\n",
    "    # plot bars in stack manner\n",
    "    plt.bar(year_lst,weight, bottom=weight_prev, alpha = 0.6)\n",
    "    weight_prev = np.add(weight_prev , weight)\n",
    "\n",
    "plt.plot(year_lst, b_liabilities)\n",
    "plt.xlabel(\"Bond\")\n",
    "plt.ylabel(\"Payoff ($)\")\n",
    "plt.title(\"Payoff for each bond over the years\")\n",
    "plt.legend([\"Net liabilities\"]+[\"Bond \"+str(i+1) for i in range(1,df_bonds[\"Maturity\"].max()+1)], loc = \"best\")\n",
    "plt.show()\n"
   ]
  },
  {
   "cell_type": "code",
   "execution_count": 50,
   "metadata": {},
   "outputs": [
    {
     "data": {
      "image/png": "[encoded data removed]",
      "text/plain": [
       "<Figure size 432x288 with 1 Axes>"
      ]
     },
     "metadata": {},
     "output_type": "display_data"
    }
   ],
   "source": [
    "plt.bar(df_bonds_real.index + 1, df_bonds_real[\"Price\"]*modX.x)\n",
    "plt.title(\"Total Price of Bonds Bought in Year 0\")\n",
    "plt.xlabel(\"Bond\")\n",
    "plt.ylabel(\"Total Price\")\n",
    "plt.xticks(np.arange(1, nbonds+1, 1.0))\n",
    "plt.show();"
   ]
  },
  {
   "cell_type": "code",
   "execution_count": 51,
   "metadata": {},
   "outputs": [
    {
     "data": {
      "image/png": "[encoded data removed]",
      "text/plain": [
       "<Figure size 432x288 with 1 Axes>"
      ]
     },
     "metadata": {},
     "output_type": "display_data"
    }
   ],
   "source": [
    "plt.pie((df_bonds_real[\"Price\"]*modX.x)[modX.x > 0],\n",
    "         labels=[\"Bonds \"+str(i+1) for i in range(len(modX.x)) if modX.x[i] > 0])\n",
    "plt.title(\"Total Price of Bonds Bought in Year 0\")\n",
    "plt.show();"
   ]
  },
  {
   "cell_type": "markdown",
   "metadata": {},
   "source": [
    "The portfolio generates exactly equal cash flows to the liabilities"
   ]
  },
  {
   "cell_type": "code",
   "execution_count": 52,
   "metadata": {},
   "outputs": [
    {
     "name": "stdout",
     "output_type": "stream",
     "text": [
      "All Cash Flows matched?: True\n"
     ]
    }
   ],
   "source": [
    "print(\"All Cash Flows matched?:\", all(list(map(int, A_bonds@(modX.x.T))) == b_liabilities.T[0]))"
   ]
  },
  {
   "cell_type": "markdown",
   "metadata": {},
   "source": [
    "***\n",
    "***"
   ]
  }
 ],
 "metadata": {
  "interpreter": {
   "hash": "b60475af33ac54fdfc81848615849ae9f64785c1ee3b5743918341f6c25fbfa2"
  },
  "kernelspec": {
   "display_name": "Python 3",
   "language": "python",
   "name": "python3"
  },
  "language_info": {
   "codemirror_mode": {
    "name": "ipython",
    "version": 3
   },
   "file_extension": ".py",
   "mimetype": "text/x-python",
   "name": "python",
   "nbconvert_exporter": "python",
   "pygments_lexer": "ipython3",
   "version": "3.8.10"
  }
 },
 "nbformat": 4,
 "nbformat_minor": 2
}
