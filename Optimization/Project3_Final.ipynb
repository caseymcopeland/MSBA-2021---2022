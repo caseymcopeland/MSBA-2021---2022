{
 "cells": [
  {
   "cell_type": "code",
   "execution_count": 32,
   "metadata": {},
   "outputs": [],
   "source": [
    "import numpy as np\n",
    "import pandas as pd\n",
    "import gurobipy as gp\n",
    "from scipy.optimize import minimize\n",
    "import matplotlib as plt"
   ]
  },
  {
   "cell_type": "code",
   "execution_count": null,
   "metadata": {},
   "outputs": [],
   "source": []
  },
  {
   "cell_type": "markdown",
   "metadata": {},
   "source": [
    "# Portfolio Optimization"
   ]
  },
  {
   "cell_type": "code",
   "execution_count": 4,
   "metadata": {},
   "outputs": [],
   "source": [
    "train_raw=pd.read_csv('training_data.csv')\n",
    "test_raw=pd.read_csv('test_data.csv')"
   ]
  },
  {
   "cell_type": "code",
   "execution_count": 5,
   "metadata": {},
   "outputs": [],
   "source": [
    "y_train=train_raw['y']\n",
    "x_train=train_raw.iloc[:,1:]\n",
    "y_test=test_raw['y']\n",
    "x_test=test_raw.iloc[:,1:]\n",
    "# X and y mtrix\n",
    "X_train=np.ones((train_raw.shape[0],train_raw.shape[1]))\n",
    "X_train[:,1:]=x_train\n",
    "X_test=np.ones((x_test.shape[0],train_raw.shape[1]))\n",
    "X_test[:,1:]=x_test"
   ]
  },
  {
   "cell_type": "code",
   "execution_count": 6,
   "metadata": {},
   "outputs": [],
   "source": [
    "# m=50 here\n",
    "m=x_train.shape[1]\n",
    "n= 250 \n",
    "n=x_train.shape[0]\n",
    "M = 1000\n",
    "k=10"
   ]
  },
  {
   "cell_type": "code",
   "execution_count": 7,
   "metadata": {},
   "outputs": [
    {
     "data": {
      "text/html": [
       "<div>\n",
       "<style scoped>\n",
       "    .dataframe tbody tr th:only-of-type {\n",
       "        vertical-align: middle;\n",
       "    }\n",
       "\n",
       "    .dataframe tbody tr th {\n",
       "        vertical-align: top;\n",
       "    }\n",
       "\n",
       "    .dataframe thead th {\n",
       "        text-align: right;\n",
       "    }\n",
       "</style>\n",
       "<table border=\"1\" class=\"dataframe\">\n",
       "  <thead>\n",
       "    <tr style=\"text-align: right;\">\n",
       "      <th></th>\n",
       "      <th>0</th>\n",
       "      <th>1</th>\n",
       "      <th>2</th>\n",
       "      <th>3</th>\n",
       "      <th>4</th>\n",
       "      <th>5</th>\n",
       "      <th>6</th>\n",
       "      <th>7</th>\n",
       "      <th>8</th>\n",
       "      <th>9</th>\n",
       "      <th>...</th>\n",
       "      <th>41</th>\n",
       "      <th>42</th>\n",
       "      <th>43</th>\n",
       "      <th>44</th>\n",
       "      <th>45</th>\n",
       "      <th>46</th>\n",
       "      <th>47</th>\n",
       "      <th>48</th>\n",
       "      <th>49</th>\n",
       "      <th>50</th>\n",
       "    </tr>\n",
       "  </thead>\n",
       "  <tbody>\n",
       "    <tr>\n",
       "      <th>0</th>\n",
       "      <td>1.0</td>\n",
       "      <td>-1.535413</td>\n",
       "      <td>0.718888</td>\n",
       "      <td>-2.099149</td>\n",
       "      <td>-0.442842</td>\n",
       "      <td>-0.598978</td>\n",
       "      <td>-1.642574</td>\n",
       "      <td>0.207755</td>\n",
       "      <td>0.760642</td>\n",
       "      <td>0.575874</td>\n",
       "      <td>...</td>\n",
       "      <td>0.361866</td>\n",
       "      <td>1.793098</td>\n",
       "      <td>-0.631287</td>\n",
       "      <td>-0.061751</td>\n",
       "      <td>0.511049</td>\n",
       "      <td>0.488754</td>\n",
       "      <td>-0.612772</td>\n",
       "      <td>-0.471045</td>\n",
       "      <td>-1.139781</td>\n",
       "      <td>-0.260773</td>\n",
       "    </tr>\n",
       "    <tr>\n",
       "      <th>1</th>\n",
       "      <td>1.0</td>\n",
       "      <td>-1.734609</td>\n",
       "      <td>0.551981</td>\n",
       "      <td>-2.147673</td>\n",
       "      <td>-1.552944</td>\n",
       "      <td>1.514910</td>\n",
       "      <td>-1.143972</td>\n",
       "      <td>0.737594</td>\n",
       "      <td>1.321243</td>\n",
       "      <td>-0.261684</td>\n",
       "      <td>...</td>\n",
       "      <td>-0.677985</td>\n",
       "      <td>-0.165679</td>\n",
       "      <td>0.065405</td>\n",
       "      <td>0.137162</td>\n",
       "      <td>1.258197</td>\n",
       "      <td>-0.120834</td>\n",
       "      <td>-1.564834</td>\n",
       "      <td>-0.242565</td>\n",
       "      <td>-0.001827</td>\n",
       "      <td>1.187453</td>\n",
       "    </tr>\n",
       "    <tr>\n",
       "      <th>2</th>\n",
       "      <td>1.0</td>\n",
       "      <td>0.097257</td>\n",
       "      <td>0.107634</td>\n",
       "      <td>-0.194222</td>\n",
       "      <td>0.335454</td>\n",
       "      <td>-0.408199</td>\n",
       "      <td>0.133265</td>\n",
       "      <td>0.706179</td>\n",
       "      <td>0.394971</td>\n",
       "      <td>-0.437116</td>\n",
       "      <td>...</td>\n",
       "      <td>1.108801</td>\n",
       "      <td>0.333791</td>\n",
       "      <td>0.282055</td>\n",
       "      <td>-1.086294</td>\n",
       "      <td>-0.115354</td>\n",
       "      <td>0.257857</td>\n",
       "      <td>-0.088838</td>\n",
       "      <td>-0.751231</td>\n",
       "      <td>1.450609</td>\n",
       "      <td>0.290593</td>\n",
       "    </tr>\n",
       "    <tr>\n",
       "      <th>3</th>\n",
       "      <td>1.0</td>\n",
       "      <td>-0.067702</td>\n",
       "      <td>0.557836</td>\n",
       "      <td>0.700848</td>\n",
       "      <td>-1.121376</td>\n",
       "      <td>1.722274</td>\n",
       "      <td>0.613525</td>\n",
       "      <td>0.700909</td>\n",
       "      <td>-0.417976</td>\n",
       "      <td>1.069749</td>\n",
       "      <td>...</td>\n",
       "      <td>0.692511</td>\n",
       "      <td>-0.350990</td>\n",
       "      <td>0.624558</td>\n",
       "      <td>0.434520</td>\n",
       "      <td>-0.367409</td>\n",
       "      <td>-1.144681</td>\n",
       "      <td>-0.136524</td>\n",
       "      <td>-0.557214</td>\n",
       "      <td>0.416303</td>\n",
       "      <td>0.484495</td>\n",
       "    </tr>\n",
       "    <tr>\n",
       "      <th>4</th>\n",
       "      <td>1.0</td>\n",
       "      <td>0.488729</td>\n",
       "      <td>0.211483</td>\n",
       "      <td>0.568389</td>\n",
       "      <td>0.646837</td>\n",
       "      <td>0.163868</td>\n",
       "      <td>-0.002152</td>\n",
       "      <td>0.125137</td>\n",
       "      <td>0.493571</td>\n",
       "      <td>1.705451</td>\n",
       "      <td>...</td>\n",
       "      <td>-0.000605</td>\n",
       "      <td>1.075280</td>\n",
       "      <td>0.182281</td>\n",
       "      <td>-1.138458</td>\n",
       "      <td>0.106092</td>\n",
       "      <td>0.544640</td>\n",
       "      <td>-0.383487</td>\n",
       "      <td>-0.425773</td>\n",
       "      <td>2.667647</td>\n",
       "      <td>-0.050748</td>\n",
       "    </tr>\n",
       "    <tr>\n",
       "      <th>...</th>\n",
       "      <td>...</td>\n",
       "      <td>...</td>\n",
       "      <td>...</td>\n",
       "      <td>...</td>\n",
       "      <td>...</td>\n",
       "      <td>...</td>\n",
       "      <td>...</td>\n",
       "      <td>...</td>\n",
       "      <td>...</td>\n",
       "      <td>...</td>\n",
       "      <td>...</td>\n",
       "      <td>...</td>\n",
       "      <td>...</td>\n",
       "      <td>...</td>\n",
       "      <td>...</td>\n",
       "      <td>...</td>\n",
       "      <td>...</td>\n",
       "      <td>...</td>\n",
       "      <td>...</td>\n",
       "      <td>...</td>\n",
       "      <td>...</td>\n",
       "    </tr>\n",
       "    <tr>\n",
       "      <th>245</th>\n",
       "      <td>1.0</td>\n",
       "      <td>0.210132</td>\n",
       "      <td>-0.193059</td>\n",
       "      <td>2.033908</td>\n",
       "      <td>-0.832887</td>\n",
       "      <td>0.049040</td>\n",
       "      <td>-0.197864</td>\n",
       "      <td>-1.885529</td>\n",
       "      <td>-2.526842</td>\n",
       "      <td>-0.826903</td>\n",
       "      <td>...</td>\n",
       "      <td>0.555085</td>\n",
       "      <td>-2.099135</td>\n",
       "      <td>-0.411719</td>\n",
       "      <td>1.053645</td>\n",
       "      <td>-0.172623</td>\n",
       "      <td>-1.207709</td>\n",
       "      <td>0.748914</td>\n",
       "      <td>-1.343144</td>\n",
       "      <td>-0.696000</td>\n",
       "      <td>0.525172</td>\n",
       "    </tr>\n",
       "    <tr>\n",
       "      <th>246</th>\n",
       "      <td>1.0</td>\n",
       "      <td>-0.039047</td>\n",
       "      <td>-0.021366</td>\n",
       "      <td>1.040784</td>\n",
       "      <td>-3.435317</td>\n",
       "      <td>-0.419417</td>\n",
       "      <td>0.293139</td>\n",
       "      <td>-0.165674</td>\n",
       "      <td>-0.357788</td>\n",
       "      <td>-0.943576</td>\n",
       "      <td>...</td>\n",
       "      <td>-0.564113</td>\n",
       "      <td>-1.721975</td>\n",
       "      <td>-0.556074</td>\n",
       "      <td>0.028959</td>\n",
       "      <td>0.594509</td>\n",
       "      <td>-1.010988</td>\n",
       "      <td>-0.205257</td>\n",
       "      <td>-0.148502</td>\n",
       "      <td>-0.656065</td>\n",
       "      <td>0.140523</td>\n",
       "    </tr>\n",
       "    <tr>\n",
       "      <th>247</th>\n",
       "      <td>1.0</td>\n",
       "      <td>0.091237</td>\n",
       "      <td>0.473698</td>\n",
       "      <td>0.051832</td>\n",
       "      <td>0.721924</td>\n",
       "      <td>0.337938</td>\n",
       "      <td>1.322324</td>\n",
       "      <td>-0.605442</td>\n",
       "      <td>0.428120</td>\n",
       "      <td>0.003276</td>\n",
       "      <td>...</td>\n",
       "      <td>0.348330</td>\n",
       "      <td>0.099530</td>\n",
       "      <td>0.019925</td>\n",
       "      <td>1.121458</td>\n",
       "      <td>1.901447</td>\n",
       "      <td>-0.431072</td>\n",
       "      <td>-0.124469</td>\n",
       "      <td>-0.084185</td>\n",
       "      <td>-0.200143</td>\n",
       "      <td>0.840786</td>\n",
       "    </tr>\n",
       "    <tr>\n",
       "      <th>248</th>\n",
       "      <td>1.0</td>\n",
       "      <td>-1.407003</td>\n",
       "      <td>0.510886</td>\n",
       "      <td>-2.077584</td>\n",
       "      <td>-0.438144</td>\n",
       "      <td>2.225628</td>\n",
       "      <td>0.165129</td>\n",
       "      <td>-1.335051</td>\n",
       "      <td>1.348180</td>\n",
       "      <td>-0.031812</td>\n",
       "      <td>...</td>\n",
       "      <td>-1.076265</td>\n",
       "      <td>1.303594</td>\n",
       "      <td>-1.458794</td>\n",
       "      <td>1.172178</td>\n",
       "      <td>0.451014</td>\n",
       "      <td>0.572106</td>\n",
       "      <td>-3.660368</td>\n",
       "      <td>-0.052251</td>\n",
       "      <td>0.543762</td>\n",
       "      <td>0.274006</td>\n",
       "    </tr>\n",
       "    <tr>\n",
       "      <th>249</th>\n",
       "      <td>1.0</td>\n",
       "      <td>-1.959505</td>\n",
       "      <td>0.271733</td>\n",
       "      <td>-0.575357</td>\n",
       "      <td>1.757495</td>\n",
       "      <td>-0.294705</td>\n",
       "      <td>0.357976</td>\n",
       "      <td>2.451312</td>\n",
       "      <td>-0.037805</td>\n",
       "      <td>0.471080</td>\n",
       "      <td>...</td>\n",
       "      <td>-0.655907</td>\n",
       "      <td>0.487639</td>\n",
       "      <td>1.512198</td>\n",
       "      <td>-0.822407</td>\n",
       "      <td>1.364416</td>\n",
       "      <td>-0.235698</td>\n",
       "      <td>-0.630991</td>\n",
       "      <td>2.052762</td>\n",
       "      <td>0.033563</td>\n",
       "      <td>-1.198486</td>\n",
       "    </tr>\n",
       "  </tbody>\n",
       "</table>\n",
       "<p>250 rows × 51 columns</p>\n",
       "</div>"
      ],
      "text/plain": [
       "      0         1         2         3         4         5         6   \\\n",
       "0    1.0 -1.535413  0.718888 -2.099149 -0.442842 -0.598978 -1.642574   \n",
       "1    1.0 -1.734609  0.551981 -2.147673 -1.552944  1.514910 -1.143972   \n",
       "2    1.0  0.097257  0.107634 -0.194222  0.335454 -0.408199  0.133265   \n",
       "3    1.0 -0.067702  0.557836  0.700848 -1.121376  1.722274  0.613525   \n",
       "4    1.0  0.488729  0.211483  0.568389  0.646837  0.163868 -0.002152   \n",
       "..   ...       ...       ...       ...       ...       ...       ...   \n",
       "245  1.0  0.210132 -0.193059  2.033908 -0.832887  0.049040 -0.197864   \n",
       "246  1.0 -0.039047 -0.021366  1.040784 -3.435317 -0.419417  0.293139   \n",
       "247  1.0  0.091237  0.473698  0.051832  0.721924  0.337938  1.322324   \n",
       "248  1.0 -1.407003  0.510886 -2.077584 -0.438144  2.225628  0.165129   \n",
       "249  1.0 -1.959505  0.271733 -0.575357  1.757495 -0.294705  0.357976   \n",
       "\n",
       "           7         8         9   ...        41        42        43  \\\n",
       "0    0.207755  0.760642  0.575874  ...  0.361866  1.793098 -0.631287   \n",
       "1    0.737594  1.321243 -0.261684  ... -0.677985 -0.165679  0.065405   \n",
       "2    0.706179  0.394971 -0.437116  ...  1.108801  0.333791  0.282055   \n",
       "3    0.700909 -0.417976  1.069749  ...  0.692511 -0.350990  0.624558   \n",
       "4    0.125137  0.493571  1.705451  ... -0.000605  1.075280  0.182281   \n",
       "..        ...       ...       ...  ...       ...       ...       ...   \n",
       "245 -1.885529 -2.526842 -0.826903  ...  0.555085 -2.099135 -0.411719   \n",
       "246 -0.165674 -0.357788 -0.943576  ... -0.564113 -1.721975 -0.556074   \n",
       "247 -0.605442  0.428120  0.003276  ...  0.348330  0.099530  0.019925   \n",
       "248 -1.335051  1.348180 -0.031812  ... -1.076265  1.303594 -1.458794   \n",
       "249  2.451312 -0.037805  0.471080  ... -0.655907  0.487639  1.512198   \n",
       "\n",
       "           44        45        46        47        48        49        50  \n",
       "0   -0.061751  0.511049  0.488754 -0.612772 -0.471045 -1.139781 -0.260773  \n",
       "1    0.137162  1.258197 -0.120834 -1.564834 -0.242565 -0.001827  1.187453  \n",
       "2   -1.086294 -0.115354  0.257857 -0.088838 -0.751231  1.450609  0.290593  \n",
       "3    0.434520 -0.367409 -1.144681 -0.136524 -0.557214  0.416303  0.484495  \n",
       "4   -1.138458  0.106092  0.544640 -0.383487 -0.425773  2.667647 -0.050748  \n",
       "..        ...       ...       ...       ...       ...       ...       ...  \n",
       "245  1.053645 -0.172623 -1.207709  0.748914 -1.343144 -0.696000  0.525172  \n",
       "246  0.028959  0.594509 -1.010988 -0.205257 -0.148502 -0.656065  0.140523  \n",
       "247  1.121458  1.901447 -0.431072 -0.124469 -0.084185 -0.200143  0.840786  \n",
       "248  1.172178  0.451014  0.572106 -3.660368 -0.052251  0.543762  0.274006  \n",
       "249 -0.822407  1.364416 -0.235698 -0.630991  2.052762  0.033563 -1.198486  \n",
       "\n",
       "[250 rows x 51 columns]"
      ]
     },
     "execution_count": 7,
     "metadata": {},
     "output_type": "execute_result"
    }
   ],
   "source": [
    "pd.DataFrame(X_train)"
   ]
  },
  {
   "cell_type": "code",
   "execution_count": 8,
   "metadata": {},
   "outputs": [],
   "source": [
    "# sigma is a 2*m+1 X 2*m+1matrix\n",
    "sigma=np.zeros((2*m+1,2*m+1))\n",
    "sigma[:m+1,:m+1]=X_train.T@X_train\n",
    "#bX_train\n",
    "linear_term=np.zeros((2*m+1))\n",
    "linear_term[:m+1]=-2*(y_train.T@X_train)"
   ]
  },
  {
   "cell_type": "code",
   "execution_count": 68,
   "metadata": {},
   "outputs": [
    {
     "data": {
      "text/plain": [
       "(101, 101)"
      ]
     },
     "execution_count": 68,
     "metadata": {},
     "output_type": "execute_result"
    }
   ],
   "source": [
    "#initiate constraint matrix\n",
    "A=np.zeros((2*m+1,2*m+1))\n",
    "b=np.zeros((A.shape[0]))\n",
    "sense=['']*A.shape[0]"
   ]
  },
  {
   "cell_type": "code",
   "execution_count": 10,
   "metadata": {},
   "outputs": [],
   "source": [
    "A=np.zeros((2*m+1,2*m+1))\n",
    "b=np.zeros((A.shape[0]))\n",
    "sense=['']*A.shape[0]\n",
    "\n",
    "#weights are <>0 when it's 'turned on'\n",
    "row=0\n",
    "for i in range(1,m+1,1):\n",
    "    A[row,[i,i+m]]=[1,-M]\n",
    "    sense[row]='<'\n",
    "    b[row]=0\n",
    "    row+=1\n",
    "for i in range(1,m+1,1):\n",
    "    A[row,[i,i+m]]=[1,M]\n",
    "    sense[row]='>'\n",
    "    b[row]=0\n",
    "    row+=1\n",
    "\n",
    "A[row,m+1:]=1\n",
    "sense[row]='='\n",
    "b[row]=k"
   ]
  },
  {
   "cell_type": "code",
   "execution_count": 11,
   "metadata": {},
   "outputs": [],
   "source": [
    "ub=[M]*(m+1)+[1]*m\n",
    "lb=[-M]*(m+1)+[0]*m\n",
    "vtype=['C']*(m+1)+['B']*m"
   ]
  },
  {
   "cell_type": "code",
   "execution_count": 12,
   "metadata": {},
   "outputs": [
    {
     "data": {
      "text/plain": [
       "5322.525934829495"
      ]
     },
     "execution_count": 12,
     "metadata": {},
     "output_type": "execute_result"
    }
   ],
   "source": [
    "y_train@y_train.T"
   ]
  },
  {
   "cell_type": "markdown",
   "metadata": {},
   "source": [
    "# Solve it as a QP"
   ]
  },
  {
   "cell_type": "code",
   "execution_count": 13,
   "metadata": {},
   "outputs": [
    {
     "name": "stdout",
     "output_type": "stream",
     "text": [
      "Academic license - for non-commercial use only - expires 2022-01-03\n",
      "Using license file C:\\Users\\Jessi\\gurobi.lic\n"
     ]
    }
   ],
   "source": [
    "MIQPMod = gp.Model()\n",
    "MIQPMod_x = MIQPMod.addMVar((2*m+1),ub=ub,lb=lb,vtype=vtype)\n",
    "MIQPMod_con = MIQPMod.addMConstrs(A, MIQPMod_x, sense, b)\n",
    "\n",
    "#no linear so none\n",
    "#only quadratic matrix sigma\n",
    "\n",
    "MIQPMod.setMObjective(sigma,linear_term,0,sense=gp.GRB.MINIMIZE)\n",
    "\n",
    "MIQPMod.Params.OutputFlag = 0 \n",
    "\n",
    "MIQPMod.optimize()"
   ]
  },
  {
   "cell_type": "code",
   "execution_count": 14,
   "metadata": {},
   "outputs": [
    {
     "data": {
      "text/plain": [
       "array([ 0.97252408,  0.        ,  0.        ,  0.        ,  0.        ,\n",
       "        0.        ,  0.        ,  0.        ,  0.        , -2.30820726,\n",
       "        0.        ,  0.        ,  0.        ,  0.        ,  0.        ,\n",
       "       -0.51832612, -0.20416201,  0.        ,  0.        ,  0.        ,\n",
       "        0.        ,  0.        ,  0.        , -1.55914318,  0.86697336,\n",
       "        0.        , -1.31191942,  0.        ,  0.        ,  0.        ,\n",
       "        0.        ,  0.        ,  0.        ,  0.        ,  0.4081653 ,\n",
       "        0.        ,  0.        ,  0.        ,  0.        ,  0.        ,\n",
       "        0.        ,  0.        ,  0.        ,  0.        ,  0.        ,\n",
       "        1.78147489,  0.        ,  0.88738292, -0.28229213,  0.        ,\n",
       "        0.        ])"
      ]
     },
     "execution_count": 14,
     "metadata": {},
     "output_type": "execute_result"
    }
   ],
   "source": [
    "weight_10_s=pd.DataFrame(MIQPMod_x.x[:m+1])\n"
   ]
  },
  {
   "cell_type": "markdown",
   "metadata": {},
   "source": [
    "# Cross Validation"
   ]
  },
  {
   "cell_type": "code",
   "execution_count": 15,
   "metadata": {},
   "outputs": [],
   "source": [
    "# This to build a linear regression model on minimizing square error\n",
    "\n",
    "def lr(X,y,n=10,timelimit=10):\n",
    "    # sigma is a 2*(m+1)X2*(m+1)matrix\n",
    "    \n",
    "    m=X.shape[1]-1\n",
    "    sigma=np.zeros((2*m+1,2*m+1))\n",
    "    sigma[:m+1,:m+1]=X.T@X\n",
    "   \n",
    "    linear_term=np.zeros((2*m+1))\n",
    "    linear_term[:m+1]=-2*(y.T@X)\n",
    "    \n",
    "    A=np.zeros((2*m+1,2*m+1))\n",
    "    b=np.zeros((A.shape[0]))\n",
    "    sense=['']*A.shape[0]\n",
    "\n",
    "    #weights are <>0 when it's 'turned on'\n",
    "    row=0\n",
    "    for i in range(1,m+1,1):\n",
    "        A[row,[i,i+m]]=[1,-10]\n",
    "        sense[row]='<'\n",
    "        b[row]=0\n",
    "        row+=1\n",
    "    for i in range(1,m+1,1):\n",
    "        A[row,[i,i+m]]=[1,10]\n",
    "        sense[row]='>'\n",
    "        b[row]=0\n",
    "        row+=1\n",
    "\n",
    "    A[row,m+1:]=1\n",
    "    sense[row]='='\n",
    "    b[row]=n\n",
    "    \n",
    "    #optimization parameters\n",
    "    ub=[M]*(m+1)+[1]*m\n",
    "    lb=[-M]*(m+1)+[0]*m\n",
    "    vtype=['C']*(m+1)+['B']*m\n",
    "    \n",
    "    MIQPMod = gp.Model()\n",
    "    MIQPMod_x = MIQPMod.addMVar((2*m+1),ub=ub,lb=lb,vtype=vtype)\n",
    "    MIQPMod_con = MIQPMod.addMConstrs(A, MIQPMod_x, sense, b)\n",
    "\n",
    "    #no linear so none\n",
    "    #only quadratic matrix sigma\n",
    "\n",
    "    MIQPMod.setMObjective(sigma,linear_term,0,sense=gp.GRB.MINIMIZE)\n",
    "    MIQPMod.Params.OutputFlag = 0 \n",
    "    \n",
    "    MIQPMod.Params.TimeLimit = timelimit\n",
    "    MIQPMod.optimize()\n",
    "    \n",
    "    return MIQPMod_x.x[:m+1],MIQPMod.objVal+y@y.T\n",
    "\n",
    "\n",
    "# This to cross validate the linear regression model\n",
    "'''\n",
    "In order to do cross validation on the MIQP model you will have to write your own cross \n",
    "validation code. Randomly shuffle your data and split it into 10 folds. You can use the \n",
    "‘np.random.choice()’ function in Python to shuffle your data. \n",
    "\n",
    "'''\n",
    "def lr_cv(X,y,n=5,k_fold=10,timelimit=100):\n",
    "    idx=np.linspace(0,X.shape[0]-1,X.shape[0])\n",
    "    np.random.shuffle(idx)\n",
    "    idx=np.split(idx,k_fold)\n",
    "    err_sum=0\n",
    "    for i in range(k_fold):\n",
    "        X_valid=X[idx[i].astype(int)]\n",
    "        y_valid=y[idx[i].astype(int)]\n",
    "        rowlist=[]\n",
    "        for j in range(X.shape[0]):\n",
    "            if j not in idx[i].astype(int):\n",
    "                rowlist.append(j)\n",
    "        X_train=X[rowlist]\n",
    "        y_train=y[rowlist]\n",
    "        weight, err=lr(X_train,y_train,n,timelimit)      \n",
    "        valid_err=np.sum(weight.T@X_valid.T@X_valid@weight-2*y_valid.T@X_valid@weight+y_valid@y_valid.T)\n",
    "        err_sum+=valid_err\n",
    "    return weight, err_sum/10\n",
    "\n",
    "def lr_pred(weight,X):\n",
    "    return X@weight"
   ]
  },
  {
   "cell_type": "code",
   "execution_count": 112,
   "metadata": {},
   "outputs": [
    {
     "name": "stderr",
     "output_type": "stream",
     "text": [
      "<ipython-input-107-ac196cd8f394>:67: DeprecationWarning: Deprecated, use Model.addMConstr() instead\n",
      "  weight, err=lr(X_train,y_train,n,timelimit)\n"
     ]
    }
   ],
   "source": [
    "'''\n",
    "There are 50 X variables, \n",
    "and you will need to try k = 5, 10, 15, …, 50 in your cross validation. This means to do \n",
    "10-fold cross validation with all possible values of k, you will have to solve an MIQP \n",
    "model 100 times! Pick the value of k that corresponds to the smallest cross validation \n",
    "error: for a given value of k, sum each validation set’s sum of squared errors using the \n",
    "s found using the other 9 folds’ data to solve the MIQP. When k is 5 or 50, gurobi \n",
    "should solve the problem pretty quickly, but when k is 25 it will probably take a long \n",
    "time. Therefore, you should set a time limit for gurobi to solve each problem. Don’t let \n",
    "the entire process run for any longer than 12 hours. Again, be smart about setting this \n",
    "up, so that you can run it once, save the results, and then import those results when you \n",
    "create the final version of your python code and pdf file. Also, set a time limit variable \n",
    "at the very beginning of your python code so that we can shorten the runtime of your \n",
    "code when we grade it.\n",
    "\n",
    "\n",
    "It is very important to remember that gurobi assumes all decision variables are \n",
    "non-negative. In order to allow your beta s to be negative or positive you must set \n",
    "the lb value of your model to be -M for the appropriate decision variables.\n",
    "b. It is also very important that you choose M to be large enough so that no value \n",
    "of beta is equal to M or -M. If you solve the problem and one of your beta s is M or -M \n",
    "then you should double M and resolve the problem. Repeat this process until no \n",
    "beta is equal to M or -M\n",
    "\n",
    "M chosen here is 1000 (see the very front of the code)\n",
    "\n",
    "The following code calls the lv_cv function with variable k values. This chunk of code will take a few hours\n",
    "to run. Since I have already run it, I saved the result to the weight_matrix_1000_v2.csv file, and it can be\n",
    "loaded directly without rerun the code.\n",
    "\n",
    "'''\n",
    "\n",
    "'''\n",
    "# cv=10, try limiting to n=5,10,15,20 weights to\n",
    "weight_update=[]\n",
    "err_update=[]\n",
    "for n in np.linspace(5,50,10):\n",
    "    weight,err=lr_cv(X_train,y_train,n,10,timelimit=1000)\n",
    "    weight_update.append(weight)\n",
    "    err_update.append(err)\n",
    "    \n",
    "mtx=pd.DataFrame(columns=['weight','err'],index=['k=5','k=10','k=15','k=20','k=25','k=30','k=35','k=40','k=45','k=50'])\n",
    "mtx['weight']=weight_update\n",
    "mtx['err']=err_update\n",
    "mtx.to_csv('weight_matrix_1000_v2.csv',index=0)\n",
    "'''"
   ]
  },
  {
   "cell_type": "code",
   "execution_count": 16,
   "metadata": {},
   "outputs": [],
   "source": [
    "mtx_1000 = pd.read_csv('weight_matrix_1000_v2.csv')\n",
    "\n",
    "mtx_1000.columns=['weight','err']\n",
    "mtx_1000.index=['k=5','k=10','k=15','k=20','k=25','k=30','k=35','k=40','k=45','k=50']\n",
    "weight_10=mtx_1000['weight'][1]\n"
   ]
  },
  {
   "cell_type": "code",
   "execution_count": 17,
   "metadata": {},
   "outputs": [
    {
     "data": {
      "text/plain": [
       "<AxesSubplot:>"
      ]
     },
     "execution_count": 17,
     "metadata": {},
     "output_type": "execute_result"
    },
    {
     "data": {
      "image/png": "[encoded data removed]",
      "text/plain": [
       "<Figure size 432x288 with 1 Axes>"
      ]
     },
     "metadata": {
      "needs_background": "light"
     },
     "output_type": "display_data"
    }
   ],
   "source": [
    "mtx_1000['err'].plot(kind='line')"
   ]
  },
  {
   "cell_type": "code",
   "execution_count": 18,
   "metadata": {},
   "outputs": [
    {
     "name": "stderr",
     "output_type": "stream",
     "text": [
      "<ipython-input-18-b92270791a87>:2: DeprecationWarning: Deprecated, use Model.addMConstr() instead\n",
      "  weight_10,err_10 = lr(X_train,y_train,n=10,timelimit=5000)\n"
     ]
    }
   ],
   "source": [
    "'''This is the weight matrix given by the homemade Linear Regression model at k=10, where the error is minimized'''\n",
    "weight_10,err_10 = lr(X_train,y_train,n=10,timelimit=5000)"
   ]
  },
  {
   "cell_type": "code",
   "execution_count": 96,
   "metadata": {
    "scrolled": true
   },
   "outputs": [
    {
     "data": {
      "text/plain": [
       "[0.97194736,\n",
       " 0.0,\n",
       " 0.0,\n",
       " 0.20427237,\n",
       " 0.0,\n",
       " 0.0,\n",
       " 0.0,\n",
       " 0.0,\n",
       " 0.0,\n",
       " -2.39940205,\n",
       " 0.0,\n",
       " 0.0,\n",
       " 0.0,\n",
       " 0.0,\n",
       " 0.0,\n",
       " -0.61044033,\n",
       " 0.0,\n",
       " 0.0,\n",
       " 0.0,\n",
       " 0.0,\n",
       " 0.0,\n",
       " 0.0,\n",
       " 0.0,\n",
       " -1.67181653,\n",
       " 0.85221611,\n",
       " 0.0,\n",
       " -1.26024675,\n",
       " 0.0,\n",
       " 0.0,\n",
       " 0.0,\n",
       " 0.0,\n",
       " 0.0,\n",
       " 0.0,\n",
       " 0.0,\n",
       " 0.45402298,\n",
       " 0.0,\n",
       " 0.0,\n",
       " 0.0,\n",
       " 0.0,\n",
       " 0.0,\n",
       " 0.0,\n",
       " 0.0,\n",
       " 0.0,\n",
       " 0.0,\n",
       " 0.28134298,\n",
       " 1.85524561,\n",
       " 0.0,\n",
       " 0.87758985,\n",
       " 0.0,\n",
       " 0.0]"
      ]
     },
     "execution_count": 96,
     "metadata": {},
     "output_type": "execute_result"
    }
   ],
   "source": [
    "'''\n",
    "temp=weight_10.split()\n",
    "w=[]\n",
    "for i in range(1,51,1):\n",
    "    w.append(float(temp[i]))\n",
    "    \n",
    "w    \n",
    "'''"
   ]
  },
  {
   "cell_type": "code",
   "execution_count": 70,
   "metadata": {},
   "outputs": [
    {
     "data": {
      "text/plain": [
       "array([ 0.97252408,  0.        ,  0.        ,  0.        ,  0.        ,\n",
       "        0.        ,  0.        ,  0.        ,  0.        , -2.30820726,\n",
       "        0.        ,  0.        ,  0.        ,  0.        ,  0.        ,\n",
       "       -0.51832612, -0.20416201,  0.        ,  0.        ,  0.        ,\n",
       "        0.        ,  0.        ,  0.        , -1.55914318,  0.86697336,\n",
       "        0.        , -1.31191942,  0.        ,  0.        ,  0.        ,\n",
       "        0.        ,  0.        ,  0.        ,  0.        ,  0.4081653 ,\n",
       "        0.        ,  0.        ,  0.        ,  0.        ,  0.        ,\n",
       "        0.        ,  0.        ,  0.        ,  0.        ,  0.        ,\n",
       "        1.78147489,  0.        ,  0.88738292, -0.28229213,  0.        ,\n",
       "        0.        ])"
      ]
     },
     "execution_count": 70,
     "metadata": {},
     "output_type": "execute_result"
    },
    {
     "data": {
      "image/png": "[encoded data removed]",
      "text/plain": [
       "<Figure size 720x288 with 1 Axes>"
      ]
     },
     "metadata": {
      "needs_background": "light"
     },
     "output_type": "display_data"
    }
   ],
   "source": [
    "wt_mtx=pd.DataFrame(weight_10)\n",
    "wt_mtx.columns=['weight']\n",
    "wt_mtx.plot(kind='bar',figsize=(10,4),xlabel='index',ylabel='weight')\n",
    "weight_10"
   ]
  },
  {
   "cell_type": "markdown",
   "metadata": {},
   "source": [
    "# Lasso CV"
   ]
  },
  {
   "cell_type": "markdown",
   "metadata": {},
   "source": []
  },
  {
   "cell_type": "code",
   "execution_count": 40,
   "metadata": {},
   "outputs": [],
   "source": [
    "import numpy as np\n",
    "from sklearn.metrics import SCORERS\n",
    "from sklearn.linear_model import RidgeCV\n",
    "from sklearn.model_selection import GridSearchCV\n",
    "from sklearn import linear_model\n",
    "from sklearn.linear_model import Ridge, RidgeCV, Lasso, LassoCV\n",
    "from sklearn.metrics import mean_squared_error\n",
    "from sklearn.model_selection import KFold\n",
    "from sklearn.metrics import mean_squared_error, make_scorer\n",
    "import matplotlib.pyplot as plt"
   ]
  },
  {
   "cell_type": "code",
   "execution_count": 45,
   "metadata": {},
   "outputs": [],
   "source": [
    "'''\n",
    "Use scikit learn to do 10-fold cross validation on the training set to pick lambda. Once you find \n",
    "the best value of lambda, fit a LASSO model to the entire training set using that value of lambda. \n",
    "With the beta s you find in that LASSO model make a prediction of the y values in the test set\n",
    "'''\n",
    "import warnings\n",
    "warnings.simplefilter(\"ignore\")\n",
    "\n",
    "#Grid Search for alpha(or lambda)\n",
    "alpha_grid = 10**np.linspace(6,-6,100)\n",
    "tuned_parameters = [{'alpha': alpha_grid}]\n",
    "lasso = Lasso()\n",
    "lasso_cv_grid = GridSearchCV(lasso, \n",
    "                              tuned_parameters, \n",
    "                              cv=10, scoring = 'neg_mean_squared_error', \n",
    "                              refit=True) #build lasso model with 10 fold\n",
    "lasso_cv_grid.fit(X_train,y_train)\n",
    "lasso_lambda=lasso_cv_grid.best_params_"
   ]
  },
  {
   "cell_type": "code",
   "execution_count": 47,
   "metadata": {},
   "outputs": [],
   "source": [
    "alpha=list(lasso_lambda.values())[0]\n",
    "\n",
    "lasso_cv_model=LassoCV(alphas=[alpha],\n",
    "                     cv=10,)\n",
    "lasso_cv_model.fit(X_train[:,1:], y_train)\n",
    "lasso_weight=lasso_cv_model.coef_"
   ]
  },
  {
   "cell_type": "code",
   "execution_count": 48,
   "metadata": {},
   "outputs": [
    {
     "data": {
      "text/plain": [
       "{'alpha': 0.07054802310718646}"
      ]
     },
     "execution_count": 48,
     "metadata": {},
     "output_type": "execute_result"
    }
   ],
   "source": [
    "lasso_lambda"
   ]
  },
  {
   "cell_type": "code",
   "execution_count": 49,
   "metadata": {},
   "outputs": [
    {
     "data": {
      "text/plain": [
       "array([-0.        , -0.        ,  0.        ,  0.        , -0.        ,\n",
       "        0.        , -0.        , -0.        , -2.16759923,  0.        ,\n",
       "       -0.06543049, -0.        , -0.        , -0.        , -0.41968302,\n",
       "       -0.1952272 ,  0.        ,  0.        , -0.        ,  0.        ,\n",
       "        0.        , -0.1939836 , -1.36867927,  0.74620669, -0.00605903,\n",
       "       -1.30816494, -0.        ,  0.        ,  0.05717854,  0.        ,\n",
       "       -0.        ,  0.        , -0.09717768,  0.29386359,  0.        ,\n",
       "        0.        ,  0.        ,  0.        , -0.23972899,  0.        ,\n",
       "       -0.        ,  0.        ,  0.        ,  0.03733622,  1.56934772,\n",
       "       -0.02949255,  0.71091105, -0.09588212,  0.        ,  0.        ])"
      ]
     },
     "execution_count": 49,
     "metadata": {},
     "output_type": "execute_result"
    }
   ],
   "source": [
    "lasso_weight"
   ]
  },
  {
   "cell_type": "code",
   "execution_count": 50,
   "metadata": {},
   "outputs": [
    {
     "data": {
      "text/plain": [
       "<AxesSubplot:xlabel='index', ylabel='weight'>"
      ]
     },
     "execution_count": 50,
     "metadata": {},
     "output_type": "execute_result"
    },
    {
     "data": {
      "image/png": "[encoded data removed]",
      "text/plain": [
       "<Figure size 720x288 with 1 Axes>"
      ]
     },
     "metadata": {
      "needs_background": "light"
     },
     "output_type": "display_data"
    }
   ],
   "source": [
    "wt_mtx1=pd.DataFrame(lasso_weight)\n",
    "wt_mtx1.columns=['weight']\n",
    "wt_mtx1.plot(kind='bar',figsize=(10,4),xlabel='index',ylabel='weight')"
   ]
  },
  {
   "cell_type": "code",
   "execution_count": 52,
   "metadata": {},
   "outputs": [],
   "source": [
    "y_train_pred_lasso=lasso_cv_model.predict(X_train[:,1:])\n",
    "y_test_pred_lasso=lasso_cv_model.predict(X_test[:,1:])"
   ]
  },
  {
   "cell_type": "code",
   "execution_count": 53,
   "metadata": {},
   "outputs": [],
   "source": [
    "mse_train_lasso=np.sum(np.square(np.subtract(y_train_pred_lasso,y_train)))/y_train.shape[0]\n",
    "mse_test_lasso=np.sum(np.square(np.subtract(y_test_pred_lasso,y_test)))/y_test.shape[0]"
   ]
  },
  {
   "cell_type": "code",
   "execution_count": 54,
   "metadata": {},
   "outputs": [],
   "source": [
    "y_train_pred_lr=lr_pred(weight_10,X_train)\n",
    "y_test_pred_lr=lr_pred(weight_10,X_test)\n",
    "mse_train_lr=np.sum(np.square(np.subtract(y_train_pred_lr,y_train)))/y_train.shape[0]\n",
    "mse_test_lr=np.sum(np.square(np.subtract(y_test_pred_lr,y_test)))/y_test.shape[0]"
   ]
  },
  {
   "cell_type": "code",
   "execution_count": 55,
   "metadata": {},
   "outputs": [
    {
     "data": {
      "text/plain": [
       "array([[2.35677717, 2.39198527],\n",
       "       [2.3461395 , 2.33654396]])"
      ]
     },
     "execution_count": 55,
     "metadata": {},
     "output_type": "execute_result"
    }
   ],
   "source": [
    "err=np.array(([mse_train_lasso,mse_train_lr],[mse_test_lasso,mse_test_lr]))\n",
    "err"
   ]
  },
  {
   "cell_type": "code",
   "execution_count": 56,
   "metadata": {},
   "outputs": [
    {
     "data": {
      "text/html": [
       "<div>\n",
       "<style scoped>\n",
       "    .dataframe tbody tr th:only-of-type {\n",
       "        vertical-align: middle;\n",
       "    }\n",
       "\n",
       "    .dataframe tbody tr th {\n",
       "        vertical-align: top;\n",
       "    }\n",
       "\n",
       "    .dataframe thead th {\n",
       "        text-align: right;\n",
       "    }\n",
       "</style>\n",
       "<table border=\"1\" class=\"dataframe\">\n",
       "  <thead>\n",
       "    <tr style=\"text-align: right;\">\n",
       "      <th></th>\n",
       "      <th>lasso err</th>\n",
       "      <th>linear reg err</th>\n",
       "    </tr>\n",
       "  </thead>\n",
       "  <tbody>\n",
       "    <tr>\n",
       "      <th>train</th>\n",
       "      <td>2.356777</td>\n",
       "      <td>2.391985</td>\n",
       "    </tr>\n",
       "    <tr>\n",
       "      <th>test</th>\n",
       "      <td>2.346139</td>\n",
       "      <td>2.336544</td>\n",
       "    </tr>\n",
       "  </tbody>\n",
       "</table>\n",
       "</div>"
      ],
      "text/plain": [
       "       lasso err  linear reg err\n",
       "train   2.356777        2.391985\n",
       "test    2.346139        2.336544"
      ]
     },
     "execution_count": 56,
     "metadata": {},
     "output_type": "execute_result"
    }
   ],
   "source": [
    "err_mtx=pd.DataFrame(err,columns=['lasso err','linear reg err'],\n",
    "                     index=['train','test'])\n",
    "err_mtx"
   ]
  },
  {
   "cell_type": "code",
   "execution_count": 66,
   "metadata": {},
   "outputs": [
    {
     "data": {
      "text/plain": [
       "<AxesSubplot:xlabel='training sample'>"
      ]
     },
     "execution_count": 66,
     "metadata": {},
     "output_type": "execute_result"
    },
    {
     "data": {
      "image/png": "[encoded data removed]",
      "text/plain": [
       "<Figure size 1008x288 with 1 Axes>"
      ]
     },
     "metadata": {
      "needs_background": "light"
     },
     "output_type": "display_data"
    }
   ],
   "source": [
    "y_train_comp=pd.DataFrame(columns=['y','y_pred_lr','y_pred_lasso'])\n",
    "y_train_comp['y']=y_train\n",
    "y_train_comp['y_pred_lr']=y_train_pred_lr\n",
    "y_train_comp['y_pred_lasso']=y_train_pred_lasso\n",
    "y_train_comp.plot(kind='line',figsize=(14,4),xlabel='training sample')"
   ]
  },
  {
   "cell_type": "code",
   "execution_count": 67,
   "metadata": {},
   "outputs": [
    {
     "data": {
      "text/plain": [
       "<AxesSubplot:xlabel='test sample'>"
      ]
     },
     "execution_count": 67,
     "metadata": {},
     "output_type": "execute_result"
    },
    {
     "data": {
      "image/png": "[encoded data removed]",
      "text/plain": [
       "<Figure size 1008x288 with 1 Axes>"
      ]
     },
     "metadata": {
      "needs_background": "light"
     },
     "output_type": "display_data"
    }
   ],
   "source": [
    "y_test_comp=pd.DataFrame(columns=['y','y_pred_lr','y_pred_lasso'])\n",
    "y_test_comp['y']=y_test\n",
    "y_test_comp['y_pred_lr']=y_test_pred_lr\n",
    "y_test_comp['y_pred_lasso']=y_test_pred_lasso\n",
    "y_test_comp.plot(kind='line',figsize=(14,4),xlabel='test sample')"
   ]
  }
 ],
 "metadata": {
  "kernelspec": {
   "display_name": "Python 3",
   "language": "python",
   "name": "python3"
  },
  "language_info": {
   "codemirror_mode": {
    "name": "ipython",
    "version": 3
   },
   "file_extension": ".py",
   "mimetype": "text/x-python",
   "name": "python",
   "nbconvert_exporter": "python",
   "pygments_lexer": "ipython3",
   "version": "3.8.8"
  }
 },
 "nbformat": 4,
 "nbformat_minor": 2
}
